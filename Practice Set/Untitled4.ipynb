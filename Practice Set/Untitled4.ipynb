{
 "cells": [
  {
   "cell_type": "code",
   "execution_count": 1,
   "id": "e07c1785",
   "metadata": {},
   "outputs": [],
   "source": [
    "import numpy as np\n",
    "import seaborn as sns\n",
    "import pandas as pd\n",
    "import matplotlib.pyplot as plt\n",
    "%matplotlib inline"
   ]
  },
  {
   "cell_type": "code",
   "execution_count": 2,
   "id": "fb3d7de8",
   "metadata": {},
   "outputs": [
    {
     "data": {
      "text/html": [
       "<div>\n",
       "<style scoped>\n",
       "    .dataframe tbody tr th:only-of-type {\n",
       "        vertical-align: middle;\n",
       "    }\n",
       "\n",
       "    .dataframe tbody tr th {\n",
       "        vertical-align: top;\n",
       "    }\n",
       "\n",
       "    .dataframe thead th {\n",
       "        text-align: right;\n",
       "    }\n",
       "</style>\n",
       "<table border=\"1\" class=\"dataframe\">\n",
       "  <thead>\n",
       "    <tr style=\"text-align: right;\">\n",
       "      <th></th>\n",
       "      <th>A</th>\n",
       "      <th>B</th>\n",
       "      <th>C</th>\n",
       "      <th>D</th>\n",
       "    </tr>\n",
       "  </thead>\n",
       "  <tbody>\n",
       "    <tr>\n",
       "      <th>0</th>\n",
       "      <td>0.379049</td>\n",
       "      <td>0.406001</td>\n",
       "      <td>-0.658381</td>\n",
       "      <td>0.097900</td>\n",
       "    </tr>\n",
       "    <tr>\n",
       "      <th>1</th>\n",
       "      <td>1.155324</td>\n",
       "      <td>0.695987</td>\n",
       "      <td>-0.624317</td>\n",
       "      <td>1.212052</td>\n",
       "    </tr>\n",
       "    <tr>\n",
       "      <th>2</th>\n",
       "      <td>1.696989</td>\n",
       "      <td>-0.091873</td>\n",
       "      <td>-1.727715</td>\n",
       "      <td>0.887628</td>\n",
       "    </tr>\n",
       "    <tr>\n",
       "      <th>3</th>\n",
       "      <td>-0.268056</td>\n",
       "      <td>0.819647</td>\n",
       "      <td>0.615699</td>\n",
       "      <td>-0.197288</td>\n",
       "    </tr>\n",
       "    <tr>\n",
       "      <th>4</th>\n",
       "      <td>0.922296</td>\n",
       "      <td>0.951060</td>\n",
       "      <td>1.800613</td>\n",
       "      <td>-1.877549</td>\n",
       "    </tr>\n",
       "  </tbody>\n",
       "</table>\n",
       "</div>"
      ],
      "text/plain": [
       "          A         B         C         D\n",
       "0  0.379049  0.406001 -0.658381  0.097900\n",
       "1  1.155324  0.695987 -0.624317  1.212052\n",
       "2  1.696989 -0.091873 -1.727715  0.887628\n",
       "3 -0.268056  0.819647  0.615699 -0.197288\n",
       "4  0.922296  0.951060  1.800613 -1.877549"
      ]
     },
     "execution_count": 2,
     "metadata": {},
     "output_type": "execute_result"
    }
   ],
   "source": [
    "df = pd.DataFrame(np.random.randn(30,4),np.arange(30),['A','B','C','D'])\n",
    "df.head()"
   ]
  },
  {
   "cell_type": "code",
   "execution_count": 3,
   "id": "1038877f",
   "metadata": {},
   "outputs": [],
   "source": [
    "sns.set_style('darkgrid')"
   ]
  },
  {
   "cell_type": "code",
   "execution_count": 33,
   "id": "3b50d339",
   "metadata": {},
   "outputs": [
    {
     "data": {
      "image/png": "[encoded data removed]",
      "text/plain": [
       "<Figure size 864x432 with 1 Axes>"
      ]
     },
     "metadata": {},
     "output_type": "display_data"
    }
   ],
   "source": [
    "fig = plt.figure(figsize=(12,6))\n",
    "df['B'].hist(bins=15)\n",
    "fig.savefig(\"Histogram1.png\")"
   ]
  },
  {
   "cell_type": "code",
   "execution_count": 5,
   "id": "f7419b27",
   "metadata": {},
   "outputs": [
    {
     "data": {
      "text/plain": [
       "<AxesSubplot:ylabel='Density'>"
      ]
     },
     "execution_count": 5,
     "metadata": {},
     "output_type": "execute_result"
    },
    {
     "data": {
      "image/png": "[encoded data removed]",
      "text/plain": [
       "<Figure size 432x288 with 1 Axes>"
      ]
     },
     "metadata": {},
     "output_type": "display_data"
    }
   ],
   "source": [
    "df['B'].plot(kind='kde')"
   ]
  },
  {
   "cell_type": "code",
   "execution_count": 6,
   "id": "b45351e4",
   "metadata": {},
   "outputs": [
    {
     "data": {
      "image/png": "[encoded data removed]",
      "text/plain": [
       "<Figure size 432x288 with 1 Axes>"
      ]
     },
     "metadata": {},
     "output_type": "display_data"
    }
   ],
   "source": [
    "df['B'].plot.hist();"
   ]
  },
  {
   "cell_type": "code",
   "execution_count": 7,
   "id": "e48533f5",
   "metadata": {},
   "outputs": [
    {
     "data": {
      "text/html": [
       "<div>\n",
       "<style scoped>\n",
       "    .dataframe tbody tr th:only-of-type {\n",
       "        vertical-align: middle;\n",
       "    }\n",
       "\n",
       "    .dataframe tbody tr th {\n",
       "        vertical-align: top;\n",
       "    }\n",
       "\n",
       "    .dataframe thead th {\n",
       "        text-align: right;\n",
       "    }\n",
       "</style>\n",
       "<table border=\"1\" class=\"dataframe\">\n",
       "  <thead>\n",
       "    <tr style=\"text-align: right;\">\n",
       "      <th></th>\n",
       "      <th>A</th>\n",
       "      <th>B</th>\n",
       "      <th>C</th>\n",
       "      <th>D</th>\n",
       "    </tr>\n",
       "  </thead>\n",
       "  <tbody>\n",
       "    <tr>\n",
       "      <th>1</th>\n",
       "      <td>90</td>\n",
       "      <td>55</td>\n",
       "      <td>82</td>\n",
       "      <td>74</td>\n",
       "    </tr>\n",
       "    <tr>\n",
       "      <th>2</th>\n",
       "      <td>65</td>\n",
       "      <td>70</td>\n",
       "      <td>56</td>\n",
       "      <td>75</td>\n",
       "    </tr>\n",
       "    <tr>\n",
       "      <th>3</th>\n",
       "      <td>87</td>\n",
       "      <td>86</td>\n",
       "      <td>96</td>\n",
       "      <td>80</td>\n",
       "    </tr>\n",
       "    <tr>\n",
       "      <th>4</th>\n",
       "      <td>77</td>\n",
       "      <td>56</td>\n",
       "      <td>72</td>\n",
       "      <td>60</td>\n",
       "    </tr>\n",
       "    <tr>\n",
       "      <th>5</th>\n",
       "      <td>91</td>\n",
       "      <td>97</td>\n",
       "      <td>83</td>\n",
       "      <td>85</td>\n",
       "    </tr>\n",
       "  </tbody>\n",
       "</table>\n",
       "</div>"
      ],
      "text/plain": [
       "    A   B   C   D\n",
       "1  90  55  82  74\n",
       "2  65  70  56  75\n",
       "3  87  86  96  80\n",
       "4  77  56  72  60\n",
       "5  91  97  83  85"
      ]
     },
     "execution_count": 7,
     "metadata": {},
     "output_type": "execute_result"
    }
   ],
   "source": [
    "df1 = pd.DataFrame(np.random.randint(50,100,20).reshape(5,4),[1,2,3,4,5],['A','B','C','D'])\n",
    "df1"
   ]
  },
  {
   "cell_type": "code",
   "execution_count": 8,
   "id": "824ee6cb",
   "metadata": {},
   "outputs": [
    {
     "data": {
      "text/plain": [
       "<AxesSubplot:>"
      ]
     },
     "execution_count": 8,
     "metadata": {},
     "output_type": "execute_result"
    },
    {
     "data": {
      "image/png": "[encoded data removed]",
      "text/plain": [
       "<Figure size 432x288 with 1 Axes>"
      ]
     },
     "metadata": {},
     "output_type": "display_data"
    }
   ],
   "source": [
    "df1.plot.area(alpha=0.5)"
   ]
  },
  {
   "cell_type": "code",
   "execution_count": 9,
   "id": "f056ec43",
   "metadata": {},
   "outputs": [
    {
     "data": {
      "text/plain": [
       "<AxesSubplot:>"
      ]
     },
     "execution_count": 9,
     "metadata": {},
     "output_type": "execute_result"
    },
    {
     "data": {
      "image/png": "[encoded data removed]",
      "text/plain": [
       "<Figure size 432x288 with 1 Axes>"
      ]
     },
     "metadata": {},
     "output_type": "display_data"
    }
   ],
   "source": [
    "df1.plot.bar()"
   ]
  },
  {
   "cell_type": "code",
   "execution_count": 10,
   "id": "4cdcf91c",
   "metadata": {},
   "outputs": [
    {
     "data": {
      "text/plain": [
       "<AxesSubplot:xlabel='A', ylabel='B'>"
      ]
     },
     "execution_count": 10,
     "metadata": {},
     "output_type": "execute_result"
    },
    {
     "data": {
      "image/png": "[encoded data removed]",
      "text/plain": [
       "<Figure size 432x288 with 2 Axes>"
      ]
     },
     "metadata": {},
     "output_type": "display_data"
    }
   ],
   "source": [
    "df.plot.scatter(x='A',y='B',c='C')"
   ]
  },
  {
   "cell_type": "code",
   "execution_count": 11,
   "id": "0ba64411",
   "metadata": {},
   "outputs": [
    {
     "data": {
      "text/plain": [
       "<AxesSubplot:>"
      ]
     },
     "execution_count": 11,
     "metadata": {},
     "output_type": "execute_result"
    },
    {
     "data": {
      "image/png": "[encoded data removed]",
      "text/plain": [
       "<Figure size 432x288 with 1 Axes>"
      ]
     },
     "metadata": {},
     "output_type": "display_data"
    }
   ],
   "source": [
    "df1.plot.box()"
   ]
  },
  {
   "cell_type": "code",
   "execution_count": 12,
   "id": "ded369ff",
   "metadata": {},
   "outputs": [],
   "source": [
    "# plotly and Cufflinks"
   ]
  },
  {
   "cell_type": "code",
   "execution_count": 13,
   "id": "6a104ccf",
   "metadata": {},
   "outputs": [],
   "source": [
    "from plotly.offline import download_plotlyjs,init_notebook_mode,plot,iplot\n"
   ]
  },
  {
   "cell_type": "code",
   "execution_count": 14,
   "id": "a15fbce9",
   "metadata": {},
   "outputs": [],
   "source": [
    "import cufflinks as cf"
   ]
  },
  {
   "cell_type": "code",
   "execution_count": 15,
   "id": "dc6aa184",
   "metadata": {},
   "outputs": [
    {
     "data": {
      "text/html": [
       "        <script type=\"text/javascript\">\n",
       "        window.PlotlyConfig = {MathJaxConfig: 'local'};\n",
       "        if (window.MathJax) {MathJax.Hub.Config({SVG: {font: \"STIX-Web\"}});}\n",
       "        if (typeof require !== 'undefined') {\n",
       "        require.undef(\"plotly\");\n",
       "        requirejs.config({\n",
       "            paths: {\n",
       "                'plotly': ['https://cdn.plot.ly/plotly-2.9.0.min']\n",
       "            }\n",
       "        });\n",
       "        require(['plotly'], function(Plotly) {\n",
       "            window._Plotly = Plotly;\n",
       "        });\n",
       "        }\n",
       "        </script>\n",
       "        "
      ]
     },
     "metadata": {},
     "output_type": "display_data"
    }
   ],
   "source": [
    "init_notebook_mode(connected=True)"
   ]
  },
  {
   "cell_type": "code",
   "execution_count": 16,
   "id": "8f4e8235",
   "metadata": {},
   "outputs": [
    {
     "data": {
      "text/html": [
       "        <script type=\"text/javascript\">\n",
       "        window.PlotlyConfig = {MathJaxConfig: 'local'};\n",
       "        if (window.MathJax) {MathJax.Hub.Config({SVG: {font: \"STIX-Web\"}});}\n",
       "        if (typeof require !== 'undefined') {\n",
       "        require.undef(\"plotly\");\n",
       "        requirejs.config({\n",
       "            paths: {\n",
       "                'plotly': ['https://cdn.plot.ly/plotly-2.9.0.min']\n",
       "            }\n",
       "        });\n",
       "        require(['plotly'], function(Plotly) {\n",
       "            window._Plotly = Plotly;\n",
       "        });\n",
       "        }\n",
       "        </script>\n",
       "        "
      ]
     },
     "metadata": {},
     "output_type": "display_data"
    }
   ],
   "source": [
    "cf.go_offline()"
   ]
  },
  {
   "cell_type": "code",
   "execution_count": 17,
   "id": "e01b6c44",
   "metadata": {},
   "outputs": [
    {
     "data": {
      "text/html": [
       "<div>\n",
       "<style scoped>\n",
       "    .dataframe tbody tr th:only-of-type {\n",
       "        vertical-align: middle;\n",
       "    }\n",
       "\n",
       "    .dataframe tbody tr th {\n",
       "        vertical-align: top;\n",
       "    }\n",
       "\n",
       "    .dataframe thead th {\n",
       "        text-align: right;\n",
       "    }\n",
       "</style>\n",
       "<table border=\"1\" class=\"dataframe\">\n",
       "  <thead>\n",
       "    <tr style=\"text-align: right;\">\n",
       "      <th></th>\n",
       "      <th>A</th>\n",
       "      <th>B</th>\n",
       "      <th>C</th>\n",
       "      <th>D</th>\n",
       "    </tr>\n",
       "  </thead>\n",
       "  <tbody>\n",
       "    <tr>\n",
       "      <th>0</th>\n",
       "      <td>-2.263531</td>\n",
       "      <td>-0.864330</td>\n",
       "      <td>0.922091</td>\n",
       "      <td>0.236815</td>\n",
       "    </tr>\n",
       "    <tr>\n",
       "      <th>1</th>\n",
       "      <td>1.293162</td>\n",
       "      <td>-0.485454</td>\n",
       "      <td>0.148364</td>\n",
       "      <td>0.153266</td>\n",
       "    </tr>\n",
       "    <tr>\n",
       "      <th>2</th>\n",
       "      <td>-0.674194</td>\n",
       "      <td>0.074622</td>\n",
       "      <td>-0.017816</td>\n",
       "      <td>-0.720030</td>\n",
       "    </tr>\n",
       "    <tr>\n",
       "      <th>3</th>\n",
       "      <td>0.289828</td>\n",
       "      <td>-1.123517</td>\n",
       "      <td>-0.658464</td>\n",
       "      <td>-1.011635</td>\n",
       "    </tr>\n",
       "    <tr>\n",
       "      <th>4</th>\n",
       "      <td>1.168734</td>\n",
       "      <td>-1.013551</td>\n",
       "      <td>0.275904</td>\n",
       "      <td>-0.381611</td>\n",
       "    </tr>\n",
       "  </tbody>\n",
       "</table>\n",
       "</div>"
      ],
      "text/plain": [
       "          A         B         C         D\n",
       "0 -2.263531 -0.864330  0.922091  0.236815\n",
       "1  1.293162 -0.485454  0.148364  0.153266\n",
       "2 -0.674194  0.074622 -0.017816 -0.720030\n",
       "3  0.289828 -1.123517 -0.658464 -1.011635\n",
       "4  1.168734 -1.013551  0.275904 -0.381611"
      ]
     },
     "execution_count": 17,
     "metadata": {},
     "output_type": "execute_result"
    }
   ],
   "source": [
    "df1=pd.DataFrame(np.random.randn(500,4),columns='A B C D'.split())\n",
    "df1.head()"
   ]
  },
  {
   "cell_type": "code",
   "execution_count": 18,
   "id": "f0a414e4",
   "metadata": {},
   "outputs": [
    {
     "data": {
      "text/html": [
       "<div>\n",
       "<style scoped>\n",
       "    .dataframe tbody tr th:only-of-type {\n",
       "        vertical-align: middle;\n",
       "    }\n",
       "\n",
       "    .dataframe tbody tr th {\n",
       "        vertical-align: top;\n",
       "    }\n",
       "\n",
       "    .dataframe thead th {\n",
       "        text-align: right;\n",
       "    }\n",
       "</style>\n",
       "<table border=\"1\" class=\"dataframe\">\n",
       "  <thead>\n",
       "    <tr style=\"text-align: right;\">\n",
       "      <th></th>\n",
       "      <th>Category</th>\n",
       "      <th>Values</th>\n",
       "    </tr>\n",
       "  </thead>\n",
       "  <tbody>\n",
       "    <tr>\n",
       "      <th>0</th>\n",
       "      <td>A</td>\n",
       "      <td>34</td>\n",
       "    </tr>\n",
       "    <tr>\n",
       "      <th>1</th>\n",
       "      <td>B</td>\n",
       "      <td>67</td>\n",
       "    </tr>\n",
       "    <tr>\n",
       "      <th>2</th>\n",
       "      <td>C</td>\n",
       "      <td>44</td>\n",
       "    </tr>\n",
       "  </tbody>\n",
       "</table>\n",
       "</div>"
      ],
      "text/plain": [
       "  Category  Values\n",
       "0        A      34\n",
       "1        B      67\n",
       "2        C      44"
      ]
     },
     "execution_count": 18,
     "metadata": {},
     "output_type": "execute_result"
    }
   ],
   "source": [
    "df2=pd.DataFrame({\"Category\":['A','B','C'],\"Values\":[34,67,44]})\n",
    "df2"
   ]
  },
  {
   "cell_type": "code",
   "execution_count": 19,
   "id": "da16c8f9",
   "metadata": {
    "scrolled": true
   },
   "outputs": [
    {
     "data": {
      "application/vnd.plotly.v1+json": {
       "config": {
        "linkText": "Export to plot.ly",
        "plotlyServerURL": "https://plot.ly",
        "showLink": true
       },
       "data": [
        {
         "line": {
          "color": "rgba(255, 153, 51, 1.0)",
          "dash": "solid",
          "shape": "linear",
          "width": 1.3
         },
         "mode": "lines",
         "name": "A",
         "text": "",
         "type": "scatter",
         "x": [
          0,
          1,
          2,
          3,
          4,
          5,
          6,
          7,
          8,
          9,
          10,
          11,
          12,
          13,
          14,
          15,
          16,
          17,
          18,
          19,
          20,
          21,
          22,
          23,
          24,
          25,
          26,
          27,
          28,
          29,
          30,
          31,
          32,
          33,
          34,
          35,
          36,
          37,
          38,
          39,
          40,
          41,
          42,
          43,
          44,
          45,
          46,
          47,
          48,
          49,
          50,
          51,
          52,
          53,
          54,
          55,
          56,
          57,
          58,
          59,
          60,
          61,
          62,
          63,
          64,
          65,
          66,
          67,
          68,
          69,
          70,
          71,
          72,
          73,
          74,
          75,
          76,
          77,
          78,
          79,
          80,
          81,
          82,
          83,
          84,
          85,
          86,
          87,
          88,
          89,
          90,
          91,
          92,
          93,
          94,
          95,
          96,
          97,
          98,
          99,
          100,
          101,
          102,
          103,
          104,
          105,
          106,
          107,
          108,
          109,
          110,
          111,
          112,
          113,
          114,
          115,
          116,
          117,
          118,
          119,
          120,
          121,
          122,
          123,
          124,
          125,
          126,
          127,
          128,
          129,
          130,
          131,
          132,
          133,
          134,
          135,
          136,
          137,
          138,
          139,
          140,
          141,
          142,
          143,
          144,
          145,
          146,
          147,
          148,
          149,
          150,
          151,
          152,
          153,
          154,
          155,
          156,
          157,
          158,
          159,
          160,
          161,
          162,
          163,
          164,
          165,
          166,
          167,
          168,
          169,
          170,
          171,
          172,
          173,
          174,
          175,
          176,
          177,
          178,
          179,
          180,
          181,
          182,
          183,
          184,
          185,
          186,
          187,
          188,
          189,
          190,
          191,
          192,
          193,
          194,
          195,
          196,
          197,
          198,
          199,
          200,
          201,
          202,
          203,
          204,
          205,
          206,
          207,
          208,
          209,
          210,
          211,
          212,
          213,
          214,
          215,
          216,
          217,
          218,
          219,
          220,
          221,
          222,
          223,
          224,
          225,
          226,
          227,
          228,
          229,
          230,
          231,
          232,
          233,
          234,
          235,
          236,
          237,
          238,
          239,
          240,
          241,
          242,
          243,
          244,
          245,
          246,
          247,
          248,
          249,
          250,
          251,
          252,
          253,
          254,
          255,
          256,
          257,
          258,
          259,
          260,
          261,
          262,
          263,
          264,
          265,
          266,
          267,
          268,
          269,
          270,
          271,
          272,
          273,
          274,
          275,
          276,
          277,
          278,
          279,
          280,
          281,
          282,
          283,
          284,
          285,
          286,
          287,
          288,
          289,
          290,
          291,
          292,
          293,
          294,
          295,
          296,
          297,
          298,
          299,
          300,
          301,
          302,
          303,
          304,
          305,
          306,
          307,
          308,
          309,
          310,
          311,
          312,
          313,
          314,
          315,
          316,
          317,
          318,
          319,
          320,
          321,
          322,
          323,
          324,
          325,
          326,
          327,
          328,
          329,
          330,
          331,
          332,
          333,
          334,
          335,
          336,
          337,
          338,
          339,
          340,
          341,
          342,
          343,
          344,
          345,
          346,
          347,
          348,
          349,
          350,
          351,
          352,
          353,
          354,
          355,
          356,
          357,
          358,
          359,
          360,
          361,
          362,
          363,
          364,
          365,
          366,
          367,
          368,
          369,
          370,
          371,
          372,
          373,
          374,
          375,
          376,
          377,
          378,
          379,
          380,
          381,
          382,
          383,
          384,
          385,
          386,
          387,
          388,
          389,
          390,
          391,
          392,
          393,
          394,
          395,
          396,
          397,
          398,
          399,
          400,
          401,
          402,
          403,
          404,
          405,
          406,
          407,
          408,
          409,
          410,
          411,
          412,
          413,
          414,
          415,
          416,
          417,
          418,
          419,
          420,
          421,
          422,
          423,
          424,
          425,
          426,
          427,
          428,
          429,
          430,
          431,
          432,
          433,
          434,
          435,
          436,
          437,
          438,
          439,
          440,
          441,
          442,
          443,
          444,
          445,
          446,
          447,
          448,
          449,
          450,
          451,
          452,
          453,
          454,
          455,
          456,
          457,
          458,
          459,
          460,
          461,
          462,
          463,
          464,
          465,
          466,
          467,
          468,
          469,
          470,
          471,
          472,
          473,
          474,
          475,
          476,
          477,
          478,
          479,
          480,
          481,
          482,
          483,
          484,
          485,
          486,
          487,
          488,
          489,
          490,
          491,
          492,
          493,
          494,
          495,
          496,
          497,
          498,
          499
         ],
         "y": [
          -2.263530892487862,
          1.2931622185906402,
          -0.674193936092612,
          0.28982843143464,
          1.168733585759221,
          -1.1963987200334893,
          0.9083825341950454,
          0.45225224490658605,
          -0.1326145424892588,
          -0.1344990688537319,
          0.7807652903673963,
          -1.4337125687871444,
          -0.12071239683816742,
          0.4805733984730154,
          0.14235621082255248,
          0.7243815820408156,
          -0.0645315836726518,
          0.5281781388355035,
          -0.7365648102087147,
          -1.2577462277201688,
          -0.5549795887698592,
          1.343798783190818,
          -0.7865681783893995,
          -0.8474033072481033,
          0.8308077289301352,
          0.9755607342753246,
          -0.7295423926374264,
          -1.2747937735421129,
          0.34765950690666925,
          -0.2686263038390421,
          -0.03565719616788954,
          1.0741632479361454,
          0.6711218309848905,
          0.6063463280066883,
          -0.5070509768068395,
          -0.13307170262589568,
          0.25112528463280714,
          0.3036181273196037,
          0.4267228613259005,
          -1.3018928402964878,
          1.1340951010761302,
          -0.15513570635943902,
          1.5154080929594729,
          -0.5010874228487359,
          -0.07738406282135914,
          2.5025421218163895,
          0.060016776197184804,
          -0.6675995797014896,
          -1.5802324861295867,
          -1.2710573824068159,
          0.14302066598095226,
          0.18437078396562148,
          -1.0526411058637164,
          -0.31946170175227223,
          -0.6165010536939555,
          0.9708442100287182,
          -0.1072377482733915,
          0.9406224656738986,
          1.031969727894555,
          -0.5084730686108397,
          0.33338057654200803,
          -1.6568866190342455,
          0.501319808680964,
          0.7435253417736852,
          0.42741207175129237,
          -0.06331903536520643,
          0.48116256299632837,
          0.27940258904180143,
          2.9690165692171835,
          0.465424022229492,
          -0.2568651162461084,
          0.06797524841361728,
          -0.27089980908944267,
          -0.5636918326276839,
          0.4154581564963929,
          0.3937327168790468,
          -0.521903923967632,
          1.41851180033925,
          -0.6305609418876876,
          0.3702062552002396,
          0.13839629391183297,
          -0.516744743702872,
          0.20664188057882016,
          -0.23197177469006836,
          0.10732992879287706,
          -0.06376900010260295,
          0.41645078447200085,
          -0.8195465776663764,
          1.1000543843685058,
          0.01963504707941006,
          0.08292363982947464,
          -1.2644823340069948,
          0.35478605515189504,
          0.18469048770069843,
          -0.8630346784233842,
          0.057634657188536276,
          -1.9982530933857214,
          0.32446239388700315,
          1.3790503727539425,
          -0.5728349873062363,
          0.3373476490053909,
          -0.25517852261167695,
          0.1904056854582507,
          -0.2591750312536783,
          0.7838162700899124,
          0.7796573548659446,
          0.7118731095767221,
          0.36539888386756963,
          -0.43726056789653056,
          -1.0623076658348654,
          -0.22304115327462642,
          -2.2308191060258618,
          0.014977126832011724,
          -0.414957999980559,
          0.40013852785859755,
          0.21662758683231118,
          0.3907856223427216,
          -0.823196964321295,
          -3.0209307167497834,
          -2.2999787429256067,
          2.4854281371348463,
          1.9654216696232505,
          0.5948463956332936,
          -1.0144489778106556,
          0.03546356421200841,
          -1.8975752469814653,
          -1.7216475578736783,
          0.8588569148586542,
          0.31284550437011216,
          -0.29444107410787135,
          0.48728443622557116,
          0.6623801563995151,
          -0.9304947727335924,
          0.908508602198395,
          -0.7559180860476535,
          -0.1594911024237002,
          0.9323974364880934,
          -1.7343248713237718,
          0.4352867789695257,
          -2.0787248421776505,
          -1.846549566718216,
          -0.31991195095981106,
          -0.34767624488654586,
          1.7773014030644105,
          0.8609716419916509,
          0.6691992216660718,
          -1.047005679807852,
          1.1247576465115727,
          -0.0010306862221828904,
          -0.5016394368988792,
          -2.129341982975807,
          0.43547481558860807,
          0.30551755848417494,
          -2.319990959520456,
          0.8613887030748035,
          0.7531167448977183,
          1.3720814036889586,
          -0.8446690078791586,
          -0.5311815131414809,
          -1.8294118711319158,
          0.7830069242795333,
          1.1111818227836079,
          0.7738256742050303,
          0.5423350566916659,
          2.298708344580066,
          -0.9561631699002705,
          0.3437428089537067,
          -0.34021588889828186,
          -0.7453163891591427,
          0.16566735732333085,
          0.1304095228491779,
          0.17601692970922428,
          2.3242099430727783,
          -1.4676809774137018,
          -0.7406488579696542,
          -0.7469977143083395,
          0.21112256611228444,
          -1.0222673603442518,
          0.9149341555459293,
          0.4591991923802058,
          2.4791206158224877,
          1.1354066793438746,
          -0.28476213045106297,
          0.20896434408286213,
          -0.09432320763542629,
          -1.2655652575074947,
          -0.48265845179891986,
          0.4576186092005852,
          -0.502374216892446,
          -1.0438369418833433,
          0.01898548414859855,
          1.747128677676987,
          -0.9254820359985816,
          -0.9371081560647786,
          -0.040689186834107195,
          0.748766192264696,
          -1.433836964261931,
          1.257469522064568,
          0.34223784914746813,
          0.15510041874097413,
          0.7369586534302179,
          -1.3051319918539688,
          0.9650844233754938,
          0.0294641882329352,
          -1.1193629660564408,
          -0.4576007221612925,
          -0.5424946474412504,
          0.4883663464302213,
          -1.134716743243459,
          0.11316936606887865,
          -1.2899166145015668,
          1.124184389689339,
          -0.06552923465487889,
          -0.8770432719360128,
          -0.9452049653777476,
          0.9024843079591985,
          0.8956072698567098,
          -0.5407108505069146,
          1.0435046454320283,
          0.02114450471936369,
          -0.5042445703250149,
          0.29630809851569295,
          -0.14968363635729198,
          -0.01749152499881055,
          0.04947806063039101,
          1.1854880273777322,
          0.8366700622014895,
          0.1561426803349261,
          0.41049920354581304,
          1.631235167376211,
          0.24002268326462506,
          2.1534718069988656,
          -1.6432581285762573,
          -0.7892960976444583,
          0.7007186928265287,
          -1.441945746498854,
          -2.2896616096147575,
          1.3262867987221907,
          -0.026855457257691118,
          0.35726739177069006,
          1.2887404125169968,
          -1.2231878066377828,
          1.6446618254023313,
          -0.00024085824195230714,
          -0.44813546304346896,
          -0.6541373102832895,
          -1.525800344200501,
          -0.9730737126313034,
          0.806971396520868,
          -0.26838596797724346,
          0.6682255507644822,
          -0.7486303983627517,
          0.4725948900406291,
          0.6002797325737819,
          -0.7367136151083686,
          0.8885134523108786,
          -1.3052370883017614,
          0.511084723840786,
          -0.057363235322683795,
          -1.612228770511537,
          0.20907858573793778,
          1.5570907061219004,
          -0.32025891454521943,
          -0.08872991162353243,
          -0.5913337034961879,
          -0.07030233001543838,
          -0.9011713615136048,
          0.33091792523565255,
          -1.2455624650201134,
          -1.0301800065378626,
          0.4345732340283692,
          0.44377584377472473,
          0.4646799737881138,
          0.3928722271494445,
          0.17733717777020758,
          1.00391162586979,
          0.3920381763672593,
          -0.11230537076021556,
          -0.5271166605425942,
          -0.11405562478863711,
          1.7145691080577936,
          1.1525548351520163,
          0.5139617356659979,
          0.9442967076756399,
          0.6981857290660731,
          0.48258056416573625,
          0.3520693005829216,
          -2.208513926848844,
          0.424110253008601,
          0.8632965133822713,
          0.3245090460327771,
          -0.31719399050552805,
          1.9709382724127844,
          -0.7365172167429717,
          0.8430735901492473,
          -1.292733992672372,
          -0.807596405232898,
          -0.33512592396532637,
          0.2406938034068273,
          -0.43143729286101756,
          0.1635705756260592,
          0.11267280591680653,
          0.139855661093003,
          0.3705370108611749,
          0.4318068890161458,
          -0.7630252467798829,
          0.5035095053817834,
          -1.4320810947774816,
          -1.6123166701891412,
          0.7728321804380414,
          -1.1526192176140195,
          0.4490567606226094,
          -0.5120466164808718,
          -0.31128068641577805,
          -0.3741944354752403,
          2.573961855152507,
          1.129761396743796,
          -0.13023688088558832,
          -1.2711066783772655,
          -0.823927112576881,
          -0.060878930248960156,
          0.9857754030096827,
          -0.3705909628275801,
          1.5271355888229459,
          -0.27374393310299894,
          -0.44712759831362897,
          -1.9892029452090774,
          0.21785145448078794,
          -1.0175443239494406,
          1.046543405366355,
          -0.6209081954767225,
          -0.3817011985545491,
          -0.4227322767724117,
          -0.5405563776614343,
          1.1961782749686571,
          -1.5950755804922503,
          0.5185731716235648,
          -1.2138170472416863,
          0.0016551191026055961,
          -0.6735530005522238,
          1.2067857022545645,
          -0.11423539722269796,
          -0.25773190206860297,
          -0.5020587385521718,
          -0.8417264556304909,
          -0.3152266841920473,
          -0.3763608716364807,
          1.303589709775874,
          0.6952425468307468,
          0.732638600022976,
          0.5321699993684309,
          -1.94806499803705,
          1.3028472704276242,
          2.072503290705003,
          -1.2596069873697961,
          0.2960439844482653,
          1.0094256349962283,
          -0.04493838195875521,
          -0.43731532421036856,
          -0.29955587062081435,
          0.5860981198944563,
          -0.8021308301584055,
          -0.34432102183587354,
          -0.6086020453812708,
          -0.17009053165483076,
          0.5913722247038146,
          1.7199319699942375,
          -0.7252580820623431,
          1.4092409572090254,
          -0.3534096194886525,
          -0.3539658055719198,
          0.12015892819393792,
          0.8670888861143118,
          0.2688411679504519,
          0.9906743691395143,
          -0.734173899204397,
          -1.953741482356788,
          1.0477019338677451,
          -0.2778548349560111,
          -1.330058985771333,
          -0.03022038505228627,
          -0.4242048029948255,
          1.5261289641859148,
          -2.0835404255127057,
          0.5041532863513903,
          0.37898970914754454,
          0.33165885913905996,
          -1.0198492238115628,
          -0.34544520337826207,
          0.533093216997367,
          0.2305781133853838,
          0.4304819334315093,
          1.5296519928433527,
          -0.8362117782123512,
          0.5857685730417653,
          1.299825734604204,
          -1.4765417395923297,
          1.1317210602279755,
          1.1375692493163128,
          0.10565726659957062,
          1.421535237455665,
          -0.4313585124037633,
          1.5120605990238247,
          0.5956445380097267,
          -1.233371446013412,
          0.32095312412927623,
          0.20704713654645968,
          0.07883156254653347,
          0.2559231181034012,
          -0.5293853706510283,
          0.21877786325512374,
          0.3092397968337286,
          -0.6320613018711665,
          2.1845029430500373,
          1.5115404445869274,
          0.5234446681738709,
          -1.7952880026772697,
          0.5947117535910786,
          -0.5936688757653348,
          -1.9573988460736569,
          1.2238610033291626,
          -1.0530822326927423,
          -0.005909598988247,
          0.27563585173518856,
          -1.2400033314032664,
          -0.6797688261705226,
          0.5489124486842144,
          1.089778993179704,
          -0.45711726687572507,
          0.037457596816397244,
          -1.4042322333515007,
          0.30368288687852635,
          0.06756441580452588,
          -0.5182493262741984,
          -0.7151298150452237,
          0.2278434295883213,
          0.04435768356599988,
          -0.8282132665015844,
          -1.382525230050665,
          2.170403967511804,
          0.36478306568663177,
          0.21784762677205788,
          -0.40769882767941135,
          0.6504071519104804,
          1.1341099685707114,
          0.3960040724599995,
          -1.7155345415699248,
          -1.7744959527814521,
          0.81526411352325,
          -0.9156385278401167,
          0.2173424590970779,
          0.26204069102142247,
          -1.8727027673201961,
          1.7217758369729563,
          0.9657745410308541,
          -1.2815053853496943,
          -0.24927336468821654,
          0.14763154336243584,
          -0.20147918388128916,
          1.5425690612480052,
          -0.1182309333853094,
          -1.3340117486782903,
          0.2126655390087511,
          -0.1106874954864721,
          0.30447108601204664,
          0.020982190016305285,
          0.18193746695792085,
          -0.020733034307504516,
          0.7486353092053304,
          1.6800208234269025,
          -0.6332391093063604,
          -0.0024254507725629437,
          0.8196390283342632,
          -0.38648040437410264,
          -0.21042733698987323,
          1.7074486964659832,
          0.4973323975597727,
          0.6896523446861065,
          0.2863507676773237,
          -0.9738184564196188,
          1.4648060266786653,
          -1.3098008412197324,
          -1.0526887107055733,
          -1.3999218982915989,
          -1.988669644262112,
          -0.33973696149969346,
          1.945402053012429,
          -1.2055724881225565,
          -0.821684958945505,
          0.7457562226320248,
          0.06287171833139077,
          0.16292221467042742,
          -0.7505023891359669,
          0.7587161193174603,
          -0.8998895541304912,
          0.4590758873279594,
          0.5511216358616269,
          0.44056770922447236,
          1.2112545129129224,
          -0.6128335579651852
         ]
        },
        {
         "line": {
          "color": "rgba(55, 128, 191, 1.0)",
          "dash": "solid",
          "shape": "linear",
          "width": 1.3
         },
         "mode": "lines",
         "name": "B",
         "text": "",
         "type": "scatter",
         "x": [
          0,
          1,
          2,
          3,
          4,
          5,
          6,
          7,
          8,
          9,
          10,
          11,
          12,
          13,
          14,
          15,
          16,
          17,
          18,
          19,
          20,
          21,
          22,
          23,
          24,
          25,
          26,
          27,
          28,
          29,
          30,
          31,
          32,
          33,
          34,
          35,
          36,
          37,
          38,
          39,
          40,
          41,
          42,
          43,
          44,
          45,
          46,
          47,
          48,
          49,
          50,
          51,
          52,
          53,
          54,
          55,
          56,
          57,
          58,
          59,
          60,
          61,
          62,
          63,
          64,
          65,
          66,
          67,
          68,
          69,
          70,
          71,
          72,
          73,
          74,
          75,
          76,
          77,
          78,
          79,
          80,
          81,
          82,
          83,
          84,
          85,
          86,
          87,
          88,
          89,
          90,
          91,
          92,
          93,
          94,
          95,
          96,
          97,
          98,
          99,
          100,
          101,
          102,
          103,
          104,
          105,
          106,
          107,
          108,
          109,
          110,
          111,
          112,
          113,
          114,
          115,
          116,
          117,
          118,
          119,
          120,
          121,
          122,
          123,
          124,
          125,
          126,
          127,
          128,
          129,
          130,
          131,
          132,
          133,
          134,
          135,
          136,
          137,
          138,
          139,
          140,
          141,
          142,
          143,
          144,
          145,
          146,
          147,
          148,
          149,
          150,
          151,
          152,
          153,
          154,
          155,
          156,
          157,
          158,
          159,
          160,
          161,
          162,
          163,
          164,
          165,
          166,
          167,
          168,
          169,
          170,
          171,
          172,
          173,
          174,
          175,
          176,
          177,
          178,
          179,
          180,
          181,
          182,
          183,
          184,
          185,
          186,
          187,
          188,
          189,
          190,
          191,
          192,
          193,
          194,
          195,
          196,
          197,
          198,
          199,
          200,
          201,
          202,
          203,
          204,
          205,
          206,
          207,
          208,
          209,
          210,
          211,
          212,
          213,
          214,
          215,
          216,
          217,
          218,
          219,
          220,
          221,
          222,
          223,
          224,
          225,
          226,
          227,
          228,
          229,
          230,
          231,
          232,
          233,
          234,
          235,
          236,
          237,
          238,
          239,
          240,
          241,
          242,
          243,
          244,
          245,
          246,
          247,
          248,
          249,
          250,
          251,
          252,
          253,
          254,
          255,
          256,
          257,
          258,
          259,
          260,
          261,
          262,
          263,
          264,
          265,
          266,
          267,
          268,
          269,
          270,
          271,
          272,
          273,
          274,
          275,
          276,
          277,
          278,
          279,
          280,
          281,
          282,
          283,
          284,
          285,
          286,
          287,
          288,
          289,
          290,
          291,
          292,
          293,
          294,
          295,
          296,
          297,
          298,
          299,
          300,
          301,
          302,
          303,
          304,
          305,
          306,
          307,
          308,
          309,
          310,
          311,
          312,
          313,
          314,
          315,
          316,
          317,
          318,
          319,
          320,
          321,
          322,
          323,
          324,
          325,
          326,
          327,
          328,
          329,
          330,
          331,
          332,
          333,
          334,
          335,
          336,
          337,
          338,
          339,
          340,
          341,
          342,
          343,
          344,
          345,
          346,
          347,
          348,
          349,
          350,
          351,
          352,
          353,
          354,
          355,
          356,
          357,
          358,
          359,
          360,
          361,
          362,
          363,
          364,
          365,
          366,
          367,
          368,
          369,
          370,
          371,
          372,
          373,
          374,
          375,
          376,
          377,
          378,
          379,
          380,
          381,
          382,
          383,
          384,
          385,
          386,
          387,
          388,
          389,
          390,
          391,
          392,
          393,
          394,
          395,
          396,
          397,
          398,
          399,
          400,
          401,
          402,
          403,
          404,
          405,
          406,
          407,
          408,
          409,
          410,
          411,
          412,
          413,
          414,
          415,
          416,
          417,
          418,
          419,
          420,
          421,
          422,
          423,
          424,
          425,
          426,
          427,
          428,
          429,
          430,
          431,
          432,
          433,
          434,
          435,
          436,
          437,
          438,
          439,
          440,
          441,
          442,
          443,
          444,
          445,
          446,
          447,
          448,
          449,
          450,
          451,
          452,
          453,
          454,
          455,
          456,
          457,
          458,
          459,
          460,
          461,
          462,
          463,
          464,
          465,
          466,
          467,
          468,
          469,
          470,
          471,
          472,
          473,
          474,
          475,
          476,
          477,
          478,
          479,
          480,
          481,
          482,
          483,
          484,
          485,
          486,
          487,
          488,
          489,
          490,
          491,
          492,
          493,
          494,
          495,
          496,
          497,
          498,
          499
         ],
         "y": [
          -0.8643303486768782,
          -0.48545447661592434,
          0.074622210582842,
          -1.1235170332369224,
          -1.0135508333616168,
          0.30827543616675057,
          0.3752038214699598,
          -0.6007368177428646,
          0.9129030633322243,
          0.043888449546883514,
          -0.24031317108009856,
          -0.7375646355758417,
          -0.4681910820777421,
          0.9964026624751344,
          2.0971634956989016,
          0.450574874362932,
          1.4635098238231417,
          -0.4319436150231565,
          -1.278331730768012,
          0.5744366004914743,
          2.0869333139116595,
          -0.9193410790800395,
          -1.833408200375922,
          0.815870476737727,
          1.2255231447347203,
          1.4269942761256478,
          -0.0208392893246553,
          -0.802855883972416,
          0.7441495619973297,
          0.5726913780552716,
          -1.0359943891301344,
          -0.3032828708270887,
          0.32218939138050695,
          -0.07482836543124932,
          -2.2881247996561536,
          0.8396551087311036,
          0.6329973906675159,
          -0.8089122730077706,
          1.3563360794124653,
          -1.3910248195095662,
          0.18226155741218986,
          1.1812588349937838,
          -0.017857317368380452,
          -1.7335749162749488,
          -1.4021895915785028,
          -0.32509108497305844,
          -0.5869592019054817,
          0.9495712552305394,
          0.3463687493993234,
          -1.4667436417122397,
          1.3062901272194902,
          -0.42658619894597277,
          0.9620508083663744,
          0.23526592031426882,
          0.8497327673805525,
          0.5588145927097056,
          -0.48360172418772346,
          1.0709943964111517,
          0.8398138160631732,
          0.12310755185178913,
          -0.6527937114668243,
          -0.5922539583676146,
          -0.5544129808454866,
          -1.17542810552467,
          -0.8993931961583361,
          1.873212240564465,
          -0.759361895137789,
          1.462828531032524,
          -0.006853677859164635,
          -0.19400329825342275,
          -0.6102253464084665,
          1.243358257011422,
          -0.5201554842199142,
          0.7388503478936396,
          -0.2160079096289911,
          1.1631834133147718,
          -0.3574428213850189,
          -0.5272720419829308,
          -1.02954231733991,
          -0.40167488843385485,
          0.6136324469264254,
          -0.09110088583380581,
          -1.2690999569499417,
          -0.9218185358341311,
          1.5341086823582701,
          -1.0965694293552006,
          0.22986512582809857,
          -2.211500102580387,
          -0.9439370395816332,
          -0.15983863544068952,
          1.369931708738245,
          0.4934425353439321,
          -1.0176043028353083,
          -1.1886790512293166,
          -2.184617633428162,
          0.46019217910122356,
          0.4849860717936879,
          0.12688255505038534,
          -0.25140835619897484,
          1.4658126550581294,
          1.2694256644911606,
          -0.8138443318306805,
          1.1298803448185024,
          0.5348476041160375,
          1.2430183866911644,
          -0.35029193218261967,
          -0.9963080251603601,
          -1.088178138364631,
          -0.8427024185119844,
          -0.8780277630627888,
          -0.17087787066342594,
          0.5923576710960169,
          -1.514603792728183,
          -0.7971490448026465,
          1.8579492939592588,
          -0.47659227243257524,
          1.1741791349143988,
          -0.23002183980604202,
          -0.9788257071866882,
          -0.787089545523912,
          0.15632669264770976,
          0.7873375409078308,
          -0.6851596359225393,
          0.07258239604801417,
          1.0108568062678853,
          -0.5350206269668196,
          0.4617210322108998,
          0.6729851129996333,
          0.6947791573841785,
          -2.0349434613126345,
          0.9346846632454399,
          -1.904184957979476,
          -1.5897498110802348,
          0.07803041176088413,
          0.09756084554805393,
          0.6571696597348613,
          1.071629838766347,
          -3.282116736543372,
          0.2952320886515686,
          1.0286252197016175,
          0.4510046185128533,
          -0.5808097525959789,
          -0.2048240951015417,
          -0.7244019010710904,
          1.7234902946045805,
          0.013434282552561105,
          0.1916188862715387,
          0.5978644944394771,
          -1.1974830645358936,
          -0.06666291479540355,
          0.8386492151156741,
          -1.1291644176032307,
          0.05241849417403152,
          -0.10907417825855412,
          0.6380514166366121,
          0.04879476309572777,
          -0.16777849124113872,
          -0.39249040661168333,
          1.191873587685773,
          -1.3205280526782754,
          0.42993519552984616,
          -0.09237482587070879,
          -0.7926842172330973,
          0.5679663048689276,
          -1.654584667175674,
          1.2808190915252475,
          -0.10407137936591151,
          0.9459287720169433,
          2.997001930072728,
          0.9446389150568022,
          -0.73353832354179,
          -1.5846353717838617,
          -0.885051530172661,
          -0.4675519667238059,
          -0.13331587213270782,
          0.9611220186060137,
          -1.7600226706559756,
          -0.6197654075068263,
          -0.6491288178838583,
          0.05533463637359131,
          1.2545161923962125,
          -0.5498373082089602,
          0.005935305924675948,
          -0.28937403873654166,
          -1.7176819437111137,
          1.062708296845886,
          0.14576196013743872,
          0.36022314475696043,
          0.3100393862711781,
          0.43621572859192037,
          -1.1115511453849622,
          -0.8931284957701531,
          1.432237106043617,
          -0.26799178109682303,
          -1.2364356306727065,
          -0.27727843249292256,
          -0.7484029189008448,
          0.6628246713802153,
          0.6209823288852403,
          2.095729456275502,
          -0.8615847093288481,
          1.470005888534789,
          0.8742648623981958,
          0.9126777321153317,
          0.6494642173952481,
          0.3437184635242458,
          0.8055190722528236,
          0.15608954232600264,
          2.2991264282837514,
          -0.21805154042505967,
          0.4940450628946168,
          2.3879553375112446,
          0.8331103320151628,
          1.243259684792002,
          0.29035122447166023,
          1.5117606491184155,
          -0.9836973745096882,
          -0.0791966119835468,
          -0.04835572773807457,
          -0.4588441898535056,
          -0.46823840601349903,
          -0.18408406954795853,
          -1.1626812553841233,
          -0.2831560692653616,
          -1.8017380946848456,
          2.323297217914825,
          -0.012652770991927053,
          -1.624019653170712,
          -0.7302033749047425,
          -0.23963287429026348,
          -0.09943147070440395,
          -0.3845642646273242,
          0.21337835024865434,
          -0.1550967548668219,
          -1.7451208715071838,
          0.021781593220121454,
          0.482528557119484,
          0.12476506259864548,
          -0.6543838003523604,
          1.2277565899924272,
          -1.411510936136483,
          -2.118413452367423,
          -1.2191132070960833,
          -0.03352686771440494,
          0.7279308289098316,
          0.9873327613922971,
          -0.774358456390364,
          0.7004299687598552,
          -0.9058837691216307,
          -1.518410302156876,
          -0.4837581462051957,
          -1.6760619095747817,
          1.4722656310018942,
          0.4682039916630244,
          1.285696641292299,
          0.6831171389874126,
          0.1912045241029588,
          -2.224160874884401,
          1.1018758146399366,
          0.8747486356358478,
          -0.5279419976982931,
          -0.20003195098500165,
          1.5055495853342502,
          0.5842278792894626,
          -0.09310041514168922,
          -1.4060082253516486,
          0.43107319763056773,
          -0.36592333005463823,
          0.8141227079424633,
          -0.5425875028149405,
          3.3444053600891794,
          -0.8543661707645733,
          -0.0036736179172075657,
          1.4889857461361322,
          0.8774867172162479,
          0.8299268077371682,
          -1.05663825382182,
          -1.4149516227168877,
          0.7522426144924427,
          -0.00507914787781083,
          0.2610478555094977,
          -0.6591997559801382,
          1.7859012833147028,
          0.48619923737625087,
          -0.8214188979619703,
          0.6192804184346206,
          1.0713857011142744,
          -1.1610794412009768,
          1.6579333645418834,
          0.2034182528098526,
          1.4325120284223194,
          -0.09835000317701767,
          -0.15838912799838256,
          -1.0033864937970682,
          -0.19797015542064625,
          -0.3445003875231573,
          0.4629639290835394,
          2.004274465354049,
          -1.2368295038978248,
          -0.23788254454037747,
          2.0896780022851384,
          1.3412188953431496,
          0.3211422799063036,
          -0.935985886998604,
          1.0259480771917622,
          -1.1363139505860618,
          -0.22065679242018224,
          0.21541308017735333,
          0.258026315926332,
          -0.1422252125062341,
          1.1244121613009839,
          -0.12224367024175394,
          -1.1563005016916008,
          2.6727713098930304,
          -0.23724607730587513,
          -0.8492335753063022,
          -1.8238501392306563,
          0.6301747948826578,
          -0.4536294485473571,
          0.5466184239298865,
          -2.761470067853639,
          2.4219769246256138,
          0.6575582951257924,
          0.11018430960437979,
          -0.4043064664618296,
          -0.014195310918731014,
          -0.11848894241219605,
          0.06286111586675902,
          0.0021071470684251538,
          1.939388247139212,
          -0.7379644760465487,
          -1.0427124320458634,
          0.12747767318100034,
          -1.2522775334466993,
          0.9578929427346745,
          0.3271967175508989,
          0.5362929742083407,
          -0.3508172905905263,
          0.05492688094458291,
          -0.9421086807462195,
          -1.3251744536700256,
          -1.4980980685036622,
          0.28267030401835674,
          -0.7799313729849388,
          0.11868777977450357,
          1.686143711218559,
          -1.9291684273498853,
          -0.06254290149300008,
          0.4651236249986807,
          -0.04242190121669,
          -0.3525024804704805,
          1.6225727507548946,
          2.0977605032727804,
          -0.08923437022106705,
          1.3833770169837647,
          1.1862273094402493,
          -0.6246464424587231,
          0.8549954429876008,
          -0.7116385642343395,
          0.6265741730573536,
          1.1768356984339212,
          1.3248293605060646,
          -1.8522571483565107,
          0.30997096539653807,
          -0.8880745800000089,
          0.253383193283707,
          -0.9768957622608174,
          -0.6091935773789839,
          -0.6799134846035905,
          2.066333414643886,
          -0.4642699043334721,
          -0.02898032555184812,
          -0.9721294891522054,
          -0.15520264621898416,
          -1.5628622157904601,
          -0.8349774946109407,
          -0.40442140189019976,
          0.7723782891777186,
          0.5536856695790957,
          -2.7167014503503784,
          0.638822008846059,
          1.8712513786113707,
          -0.9953562930811777,
          1.061665809966131,
          0.9743917547121637,
          1.4671618364511696,
          0.9578471762382555,
          -0.5815277591166844,
          -1.2076648278816577,
          -0.0657016749925392,
          1.2102546538797605,
          -0.41434974587769396,
          -2.134092747898878,
          -1.3535497163380736,
          -1.103250175773825,
          -0.49731886265549,
          0.1734272005249689,
          -0.5265192685695984,
          -0.5324593192678335,
          1.216030605487049,
          0.7295668971800661,
          0.1774849473446891,
          0.3909567085886405,
          0.7540444722579828,
          -0.8355880993856984,
          -0.2699966546414888,
          -1.491589102324052,
          1.2074903860926305,
          0.1800949874190779,
          -0.027095195545727348,
          0.14112740040017233,
          0.18394558773240247,
          0.15863572656206876,
          -0.13863984835101228,
          0.11567371216113824,
          -2.747890945453844,
          0.6712394146089311,
          0.16440826700384412,
          -0.05379778761770426,
          -0.2465238049705523,
          0.323786924921426,
          0.5559385807572145,
          -2.118198834740286,
          0.035312905641552914,
          1.6944904345617409,
          -0.27016916835057697,
          -0.42411364677781505,
          0.9031225901674101,
          -0.6455303294094389,
          -0.8543668551987945,
          0.7648523102734774,
          -1.15592506213242,
          -1.1455866689194092,
          0.45455005352747685,
          -1.0418808254518175,
          -3.4398979994064396,
          0.9553147053149923,
          -1.35015049238068,
          -0.5104054673852467,
          0.3635549281497244,
          0.35042447944233734,
          -1.9251212835749618,
          0.0542309606517661,
          -0.4675538831867497,
          -0.5950121082024477,
          -0.36620442736041353,
          0.9090081344868,
          -0.28727179127092833,
          -0.5842058132658754,
          0.655637815539823,
          0.1622113796976176,
          1.6189653844673815,
          -0.06353675870301875,
          1.3735319300323154,
          -0.797621117621803,
          -1.4111881283100125,
          1.8737254828225627,
          1.527413080052041,
          0.5747615492248692,
          -2.602687966669538,
          0.1708012600060014,
          0.7591970655662041,
          -0.28349796436191604,
          1.1933316444037287,
          -0.34652383040180174,
          0.027978780165058847,
          0.09964420747497904,
          -0.15316023877715385,
          0.20278211150359476,
          -0.2883354426322248,
          1.6913561586121721,
          0.05766745533335582,
          0.6065666962000866,
          -0.133127654713106,
          -0.4915389492477984,
          0.6541428243870232,
          -0.7593657250143889,
          -2.756242431007816,
          -0.47883543341722296,
          0.8151174654789304,
          -0.21085476172580359,
          -0.0636153470267502,
          0.23795371149658143,
          0.7821675058426818,
          0.9646701284449362,
          -0.5169132171189804,
          -0.8268284016364045,
          0.9602246004207001,
          1.6125784412022457,
          -1.6354452396299193,
          -0.824785002549613,
          1.5387852773955826,
          0.028356711317799474,
          0.910487841740798,
          0.4612284154337478,
          -0.9421194730921624,
          0.03244761934384349,
          1.6483417596631968,
          1.679920658134673,
          0.18097423856973993
         ]
        },
        {
         "line": {
          "color": "rgba(50, 171, 96, 1.0)",
          "dash": "solid",
          "shape": "linear",
          "width": 1.3
         },
         "mode": "lines",
         "name": "C",
         "text": "",
         "type": "scatter",
         "x": [
          0,
          1,
          2,
          3,
          4,
          5,
          6,
          7,
          8,
          9,
          10,
          11,
          12,
          13,
          14,
          15,
          16,
          17,
          18,
          19,
          20,
          21,
          22,
          23,
          24,
          25,
          26,
          27,
          28,
          29,
          30,
          31,
          32,
          33,
          34,
          35,
          36,
          37,
          38,
          39,
          40,
          41,
          42,
          43,
          44,
          45,
          46,
          47,
          48,
          49,
          50,
          51,
          52,
          53,
          54,
          55,
          56,
          57,
          58,
          59,
          60,
          61,
          62,
          63,
          64,
          65,
          66,
          67,
          68,
          69,
          70,
          71,
          72,
          73,
          74,
          75,
          76,
          77,
          78,
          79,
          80,
          81,
          82,
          83,
          84,
          85,
          86,
          87,
          88,
          89,
          90,
          91,
          92,
          93,
          94,
          95,
          96,
          97,
          98,
          99,
          100,
          101,
          102,
          103,
          104,
          105,
          106,
          107,
          108,
          109,
          110,
          111,
          112,
          113,
          114,
          115,
          116,
          117,
          118,
          119,
          120,
          121,
          122,
          123,
          124,
          125,
          126,
          127,
          128,
          129,
          130,
          131,
          132,
          133,
          134,
          135,
          136,
          137,
          138,
          139,
          140,
          141,
          142,
          143,
          144,
          145,
          146,
          147,
          148,
          149,
          150,
          151,
          152,
          153,
          154,
          155,
          156,
          157,
          158,
          159,
          160,
          161,
          162,
          163,
          164,
          165,
          166,
          167,
          168,
          169,
          170,
          171,
          172,
          173,
          174,
          175,
          176,
          177,
          178,
          179,
          180,
          181,
          182,
          183,
          184,
          185,
          186,
          187,
          188,
          189,
          190,
          191,
          192,
          193,
          194,
          195,
          196,
          197,
          198,
          199,
          200,
          201,
          202,
          203,
          204,
          205,
          206,
          207,
          208,
          209,
          210,
          211,
          212,
          213,
          214,
          215,
          216,
          217,
          218,
          219,
          220,
          221,
          222,
          223,
          224,
          225,
          226,
          227,
          228,
          229,
          230,
          231,
          232,
          233,
          234,
          235,
          236,
          237,
          238,
          239,
          240,
          241,
          242,
          243,
          244,
          245,
          246,
          247,
          248,
          249,
          250,
          251,
          252,
          253,
          254,
          255,
          256,
          257,
          258,
          259,
          260,
          261,
          262,
          263,
          264,
          265,
          266,
          267,
          268,
          269,
          270,
          271,
          272,
          273,
          274,
          275,
          276,
          277,
          278,
          279,
          280,
          281,
          282,
          283,
          284,
          285,
          286,
          287,
          288,
          289,
          290,
          291,
          292,
          293,
          294,
          295,
          296,
          297,
          298,
          299,
          300,
          301,
          302,
          303,
          304,
          305,
          306,
          307,
          308,
          309,
          310,
          311,
          312,
          313,
          314,
          315,
          316,
          317,
          318,
          319,
          320,
          321,
          322,
          323,
          324,
          325,
          326,
          327,
          328,
          329,
          330,
          331,
          332,
          333,
          334,
          335,
          336,
          337,
          338,
          339,
          340,
          341,
          342,
          343,
          344,
          345,
          346,
          347,
          348,
          349,
          350,
          351,
          352,
          353,
          354,
          355,
          356,
          357,
          358,
          359,
          360,
          361,
          362,
          363,
          364,
          365,
          366,
          367,
          368,
          369,
          370,
          371,
          372,
          373,
          374,
          375,
          376,
          377,
          378,
          379,
          380,
          381,
          382,
          383,
          384,
          385,
          386,
          387,
          388,
          389,
          390,
          391,
          392,
          393,
          394,
          395,
          396,
          397,
          398,
          399,
          400,
          401,
          402,
          403,
          404,
          405,
          406,
          407,
          408,
          409,
          410,
          411,
          412,
          413,
          414,
          415,
          416,
          417,
          418,
          419,
          420,
          421,
          422,
          423,
          424,
          425,
          426,
          427,
          428,
          429,
          430,
          431,
          432,
          433,
          434,
          435,
          436,
          437,
          438,
          439,
          440,
          441,
          442,
          443,
          444,
          445,
          446,
          447,
          448,
          449,
          450,
          451,
          452,
          453,
          454,
          455,
          456,
          457,
          458,
          459,
          460,
          461,
          462,
          463,
          464,
          465,
          466,
          467,
          468,
          469,
          470,
          471,
          472,
          473,
          474,
          475,
          476,
          477,
          478,
          479,
          480,
          481,
          482,
          483,
          484,
          485,
          486,
          487,
          488,
          489,
          490,
          491,
          492,
          493,
          494,
          495,
          496,
          497,
          498,
          499
         ],
         "y": [
          0.9220911694069152,
          0.14836447557317828,
          -0.017816419875645244,
          -0.6584636707043116,
          0.2759038083819965,
          -1.3128504925381805,
          0.07892297621125852,
          -0.9971598883308795,
          0.7041391793953687,
          -0.02935183379512334,
          -0.8703832044898656,
          0.627528008587748,
          0.5622418216264259,
          0.20964810927829577,
          -0.4373379335471964,
          0.806167327004504,
          0.8214998134209531,
          1.988608232415885,
          -0.3975881418740252,
          0.20990883831767454,
          -1.2615578553396343,
          -0.2957971987023403,
          -0.873546860991824,
          2.1361651677955122,
          0.6172234482162509,
          -0.9057158578682327,
          1.1920443242118373,
          0.8706579954455401,
          0.45620769509957665,
          0.10824206587866374,
          -0.12031620817452258,
          0.014018341494933315,
          0.5292874016077527,
          1.4458754847895265,
          -1.71916398636923,
          0.38400147524820466,
          -0.11848525751257054,
          0.1644303328293352,
          -1.3597577543217845,
          0.3992657376205738,
          2.058034712604575,
          0.4164164005758582,
          -1.5774248717673613,
          0.9772459326920768,
          -0.6235379769261528,
          0.48758524139914305,
          -1.061719470324258,
          1.4628544104354875,
          -0.5114682142551958,
          0.13063380018342713,
          -1.3006980298243476,
          -0.04747469760526564,
          -0.32802168234917817,
          -0.9945257388982979,
          0.274495347963268,
          -1.4242437068618428,
          0.4510718654955958,
          1.220064861978453,
          -0.5794659146170458,
          0.37875157406521887,
          -1.7070622564642586,
          -0.5104278174125095,
          -0.44664203685716575,
          -0.28023648695185516,
          -0.03905703377385363,
          -0.8407572446313172,
          -0.621190064277726,
          -0.5985916809956854,
          -1.2763767630372833,
          0.40913758632447406,
          0.020514028987480195,
          -0.8174836157045476,
          2.14263397601054,
          -0.008828542719405285,
          -1.2344412373611633,
          -0.4775553538025275,
          -1.4612015182350424,
          0.25220934191028,
          -1.1433243573223166,
          1.9505197355031443,
          -1.8708561597323914,
          -0.6696210452785477,
          -0.19090687066335754,
          -1.0432555103272398,
          1.0793899934953752,
          -0.9808186348939656,
          -0.6699430975877511,
          0.9683125849667559,
          1.328831423610577,
          -0.7336977338877899,
          -0.7976693609406942,
          -0.4104424216568818,
          -0.14836578759385494,
          -0.24092071325131878,
          -0.022236919432358032,
          -1.3614317462394963,
          -0.26655500824434053,
          1.3491740013426097,
          0.38689270758094624,
          0.04955138571400917,
          1.626125769262939,
          0.5007907469092472,
          -0.3165642864992084,
          -0.4631162367539478,
          1.7826548223408374,
          0.9197325894973978,
          -0.48522779062878435,
          -0.5473449521504605,
          1.1420656092130999,
          -0.8789668747975881,
          0.9517469896491794,
          0.807345437925635,
          -1.0909614857396295,
          -0.3650877728929828,
          0.4287448430024176,
          0.9953631176562969,
          1.139102617678759,
          -0.282935286264138,
          0.6841571041674734,
          1.02582801182429,
          -1.1240106013512288,
          0.20485637603556192,
          -0.3175954050281094,
          -0.1448465803790092,
          0.12936951658129756,
          -0.13271041486215565,
          0.03851917823380878,
          -0.33665220828214365,
          0.2554810934128097,
          -0.4877333665144579,
          1.2373428216879185,
          -0.07433231347097709,
          -0.21537372656913795,
          -0.7870239845107756,
          -0.34716825687495684,
          0.45256883430051575,
          -0.30400970169082503,
          1.8759714764419861,
          -1.1447817994457619,
          0.38411038890833116,
          -0.5291533990863792,
          1.1085210236799643,
          -0.9641451957433271,
          0.15417783942674465,
          0.09774832568033424,
          -0.11662799683762247,
          -1.4846589676146251,
          -0.6054097055144995,
          -0.7524143366560045,
          0.14771588201309419,
          -1.4799801177877943,
          -0.08370317546604815,
          -2.201888872678705,
          -0.6582449735625969,
          0.46857294788139414,
          1.4346176642188786,
          -0.6782862888241511,
          -1.035397503403573,
          1.0680607218824163,
          1.4656973168627954,
          -0.15656905122334394,
          1.28977136051961,
          -1.1722017186170222,
          0.22247905580667232,
          2.186719411900441,
          0.26684729488657194,
          -1.2531470514231766,
          0.8830405969851827,
          0.7282121964151053,
          -0.6106947089876537,
          -0.42854584326882544,
          -1.9108403050308989,
          0.7431433439432862,
          0.9066423555467369,
          -0.0358396449002318,
          -0.4172931739468993,
          0.29239571304567097,
          2.430959630921365,
          -0.5518748004019726,
          0.4775404964757826,
          0.2660351014799676,
          -0.43993668819359394,
          -0.21869381207870417,
          2.5989392228668553,
          0.10979743796821825,
          1.22243634588275,
          1.1745138634454604,
          0.4525287582248727,
          0.27831019077725677,
          -0.9387079542641974,
          -0.4414704483282997,
          1.7155594209325362,
          0.5119343281054025,
          0.05407401147908268,
          1.528664969166629,
          -0.22809195223265458,
          1.2448108375600957,
          0.22811940144628232,
          -0.36002908454667387,
          -0.287061112673915,
          1.8912124515773876,
          0.5180403267254065,
          -0.28641806983072327,
          0.432869722631649,
          0.2752328853924761,
          -0.7324813786816099,
          -0.09362460788958184,
          0.3656785830480036,
          0.5720891053655246,
          -1.6578450320605242,
          0.03560510304125362,
          0.08013116816848896,
          -1.2295786805889408,
          -1.0619574943338719,
          0.023310532157483944,
          -0.32865752796696945,
          0.024652553269450792,
          1.179648530832441,
          0.39939064180082273,
          -1.1237712591321627,
          0.26445248962809326,
          -0.6589560578622625,
          -0.8830594740041019,
          0.493199409813094,
          0.8067064048182769,
          -0.29853091822615424,
          0.27572066852115584,
          -0.15591925866408798,
          0.1412151191690483,
          1.0606487677515812,
          -1.0878689240997943,
          0.8596160531876681,
          0.5125727066598117,
          -0.391069141868966,
          -0.0914505242931613,
          -0.2991245810193436,
          0.4255041918280136,
          0.632613783515037,
          1.2531886352255692,
          1.1395648033851258,
          0.8605587560186613,
          -0.06297716964184095,
          -0.5713717866314584,
          -0.47310451727315267,
          -0.025953196241942186,
          1.8421741284887863,
          1.3898979782325698,
          -0.2554659462643092,
          0.8042656322986238,
          0.6872333308861572,
          0.47509376073759013,
          -0.2804606445930084,
          0.007102116128334208,
          -0.15642971754359167,
          0.11557252341026275,
          -0.453299596375475,
          -0.7695729080779632,
          3.045601192536567,
          0.3620822527599366,
          0.2195434301621929,
          -0.7200921014111391,
          1.2323724824139304,
          0.6458520157282264,
          -0.6740837974465129,
          -0.8888051882611442,
          -0.10025703613399814,
          1.360299549483017,
          -1.0020352120930154,
          1.2535181323574023,
          -0.9945899959629451,
          -0.03414252287119669,
          1.4139792341802906,
          -0.6665233243257398,
          0.4984510082001401,
          -0.7479674442853113,
          -0.5482985834535049,
          -2.317567352483934,
          1.5464739934733915,
          -0.6860604539894961,
          2.4009534217741213,
          -1.5533535078597875,
          0.6969045943152048,
          -0.8076942538514653,
          -0.851259234586169,
          0.9505045046939664,
          -0.5839633727489868,
          0.7948296419305874,
          -1.4796123518158393,
          -0.34710710076796253,
          0.8577347164320047,
          -0.0388821287476195,
          -1.6484459267715499,
          0.6746859035636065,
          0.4159986978522103,
          -0.48517653203425587,
          -0.011727429988368551,
          2.382701954641964,
          1.898756854742289,
          -2.259108888530029,
          0.7544938354078031,
          0.5702150313024797,
          -0.30077921678233144,
          2.2766130594908556,
          0.48869034842250975,
          1.3422943581753808,
          -0.3672014471655941,
          -0.5836634364331081,
          0.6510722660790514,
          0.17245520653921845,
          -0.6375939833472606,
          1.0344607229516127,
          0.8790166922344768,
          -0.4451339697350376,
          0.403715111311411,
          0.9862182706292085,
          1.435756603498926,
          2.0478373681134556,
          1.4280219362627888,
          -0.8223558620214657,
          -1.4565887845476382,
          1.084938834419856,
          1.8548148269020892,
          0.25481349696676275,
          -0.00921338585955186,
          2.788452420865787,
          -0.07139212531960616,
          -0.29355251902208,
          -0.9607356477914792,
          0.9445626779096133,
          0.4194949809555625,
          0.9799612700665258,
          0.16760041686984084,
          -0.802489394275035,
          0.33987251261865425,
          -0.17850784317597876,
          -1.1758943800366637,
          1.5438017875509382,
          0.5789295699044953,
          0.018119721112772786,
          0.73924934254872,
          -1.6038617600377838,
          0.14985920150640947,
          -2.3699643680275626,
          -0.744905167480803,
          -0.10479704145924422,
          -1.206746229244953,
          -1.8258230326375555,
          -0.9419957022242306,
          -1.1614401967115735,
          -0.9003717926294342,
          0.8536840120279819,
          2.0133768694124137,
          0.5190818059844948,
          0.0032667691314901734,
          -0.7989408637212521,
          0.3800598504381983,
          -0.04914237402806362,
          -0.7375932808130586,
          -0.02951124243516405,
          -1.055493709757641,
          2.6301146155203794,
          0.35298883956201865,
          -1.7574946941534946,
          0.41259569301049553,
          -1.0849188235813232,
          0.8229926803774368,
          -1.311559033064852,
          0.6330502847625408,
          0.07844272618101412,
          0.5752257582326098,
          -0.12278063632171242,
          0.27228039837289475,
          0.32268577182491254,
          0.7172000492763982,
          1.002844076605483,
          -0.45301365185004144,
          -1.6985847286509232,
          1.5907317673572048,
          0.659489170995198,
          -0.20533521307414898,
          -0.27061972477998103,
          -0.8973792580563812,
          0.08677902408882053,
          0.47670323611635423,
          1.3210431987263074,
          1.2701560109536514,
          -0.3570052837070094,
          -1.2749719247822404,
          -0.4484524594027343,
          -1.2144581183684895,
          -1.9752104764905272,
          -0.8474107336772247,
          -0.0573289170244425,
          1.0714006624367487,
          -1.3203173445551164,
          -1.419289134582506,
          0.34703753450925906,
          0.5245818632790429,
          -1.4205165557942903,
          0.6435037629982909,
          -0.16111860186210972,
          -0.18948026669948065,
          1.3743487610969238,
          -0.46931061503130694,
          -0.7331976220737848,
          -0.29854274558321237,
          0.12960936778326415,
          1.3550072803266433,
          1.4632505222379686,
          1.2875072291341394,
          -0.22271760929473358,
          -0.7011261626833123,
          -1.8885918640649242,
          -0.015365468565318775,
          0.18781693812488517,
          0.9563604058015274,
          -0.2579767630283166,
          0.5901592585419512,
          -0.5702643936833387,
          0.7279654389843567,
          -1.1601691502785816,
          -0.2228319439825464,
          0.5456683284253406,
          0.047508288550559344,
          0.013663225827585482,
          0.1249974071468572,
          1.7581042921316563,
          -1.365413482534631,
          -0.07776389692227137,
          0.9402864155449181,
          -0.22832235611168902,
          -1.9173809126082924,
          0.4826349395856876,
          1.3124207322683912,
          0.7153285473387457,
          0.1428467132473311,
          0.6276139171641789,
          0.22874797767500746,
          -0.04142296100206345,
          0.3614542853599989,
          0.20736615765322164,
          -0.3083614022579619,
          0.43685492340766274,
          0.00912685968296336,
          -1.2097198327755467,
          0.10322396246463876,
          -1.7223881110913357,
          0.11708836286530483,
          -0.48202418618220233,
          0.8900994139826567,
          0.9354452483813903,
          0.8211752311071825,
          -0.27515627132516834,
          -0.9680741668146783,
          -0.8705377993857697,
          -0.6479505348467585,
          -0.9832420720091883,
          1.4133404052735257,
          1.466904827946865,
          -0.8424046614631647,
          -0.48459226231476527,
          0.08742341142985526,
          0.6413979185734231,
          0.22034796676725382,
          -0.5030008611022889,
          1.0442368666921418,
          1.0220657872911707,
          0.7747920216500133,
          -1.4495849249711787,
          0.2336518459619579,
          0.7133972431046575,
          -0.8659764501760524,
          -1.2833017603703185,
          -0.6744590721725239,
          -0.6044145862842352,
          1.0353727456658732,
          -1.2397835990737727,
          -0.21047524087678968,
          -0.6196066316094904,
          -0.7848090337703844,
          0.3422234152998713,
          0.455491998400322,
          -0.6048685848465334,
          0.11116598548956778,
          0.08442570009145775,
          0.11551343589772099,
          -0.8334196073871623,
          0.040801008781421504,
          0.8499413460785487,
          -0.42068547318590477,
          0.9025277841762412,
          0.2427152686700248,
          -0.6422929111845358,
          1.0587254485958728,
          1.1914367211265702,
          0.493966366214458,
          0.019160850891316212,
          1.2163268611394693,
          -0.6688330704049009,
          -1.8846701497990694
         ]
        },
        {
         "line": {
          "color": "rgba(128, 0, 128, 1.0)",
          "dash": "solid",
          "shape": "linear",
          "width": 1.3
         },
         "mode": "lines",
         "name": "D",
         "text": "",
         "type": "scatter",
         "x": [
          0,
          1,
          2,
          3,
          4,
          5,
          6,
          7,
          8,
          9,
          10,
          11,
          12,
          13,
          14,
          15,
          16,
          17,
          18,
          19,
          20,
          21,
          22,
          23,
          24,
          25,
          26,
          27,
          28,
          29,
          30,
          31,
          32,
          33,
          34,
          35,
          36,
          37,
          38,
          39,
          40,
          41,
          42,
          43,
          44,
          45,
          46,
          47,
          48,
          49,
          50,
          51,
          52,
          53,
          54,
          55,
          56,
          57,
          58,
          59,
          60,
          61,
          62,
          63,
          64,
          65,
          66,
          67,
          68,
          69,
          70,
          71,
          72,
          73,
          74,
          75,
          76,
          77,
          78,
          79,
          80,
          81,
          82,
          83,
          84,
          85,
          86,
          87,
          88,
          89,
          90,
          91,
          92,
          93,
          94,
          95,
          96,
          97,
          98,
          99,
          100,
          101,
          102,
          103,
          104,
          105,
          106,
          107,
          108,
          109,
          110,
          111,
          112,
          113,
          114,
          115,
          116,
          117,
          118,
          119,
          120,
          121,
          122,
          123,
          124,
          125,
          126,
          127,
          128,
          129,
          130,
          131,
          132,
          133,
          134,
          135,
          136,
          137,
          138,
          139,
          140,
          141,
          142,
          143,
          144,
          145,
          146,
          147,
          148,
          149,
          150,
          151,
          152,
          153,
          154,
          155,
          156,
          157,
          158,
          159,
          160,
          161,
          162,
          163,
          164,
          165,
          166,
          167,
          168,
          169,
          170,
          171,
          172,
          173,
          174,
          175,
          176,
          177,
          178,
          179,
          180,
          181,
          182,
          183,
          184,
          185,
          186,
          187,
          188,
          189,
          190,
          191,
          192,
          193,
          194,
          195,
          196,
          197,
          198,
          199,
          200,
          201,
          202,
          203,
          204,
          205,
          206,
          207,
          208,
          209,
          210,
          211,
          212,
          213,
          214,
          215,
          216,
          217,
          218,
          219,
          220,
          221,
          222,
          223,
          224,
          225,
          226,
          227,
          228,
          229,
          230,
          231,
          232,
          233,
          234,
          235,
          236,
          237,
          238,
          239,
          240,
          241,
          242,
          243,
          244,
          245,
          246,
          247,
          248,
          249,
          250,
          251,
          252,
          253,
          254,
          255,
          256,
          257,
          258,
          259,
          260,
          261,
          262,
          263,
          264,
          265,
          266,
          267,
          268,
          269,
          270,
          271,
          272,
          273,
          274,
          275,
          276,
          277,
          278,
          279,
          280,
          281,
          282,
          283,
          284,
          285,
          286,
          287,
          288,
          289,
          290,
          291,
          292,
          293,
          294,
          295,
          296,
          297,
          298,
          299,
          300,
          301,
          302,
          303,
          304,
          305,
          306,
          307,
          308,
          309,
          310,
          311,
          312,
          313,
          314,
          315,
          316,
          317,
          318,
          319,
          320,
          321,
          322,
          323,
          324,
          325,
          326,
          327,
          328,
          329,
          330,
          331,
          332,
          333,
          334,
          335,
          336,
          337,
          338,
          339,
          340,
          341,
          342,
          343,
          344,
          345,
          346,
          347,
          348,
          349,
          350,
          351,
          352,
          353,
          354,
          355,
          356,
          357,
          358,
          359,
          360,
          361,
          362,
          363,
          364,
          365,
          366,
          367,
          368,
          369,
          370,
          371,
          372,
          373,
          374,
          375,
          376,
          377,
          378,
          379,
          380,
          381,
          382,
          383,
          384,
          385,
          386,
          387,
          388,
          389,
          390,
          391,
          392,
          393,
          394,
          395,
          396,
          397,
          398,
          399,
          400,
          401,
          402,
          403,
          404,
          405,
          406,
          407,
          408,
          409,
          410,
          411,
          412,
          413,
          414,
          415,
          416,
          417,
          418,
          419,
          420,
          421,
          422,
          423,
          424,
          425,
          426,
          427,
          428,
          429,
          430,
          431,
          432,
          433,
          434,
          435,
          436,
          437,
          438,
          439,
          440,
          441,
          442,
          443,
          444,
          445,
          446,
          447,
          448,
          449,
          450,
          451,
          452,
          453,
          454,
          455,
          456,
          457,
          458,
          459,
          460,
          461,
          462,
          463,
          464,
          465,
          466,
          467,
          468,
          469,
          470,
          471,
          472,
          473,
          474,
          475,
          476,
          477,
          478,
          479,
          480,
          481,
          482,
          483,
          484,
          485,
          486,
          487,
          488,
          489,
          490,
          491,
          492,
          493,
          494,
          495,
          496,
          497,
          498,
          499
         ],
         "y": [
          0.2368150873619006,
          0.15326634396288585,
          -0.7200298756684526,
          -1.01163513885463,
          -0.38161070197940017,
          -1.372529585653803,
          -0.9621157004232631,
          0.9498423277132721,
          0.2921052799655276,
          1.64830263330383,
          -0.3269032177752567,
          -0.7399905237461355,
          0.8891433061687039,
          1.2563426921920937,
          -0.9670412614794054,
          2.2434451242426334,
          0.3204207682211625,
          0.10607002243585302,
          0.10282387955271609,
          0.20987945169443412,
          -0.48961292431746223,
          2.736078134074456,
          -0.7596642482747243,
          2.0840111526550515,
          1.6625074980743457,
          0.23358726479203873,
          -0.07475488930655838,
          -1.285947988708988,
          -0.06774554118100017,
          1.556834576055044,
          -0.062102593814048326,
          0.07266582351703005,
          0.6531023403330972,
          0.21826020271644322,
          0.4051986338008625,
          0.6980726892127668,
          -0.08564192470061167,
          0.32288635586939,
          1.8480443809543814,
          0.8513913587925882,
          -1.0562482636354886,
          -0.8471967127703255,
          -0.3916668280564733,
          0.21136030960209737,
          -1.0342195077286696,
          -0.47436877076284034,
          2.133106907609308,
          -0.9124562885070545,
          -0.3539904177862304,
          -0.01892669958611769,
          -0.5831477949669034,
          0.7383055352776308,
          0.12178037533677828,
          -1.2333615901627757,
          -1.312849536735822,
          -1.5857992428728067,
          2.1016191547383114,
          0.8630051495108296,
          -1.0735780812840006,
          0.6535629551855013,
          -0.8202148846453614,
          0.8246460016536702,
          0.16662061604475872,
          -0.06959019587016031,
          0.08474234840654415,
          -0.6701742374876497,
          0.6742682452829133,
          1.053225992770241,
          -0.19980774946238936,
          0.11539341791055742,
          0.08095175908095865,
          0.7145032519139668,
          -0.15479068012296693,
          -0.18700595506906226,
          0.21545511055224112,
          1.0650207646484497,
          0.07150511811786767,
          -0.045864970918570246,
          -0.4512385906421965,
          -0.10166745237183507,
          -1.4316821184871111,
          -2.7380211323146306,
          0.8180233337064482,
          -0.4994511918143605,
          -2.4043828999681183,
          -1.1395643797626336,
          0.03179022302553748,
          -0.01812629979441633,
          1.0819779409412478,
          -0.708297735508812,
          -1.884492982858543,
          1.5325943616146824,
          1.9493000564490703,
          0.23733734800731313,
          -0.2970745980835244,
          -0.7864408792273413,
          0.9900462374535264,
          -0.48993231346208954,
          1.755657648874985,
          -1.7878933254288187,
          0.7904824140628962,
          -0.1387912867158326,
          1.1125997896524007,
          0.4466284093939971,
          1.3377970349951813,
          -1.5167312631098857,
          -0.3527989683391722,
          0.8450892879594704,
          0.44144997380599266,
          0.3112389700131346,
          -1.620986225796458,
          -0.10532568953539652,
          0.9621681876232612,
          0.26603811216623957,
          -0.7278819321154157,
          0.8557633933301175,
          0.21373046555661973,
          -1.9216608630905474,
          0.07124626079810054,
          0.5636295122576199,
          -0.09785433992800284,
          0.7171242209408782,
          -0.8234828692219782,
          -0.31049124523756266,
          1.0815727725968625,
          0.9322558767158597,
          1.0051448675074062,
          0.5147418325805265,
          1.132474332383901,
          -0.9577730705454137,
          0.1274731965439913,
          1.3607833721636429,
          -2.031349680993669,
          -1.4179174055135106,
          -0.5802132172377643,
          0.46512383755459596,
          0.769741053165253,
          -0.5268394647808874,
          -1.474722501836746,
          -0.10544730057266748,
          -0.12375734928948648,
          -0.2837510868317904,
          -0.3776030297047196,
          -1.0055196995558144,
          0.7397831703608402,
          -0.21382613291823613,
          -1.110158674711503,
          0.6536299518088545,
          1.8560300205580025,
          -0.22949167315478186,
          -0.6652377215639678,
          -1.8223567498937627,
          -0.8437036010599748,
          -0.7794639637425111,
          1.378770524567123,
          -0.8787447391959187,
          -0.06759996514266496,
          0.7869666748209092,
          -0.2853667830900193,
          1.503426340774217,
          -0.45306797568302104,
          0.12313898720717087,
          -2.1337303896365736,
          0.9527239208644198,
          0.5361866020066929,
          -0.31683954258425473,
          1.4856708456649141,
          0.25312497953325175,
          -0.621879305291454,
          -0.9628828587530323,
          0.3366107107320239,
          0.9038751668462113,
          1.9683113193177837,
          0.3647378382498198,
          0.9532860121288194,
          -0.14877645274271495,
          0.4718795530392423,
          -0.10197882301394859,
          0.6791396626072205,
          -1.5972721483802235,
          1.9459871243086975,
          -0.2909229012581445,
          0.38358279044873445,
          0.6856110204445703,
          -1.2872866113996893,
          1.5801098372998337,
          -0.345830839657898,
          0.5394454397252728,
          -1.144824644941274,
          0.2822162131726958,
          0.41527798106905595,
          -0.8363710782871023,
          -0.7891100080854799,
          0.0987548102416055,
          -0.9082942747068138,
          2.1682450119739687,
          0.008674867849282909,
          1.5867207686043467,
          0.375859843615774,
          1.6205759114546434,
          -0.6220493576852684,
          -0.6052351948454991,
          2.078311254829741,
          0.6766740800475627,
          -1.21945327693854,
          2.105282290819725,
          0.6625174918288212,
          -0.5520987644202794,
          -1.7557554235007398,
          0.6131934852748897,
          0.45941430189989535,
          0.5469026891603647,
          0.7726060371444358,
          0.038745617098979,
          0.4029521352947174,
          0.59667864550513,
          0.6394468486557562,
          0.03585263709459713,
          -0.30132295712647683,
          -0.9736496437983283,
          0.8684284681530144,
          0.45435969427651257,
          -0.41894917882778354,
          2.3996138388959625,
          0.13016686731748311,
          0.7014401771582283,
          -0.7514807578730582,
          -0.0703342885228187,
          -0.4105062121026977,
          1.1920394200746205,
          0.08445451518422463,
          -0.2025163746246574,
          1.875222541601167,
          -0.5989719779031201,
          -0.4105244325548731,
          -0.36255323646150084,
          -0.5365332726513887,
          0.16514441044170372,
          -0.15366747965434072,
          -1.1511640040344266,
          -0.4776382620296741,
          -0.248159010063528,
          -1.060136689754345,
          1.1775952611593365,
          0.5735557786356392,
          -1.3441547997680352,
          1.6915339089939418,
          0.016696622556028547,
          -0.26520167847816317,
          -0.5857148182200784,
          -0.4436374040827791,
          -0.5967148286534908,
          -2.0351354773210564,
          -0.6976623744585153,
          -0.5817199783204294,
          0.3962559413654138,
          -0.4132544997469191,
          -0.2729093781805246,
          0.3788744395312149,
          0.5246440988408595,
          0.21900962423386025,
          0.13846477721169534,
          0.7733237501369795,
          -0.4269716117244673,
          -1.774756512093707,
          -0.7913320725597334,
          -0.7604590762973202,
          1.0064206568214757,
          0.8173135439501026,
          0.2835310903393199,
          -0.4077795631538277,
          1.7004184578092958,
          -1.0923076735862849,
          1.4170695177987764,
          -0.06498282375869908,
          -0.7630196039036529,
          1.1899763888301635,
          -1.3137952469376586,
          0.04614970070655324,
          0.1478120840100369,
          -1.1154839533255734,
          0.8208781284469043,
          -0.015615108336519289,
          0.4542724587085309,
          -0.01078074600431685,
          -1.1545110313870102,
          -1.7764969509292745,
          0.6208306257500967,
          -0.3929576392349645,
          0.3714661965687448,
          -1.2820510092011643,
          0.5384800691403969,
          0.4198149045529836,
          1.641731336056215,
          -0.4594229812620825,
          -0.944265170175422,
          -1.9888377567757545,
          -0.10422511899635255,
          1.3592302834730288,
          -0.6895090440861636,
          -1.9921105922526858,
          -0.058510118356772584,
          0.08117545002670466,
          -0.7094489007189255,
          1.3008084440937275,
          0.16956253492086343,
          -1.0014644820759304,
          -0.25961232172184584,
          -2.090605931759697,
          1.209352832754878,
          0.95445025714465,
          0.20623168709571943,
          0.15076285771507894,
          -0.8160152566808745,
          -1.9615705425837606,
          -0.8751914103271305,
          0.754089407763497,
          1.4078369302972755,
          -0.10001832472771952,
          -0.7520289661044354,
          -0.6738441687702621,
          -0.0673594408867785,
          -0.32852581566216826,
          -0.25258733831344377,
          -0.4462509922484799,
          1.4510613953738045,
          1.0090117373301335,
          0.9809842629906007,
          0.8654959300737188,
          1.299111315561622,
          0.7211784797654185,
          0.7703081735799076,
          -1.4105329100831419,
          1.1467205765964805,
          0.10233042372592181,
          -1.393386673542929,
          -0.44588060913438005,
          -1.9480190475286596,
          -0.7384506575014999,
          0.20252930145745657,
          1.586064652085236,
          -1.1761006956237772,
          -1.0773273761416802,
          -1.1605388614829866,
          -1.4913779180967552,
          -0.7550221396272815,
          -0.5576166938373778,
          -0.09208667370830664,
          -0.8594126523914902,
          2.427562649531509,
          0.14372138205473883,
          -1.2610464985690502,
          1.2212866492566101,
          -0.11747150062602071,
          -0.13942542543992797,
          -0.08449696740141971,
          0.5501714229007804,
          0.1035966338364252,
          -0.07068518205969197,
          -0.47644579196107734,
          0.07706670930628945,
          1.190732961432969,
          0.6934480257594096,
          0.46636043616016404,
          -0.8568186922217378,
          0.8885682507467603,
          -0.002868754346338099,
          -1.0473823447401975,
          -0.019781716814244395,
          0.08164209617053143,
          0.05095183646085085,
          1.1115067823072395,
          0.26754729173018693,
          -2.643556503998431,
          -0.634661318300778,
          1.700965443457737,
          0.7681097744355195,
          -0.0002915698977350753,
          0.5425087029057125,
          -0.19107722823615073,
          0.4754898992416501,
          1.1119891901221408,
          -1.350779314007087,
          1.1840481566614414,
          0.3220604507282501,
          1.6228998918144735,
          -1.4853520788229608,
          -1.8681505016534263,
          -0.9334334338274148,
          -0.7890121818640046,
          0.7009774459626509,
          -0.14875864381666465,
          -1.3584138310311735,
          -0.655147021948073,
          2.435900349322354,
          0.3080797435799958,
          0.9856783442741043,
          0.4054609700760996,
          1.4978100188716799,
          -0.5087237204705086,
          -0.9779554406989923,
          0.3725423863310618,
          1.2937477714827705,
          0.4889841035491341,
          0.06067254942595004,
          -0.2349776125607095,
          1.1531626460929787,
          -0.46638432481415104,
          0.3962638207149185,
          1.1366846379889575,
          -1.630707075187233,
          1.518113229538493,
          -1.887433014484992,
          -1.094184893494811,
          0.7127572636935509,
          -0.09444118341341232,
          0.48072757870566685,
          1.2566025246713768,
          -0.12841282139269344,
          -1.3716924851194066,
          0.4540643143176696,
          -0.30648437491837227,
          1.161773518473166,
          -0.3576654157081193,
          0.7042516898399832,
          -1.3572638858746755,
          1.0753617160468283,
          -2.1734694603172713,
          0.8628793377626424,
          1.9331471412580652,
          -0.4715862554157834,
          -0.15271202827595196,
          0.37994233388832443,
          0.9396412684225307,
          0.27958990938116884,
          -0.23554990104822726,
          -2.552944410773581,
          1.314842184757068,
          -0.7738871853708631,
          -0.730218265475295,
          -1.0022486613575876,
          0.6958727303645778,
          0.1010033352581799,
          0.13279567162349035,
          0.07724730777344746,
          1.6552742343740676,
          -1.157578556230859,
          0.07858279718222029,
          -0.3719165434426983,
          0.3206147918930284,
          0.05779328996374325,
          0.6887144667527636,
          2.075438301924711,
          0.6923574480135772,
          1.7582322024175048,
          -0.2912618953698951,
          -1.1439733090849877,
          -1.537926995241701,
          0.47513794652368946,
          -0.362695995976741,
          -0.36376023940099866,
          -0.13870320888046705,
          1.240340864359662,
          -0.39069676333022824,
          -0.9688446097221273,
          1.4021409318828915,
          -0.8812425925987593,
          -0.15670679268849794,
          -0.539797913142098,
          1.071537541551203,
          0.06466774357162292,
          0.9909028045959679,
          0.09071015710331945,
          1.1466968152824226,
          1.905495008644417,
          -0.7538333949746019,
          1.4770006898411752,
          -0.09812592551325358,
          1.3997171459595272,
          1.408222930046248,
          -1.4286142426823405,
          0.5765648761641587,
          -0.1944580993769544,
          0.9565082022777497,
          0.09906196509263247,
          0.6192278649279873,
          -1.360855303542636,
          0.7729894700896965,
          -0.8396984723351454,
          1.4157937512219572,
          -0.21842360450459625,
          -0.24638896134133734,
          0.20803272294568032,
          0.6723557416737084,
          -1.6637031602771444,
          -2.9220351215208633,
          -1.1591824760850769,
          -0.8567034549273138,
          0.21984428244613446,
          -0.7139403013554955
         ]
        }
       ],
       "layout": {
        "legend": {
         "bgcolor": "#F5F6F9",
         "font": {
          "color": "#4D5663"
         }
        },
        "paper_bgcolor": "#F5F6F9",
        "plot_bgcolor": "#F5F6F9",
        "template": {
         "data": {
          "bar": [
           {
            "error_x": {
             "color": "#2a3f5f"
            },
            "error_y": {
             "color": "#2a3f5f"
            },
            "marker": {
             "line": {
              "color": "#E5ECF6",
              "width": 0.5
             },
             "pattern": {
              "fillmode": "overlay",
              "size": 10,
              "solidity": 0.2
             }
            },
            "type": "bar"
           }
          ],
          "barpolar": [
           {
            "marker": {
             "line": {
              "color": "#E5ECF6",
              "width": 0.5
             },
             "pattern": {
              "fillmode": "overlay",
              "size": 10,
              "solidity": 0.2
             }
            },
            "type": "barpolar"
           }
          ],
          "carpet": [
           {
            "aaxis": {
             "endlinecolor": "#2a3f5f",
             "gridcolor": "white",
             "linecolor": "white",
             "minorgridcolor": "white",
             "startlinecolor": "#2a3f5f"
            },
            "baxis": {
             "endlinecolor": "#2a3f5f",
             "gridcolor": "white",
             "linecolor": "white",
             "minorgridcolor": "white",
             "startlinecolor": "#2a3f5f"
            },
            "type": "carpet"
           }
          ],
          "choropleth": [
           {
            "colorbar": {
             "outlinewidth": 0,
             "ticks": ""
            },
            "type": "choropleth"
           }
          ],
          "contour": [
           {
            "colorbar": {
             "outlinewidth": 0,
             "ticks": ""
            },
            "colorscale": [
             [
              0,
              "#0d0887"
             ],
             [
              0.1111111111111111,
              "#46039f"
             ],
             [
              0.2222222222222222,
              "#7201a8"
             ],
             [
              0.3333333333333333,
              "#9c179e"
             ],
             [
              0.4444444444444444,
              "#bd3786"
             ],
             [
              0.5555555555555556,
              "#d8576b"
             ],
             [
              0.6666666666666666,
              "#ed7953"
             ],
             [
              0.7777777777777778,
              "#fb9f3a"
             ],
             [
              0.8888888888888888,
              "#fdca26"
             ],
             [
              1,
              "#f0f921"
             ]
            ],
            "type": "contour"
           }
          ],
          "contourcarpet": [
           {
            "colorbar": {
             "outlinewidth": 0,
             "ticks": ""
            },
            "type": "contourcarpet"
           }
          ],
          "heatmap": [
           {
            "colorbar": {
             "outlinewidth": 0,
             "ticks": ""
            },
            "colorscale": [
             [
              0,
              "#0d0887"
             ],
             [
              0.1111111111111111,
              "#46039f"
             ],
             [
              0.2222222222222222,
              "#7201a8"
             ],
             [
              0.3333333333333333,
              "#9c179e"
             ],
             [
              0.4444444444444444,
              "#bd3786"
             ],
             [
              0.5555555555555556,
              "#d8576b"
             ],
             [
              0.6666666666666666,
              "#ed7953"
             ],
             [
              0.7777777777777778,
              "#fb9f3a"
             ],
             [
              0.8888888888888888,
              "#fdca26"
             ],
             [
              1,
              "#f0f921"
             ]
            ],
            "type": "heatmap"
           }
          ],
          "heatmapgl": [
           {
            "colorbar": {
             "outlinewidth": 0,
             "ticks": ""
            },
            "colorscale": [
             [
              0,
              "#0d0887"
             ],
             [
              0.1111111111111111,
              "#46039f"
             ],
             [
              0.2222222222222222,
              "#7201a8"
             ],
             [
              0.3333333333333333,
              "#9c179e"
             ],
             [
              0.4444444444444444,
              "#bd3786"
             ],
             [
              0.5555555555555556,
              "#d8576b"
             ],
             [
              0.6666666666666666,
              "#ed7953"
             ],
             [
              0.7777777777777778,
              "#fb9f3a"
             ],
             [
              0.8888888888888888,
              "#fdca26"
             ],
             [
              1,
              "#f0f921"
             ]
            ],
            "type": "heatmapgl"
           }
          ],
          "histogram": [
           {
            "marker": {
             "pattern": {
              "fillmode": "overlay",
              "size": 10,
              "solidity": 0.2
             }
            },
            "type": "histogram"
           }
          ],
          "histogram2d": [
           {
            "colorbar": {
             "outlinewidth": 0,
             "ticks": ""
            },
            "colorscale": [
             [
              0,
              "#0d0887"
             ],
             [
              0.1111111111111111,
              "#46039f"
             ],
             [
              0.2222222222222222,
              "#7201a8"
             ],
             [
              0.3333333333333333,
              "#9c179e"
             ],
             [
              0.4444444444444444,
              "#bd3786"
             ],
             [
              0.5555555555555556,
              "#d8576b"
             ],
             [
              0.6666666666666666,
              "#ed7953"
             ],
             [
              0.7777777777777778,
              "#fb9f3a"
             ],
             [
              0.8888888888888888,
              "#fdca26"
             ],
             [
              1,
              "#f0f921"
             ]
            ],
            "type": "histogram2d"
           }
          ],
          "histogram2dcontour": [
           {
            "colorbar": {
             "outlinewidth": 0,
             "ticks": ""
            },
            "colorscale": [
             [
              0,
              "#0d0887"
             ],
             [
              0.1111111111111111,
              "#46039f"
             ],
             [
              0.2222222222222222,
              "#7201a8"
             ],
             [
              0.3333333333333333,
              "#9c179e"
             ],
             [
              0.4444444444444444,
              "#bd3786"
             ],
             [
              0.5555555555555556,
              "#d8576b"
             ],
             [
              0.6666666666666666,
              "#ed7953"
             ],
             [
              0.7777777777777778,
              "#fb9f3a"
             ],
             [
              0.8888888888888888,
              "#fdca26"
             ],
             [
              1,
              "#f0f921"
             ]
            ],
            "type": "histogram2dcontour"
           }
          ],
          "mesh3d": [
           {
            "colorbar": {
             "outlinewidth": 0,
             "ticks": ""
            },
            "type": "mesh3d"
           }
          ],
          "parcoords": [
           {
            "line": {
             "colorbar": {
              "outlinewidth": 0,
              "ticks": ""
             }
            },
            "type": "parcoords"
           }
          ],
          "pie": [
           {
            "automargin": true,
            "type": "pie"
           }
          ],
          "scatter": [
           {
            "marker": {
             "colorbar": {
              "outlinewidth": 0,
              "ticks": ""
             }
            },
            "type": "scatter"
           }
          ],
          "scatter3d": [
           {
            "line": {
             "colorbar": {
              "outlinewidth": 0,
              "ticks": ""
             }
            },
            "marker": {
             "colorbar": {
              "outlinewidth": 0,
              "ticks": ""
             }
            },
            "type": "scatter3d"
           }
          ],
          "scattercarpet": [
           {
            "marker": {
             "colorbar": {
              "outlinewidth": 0,
              "ticks": ""
             }
            },
            "type": "scattercarpet"
           }
          ],
          "scattergeo": [
           {
            "marker": {
             "colorbar": {
              "outlinewidth": 0,
              "ticks": ""
             }
            },
            "type": "scattergeo"
           }
          ],
          "scattergl": [
           {
            "marker": {
             "colorbar": {
              "outlinewidth": 0,
              "ticks": ""
             }
            },
            "type": "scattergl"
           }
          ],
          "scattermapbox": [
           {
            "marker": {
             "colorbar": {
              "outlinewidth": 0,
              "ticks": ""
             }
            },
            "type": "scattermapbox"
           }
          ],
          "scatterpolar": [
           {
            "marker": {
             "colorbar": {
              "outlinewidth": 0,
              "ticks": ""
             }
            },
            "type": "scatterpolar"
           }
          ],
          "scatterpolargl": [
           {
            "marker": {
             "colorbar": {
              "outlinewidth": 0,
              "ticks": ""
             }
            },
            "type": "scatterpolargl"
           }
          ],
          "scatterternary": [
           {
            "marker": {
             "colorbar": {
              "outlinewidth": 0,
              "ticks": ""
             }
            },
            "type": "scatterternary"
           }
          ],
          "surface": [
           {
            "colorbar": {
             "outlinewidth": 0,
             "ticks": ""
            },
            "colorscale": [
             [
              0,
              "#0d0887"
             ],
             [
              0.1111111111111111,
              "#46039f"
             ],
             [
              0.2222222222222222,
              "#7201a8"
             ],
             [
              0.3333333333333333,
              "#9c179e"
             ],
             [
              0.4444444444444444,
              "#bd3786"
             ],
             [
              0.5555555555555556,
              "#d8576b"
             ],
             [
              0.6666666666666666,
              "#ed7953"
             ],
             [
              0.7777777777777778,
              "#fb9f3a"
             ],
             [
              0.8888888888888888,
              "#fdca26"
             ],
             [
              1,
              "#f0f921"
             ]
            ],
            "type": "surface"
           }
          ],
          "table": [
           {
            "cells": {
             "fill": {
              "color": "#EBF0F8"
             },
             "line": {
              "color": "white"
             }
            },
            "header": {
             "fill": {
              "color": "#C8D4E3"
             },
             "line": {
              "color": "white"
             }
            },
            "type": "table"
           }
          ]
         },
         "layout": {
          "annotationdefaults": {
           "arrowcolor": "#2a3f5f",
           "arrowhead": 0,
           "arrowwidth": 1
          },
          "autotypenumbers": "strict",
          "coloraxis": {
           "colorbar": {
            "outlinewidth": 0,
            "ticks": ""
           }
          },
          "colorscale": {
           "diverging": [
            [
             0,
             "#8e0152"
            ],
            [
             0.1,
             "#c51b7d"
            ],
            [
             0.2,
             "#de77ae"
            ],
            [
             0.3,
             "#f1b6da"
            ],
            [
             0.4,
             "#fde0ef"
            ],
            [
             0.5,
             "#f7f7f7"
            ],
            [
             0.6,
             "#e6f5d0"
            ],
            [
             0.7,
             "#b8e186"
            ],
            [
             0.8,
             "#7fbc41"
            ],
            [
             0.9,
             "#4d9221"
            ],
            [
             1,
             "#276419"
            ]
           ],
           "sequential": [
            [
             0,
             "#0d0887"
            ],
            [
             0.1111111111111111,
             "#46039f"
            ],
            [
             0.2222222222222222,
             "#7201a8"
            ],
            [
             0.3333333333333333,
             "#9c179e"
            ],
            [
             0.4444444444444444,
             "#bd3786"
            ],
            [
             0.5555555555555556,
             "#d8576b"
            ],
            [
             0.6666666666666666,
             "#ed7953"
            ],
            [
             0.7777777777777778,
             "#fb9f3a"
            ],
            [
             0.8888888888888888,
             "#fdca26"
            ],
            [
             1,
             "#f0f921"
            ]
           ],
           "sequentialminus": [
            [
             0,
             "#0d0887"
            ],
            [
             0.1111111111111111,
             "#46039f"
            ],
            [
             0.2222222222222222,
             "#7201a8"
            ],
            [
             0.3333333333333333,
             "#9c179e"
            ],
            [
             0.4444444444444444,
             "#bd3786"
            ],
            [
             0.5555555555555556,
             "#d8576b"
            ],
            [
             0.6666666666666666,
             "#ed7953"
            ],
            [
             0.7777777777777778,
             "#fb9f3a"
            ],
            [
             0.8888888888888888,
             "#fdca26"
            ],
            [
             1,
             "#f0f921"
            ]
           ]
          },
          "colorway": [
           "#636efa",
           "#EF553B",
           "#00cc96",
           "#ab63fa",
           "#FFA15A",
           "#19d3f3",
           "#FF6692",
           "#B6E880",
           "#FF97FF",
           "#FECB52"
          ],
          "font": {
           "color": "#2a3f5f"
          },
          "geo": {
           "bgcolor": "white",
           "lakecolor": "white",
           "landcolor": "#E5ECF6",
           "showlakes": true,
           "showland": true,
           "subunitcolor": "white"
          },
          "hoverlabel": {
           "align": "left"
          },
          "hovermode": "closest",
          "mapbox": {
           "style": "light"
          },
          "paper_bgcolor": "white",
          "plot_bgcolor": "#E5ECF6",
          "polar": {
           "angularaxis": {
            "gridcolor": "white",
            "linecolor": "white",
            "ticks": ""
           },
           "bgcolor": "#E5ECF6",
           "radialaxis": {
            "gridcolor": "white",
            "linecolor": "white",
            "ticks": ""
           }
          },
          "scene": {
           "xaxis": {
            "backgroundcolor": "#E5ECF6",
            "gridcolor": "white",
            "gridwidth": 2,
            "linecolor": "white",
            "showbackground": true,
            "ticks": "",
            "zerolinecolor": "white"
           },
           "yaxis": {
            "backgroundcolor": "#E5ECF6",
            "gridcolor": "white",
            "gridwidth": 2,
            "linecolor": "white",
            "showbackground": true,
            "ticks": "",
            "zerolinecolor": "white"
           },
           "zaxis": {
            "backgroundcolor": "#E5ECF6",
            "gridcolor": "white",
            "gridwidth": 2,
            "linecolor": "white",
            "showbackground": true,
            "ticks": "",
            "zerolinecolor": "white"
           }
          },
          "shapedefaults": {
           "line": {
            "color": "#2a3f5f"
           }
          },
          "ternary": {
           "aaxis": {
            "gridcolor": "white",
            "linecolor": "white",
            "ticks": ""
           },
           "baxis": {
            "gridcolor": "white",
            "linecolor": "white",
            "ticks": ""
           },
           "bgcolor": "#E5ECF6",
           "caxis": {
            "gridcolor": "white",
            "linecolor": "white",
            "ticks": ""
           }
          },
          "title": {
           "x": 0.05
          },
          "xaxis": {
           "automargin": true,
           "gridcolor": "white",
           "linecolor": "white",
           "ticks": "",
           "title": {
            "standoff": 15
           },
           "zerolinecolor": "white",
           "zerolinewidth": 2
          },
          "yaxis": {
           "automargin": true,
           "gridcolor": "white",
           "linecolor": "white",
           "ticks": "",
           "title": {
            "standoff": 15
           },
           "zerolinecolor": "white",
           "zerolinewidth": 2
          }
         }
        },
        "title": {
         "font": {
          "color": "#4D5663"
         }
        },
        "xaxis": {
         "gridcolor": "#E1E5ED",
         "showgrid": true,
         "tickfont": {
          "color": "#4D5663"
         },
         "title": {
          "font": {
           "color": "#4D5663"
          },
          "text": ""
         },
         "zerolinecolor": "#E1E5ED"
        },
        "yaxis": {
         "gridcolor": "#E1E5ED",
         "showgrid": true,
         "tickfont": {
          "color": "#4D5663"
         },
         "title": {
          "font": {
           "color": "#4D5663"
          },
          "text": ""
         },
         "zerolinecolor": "#E1E5ED"
        }
       }
      },
      "text/html": [
       "<div>                            <div id=\"35fd3306-e2d4-44ed-af79-fad483cc55db\" class=\"plotly-graph-div\" style=\"height:525px; width:100%;\"></div>            <script type=\"text/javascript\">                require([\"plotly\"], function(Plotly) {                    window.PLOTLYENV=window.PLOTLYENV || {};\n",
       "                    window.PLOTLYENV.BASE_URL='https://plot.ly';                                    if (document.getElementById(\"35fd3306-e2d4-44ed-af79-fad483cc55db\")) {                    Plotly.newPlot(                        \"35fd3306-e2d4-44ed-af79-fad483cc55db\",                        [{\"line\":{\"color\":\"rgba(255, 153, 51, 1.0)\",\"dash\":\"solid\",\"shape\":\"linear\",\"width\":1.3},\"mode\":\"lines\",\"name\":\"A\",\"text\":\"\",\"x\":[0,1,2,3,4,5,6,7,8,9,10,11,12,13,14,15,16,17,18,19,20,21,22,23,24,25,26,27,28,29,30,31,32,33,34,35,36,37,38,39,40,41,42,43,44,45,46,47,48,49,50,51,52,53,54,55,56,57,58,59,60,61,62,63,64,65,66,67,68,69,70,71,72,73,74,75,76,77,78,79,80,81,82,83,84,85,86,87,88,89,90,91,92,93,94,95,96,97,98,99,100,101,102,103,104,105,106,107,108,109,110,111,112,113,114,115,116,117,118,119,120,121,122,123,124,125,126,127,128,129,130,131,132,133,134,135,136,137,138,139,140,141,142,143,144,145,146,147,148,149,150,151,152,153,154,155,156,157,158,159,160,161,162,163,164,165,166,167,168,169,170,171,172,173,174,175,176,177,178,179,180,181,182,183,184,185,186,187,188,189,190,191,192,193,194,195,196,197,198,199,200,201,202,203,204,205,206,207,208,209,210,211,212,213,214,215,216,217,218,219,220,221,222,223,224,225,226,227,228,229,230,231,232,233,234,235,236,237,238,239,240,241,242,243,244,245,246,247,248,249,250,251,252,253,254,255,256,257,258,259,260,261,262,263,264,265,266,267,268,269,270,271,272,273,274,275,276,277,278,279,280,281,282,283,284,285,286,287,288,289,290,291,292,293,294,295,296,297,298,299,300,301,302,303,304,305,306,307,308,309,310,311,312,313,314,315,316,317,318,319,320,321,322,323,324,325,326,327,328,329,330,331,332,333,334,335,336,337,338,339,340,341,342,343,344,345,346,347,348,349,350,351,352,353,354,355,356,357,358,359,360,361,362,363,364,365,366,367,368,369,370,371,372,373,374,375,376,377,378,379,380,381,382,383,384,385,386,387,388,389,390,391,392,393,394,395,396,397,398,399,400,401,402,403,404,405,406,407,408,409,410,411,412,413,414,415,416,417,418,419,420,421,422,423,424,425,426,427,428,429,430,431,432,433,434,435,436,437,438,439,440,441,442,443,444,445,446,447,448,449,450,451,452,453,454,455,456,457,458,459,460,461,462,463,464,465,466,467,468,469,470,471,472,473,474,475,476,477,478,479,480,481,482,483,484,485,486,487,488,489,490,491,492,493,494,495,496,497,498,499],\"y\":[-2.263530892487862,1.2931622185906402,-0.674193936092612,0.28982843143464,1.168733585759221,-1.1963987200334893,0.9083825341950454,0.45225224490658605,-0.1326145424892588,-0.1344990688537319,0.7807652903673963,-1.4337125687871444,-0.12071239683816742,0.4805733984730154,0.14235621082255248,0.7243815820408156,-0.0645315836726518,0.5281781388355035,-0.7365648102087147,-1.2577462277201688,-0.5549795887698592,1.343798783190818,-0.7865681783893995,-0.8474033072481033,0.8308077289301352,0.9755607342753246,-0.7295423926374264,-1.2747937735421129,0.34765950690666925,-0.2686263038390421,-0.03565719616788954,1.0741632479361454,0.6711218309848905,0.6063463280066883,-0.5070509768068395,-0.13307170262589568,0.25112528463280714,0.3036181273196037,0.4267228613259005,-1.3018928402964878,1.1340951010761302,-0.15513570635943902,1.5154080929594729,-0.5010874228487359,-0.07738406282135914,2.5025421218163895,0.060016776197184804,-0.6675995797014896,-1.5802324861295867,-1.2710573824068159,0.14302066598095226,0.18437078396562148,-1.0526411058637164,-0.31946170175227223,-0.6165010536939555,0.9708442100287182,-0.1072377482733915,0.9406224656738986,1.031969727894555,-0.5084730686108397,0.33338057654200803,-1.6568866190342455,0.501319808680964,0.7435253417736852,0.42741207175129237,-0.06331903536520643,0.48116256299632837,0.27940258904180143,2.9690165692171835,0.465424022229492,-0.2568651162461084,0.06797524841361728,-0.27089980908944267,-0.5636918326276839,0.4154581564963929,0.3937327168790468,-0.521903923967632,1.41851180033925,-0.6305609418876876,0.3702062552002396,0.13839629391183297,-0.516744743702872,0.20664188057882016,-0.23197177469006836,0.10732992879287706,-0.06376900010260295,0.41645078447200085,-0.8195465776663764,1.1000543843685058,0.01963504707941006,0.08292363982947464,-1.2644823340069948,0.35478605515189504,0.18469048770069843,-0.8630346784233842,0.057634657188536276,-1.9982530933857214,0.32446239388700315,1.3790503727539425,-0.5728349873062363,0.3373476490053909,-0.25517852261167695,0.1904056854582507,-0.2591750312536783,0.7838162700899124,0.7796573548659446,0.7118731095767221,0.36539888386756963,-0.43726056789653056,-1.0623076658348654,-0.22304115327462642,-2.2308191060258618,0.014977126832011724,-0.414957999980559,0.40013852785859755,0.21662758683231118,0.3907856223427216,-0.823196964321295,-3.0209307167497834,-2.2999787429256067,2.4854281371348463,1.9654216696232505,0.5948463956332936,-1.0144489778106556,0.03546356421200841,-1.8975752469814653,-1.7216475578736783,0.8588569148586542,0.31284550437011216,-0.29444107410787135,0.48728443622557116,0.6623801563995151,-0.9304947727335924,0.908508602198395,-0.7559180860476535,-0.1594911024237002,0.9323974364880934,-1.7343248713237718,0.4352867789695257,-2.0787248421776505,-1.846549566718216,-0.31991195095981106,-0.34767624488654586,1.7773014030644105,0.8609716419916509,0.6691992216660718,-1.047005679807852,1.1247576465115727,-0.0010306862221828904,-0.5016394368988792,-2.129341982975807,0.43547481558860807,0.30551755848417494,-2.319990959520456,0.8613887030748035,0.7531167448977183,1.3720814036889586,-0.8446690078791586,-0.5311815131414809,-1.8294118711319158,0.7830069242795333,1.1111818227836079,0.7738256742050303,0.5423350566916659,2.298708344580066,-0.9561631699002705,0.3437428089537067,-0.34021588889828186,-0.7453163891591427,0.16566735732333085,0.1304095228491779,0.17601692970922428,2.3242099430727783,-1.4676809774137018,-0.7406488579696542,-0.7469977143083395,0.21112256611228444,-1.0222673603442518,0.9149341555459293,0.4591991923802058,2.4791206158224877,1.1354066793438746,-0.28476213045106297,0.20896434408286213,-0.09432320763542629,-1.2655652575074947,-0.48265845179891986,0.4576186092005852,-0.502374216892446,-1.0438369418833433,0.01898548414859855,1.747128677676987,-0.9254820359985816,-0.9371081560647786,-0.040689186834107195,0.748766192264696,-1.433836964261931,1.257469522064568,0.34223784914746813,0.15510041874097413,0.7369586534302179,-1.3051319918539688,0.9650844233754938,0.0294641882329352,-1.1193629660564408,-0.4576007221612925,-0.5424946474412504,0.4883663464302213,-1.134716743243459,0.11316936606887865,-1.2899166145015668,1.124184389689339,-0.06552923465487889,-0.8770432719360128,-0.9452049653777476,0.9024843079591985,0.8956072698567098,-0.5407108505069146,1.0435046454320283,0.02114450471936369,-0.5042445703250149,0.29630809851569295,-0.14968363635729198,-0.01749152499881055,0.04947806063039101,1.1854880273777322,0.8366700622014895,0.1561426803349261,0.41049920354581304,1.631235167376211,0.24002268326462506,2.1534718069988656,-1.6432581285762573,-0.7892960976444583,0.7007186928265287,-1.441945746498854,-2.2896616096147575,1.3262867987221907,-0.026855457257691118,0.35726739177069006,1.2887404125169968,-1.2231878066377828,1.6446618254023313,-0.00024085824195230714,-0.44813546304346896,-0.6541373102832895,-1.525800344200501,-0.9730737126313034,0.806971396520868,-0.26838596797724346,0.6682255507644822,-0.7486303983627517,0.4725948900406291,0.6002797325737819,-0.7367136151083686,0.8885134523108786,-1.3052370883017614,0.511084723840786,-0.057363235322683795,-1.612228770511537,0.20907858573793778,1.5570907061219004,-0.32025891454521943,-0.08872991162353243,-0.5913337034961879,-0.07030233001543838,-0.9011713615136048,0.33091792523565255,-1.2455624650201134,-1.0301800065378626,0.4345732340283692,0.44377584377472473,0.4646799737881138,0.3928722271494445,0.17733717777020758,1.00391162586979,0.3920381763672593,-0.11230537076021556,-0.5271166605425942,-0.11405562478863711,1.7145691080577936,1.1525548351520163,0.5139617356659979,0.9442967076756399,0.6981857290660731,0.48258056416573625,0.3520693005829216,-2.208513926848844,0.424110253008601,0.8632965133822713,0.3245090460327771,-0.31719399050552805,1.9709382724127844,-0.7365172167429717,0.8430735901492473,-1.292733992672372,-0.807596405232898,-0.33512592396532637,0.2406938034068273,-0.43143729286101756,0.1635705756260592,0.11267280591680653,0.139855661093003,0.3705370108611749,0.4318068890161458,-0.7630252467798829,0.5035095053817834,-1.4320810947774816,-1.6123166701891412,0.7728321804380414,-1.1526192176140195,0.4490567606226094,-0.5120466164808718,-0.31128068641577805,-0.3741944354752403,2.573961855152507,1.129761396743796,-0.13023688088558832,-1.2711066783772655,-0.823927112576881,-0.060878930248960156,0.9857754030096827,-0.3705909628275801,1.5271355888229459,-0.27374393310299894,-0.44712759831362897,-1.9892029452090774,0.21785145448078794,-1.0175443239494406,1.046543405366355,-0.6209081954767225,-0.3817011985545491,-0.4227322767724117,-0.5405563776614343,1.1961782749686571,-1.5950755804922503,0.5185731716235648,-1.2138170472416863,0.0016551191026055961,-0.6735530005522238,1.2067857022545645,-0.11423539722269796,-0.25773190206860297,-0.5020587385521718,-0.8417264556304909,-0.3152266841920473,-0.3763608716364807,1.303589709775874,0.6952425468307468,0.732638600022976,0.5321699993684309,-1.94806499803705,1.3028472704276242,2.072503290705003,-1.2596069873697961,0.2960439844482653,1.0094256349962283,-0.04493838195875521,-0.43731532421036856,-0.29955587062081435,0.5860981198944563,-0.8021308301584055,-0.34432102183587354,-0.6086020453812708,-0.17009053165483076,0.5913722247038146,1.7199319699942375,-0.7252580820623431,1.4092409572090254,-0.3534096194886525,-0.3539658055719198,0.12015892819393792,0.8670888861143118,0.2688411679504519,0.9906743691395143,-0.734173899204397,-1.953741482356788,1.0477019338677451,-0.2778548349560111,-1.330058985771333,-0.03022038505228627,-0.4242048029948255,1.5261289641859148,-2.0835404255127057,0.5041532863513903,0.37898970914754454,0.33165885913905996,-1.0198492238115628,-0.34544520337826207,0.533093216997367,0.2305781133853838,0.4304819334315093,1.5296519928433527,-0.8362117782123512,0.5857685730417653,1.299825734604204,-1.4765417395923297,1.1317210602279755,1.1375692493163128,0.10565726659957062,1.421535237455665,-0.4313585124037633,1.5120605990238247,0.5956445380097267,-1.233371446013412,0.32095312412927623,0.20704713654645968,0.07883156254653347,0.2559231181034012,-0.5293853706510283,0.21877786325512374,0.3092397968337286,-0.6320613018711665,2.1845029430500373,1.5115404445869274,0.5234446681738709,-1.7952880026772697,0.5947117535910786,-0.5936688757653348,-1.9573988460736569,1.2238610033291626,-1.0530822326927423,-0.005909598988247,0.27563585173518856,-1.2400033314032664,-0.6797688261705226,0.5489124486842144,1.089778993179704,-0.45711726687572507,0.037457596816397244,-1.4042322333515007,0.30368288687852635,0.06756441580452588,-0.5182493262741984,-0.7151298150452237,0.2278434295883213,0.04435768356599988,-0.8282132665015844,-1.382525230050665,2.170403967511804,0.36478306568663177,0.21784762677205788,-0.40769882767941135,0.6504071519104804,1.1341099685707114,0.3960040724599995,-1.7155345415699248,-1.7744959527814521,0.81526411352325,-0.9156385278401167,0.2173424590970779,0.26204069102142247,-1.8727027673201961,1.7217758369729563,0.9657745410308541,-1.2815053853496943,-0.24927336468821654,0.14763154336243584,-0.20147918388128916,1.5425690612480052,-0.1182309333853094,-1.3340117486782903,0.2126655390087511,-0.1106874954864721,0.30447108601204664,0.020982190016305285,0.18193746695792085,-0.020733034307504516,0.7486353092053304,1.6800208234269025,-0.6332391093063604,-0.0024254507725629437,0.8196390283342632,-0.38648040437410264,-0.21042733698987323,1.7074486964659832,0.4973323975597727,0.6896523446861065,0.2863507676773237,-0.9738184564196188,1.4648060266786653,-1.3098008412197324,-1.0526887107055733,-1.3999218982915989,-1.988669644262112,-0.33973696149969346,1.945402053012429,-1.2055724881225565,-0.821684958945505,0.7457562226320248,0.06287171833139077,0.16292221467042742,-0.7505023891359669,0.7587161193174603,-0.8998895541304912,0.4590758873279594,0.5511216358616269,0.44056770922447236,1.2112545129129224,-0.6128335579651852],\"type\":\"scatter\"},{\"line\":{\"color\":\"rgba(55, 128, 191, 1.0)\",\"dash\":\"solid\",\"shape\":\"linear\",\"width\":1.3},\"mode\":\"lines\",\"name\":\"B\",\"text\":\"\",\"x\":[0,1,2,3,4,5,6,7,8,9,10,11,12,13,14,15,16,17,18,19,20,21,22,23,24,25,26,27,28,29,30,31,32,33,34,35,36,37,38,39,40,41,42,43,44,45,46,47,48,49,50,51,52,53,54,55,56,57,58,59,60,61,62,63,64,65,66,67,68,69,70,71,72,73,74,75,76,77,78,79,80,81,82,83,84,85,86,87,88,89,90,91,92,93,94,95,96,97,98,99,100,101,102,103,104,105,106,107,108,109,110,111,112,113,114,115,116,117,118,119,120,121,122,123,124,125,126,127,128,129,130,131,132,133,134,135,136,137,138,139,140,141,142,143,144,145,146,147,148,149,150,151,152,153,154,155,156,157,158,159,160,161,162,163,164,165,166,167,168,169,170,171,172,173,174,175,176,177,178,179,180,181,182,183,184,185,186,187,188,189,190,191,192,193,194,195,196,197,198,199,200,201,202,203,204,205,206,207,208,209,210,211,212,213,214,215,216,217,218,219,220,221,222,223,224,225,226,227,228,229,230,231,232,233,234,235,236,237,238,239,240,241,242,243,244,245,246,247,248,249,250,251,252,253,254,255,256,257,258,259,260,261,262,263,264,265,266,267,268,269,270,271,272,273,274,275,276,277,278,279,280,281,282,283,284,285,286,287,288,289,290,291,292,293,294,295,296,297,298,299,300,301,302,303,304,305,306,307,308,309,310,311,312,313,314,315,316,317,318,319,320,321,322,323,324,325,326,327,328,329,330,331,332,333,334,335,336,337,338,339,340,341,342,343,344,345,346,347,348,349,350,351,352,353,354,355,356,357,358,359,360,361,362,363,364,365,366,367,368,369,370,371,372,373,374,375,376,377,378,379,380,381,382,383,384,385,386,387,388,389,390,391,392,393,394,395,396,397,398,399,400,401,402,403,404,405,406,407,408,409,410,411,412,413,414,415,416,417,418,419,420,421,422,423,424,425,426,427,428,429,430,431,432,433,434,435,436,437,438,439,440,441,442,443,444,445,446,447,448,449,450,451,452,453,454,455,456,457,458,459,460,461,462,463,464,465,466,467,468,469,470,471,472,473,474,475,476,477,478,479,480,481,482,483,484,485,486,487,488,489,490,491,492,493,494,495,496,497,498,499],\"y\":[-0.8643303486768782,-0.48545447661592434,0.074622210582842,-1.1235170332369224,-1.0135508333616168,0.30827543616675057,0.3752038214699598,-0.6007368177428646,0.9129030633322243,0.043888449546883514,-0.24031317108009856,-0.7375646355758417,-0.4681910820777421,0.9964026624751344,2.0971634956989016,0.450574874362932,1.4635098238231417,-0.4319436150231565,-1.278331730768012,0.5744366004914743,2.0869333139116595,-0.9193410790800395,-1.833408200375922,0.815870476737727,1.2255231447347203,1.4269942761256478,-0.0208392893246553,-0.802855883972416,0.7441495619973297,0.5726913780552716,-1.0359943891301344,-0.3032828708270887,0.32218939138050695,-0.07482836543124932,-2.2881247996561536,0.8396551087311036,0.6329973906675159,-0.8089122730077706,1.3563360794124653,-1.3910248195095662,0.18226155741218986,1.1812588349937838,-0.017857317368380452,-1.7335749162749488,-1.4021895915785028,-0.32509108497305844,-0.5869592019054817,0.9495712552305394,0.3463687493993234,-1.4667436417122397,1.3062901272194902,-0.42658619894597277,0.9620508083663744,0.23526592031426882,0.8497327673805525,0.5588145927097056,-0.48360172418772346,1.0709943964111517,0.8398138160631732,0.12310755185178913,-0.6527937114668243,-0.5922539583676146,-0.5544129808454866,-1.17542810552467,-0.8993931961583361,1.873212240564465,-0.759361895137789,1.462828531032524,-0.006853677859164635,-0.19400329825342275,-0.6102253464084665,1.243358257011422,-0.5201554842199142,0.7388503478936396,-0.2160079096289911,1.1631834133147718,-0.3574428213850189,-0.5272720419829308,-1.02954231733991,-0.40167488843385485,0.6136324469264254,-0.09110088583380581,-1.2690999569499417,-0.9218185358341311,1.5341086823582701,-1.0965694293552006,0.22986512582809857,-2.211500102580387,-0.9439370395816332,-0.15983863544068952,1.369931708738245,0.4934425353439321,-1.0176043028353083,-1.1886790512293166,-2.184617633428162,0.46019217910122356,0.4849860717936879,0.12688255505038534,-0.25140835619897484,1.4658126550581294,1.2694256644911606,-0.8138443318306805,1.1298803448185024,0.5348476041160375,1.2430183866911644,-0.35029193218261967,-0.9963080251603601,-1.088178138364631,-0.8427024185119844,-0.8780277630627888,-0.17087787066342594,0.5923576710960169,-1.514603792728183,-0.7971490448026465,1.8579492939592588,-0.47659227243257524,1.1741791349143988,-0.23002183980604202,-0.9788257071866882,-0.787089545523912,0.15632669264770976,0.7873375409078308,-0.6851596359225393,0.07258239604801417,1.0108568062678853,-0.5350206269668196,0.4617210322108998,0.6729851129996333,0.6947791573841785,-2.0349434613126345,0.9346846632454399,-1.904184957979476,-1.5897498110802348,0.07803041176088413,0.09756084554805393,0.6571696597348613,1.071629838766347,-3.282116736543372,0.2952320886515686,1.0286252197016175,0.4510046185128533,-0.5808097525959789,-0.2048240951015417,-0.7244019010710904,1.7234902946045805,0.013434282552561105,0.1916188862715387,0.5978644944394771,-1.1974830645358936,-0.06666291479540355,0.8386492151156741,-1.1291644176032307,0.05241849417403152,-0.10907417825855412,0.6380514166366121,0.04879476309572777,-0.16777849124113872,-0.39249040661168333,1.191873587685773,-1.3205280526782754,0.42993519552984616,-0.09237482587070879,-0.7926842172330973,0.5679663048689276,-1.654584667175674,1.2808190915252475,-0.10407137936591151,0.9459287720169433,2.997001930072728,0.9446389150568022,-0.73353832354179,-1.5846353717838617,-0.885051530172661,-0.4675519667238059,-0.13331587213270782,0.9611220186060137,-1.7600226706559756,-0.6197654075068263,-0.6491288178838583,0.05533463637359131,1.2545161923962125,-0.5498373082089602,0.005935305924675948,-0.28937403873654166,-1.7176819437111137,1.062708296845886,0.14576196013743872,0.36022314475696043,0.3100393862711781,0.43621572859192037,-1.1115511453849622,-0.8931284957701531,1.432237106043617,-0.26799178109682303,-1.2364356306727065,-0.27727843249292256,-0.7484029189008448,0.6628246713802153,0.6209823288852403,2.095729456275502,-0.8615847093288481,1.470005888534789,0.8742648623981958,0.9126777321153317,0.6494642173952481,0.3437184635242458,0.8055190722528236,0.15608954232600264,2.2991264282837514,-0.21805154042505967,0.4940450628946168,2.3879553375112446,0.8331103320151628,1.243259684792002,0.29035122447166023,1.5117606491184155,-0.9836973745096882,-0.0791966119835468,-0.04835572773807457,-0.4588441898535056,-0.46823840601349903,-0.18408406954795853,-1.1626812553841233,-0.2831560692653616,-1.8017380946848456,2.323297217914825,-0.012652770991927053,-1.624019653170712,-0.7302033749047425,-0.23963287429026348,-0.09943147070440395,-0.3845642646273242,0.21337835024865434,-0.1550967548668219,-1.7451208715071838,0.021781593220121454,0.482528557119484,0.12476506259864548,-0.6543838003523604,1.2277565899924272,-1.411510936136483,-2.118413452367423,-1.2191132070960833,-0.03352686771440494,0.7279308289098316,0.9873327613922971,-0.774358456390364,0.7004299687598552,-0.9058837691216307,-1.518410302156876,-0.4837581462051957,-1.6760619095747817,1.4722656310018942,0.4682039916630244,1.285696641292299,0.6831171389874126,0.1912045241029588,-2.224160874884401,1.1018758146399366,0.8747486356358478,-0.5279419976982931,-0.20003195098500165,1.5055495853342502,0.5842278792894626,-0.09310041514168922,-1.4060082253516486,0.43107319763056773,-0.36592333005463823,0.8141227079424633,-0.5425875028149405,3.3444053600891794,-0.8543661707645733,-0.0036736179172075657,1.4889857461361322,0.8774867172162479,0.8299268077371682,-1.05663825382182,-1.4149516227168877,0.7522426144924427,-0.00507914787781083,0.2610478555094977,-0.6591997559801382,1.7859012833147028,0.48619923737625087,-0.8214188979619703,0.6192804184346206,1.0713857011142744,-1.1610794412009768,1.6579333645418834,0.2034182528098526,1.4325120284223194,-0.09835000317701767,-0.15838912799838256,-1.0033864937970682,-0.19797015542064625,-0.3445003875231573,0.4629639290835394,2.004274465354049,-1.2368295038978248,-0.23788254454037747,2.0896780022851384,1.3412188953431496,0.3211422799063036,-0.935985886998604,1.0259480771917622,-1.1363139505860618,-0.22065679242018224,0.21541308017735333,0.258026315926332,-0.1422252125062341,1.1244121613009839,-0.12224367024175394,-1.1563005016916008,2.6727713098930304,-0.23724607730587513,-0.8492335753063022,-1.8238501392306563,0.6301747948826578,-0.4536294485473571,0.5466184239298865,-2.761470067853639,2.4219769246256138,0.6575582951257924,0.11018430960437979,-0.4043064664618296,-0.014195310918731014,-0.11848894241219605,0.06286111586675902,0.0021071470684251538,1.939388247139212,-0.7379644760465487,-1.0427124320458634,0.12747767318100034,-1.2522775334466993,0.9578929427346745,0.3271967175508989,0.5362929742083407,-0.3508172905905263,0.05492688094458291,-0.9421086807462195,-1.3251744536700256,-1.4980980685036622,0.28267030401835674,-0.7799313729849388,0.11868777977450357,1.686143711218559,-1.9291684273498853,-0.06254290149300008,0.4651236249986807,-0.04242190121669,-0.3525024804704805,1.6225727507548946,2.0977605032727804,-0.08923437022106705,1.3833770169837647,1.1862273094402493,-0.6246464424587231,0.8549954429876008,-0.7116385642343395,0.6265741730573536,1.1768356984339212,1.3248293605060646,-1.8522571483565107,0.30997096539653807,-0.8880745800000089,0.253383193283707,-0.9768957622608174,-0.6091935773789839,-0.6799134846035905,2.066333414643886,-0.4642699043334721,-0.02898032555184812,-0.9721294891522054,-0.15520264621898416,-1.5628622157904601,-0.8349774946109407,-0.40442140189019976,0.7723782891777186,0.5536856695790957,-2.7167014503503784,0.638822008846059,1.8712513786113707,-0.9953562930811777,1.061665809966131,0.9743917547121637,1.4671618364511696,0.9578471762382555,-0.5815277591166844,-1.2076648278816577,-0.0657016749925392,1.2102546538797605,-0.41434974587769396,-2.134092747898878,-1.3535497163380736,-1.103250175773825,-0.49731886265549,0.1734272005249689,-0.5265192685695984,-0.5324593192678335,1.216030605487049,0.7295668971800661,0.1774849473446891,0.3909567085886405,0.7540444722579828,-0.8355880993856984,-0.2699966546414888,-1.491589102324052,1.2074903860926305,0.1800949874190779,-0.027095195545727348,0.14112740040017233,0.18394558773240247,0.15863572656206876,-0.13863984835101228,0.11567371216113824,-2.747890945453844,0.6712394146089311,0.16440826700384412,-0.05379778761770426,-0.2465238049705523,0.323786924921426,0.5559385807572145,-2.118198834740286,0.035312905641552914,1.6944904345617409,-0.27016916835057697,-0.42411364677781505,0.9031225901674101,-0.6455303294094389,-0.8543668551987945,0.7648523102734774,-1.15592506213242,-1.1455866689194092,0.45455005352747685,-1.0418808254518175,-3.4398979994064396,0.9553147053149923,-1.35015049238068,-0.5104054673852467,0.3635549281497244,0.35042447944233734,-1.9251212835749618,0.0542309606517661,-0.4675538831867497,-0.5950121082024477,-0.36620442736041353,0.9090081344868,-0.28727179127092833,-0.5842058132658754,0.655637815539823,0.1622113796976176,1.6189653844673815,-0.06353675870301875,1.3735319300323154,-0.797621117621803,-1.4111881283100125,1.8737254828225627,1.527413080052041,0.5747615492248692,-2.602687966669538,0.1708012600060014,0.7591970655662041,-0.28349796436191604,1.1933316444037287,-0.34652383040180174,0.027978780165058847,0.09964420747497904,-0.15316023877715385,0.20278211150359476,-0.2883354426322248,1.6913561586121721,0.05766745533335582,0.6065666962000866,-0.133127654713106,-0.4915389492477984,0.6541428243870232,-0.7593657250143889,-2.756242431007816,-0.47883543341722296,0.8151174654789304,-0.21085476172580359,-0.0636153470267502,0.23795371149658143,0.7821675058426818,0.9646701284449362,-0.5169132171189804,-0.8268284016364045,0.9602246004207001,1.6125784412022457,-1.6354452396299193,-0.824785002549613,1.5387852773955826,0.028356711317799474,0.910487841740798,0.4612284154337478,-0.9421194730921624,0.03244761934384349,1.6483417596631968,1.679920658134673,0.18097423856973993],\"type\":\"scatter\"},{\"line\":{\"color\":\"rgba(50, 171, 96, 1.0)\",\"dash\":\"solid\",\"shape\":\"linear\",\"width\":1.3},\"mode\":\"lines\",\"name\":\"C\",\"text\":\"\",\"x\":[0,1,2,3,4,5,6,7,8,9,10,11,12,13,14,15,16,17,18,19,20,21,22,23,24,25,26,27,28,29,30,31,32,33,34,35,36,37,38,39,40,41,42,43,44,45,46,47,48,49,50,51,52,53,54,55,56,57,58,59,60,61,62,63,64,65,66,67,68,69,70,71,72,73,74,75,76,77,78,79,80,81,82,83,84,85,86,87,88,89,90,91,92,93,94,95,96,97,98,99,100,101,102,103,104,105,106,107,108,109,110,111,112,113,114,115,116,117,118,119,120,121,122,123,124,125,126,127,128,129,130,131,132,133,134,135,136,137,138,139,140,141,142,143,144,145,146,147,148,149,150,151,152,153,154,155,156,157,158,159,160,161,162,163,164,165,166,167,168,169,170,171,172,173,174,175,176,177,178,179,180,181,182,183,184,185,186,187,188,189,190,191,192,193,194,195,196,197,198,199,200,201,202,203,204,205,206,207,208,209,210,211,212,213,214,215,216,217,218,219,220,221,222,223,224,225,226,227,228,229,230,231,232,233,234,235,236,237,238,239,240,241,242,243,244,245,246,247,248,249,250,251,252,253,254,255,256,257,258,259,260,261,262,263,264,265,266,267,268,269,270,271,272,273,274,275,276,277,278,279,280,281,282,283,284,285,286,287,288,289,290,291,292,293,294,295,296,297,298,299,300,301,302,303,304,305,306,307,308,309,310,311,312,313,314,315,316,317,318,319,320,321,322,323,324,325,326,327,328,329,330,331,332,333,334,335,336,337,338,339,340,341,342,343,344,345,346,347,348,349,350,351,352,353,354,355,356,357,358,359,360,361,362,363,364,365,366,367,368,369,370,371,372,373,374,375,376,377,378,379,380,381,382,383,384,385,386,387,388,389,390,391,392,393,394,395,396,397,398,399,400,401,402,403,404,405,406,407,408,409,410,411,412,413,414,415,416,417,418,419,420,421,422,423,424,425,426,427,428,429,430,431,432,433,434,435,436,437,438,439,440,441,442,443,444,445,446,447,448,449,450,451,452,453,454,455,456,457,458,459,460,461,462,463,464,465,466,467,468,469,470,471,472,473,474,475,476,477,478,479,480,481,482,483,484,485,486,487,488,489,490,491,492,493,494,495,496,497,498,499],\"y\":[0.9220911694069152,0.14836447557317828,-0.017816419875645244,-0.6584636707043116,0.2759038083819965,-1.3128504925381805,0.07892297621125852,-0.9971598883308795,0.7041391793953687,-0.02935183379512334,-0.8703832044898656,0.627528008587748,0.5622418216264259,0.20964810927829577,-0.4373379335471964,0.806167327004504,0.8214998134209531,1.988608232415885,-0.3975881418740252,0.20990883831767454,-1.2615578553396343,-0.2957971987023403,-0.873546860991824,2.1361651677955122,0.6172234482162509,-0.9057158578682327,1.1920443242118373,0.8706579954455401,0.45620769509957665,0.10824206587866374,-0.12031620817452258,0.014018341494933315,0.5292874016077527,1.4458754847895265,-1.71916398636923,0.38400147524820466,-0.11848525751257054,0.1644303328293352,-1.3597577543217845,0.3992657376205738,2.058034712604575,0.4164164005758582,-1.5774248717673613,0.9772459326920768,-0.6235379769261528,0.48758524139914305,-1.061719470324258,1.4628544104354875,-0.5114682142551958,0.13063380018342713,-1.3006980298243476,-0.04747469760526564,-0.32802168234917817,-0.9945257388982979,0.274495347963268,-1.4242437068618428,0.4510718654955958,1.220064861978453,-0.5794659146170458,0.37875157406521887,-1.7070622564642586,-0.5104278174125095,-0.44664203685716575,-0.28023648695185516,-0.03905703377385363,-0.8407572446313172,-0.621190064277726,-0.5985916809956854,-1.2763767630372833,0.40913758632447406,0.020514028987480195,-0.8174836157045476,2.14263397601054,-0.008828542719405285,-1.2344412373611633,-0.4775553538025275,-1.4612015182350424,0.25220934191028,-1.1433243573223166,1.9505197355031443,-1.8708561597323914,-0.6696210452785477,-0.19090687066335754,-1.0432555103272398,1.0793899934953752,-0.9808186348939656,-0.6699430975877511,0.9683125849667559,1.328831423610577,-0.7336977338877899,-0.7976693609406942,-0.4104424216568818,-0.14836578759385494,-0.24092071325131878,-0.022236919432358032,-1.3614317462394963,-0.26655500824434053,1.3491740013426097,0.38689270758094624,0.04955138571400917,1.626125769262939,0.5007907469092472,-0.3165642864992084,-0.4631162367539478,1.7826548223408374,0.9197325894973978,-0.48522779062878435,-0.5473449521504605,1.1420656092130999,-0.8789668747975881,0.9517469896491794,0.807345437925635,-1.0909614857396295,-0.3650877728929828,0.4287448430024176,0.9953631176562969,1.139102617678759,-0.282935286264138,0.6841571041674734,1.02582801182429,-1.1240106013512288,0.20485637603556192,-0.3175954050281094,-0.1448465803790092,0.12936951658129756,-0.13271041486215565,0.03851917823380878,-0.33665220828214365,0.2554810934128097,-0.4877333665144579,1.2373428216879185,-0.07433231347097709,-0.21537372656913795,-0.7870239845107756,-0.34716825687495684,0.45256883430051575,-0.30400970169082503,1.8759714764419861,-1.1447817994457619,0.38411038890833116,-0.5291533990863792,1.1085210236799643,-0.9641451957433271,0.15417783942674465,0.09774832568033424,-0.11662799683762247,-1.4846589676146251,-0.6054097055144995,-0.7524143366560045,0.14771588201309419,-1.4799801177877943,-0.08370317546604815,-2.201888872678705,-0.6582449735625969,0.46857294788139414,1.4346176642188786,-0.6782862888241511,-1.035397503403573,1.0680607218824163,1.4656973168627954,-0.15656905122334394,1.28977136051961,-1.1722017186170222,0.22247905580667232,2.186719411900441,0.26684729488657194,-1.2531470514231766,0.8830405969851827,0.7282121964151053,-0.6106947089876537,-0.42854584326882544,-1.9108403050308989,0.7431433439432862,0.9066423555467369,-0.0358396449002318,-0.4172931739468993,0.29239571304567097,2.430959630921365,-0.5518748004019726,0.4775404964757826,0.2660351014799676,-0.43993668819359394,-0.21869381207870417,2.5989392228668553,0.10979743796821825,1.22243634588275,1.1745138634454604,0.4525287582248727,0.27831019077725677,-0.9387079542641974,-0.4414704483282997,1.7155594209325362,0.5119343281054025,0.05407401147908268,1.528664969166629,-0.22809195223265458,1.2448108375600957,0.22811940144628232,-0.36002908454667387,-0.287061112673915,1.8912124515773876,0.5180403267254065,-0.28641806983072327,0.432869722631649,0.2752328853924761,-0.7324813786816099,-0.09362460788958184,0.3656785830480036,0.5720891053655246,-1.6578450320605242,0.03560510304125362,0.08013116816848896,-1.2295786805889408,-1.0619574943338719,0.023310532157483944,-0.32865752796696945,0.024652553269450792,1.179648530832441,0.39939064180082273,-1.1237712591321627,0.26445248962809326,-0.6589560578622625,-0.8830594740041019,0.493199409813094,0.8067064048182769,-0.29853091822615424,0.27572066852115584,-0.15591925866408798,0.1412151191690483,1.0606487677515812,-1.0878689240997943,0.8596160531876681,0.5125727066598117,-0.391069141868966,-0.0914505242931613,-0.2991245810193436,0.4255041918280136,0.632613783515037,1.2531886352255692,1.1395648033851258,0.8605587560186613,-0.06297716964184095,-0.5713717866314584,-0.47310451727315267,-0.025953196241942186,1.8421741284887863,1.3898979782325698,-0.2554659462643092,0.8042656322986238,0.6872333308861572,0.47509376073759013,-0.2804606445930084,0.007102116128334208,-0.15642971754359167,0.11557252341026275,-0.453299596375475,-0.7695729080779632,3.045601192536567,0.3620822527599366,0.2195434301621929,-0.7200921014111391,1.2323724824139304,0.6458520157282264,-0.6740837974465129,-0.8888051882611442,-0.10025703613399814,1.360299549483017,-1.0020352120930154,1.2535181323574023,-0.9945899959629451,-0.03414252287119669,1.4139792341802906,-0.6665233243257398,0.4984510082001401,-0.7479674442853113,-0.5482985834535049,-2.317567352483934,1.5464739934733915,-0.6860604539894961,2.4009534217741213,-1.5533535078597875,0.6969045943152048,-0.8076942538514653,-0.851259234586169,0.9505045046939664,-0.5839633727489868,0.7948296419305874,-1.4796123518158393,-0.34710710076796253,0.8577347164320047,-0.0388821287476195,-1.6484459267715499,0.6746859035636065,0.4159986978522103,-0.48517653203425587,-0.011727429988368551,2.382701954641964,1.898756854742289,-2.259108888530029,0.7544938354078031,0.5702150313024797,-0.30077921678233144,2.2766130594908556,0.48869034842250975,1.3422943581753808,-0.3672014471655941,-0.5836634364331081,0.6510722660790514,0.17245520653921845,-0.6375939833472606,1.0344607229516127,0.8790166922344768,-0.4451339697350376,0.403715111311411,0.9862182706292085,1.435756603498926,2.0478373681134556,1.4280219362627888,-0.8223558620214657,-1.4565887845476382,1.084938834419856,1.8548148269020892,0.25481349696676275,-0.00921338585955186,2.788452420865787,-0.07139212531960616,-0.29355251902208,-0.9607356477914792,0.9445626779096133,0.4194949809555625,0.9799612700665258,0.16760041686984084,-0.802489394275035,0.33987251261865425,-0.17850784317597876,-1.1758943800366637,1.5438017875509382,0.5789295699044953,0.018119721112772786,0.73924934254872,-1.6038617600377838,0.14985920150640947,-2.3699643680275626,-0.744905167480803,-0.10479704145924422,-1.206746229244953,-1.8258230326375555,-0.9419957022242306,-1.1614401967115735,-0.9003717926294342,0.8536840120279819,2.0133768694124137,0.5190818059844948,0.0032667691314901734,-0.7989408637212521,0.3800598504381983,-0.04914237402806362,-0.7375932808130586,-0.02951124243516405,-1.055493709757641,2.6301146155203794,0.35298883956201865,-1.7574946941534946,0.41259569301049553,-1.0849188235813232,0.8229926803774368,-1.311559033064852,0.6330502847625408,0.07844272618101412,0.5752257582326098,-0.12278063632171242,0.27228039837289475,0.32268577182491254,0.7172000492763982,1.002844076605483,-0.45301365185004144,-1.6985847286509232,1.5907317673572048,0.659489170995198,-0.20533521307414898,-0.27061972477998103,-0.8973792580563812,0.08677902408882053,0.47670323611635423,1.3210431987263074,1.2701560109536514,-0.3570052837070094,-1.2749719247822404,-0.4484524594027343,-1.2144581183684895,-1.9752104764905272,-0.8474107336772247,-0.0573289170244425,1.0714006624367487,-1.3203173445551164,-1.419289134582506,0.34703753450925906,0.5245818632790429,-1.4205165557942903,0.6435037629982909,-0.16111860186210972,-0.18948026669948065,1.3743487610969238,-0.46931061503130694,-0.7331976220737848,-0.29854274558321237,0.12960936778326415,1.3550072803266433,1.4632505222379686,1.2875072291341394,-0.22271760929473358,-0.7011261626833123,-1.8885918640649242,-0.015365468565318775,0.18781693812488517,0.9563604058015274,-0.2579767630283166,0.5901592585419512,-0.5702643936833387,0.7279654389843567,-1.1601691502785816,-0.2228319439825464,0.5456683284253406,0.047508288550559344,0.013663225827585482,0.1249974071468572,1.7581042921316563,-1.365413482534631,-0.07776389692227137,0.9402864155449181,-0.22832235611168902,-1.9173809126082924,0.4826349395856876,1.3124207322683912,0.7153285473387457,0.1428467132473311,0.6276139171641789,0.22874797767500746,-0.04142296100206345,0.3614542853599989,0.20736615765322164,-0.3083614022579619,0.43685492340766274,0.00912685968296336,-1.2097198327755467,0.10322396246463876,-1.7223881110913357,0.11708836286530483,-0.48202418618220233,0.8900994139826567,0.9354452483813903,0.8211752311071825,-0.27515627132516834,-0.9680741668146783,-0.8705377993857697,-0.6479505348467585,-0.9832420720091883,1.4133404052735257,1.466904827946865,-0.8424046614631647,-0.48459226231476527,0.08742341142985526,0.6413979185734231,0.22034796676725382,-0.5030008611022889,1.0442368666921418,1.0220657872911707,0.7747920216500133,-1.4495849249711787,0.2336518459619579,0.7133972431046575,-0.8659764501760524,-1.2833017603703185,-0.6744590721725239,-0.6044145862842352,1.0353727456658732,-1.2397835990737727,-0.21047524087678968,-0.6196066316094904,-0.7848090337703844,0.3422234152998713,0.455491998400322,-0.6048685848465334,0.11116598548956778,0.08442570009145775,0.11551343589772099,-0.8334196073871623,0.040801008781421504,0.8499413460785487,-0.42068547318590477,0.9025277841762412,0.2427152686700248,-0.6422929111845358,1.0587254485958728,1.1914367211265702,0.493966366214458,0.019160850891316212,1.2163268611394693,-0.6688330704049009,-1.8846701497990694],\"type\":\"scatter\"},{\"line\":{\"color\":\"rgba(128, 0, 128, 1.0)\",\"dash\":\"solid\",\"shape\":\"linear\",\"width\":1.3},\"mode\":\"lines\",\"name\":\"D\",\"text\":\"\",\"x\":[0,1,2,3,4,5,6,7,8,9,10,11,12,13,14,15,16,17,18,19,20,21,22,23,24,25,26,27,28,29,30,31,32,33,34,35,36,37,38,39,40,41,42,43,44,45,46,47,48,49,50,51,52,53,54,55,56,57,58,59,60,61,62,63,64,65,66,67,68,69,70,71,72,73,74,75,76,77,78,79,80,81,82,83,84,85,86,87,88,89,90,91,92,93,94,95,96,97,98,99,100,101,102,103,104,105,106,107,108,109,110,111,112,113,114,115,116,117,118,119,120,121,122,123,124,125,126,127,128,129,130,131,132,133,134,135,136,137,138,139,140,141,142,143,144,145,146,147,148,149,150,151,152,153,154,155,156,157,158,159,160,161,162,163,164,165,166,167,168,169,170,171,172,173,174,175,176,177,178,179,180,181,182,183,184,185,186,187,188,189,190,191,192,193,194,195,196,197,198,199,200,201,202,203,204,205,206,207,208,209,210,211,212,213,214,215,216,217,218,219,220,221,222,223,224,225,226,227,228,229,230,231,232,233,234,235,236,237,238,239,240,241,242,243,244,245,246,247,248,249,250,251,252,253,254,255,256,257,258,259,260,261,262,263,264,265,266,267,268,269,270,271,272,273,274,275,276,277,278,279,280,281,282,283,284,285,286,287,288,289,290,291,292,293,294,295,296,297,298,299,300,301,302,303,304,305,306,307,308,309,310,311,312,313,314,315,316,317,318,319,320,321,322,323,324,325,326,327,328,329,330,331,332,333,334,335,336,337,338,339,340,341,342,343,344,345,346,347,348,349,350,351,352,353,354,355,356,357,358,359,360,361,362,363,364,365,366,367,368,369,370,371,372,373,374,375,376,377,378,379,380,381,382,383,384,385,386,387,388,389,390,391,392,393,394,395,396,397,398,399,400,401,402,403,404,405,406,407,408,409,410,411,412,413,414,415,416,417,418,419,420,421,422,423,424,425,426,427,428,429,430,431,432,433,434,435,436,437,438,439,440,441,442,443,444,445,446,447,448,449,450,451,452,453,454,455,456,457,458,459,460,461,462,463,464,465,466,467,468,469,470,471,472,473,474,475,476,477,478,479,480,481,482,483,484,485,486,487,488,489,490,491,492,493,494,495,496,497,498,499],\"y\":[0.2368150873619006,0.15326634396288585,-0.7200298756684526,-1.01163513885463,-0.38161070197940017,-1.372529585653803,-0.9621157004232631,0.9498423277132721,0.2921052799655276,1.64830263330383,-0.3269032177752567,-0.7399905237461355,0.8891433061687039,1.2563426921920937,-0.9670412614794054,2.2434451242426334,0.3204207682211625,0.10607002243585302,0.10282387955271609,0.20987945169443412,-0.48961292431746223,2.736078134074456,-0.7596642482747243,2.0840111526550515,1.6625074980743457,0.23358726479203873,-0.07475488930655838,-1.285947988708988,-0.06774554118100017,1.556834576055044,-0.062102593814048326,0.07266582351703005,0.6531023403330972,0.21826020271644322,0.4051986338008625,0.6980726892127668,-0.08564192470061167,0.32288635586939,1.8480443809543814,0.8513913587925882,-1.0562482636354886,-0.8471967127703255,-0.3916668280564733,0.21136030960209737,-1.0342195077286696,-0.47436877076284034,2.133106907609308,-0.9124562885070545,-0.3539904177862304,-0.01892669958611769,-0.5831477949669034,0.7383055352776308,0.12178037533677828,-1.2333615901627757,-1.312849536735822,-1.5857992428728067,2.1016191547383114,0.8630051495108296,-1.0735780812840006,0.6535629551855013,-0.8202148846453614,0.8246460016536702,0.16662061604475872,-0.06959019587016031,0.08474234840654415,-0.6701742374876497,0.6742682452829133,1.053225992770241,-0.19980774946238936,0.11539341791055742,0.08095175908095865,0.7145032519139668,-0.15479068012296693,-0.18700595506906226,0.21545511055224112,1.0650207646484497,0.07150511811786767,-0.045864970918570246,-0.4512385906421965,-0.10166745237183507,-1.4316821184871111,-2.7380211323146306,0.8180233337064482,-0.4994511918143605,-2.4043828999681183,-1.1395643797626336,0.03179022302553748,-0.01812629979441633,1.0819779409412478,-0.708297735508812,-1.884492982858543,1.5325943616146824,1.9493000564490703,0.23733734800731313,-0.2970745980835244,-0.7864408792273413,0.9900462374535264,-0.48993231346208954,1.755657648874985,-1.7878933254288187,0.7904824140628962,-0.1387912867158326,1.1125997896524007,0.4466284093939971,1.3377970349951813,-1.5167312631098857,-0.3527989683391722,0.8450892879594704,0.44144997380599266,0.3112389700131346,-1.620986225796458,-0.10532568953539652,0.9621681876232612,0.26603811216623957,-0.7278819321154157,0.8557633933301175,0.21373046555661973,-1.9216608630905474,0.07124626079810054,0.5636295122576199,-0.09785433992800284,0.7171242209408782,-0.8234828692219782,-0.31049124523756266,1.0815727725968625,0.9322558767158597,1.0051448675074062,0.5147418325805265,1.132474332383901,-0.9577730705454137,0.1274731965439913,1.3607833721636429,-2.031349680993669,-1.4179174055135106,-0.5802132172377643,0.46512383755459596,0.769741053165253,-0.5268394647808874,-1.474722501836746,-0.10544730057266748,-0.12375734928948648,-0.2837510868317904,-0.3776030297047196,-1.0055196995558144,0.7397831703608402,-0.21382613291823613,-1.110158674711503,0.6536299518088545,1.8560300205580025,-0.22949167315478186,-0.6652377215639678,-1.8223567498937627,-0.8437036010599748,-0.7794639637425111,1.378770524567123,-0.8787447391959187,-0.06759996514266496,0.7869666748209092,-0.2853667830900193,1.503426340774217,-0.45306797568302104,0.12313898720717087,-2.1337303896365736,0.9527239208644198,0.5361866020066929,-0.31683954258425473,1.4856708456649141,0.25312497953325175,-0.621879305291454,-0.9628828587530323,0.3366107107320239,0.9038751668462113,1.9683113193177837,0.3647378382498198,0.9532860121288194,-0.14877645274271495,0.4718795530392423,-0.10197882301394859,0.6791396626072205,-1.5972721483802235,1.9459871243086975,-0.2909229012581445,0.38358279044873445,0.6856110204445703,-1.2872866113996893,1.5801098372998337,-0.345830839657898,0.5394454397252728,-1.144824644941274,0.2822162131726958,0.41527798106905595,-0.8363710782871023,-0.7891100080854799,0.0987548102416055,-0.9082942747068138,2.1682450119739687,0.008674867849282909,1.5867207686043467,0.375859843615774,1.6205759114546434,-0.6220493576852684,-0.6052351948454991,2.078311254829741,0.6766740800475627,-1.21945327693854,2.105282290819725,0.6625174918288212,-0.5520987644202794,-1.7557554235007398,0.6131934852748897,0.45941430189989535,0.5469026891603647,0.7726060371444358,0.038745617098979,0.4029521352947174,0.59667864550513,0.6394468486557562,0.03585263709459713,-0.30132295712647683,-0.9736496437983283,0.8684284681530144,0.45435969427651257,-0.41894917882778354,2.3996138388959625,0.13016686731748311,0.7014401771582283,-0.7514807578730582,-0.0703342885228187,-0.4105062121026977,1.1920394200746205,0.08445451518422463,-0.2025163746246574,1.875222541601167,-0.5989719779031201,-0.4105244325548731,-0.36255323646150084,-0.5365332726513887,0.16514441044170372,-0.15366747965434072,-1.1511640040344266,-0.4776382620296741,-0.248159010063528,-1.060136689754345,1.1775952611593365,0.5735557786356392,-1.3441547997680352,1.6915339089939418,0.016696622556028547,-0.26520167847816317,-0.5857148182200784,-0.4436374040827791,-0.5967148286534908,-2.0351354773210564,-0.6976623744585153,-0.5817199783204294,0.3962559413654138,-0.4132544997469191,-0.2729093781805246,0.3788744395312149,0.5246440988408595,0.21900962423386025,0.13846477721169534,0.7733237501369795,-0.4269716117244673,-1.774756512093707,-0.7913320725597334,-0.7604590762973202,1.0064206568214757,0.8173135439501026,0.2835310903393199,-0.4077795631538277,1.7004184578092958,-1.0923076735862849,1.4170695177987764,-0.06498282375869908,-0.7630196039036529,1.1899763888301635,-1.3137952469376586,0.04614970070655324,0.1478120840100369,-1.1154839533255734,0.8208781284469043,-0.015615108336519289,0.4542724587085309,-0.01078074600431685,-1.1545110313870102,-1.7764969509292745,0.6208306257500967,-0.3929576392349645,0.3714661965687448,-1.2820510092011643,0.5384800691403969,0.4198149045529836,1.641731336056215,-0.4594229812620825,-0.944265170175422,-1.9888377567757545,-0.10422511899635255,1.3592302834730288,-0.6895090440861636,-1.9921105922526858,-0.058510118356772584,0.08117545002670466,-0.7094489007189255,1.3008084440937275,0.16956253492086343,-1.0014644820759304,-0.25961232172184584,-2.090605931759697,1.209352832754878,0.95445025714465,0.20623168709571943,0.15076285771507894,-0.8160152566808745,-1.9615705425837606,-0.8751914103271305,0.754089407763497,1.4078369302972755,-0.10001832472771952,-0.7520289661044354,-0.6738441687702621,-0.0673594408867785,-0.32852581566216826,-0.25258733831344377,-0.4462509922484799,1.4510613953738045,1.0090117373301335,0.9809842629906007,0.8654959300737188,1.299111315561622,0.7211784797654185,0.7703081735799076,-1.4105329100831419,1.1467205765964805,0.10233042372592181,-1.393386673542929,-0.44588060913438005,-1.9480190475286596,-0.7384506575014999,0.20252930145745657,1.586064652085236,-1.1761006956237772,-1.0773273761416802,-1.1605388614829866,-1.4913779180967552,-0.7550221396272815,-0.5576166938373778,-0.09208667370830664,-0.8594126523914902,2.427562649531509,0.14372138205473883,-1.2610464985690502,1.2212866492566101,-0.11747150062602071,-0.13942542543992797,-0.08449696740141971,0.5501714229007804,0.1035966338364252,-0.07068518205969197,-0.47644579196107734,0.07706670930628945,1.190732961432969,0.6934480257594096,0.46636043616016404,-0.8568186922217378,0.8885682507467603,-0.002868754346338099,-1.0473823447401975,-0.019781716814244395,0.08164209617053143,0.05095183646085085,1.1115067823072395,0.26754729173018693,-2.643556503998431,-0.634661318300778,1.700965443457737,0.7681097744355195,-0.0002915698977350753,0.5425087029057125,-0.19107722823615073,0.4754898992416501,1.1119891901221408,-1.350779314007087,1.1840481566614414,0.3220604507282501,1.6228998918144735,-1.4853520788229608,-1.8681505016534263,-0.9334334338274148,-0.7890121818640046,0.7009774459626509,-0.14875864381666465,-1.3584138310311735,-0.655147021948073,2.435900349322354,0.3080797435799958,0.9856783442741043,0.4054609700760996,1.4978100188716799,-0.5087237204705086,-0.9779554406989923,0.3725423863310618,1.2937477714827705,0.4889841035491341,0.06067254942595004,-0.2349776125607095,1.1531626460929787,-0.46638432481415104,0.3962638207149185,1.1366846379889575,-1.630707075187233,1.518113229538493,-1.887433014484992,-1.094184893494811,0.7127572636935509,-0.09444118341341232,0.48072757870566685,1.2566025246713768,-0.12841282139269344,-1.3716924851194066,0.4540643143176696,-0.30648437491837227,1.161773518473166,-0.3576654157081193,0.7042516898399832,-1.3572638858746755,1.0753617160468283,-2.1734694603172713,0.8628793377626424,1.9331471412580652,-0.4715862554157834,-0.15271202827595196,0.37994233388832443,0.9396412684225307,0.27958990938116884,-0.23554990104822726,-2.552944410773581,1.314842184757068,-0.7738871853708631,-0.730218265475295,-1.0022486613575876,0.6958727303645778,0.1010033352581799,0.13279567162349035,0.07724730777344746,1.6552742343740676,-1.157578556230859,0.07858279718222029,-0.3719165434426983,0.3206147918930284,0.05779328996374325,0.6887144667527636,2.075438301924711,0.6923574480135772,1.7582322024175048,-0.2912618953698951,-1.1439733090849877,-1.537926995241701,0.47513794652368946,-0.362695995976741,-0.36376023940099866,-0.13870320888046705,1.240340864359662,-0.39069676333022824,-0.9688446097221273,1.4021409318828915,-0.8812425925987593,-0.15670679268849794,-0.539797913142098,1.071537541551203,0.06466774357162292,0.9909028045959679,0.09071015710331945,1.1466968152824226,1.905495008644417,-0.7538333949746019,1.4770006898411752,-0.09812592551325358,1.3997171459595272,1.408222930046248,-1.4286142426823405,0.5765648761641587,-0.1944580993769544,0.9565082022777497,0.09906196509263247,0.6192278649279873,-1.360855303542636,0.7729894700896965,-0.8396984723351454,1.4157937512219572,-0.21842360450459625,-0.24638896134133734,0.20803272294568032,0.6723557416737084,-1.6637031602771444,-2.9220351215208633,-1.1591824760850769,-0.8567034549273138,0.21984428244613446,-0.7139403013554955],\"type\":\"scatter\"}],                        {\"legend\":{\"bgcolor\":\"#F5F6F9\",\"font\":{\"color\":\"#4D5663\"}},\"paper_bgcolor\":\"#F5F6F9\",\"plot_bgcolor\":\"#F5F6F9\",\"template\":{\"data\":{\"barpolar\":[{\"marker\":{\"line\":{\"color\":\"#E5ECF6\",\"width\":0.5},\"pattern\":{\"fillmode\":\"overlay\",\"size\":10,\"solidity\":0.2}},\"type\":\"barpolar\"}],\"bar\":[{\"error_x\":{\"color\":\"#2a3f5f\"},\"error_y\":{\"color\":\"#2a3f5f\"},\"marker\":{\"line\":{\"color\":\"#E5ECF6\",\"width\":0.5},\"pattern\":{\"fillmode\":\"overlay\",\"size\":10,\"solidity\":0.2}},\"type\":\"bar\"}],\"carpet\":[{\"aaxis\":{\"endlinecolor\":\"#2a3f5f\",\"gridcolor\":\"white\",\"linecolor\":\"white\",\"minorgridcolor\":\"white\",\"startlinecolor\":\"#2a3f5f\"},\"baxis\":{\"endlinecolor\":\"#2a3f5f\",\"gridcolor\":\"white\",\"linecolor\":\"white\",\"minorgridcolor\":\"white\",\"startlinecolor\":\"#2a3f5f\"},\"type\":\"carpet\"}],\"choropleth\":[{\"colorbar\":{\"outlinewidth\":0,\"ticks\":\"\"},\"type\":\"choropleth\"}],\"contourcarpet\":[{\"colorbar\":{\"outlinewidth\":0,\"ticks\":\"\"},\"type\":\"contourcarpet\"}],\"contour\":[{\"colorbar\":{\"outlinewidth\":0,\"ticks\":\"\"},\"colorscale\":[[0.0,\"#0d0887\"],[0.1111111111111111,\"#46039f\"],[0.2222222222222222,\"#7201a8\"],[0.3333333333333333,\"#9c179e\"],[0.4444444444444444,\"#bd3786\"],[0.5555555555555556,\"#d8576b\"],[0.6666666666666666,\"#ed7953\"],[0.7777777777777778,\"#fb9f3a\"],[0.8888888888888888,\"#fdca26\"],[1.0,\"#f0f921\"]],\"type\":\"contour\"}],\"heatmapgl\":[{\"colorbar\":{\"outlinewidth\":0,\"ticks\":\"\"},\"colorscale\":[[0.0,\"#0d0887\"],[0.1111111111111111,\"#46039f\"],[0.2222222222222222,\"#7201a8\"],[0.3333333333333333,\"#9c179e\"],[0.4444444444444444,\"#bd3786\"],[0.5555555555555556,\"#d8576b\"],[0.6666666666666666,\"#ed7953\"],[0.7777777777777778,\"#fb9f3a\"],[0.8888888888888888,\"#fdca26\"],[1.0,\"#f0f921\"]],\"type\":\"heatmapgl\"}],\"heatmap\":[{\"colorbar\":{\"outlinewidth\":0,\"ticks\":\"\"},\"colorscale\":[[0.0,\"#0d0887\"],[0.1111111111111111,\"#46039f\"],[0.2222222222222222,\"#7201a8\"],[0.3333333333333333,\"#9c179e\"],[0.4444444444444444,\"#bd3786\"],[0.5555555555555556,\"#d8576b\"],[0.6666666666666666,\"#ed7953\"],[0.7777777777777778,\"#fb9f3a\"],[0.8888888888888888,\"#fdca26\"],[1.0,\"#f0f921\"]],\"type\":\"heatmap\"}],\"histogram2dcontour\":[{\"colorbar\":{\"outlinewidth\":0,\"ticks\":\"\"},\"colorscale\":[[0.0,\"#0d0887\"],[0.1111111111111111,\"#46039f\"],[0.2222222222222222,\"#7201a8\"],[0.3333333333333333,\"#9c179e\"],[0.4444444444444444,\"#bd3786\"],[0.5555555555555556,\"#d8576b\"],[0.6666666666666666,\"#ed7953\"],[0.7777777777777778,\"#fb9f3a\"],[0.8888888888888888,\"#fdca26\"],[1.0,\"#f0f921\"]],\"type\":\"histogram2dcontour\"}],\"histogram2d\":[{\"colorbar\":{\"outlinewidth\":0,\"ticks\":\"\"},\"colorscale\":[[0.0,\"#0d0887\"],[0.1111111111111111,\"#46039f\"],[0.2222222222222222,\"#7201a8\"],[0.3333333333333333,\"#9c179e\"],[0.4444444444444444,\"#bd3786\"],[0.5555555555555556,\"#d8576b\"],[0.6666666666666666,\"#ed7953\"],[0.7777777777777778,\"#fb9f3a\"],[0.8888888888888888,\"#fdca26\"],[1.0,\"#f0f921\"]],\"type\":\"histogram2d\"}],\"histogram\":[{\"marker\":{\"pattern\":{\"fillmode\":\"overlay\",\"size\":10,\"solidity\":0.2}},\"type\":\"histogram\"}],\"mesh3d\":[{\"colorbar\":{\"outlinewidth\":0,\"ticks\":\"\"},\"type\":\"mesh3d\"}],\"parcoords\":[{\"line\":{\"colorbar\":{\"outlinewidth\":0,\"ticks\":\"\"}},\"type\":\"parcoords\"}],\"pie\":[{\"automargin\":true,\"type\":\"pie\"}],\"scatter3d\":[{\"line\":{\"colorbar\":{\"outlinewidth\":0,\"ticks\":\"\"}},\"marker\":{\"colorbar\":{\"outlinewidth\":0,\"ticks\":\"\"}},\"type\":\"scatter3d\"}],\"scattercarpet\":[{\"marker\":{\"colorbar\":{\"outlinewidth\":0,\"ticks\":\"\"}},\"type\":\"scattercarpet\"}],\"scattergeo\":[{\"marker\":{\"colorbar\":{\"outlinewidth\":0,\"ticks\":\"\"}},\"type\":\"scattergeo\"}],\"scattergl\":[{\"marker\":{\"colorbar\":{\"outlinewidth\":0,\"ticks\":\"\"}},\"type\":\"scattergl\"}],\"scattermapbox\":[{\"marker\":{\"colorbar\":{\"outlinewidth\":0,\"ticks\":\"\"}},\"type\":\"scattermapbox\"}],\"scatterpolargl\":[{\"marker\":{\"colorbar\":{\"outlinewidth\":0,\"ticks\":\"\"}},\"type\":\"scatterpolargl\"}],\"scatterpolar\":[{\"marker\":{\"colorbar\":{\"outlinewidth\":0,\"ticks\":\"\"}},\"type\":\"scatterpolar\"}],\"scatter\":[{\"marker\":{\"colorbar\":{\"outlinewidth\":0,\"ticks\":\"\"}},\"type\":\"scatter\"}],\"scatterternary\":[{\"marker\":{\"colorbar\":{\"outlinewidth\":0,\"ticks\":\"\"}},\"type\":\"scatterternary\"}],\"surface\":[{\"colorbar\":{\"outlinewidth\":0,\"ticks\":\"\"},\"colorscale\":[[0.0,\"#0d0887\"],[0.1111111111111111,\"#46039f\"],[0.2222222222222222,\"#7201a8\"],[0.3333333333333333,\"#9c179e\"],[0.4444444444444444,\"#bd3786\"],[0.5555555555555556,\"#d8576b\"],[0.6666666666666666,\"#ed7953\"],[0.7777777777777778,\"#fb9f3a\"],[0.8888888888888888,\"#fdca26\"],[1.0,\"#f0f921\"]],\"type\":\"surface\"}],\"table\":[{\"cells\":{\"fill\":{\"color\":\"#EBF0F8\"},\"line\":{\"color\":\"white\"}},\"header\":{\"fill\":{\"color\":\"#C8D4E3\"},\"line\":{\"color\":\"white\"}},\"type\":\"table\"}]},\"layout\":{\"annotationdefaults\":{\"arrowcolor\":\"#2a3f5f\",\"arrowhead\":0,\"arrowwidth\":1},\"autotypenumbers\":\"strict\",\"coloraxis\":{\"colorbar\":{\"outlinewidth\":0,\"ticks\":\"\"}},\"colorscale\":{\"diverging\":[[0,\"#8e0152\"],[0.1,\"#c51b7d\"],[0.2,\"#de77ae\"],[0.3,\"#f1b6da\"],[0.4,\"#fde0ef\"],[0.5,\"#f7f7f7\"],[0.6,\"#e6f5d0\"],[0.7,\"#b8e186\"],[0.8,\"#7fbc41\"],[0.9,\"#4d9221\"],[1,\"#276419\"]],\"sequential\":[[0.0,\"#0d0887\"],[0.1111111111111111,\"#46039f\"],[0.2222222222222222,\"#7201a8\"],[0.3333333333333333,\"#9c179e\"],[0.4444444444444444,\"#bd3786\"],[0.5555555555555556,\"#d8576b\"],[0.6666666666666666,\"#ed7953\"],[0.7777777777777778,\"#fb9f3a\"],[0.8888888888888888,\"#fdca26\"],[1.0,\"#f0f921\"]],\"sequentialminus\":[[0.0,\"#0d0887\"],[0.1111111111111111,\"#46039f\"],[0.2222222222222222,\"#7201a8\"],[0.3333333333333333,\"#9c179e\"],[0.4444444444444444,\"#bd3786\"],[0.5555555555555556,\"#d8576b\"],[0.6666666666666666,\"#ed7953\"],[0.7777777777777778,\"#fb9f3a\"],[0.8888888888888888,\"#fdca26\"],[1.0,\"#f0f921\"]]},\"colorway\":[\"#636efa\",\"#EF553B\",\"#00cc96\",\"#ab63fa\",\"#FFA15A\",\"#19d3f3\",\"#FF6692\",\"#B6E880\",\"#FF97FF\",\"#FECB52\"],\"font\":{\"color\":\"#2a3f5f\"},\"geo\":{\"bgcolor\":\"white\",\"lakecolor\":\"white\",\"landcolor\":\"#E5ECF6\",\"showlakes\":true,\"showland\":true,\"subunitcolor\":\"white\"},\"hoverlabel\":{\"align\":\"left\"},\"hovermode\":\"closest\",\"mapbox\":{\"style\":\"light\"},\"paper_bgcolor\":\"white\",\"plot_bgcolor\":\"#E5ECF6\",\"polar\":{\"angularaxis\":{\"gridcolor\":\"white\",\"linecolor\":\"white\",\"ticks\":\"\"},\"bgcolor\":\"#E5ECF6\",\"radialaxis\":{\"gridcolor\":\"white\",\"linecolor\":\"white\",\"ticks\":\"\"}},\"scene\":{\"xaxis\":{\"backgroundcolor\":\"#E5ECF6\",\"gridcolor\":\"white\",\"gridwidth\":2,\"linecolor\":\"white\",\"showbackground\":true,\"ticks\":\"\",\"zerolinecolor\":\"white\"},\"yaxis\":{\"backgroundcolor\":\"#E5ECF6\",\"gridcolor\":\"white\",\"gridwidth\":2,\"linecolor\":\"white\",\"showbackground\":true,\"ticks\":\"\",\"zerolinecolor\":\"white\"},\"zaxis\":{\"backgroundcolor\":\"#E5ECF6\",\"gridcolor\":\"white\",\"gridwidth\":2,\"linecolor\":\"white\",\"showbackground\":true,\"ticks\":\"\",\"zerolinecolor\":\"white\"}},\"shapedefaults\":{\"line\":{\"color\":\"#2a3f5f\"}},\"ternary\":{\"aaxis\":{\"gridcolor\":\"white\",\"linecolor\":\"white\",\"ticks\":\"\"},\"baxis\":{\"gridcolor\":\"white\",\"linecolor\":\"white\",\"ticks\":\"\"},\"bgcolor\":\"#E5ECF6\",\"caxis\":{\"gridcolor\":\"white\",\"linecolor\":\"white\",\"ticks\":\"\"}},\"title\":{\"x\":0.05},\"xaxis\":{\"automargin\":true,\"gridcolor\":\"white\",\"linecolor\":\"white\",\"ticks\":\"\",\"title\":{\"standoff\":15},\"zerolinecolor\":\"white\",\"zerolinewidth\":2},\"yaxis\":{\"automargin\":true,\"gridcolor\":\"white\",\"linecolor\":\"white\",\"ticks\":\"\",\"title\":{\"standoff\":15},\"zerolinecolor\":\"white\",\"zerolinewidth\":2}}},\"title\":{\"font\":{\"color\":\"#4D5663\"}},\"xaxis\":{\"gridcolor\":\"#E1E5ED\",\"showgrid\":true,\"tickfont\":{\"color\":\"#4D5663\"},\"title\":{\"font\":{\"color\":\"#4D5663\"},\"text\":\"\"},\"zerolinecolor\":\"#E1E5ED\"},\"yaxis\":{\"gridcolor\":\"#E1E5ED\",\"showgrid\":true,\"tickfont\":{\"color\":\"#4D5663\"},\"title\":{\"font\":{\"color\":\"#4D5663\"},\"text\":\"\"},\"zerolinecolor\":\"#E1E5ED\"}},                        {\"showLink\": true, \"linkText\": \"Export to plot.ly\", \"plotlyServerURL\": \"https://plot.ly\", \"responsive\": true}                    ).then(function(){\n",
       "                            \n",
       "var gd = document.getElementById('35fd3306-e2d4-44ed-af79-fad483cc55db');\n",
       "var x = new MutationObserver(function (mutations, observer) {{\n",
       "        var display = window.getComputedStyle(gd).display;\n",
       "        if (!display || display === 'none') {{\n",
       "            console.log([gd, 'removed!']);\n",
       "            Plotly.purge(gd);\n",
       "            observer.disconnect();\n",
       "        }}\n",
       "}});\n",
       "\n",
       "// Listen for the removal of the full notebook cells\n",
       "var notebookContainer = gd.closest('#notebook-container');\n",
       "if (notebookContainer) {{\n",
       "    x.observe(notebookContainer, {childList: true});\n",
       "}}\n",
       "\n",
       "// Listen for the clearing of the current output cell\n",
       "var outputEl = gd.closest('.output');\n",
       "if (outputEl) {{\n",
       "    x.observe(outputEl, {childList: true});\n",
       "}}\n",
       "\n",
       "                        })                };                });            </script>        </div>"
      ]
     },
     "metadata": {},
     "output_type": "display_data"
    }
   ],
   "source": [
    "df1.iplot();"
   ]
  },
  {
   "cell_type": "code",
   "execution_count": 20,
   "id": "20b28a9e",
   "metadata": {},
   "outputs": [
    {
     "data": {
      "application/vnd.plotly.v1+json": {
       "config": {
        "linkText": "Export to plot.ly",
        "plotlyServerURL": "https://plot.ly",
        "showLink": true
       },
       "data": [
        {
         "line": {
          "color": "rgba(255, 255, 51, 1.0)",
          "dash": "solid",
          "shape": "linear",
          "width": 1.3
         },
         "marker": {
          "size": 20,
          "symbol": "circle"
         },
         "mode": "markers",
         "name": "B",
         "text": "",
         "type": "scatter",
         "x": [
          0.2368150873619006,
          0.15326634396288585,
          -0.7200298756684526,
          -1.01163513885463,
          -0.38161070197940017,
          -1.372529585653803,
          -0.9621157004232631,
          0.9498423277132721,
          0.2921052799655276,
          1.64830263330383,
          -0.3269032177752567,
          -0.7399905237461355,
          0.8891433061687039,
          1.2563426921920937,
          -0.9670412614794054,
          2.2434451242426334,
          0.3204207682211625,
          0.10607002243585302,
          0.10282387955271609,
          0.20987945169443412,
          -0.48961292431746223,
          2.736078134074456,
          -0.7596642482747243,
          2.0840111526550515,
          1.6625074980743457,
          0.23358726479203873,
          -0.07475488930655838,
          -1.285947988708988,
          -0.06774554118100017,
          1.556834576055044,
          -0.062102593814048326,
          0.07266582351703005,
          0.6531023403330972,
          0.21826020271644322,
          0.4051986338008625,
          0.6980726892127668,
          -0.08564192470061167,
          0.32288635586939,
          1.8480443809543814,
          0.8513913587925882,
          -1.0562482636354886,
          -0.8471967127703255,
          -0.3916668280564733,
          0.21136030960209737,
          -1.0342195077286696,
          -0.47436877076284034,
          2.133106907609308,
          -0.9124562885070545,
          -0.3539904177862304,
          -0.01892669958611769,
          -0.5831477949669034,
          0.7383055352776308,
          0.12178037533677828,
          -1.2333615901627757,
          -1.312849536735822,
          -1.5857992428728067,
          2.1016191547383114,
          0.8630051495108296,
          -1.0735780812840006,
          0.6535629551855013,
          -0.8202148846453614,
          0.8246460016536702,
          0.16662061604475872,
          -0.06959019587016031,
          0.08474234840654415,
          -0.6701742374876497,
          0.6742682452829133,
          1.053225992770241,
          -0.19980774946238936,
          0.11539341791055742,
          0.08095175908095865,
          0.7145032519139668,
          -0.15479068012296693,
          -0.18700595506906226,
          0.21545511055224112,
          1.0650207646484497,
          0.07150511811786767,
          -0.045864970918570246,
          -0.4512385906421965,
          -0.10166745237183507,
          -1.4316821184871111,
          -2.7380211323146306,
          0.8180233337064482,
          -0.4994511918143605,
          -2.4043828999681183,
          -1.1395643797626336,
          0.03179022302553748,
          -0.01812629979441633,
          1.0819779409412478,
          -0.708297735508812,
          -1.884492982858543,
          1.5325943616146824,
          1.9493000564490703,
          0.23733734800731313,
          -0.2970745980835244,
          -0.7864408792273413,
          0.9900462374535264,
          -0.48993231346208954,
          1.755657648874985,
          -1.7878933254288187,
          0.7904824140628962,
          -0.1387912867158326,
          1.1125997896524007,
          0.4466284093939971,
          1.3377970349951813,
          -1.5167312631098857,
          -0.3527989683391722,
          0.8450892879594704,
          0.44144997380599266,
          0.3112389700131346,
          -1.620986225796458,
          -0.10532568953539652,
          0.9621681876232612,
          0.26603811216623957,
          -0.7278819321154157,
          0.8557633933301175,
          0.21373046555661973,
          -1.9216608630905474,
          0.07124626079810054,
          0.5636295122576199,
          -0.09785433992800284,
          0.7171242209408782,
          -0.8234828692219782,
          -0.31049124523756266,
          1.0815727725968625,
          0.9322558767158597,
          1.0051448675074062,
          0.5147418325805265,
          1.132474332383901,
          -0.9577730705454137,
          0.1274731965439913,
          1.3607833721636429,
          -2.031349680993669,
          -1.4179174055135106,
          -0.5802132172377643,
          0.46512383755459596,
          0.769741053165253,
          -0.5268394647808874,
          -1.474722501836746,
          -0.10544730057266748,
          -0.12375734928948648,
          -0.2837510868317904,
          -0.3776030297047196,
          -1.0055196995558144,
          0.7397831703608402,
          -0.21382613291823613,
          -1.110158674711503,
          0.6536299518088545,
          1.8560300205580025,
          -0.22949167315478186,
          -0.6652377215639678,
          -1.8223567498937627,
          -0.8437036010599748,
          -0.7794639637425111,
          1.378770524567123,
          -0.8787447391959187,
          -0.06759996514266496,
          0.7869666748209092,
          -0.2853667830900193,
          1.503426340774217,
          -0.45306797568302104,
          0.12313898720717087,
          -2.1337303896365736,
          0.9527239208644198,
          0.5361866020066929,
          -0.31683954258425473,
          1.4856708456649141,
          0.25312497953325175,
          -0.621879305291454,
          -0.9628828587530323,
          0.3366107107320239,
          0.9038751668462113,
          1.9683113193177837,
          0.3647378382498198,
          0.9532860121288194,
          -0.14877645274271495,
          0.4718795530392423,
          -0.10197882301394859,
          0.6791396626072205,
          -1.5972721483802235,
          1.9459871243086975,
          -0.2909229012581445,
          0.38358279044873445,
          0.6856110204445703,
          -1.2872866113996893,
          1.5801098372998337,
          -0.345830839657898,
          0.5394454397252728,
          -1.144824644941274,
          0.2822162131726958,
          0.41527798106905595,
          -0.8363710782871023,
          -0.7891100080854799,
          0.0987548102416055,
          -0.9082942747068138,
          2.1682450119739687,
          0.008674867849282909,
          1.5867207686043467,
          0.375859843615774,
          1.6205759114546434,
          -0.6220493576852684,
          -0.6052351948454991,
          2.078311254829741,
          0.6766740800475627,
          -1.21945327693854,
          2.105282290819725,
          0.6625174918288212,
          -0.5520987644202794,
          -1.7557554235007398,
          0.6131934852748897,
          0.45941430189989535,
          0.5469026891603647,
          0.7726060371444358,
          0.038745617098979,
          0.4029521352947174,
          0.59667864550513,
          0.6394468486557562,
          0.03585263709459713,
          -0.30132295712647683,
          -0.9736496437983283,
          0.8684284681530144,
          0.45435969427651257,
          -0.41894917882778354,
          2.3996138388959625,
          0.13016686731748311,
          0.7014401771582283,
          -0.7514807578730582,
          -0.0703342885228187,
          -0.4105062121026977,
          1.1920394200746205,
          0.08445451518422463,
          -0.2025163746246574,
          1.875222541601167,
          -0.5989719779031201,
          -0.4105244325548731,
          -0.36255323646150084,
          -0.5365332726513887,
          0.16514441044170372,
          -0.15366747965434072,
          -1.1511640040344266,
          -0.4776382620296741,
          -0.248159010063528,
          -1.060136689754345,
          1.1775952611593365,
          0.5735557786356392,
          -1.3441547997680352,
          1.6915339089939418,
          0.016696622556028547,
          -0.26520167847816317,
          -0.5857148182200784,
          -0.4436374040827791,
          -0.5967148286534908,
          -2.0351354773210564,
          -0.6976623744585153,
          -0.5817199783204294,
          0.3962559413654138,
          -0.4132544997469191,
          -0.2729093781805246,
          0.3788744395312149,
          0.5246440988408595,
          0.21900962423386025,
          0.13846477721169534,
          0.7733237501369795,
          -0.4269716117244673,
          -1.774756512093707,
          -0.7913320725597334,
          -0.7604590762973202,
          1.0064206568214757,
          0.8173135439501026,
          0.2835310903393199,
          -0.4077795631538277,
          1.7004184578092958,
          -1.0923076735862849,
          1.4170695177987764,
          -0.06498282375869908,
          -0.7630196039036529,
          1.1899763888301635,
          -1.3137952469376586,
          0.04614970070655324,
          0.1478120840100369,
          -1.1154839533255734,
          0.8208781284469043,
          -0.015615108336519289,
          0.4542724587085309,
          -0.01078074600431685,
          -1.1545110313870102,
          -1.7764969509292745,
          0.6208306257500967,
          -0.3929576392349645,
          0.3714661965687448,
          -1.2820510092011643,
          0.5384800691403969,
          0.4198149045529836,
          1.641731336056215,
          -0.4594229812620825,
          -0.944265170175422,
          -1.9888377567757545,
          -0.10422511899635255,
          1.3592302834730288,
          -0.6895090440861636,
          -1.9921105922526858,
          -0.058510118356772584,
          0.08117545002670466,
          -0.7094489007189255,
          1.3008084440937275,
          0.16956253492086343,
          -1.0014644820759304,
          -0.25961232172184584,
          -2.090605931759697,
          1.209352832754878,
          0.95445025714465,
          0.20623168709571943,
          0.15076285771507894,
          -0.8160152566808745,
          -1.9615705425837606,
          -0.8751914103271305,
          0.754089407763497,
          1.4078369302972755,
          -0.10001832472771952,
          -0.7520289661044354,
          -0.6738441687702621,
          -0.0673594408867785,
          -0.32852581566216826,
          -0.25258733831344377,
          -0.4462509922484799,
          1.4510613953738045,
          1.0090117373301335,
          0.9809842629906007,
          0.8654959300737188,
          1.299111315561622,
          0.7211784797654185,
          0.7703081735799076,
          -1.4105329100831419,
          1.1467205765964805,
          0.10233042372592181,
          -1.393386673542929,
          -0.44588060913438005,
          -1.9480190475286596,
          -0.7384506575014999,
          0.20252930145745657,
          1.586064652085236,
          -1.1761006956237772,
          -1.0773273761416802,
          -1.1605388614829866,
          -1.4913779180967552,
          -0.7550221396272815,
          -0.5576166938373778,
          -0.09208667370830664,
          -0.8594126523914902,
          2.427562649531509,
          0.14372138205473883,
          -1.2610464985690502,
          1.2212866492566101,
          -0.11747150062602071,
          -0.13942542543992797,
          -0.08449696740141971,
          0.5501714229007804,
          0.1035966338364252,
          -0.07068518205969197,
          -0.47644579196107734,
          0.07706670930628945,
          1.190732961432969,
          0.6934480257594096,
          0.46636043616016404,
          -0.8568186922217378,
          0.8885682507467603,
          -0.002868754346338099,
          -1.0473823447401975,
          -0.019781716814244395,
          0.08164209617053143,
          0.05095183646085085,
          1.1115067823072395,
          0.26754729173018693,
          -2.643556503998431,
          -0.634661318300778,
          1.700965443457737,
          0.7681097744355195,
          -0.0002915698977350753,
          0.5425087029057125,
          -0.19107722823615073,
          0.4754898992416501,
          1.1119891901221408,
          -1.350779314007087,
          1.1840481566614414,
          0.3220604507282501,
          1.6228998918144735,
          -1.4853520788229608,
          -1.8681505016534263,
          -0.9334334338274148,
          -0.7890121818640046,
          0.7009774459626509,
          -0.14875864381666465,
          -1.3584138310311735,
          -0.655147021948073,
          2.435900349322354,
          0.3080797435799958,
          0.9856783442741043,
          0.4054609700760996,
          1.4978100188716799,
          -0.5087237204705086,
          -0.9779554406989923,
          0.3725423863310618,
          1.2937477714827705,
          0.4889841035491341,
          0.06067254942595004,
          -0.2349776125607095,
          1.1531626460929787,
          -0.46638432481415104,
          0.3962638207149185,
          1.1366846379889575,
          -1.630707075187233,
          1.518113229538493,
          -1.887433014484992,
          -1.094184893494811,
          0.7127572636935509,
          -0.09444118341341232,
          0.48072757870566685,
          1.2566025246713768,
          -0.12841282139269344,
          -1.3716924851194066,
          0.4540643143176696,
          -0.30648437491837227,
          1.161773518473166,
          -0.3576654157081193,
          0.7042516898399832,
          -1.3572638858746755,
          1.0753617160468283,
          -2.1734694603172713,
          0.8628793377626424,
          1.9331471412580652,
          -0.4715862554157834,
          -0.15271202827595196,
          0.37994233388832443,
          0.9396412684225307,
          0.27958990938116884,
          -0.23554990104822726,
          -2.552944410773581,
          1.314842184757068,
          -0.7738871853708631,
          -0.730218265475295,
          -1.0022486613575876,
          0.6958727303645778,
          0.1010033352581799,
          0.13279567162349035,
          0.07724730777344746,
          1.6552742343740676,
          -1.157578556230859,
          0.07858279718222029,
          -0.3719165434426983,
          0.3206147918930284,
          0.05779328996374325,
          0.6887144667527636,
          2.075438301924711,
          0.6923574480135772,
          1.7582322024175048,
          -0.2912618953698951,
          -1.1439733090849877,
          -1.537926995241701,
          0.47513794652368946,
          -0.362695995976741,
          -0.36376023940099866,
          -0.13870320888046705,
          1.240340864359662,
          -0.39069676333022824,
          -0.9688446097221273,
          1.4021409318828915,
          -0.8812425925987593,
          -0.15670679268849794,
          -0.539797913142098,
          1.071537541551203,
          0.06466774357162292,
          0.9909028045959679,
          0.09071015710331945,
          1.1466968152824226,
          1.905495008644417,
          -0.7538333949746019,
          1.4770006898411752,
          -0.09812592551325358,
          1.3997171459595272,
          1.408222930046248,
          -1.4286142426823405,
          0.5765648761641587,
          -0.1944580993769544,
          0.9565082022777497,
          0.09906196509263247,
          0.6192278649279873,
          -1.360855303542636,
          0.7729894700896965,
          -0.8396984723351454,
          1.4157937512219572,
          -0.21842360450459625,
          -0.24638896134133734,
          0.20803272294568032,
          0.6723557416737084,
          -1.6637031602771444,
          -2.9220351215208633,
          -1.1591824760850769,
          -0.8567034549273138,
          0.21984428244613446,
          -0.7139403013554955
         ],
         "y": [
          -0.8643303486768782,
          -0.48545447661592434,
          0.074622210582842,
          -1.1235170332369224,
          -1.0135508333616168,
          0.30827543616675057,
          0.3752038214699598,
          -0.6007368177428646,
          0.9129030633322243,
          0.043888449546883514,
          -0.24031317108009856,
          -0.7375646355758417,
          -0.4681910820777421,
          0.9964026624751344,
          2.0971634956989016,
          0.450574874362932,
          1.4635098238231417,
          -0.4319436150231565,
          -1.278331730768012,
          0.5744366004914743,
          2.0869333139116595,
          -0.9193410790800395,
          -1.833408200375922,
          0.815870476737727,
          1.2255231447347203,
          1.4269942761256478,
          -0.0208392893246553,
          -0.802855883972416,
          0.7441495619973297,
          0.5726913780552716,
          -1.0359943891301344,
          -0.3032828708270887,
          0.32218939138050695,
          -0.07482836543124932,
          -2.2881247996561536,
          0.8396551087311036,
          0.6329973906675159,
          -0.8089122730077706,
          1.3563360794124653,
          -1.3910248195095662,
          0.18226155741218986,
          1.1812588349937838,
          -0.017857317368380452,
          -1.7335749162749488,
          -1.4021895915785028,
          -0.32509108497305844,
          -0.5869592019054817,
          0.9495712552305394,
          0.3463687493993234,
          -1.4667436417122397,
          1.3062901272194902,
          -0.42658619894597277,
          0.9620508083663744,
          0.23526592031426882,
          0.8497327673805525,
          0.5588145927097056,
          -0.48360172418772346,
          1.0709943964111517,
          0.8398138160631732,
          0.12310755185178913,
          -0.6527937114668243,
          -0.5922539583676146,
          -0.5544129808454866,
          -1.17542810552467,
          -0.8993931961583361,
          1.873212240564465,
          -0.759361895137789,
          1.462828531032524,
          -0.006853677859164635,
          -0.19400329825342275,
          -0.6102253464084665,
          1.243358257011422,
          -0.5201554842199142,
          0.7388503478936396,
          -0.2160079096289911,
          1.1631834133147718,
          -0.3574428213850189,
          -0.5272720419829308,
          -1.02954231733991,
          -0.40167488843385485,
          0.6136324469264254,
          -0.09110088583380581,
          -1.2690999569499417,
          -0.9218185358341311,
          1.5341086823582701,
          -1.0965694293552006,
          0.22986512582809857,
          -2.211500102580387,
          -0.9439370395816332,
          -0.15983863544068952,
          1.369931708738245,
          0.4934425353439321,
          -1.0176043028353083,
          -1.1886790512293166,
          -2.184617633428162,
          0.46019217910122356,
          0.4849860717936879,
          0.12688255505038534,
          -0.25140835619897484,
          1.4658126550581294,
          1.2694256644911606,
          -0.8138443318306805,
          1.1298803448185024,
          0.5348476041160375,
          1.2430183866911644,
          -0.35029193218261967,
          -0.9963080251603601,
          -1.088178138364631,
          -0.8427024185119844,
          -0.8780277630627888,
          -0.17087787066342594,
          0.5923576710960169,
          -1.514603792728183,
          -0.7971490448026465,
          1.8579492939592588,
          -0.47659227243257524,
          1.1741791349143988,
          -0.23002183980604202,
          -0.9788257071866882,
          -0.787089545523912,
          0.15632669264770976,
          0.7873375409078308,
          -0.6851596359225393,
          0.07258239604801417,
          1.0108568062678853,
          -0.5350206269668196,
          0.4617210322108998,
          0.6729851129996333,
          0.6947791573841785,
          -2.0349434613126345,
          0.9346846632454399,
          -1.904184957979476,
          -1.5897498110802348,
          0.07803041176088413,
          0.09756084554805393,
          0.6571696597348613,
          1.071629838766347,
          -3.282116736543372,
          0.2952320886515686,
          1.0286252197016175,
          0.4510046185128533,
          -0.5808097525959789,
          -0.2048240951015417,
          -0.7244019010710904,
          1.7234902946045805,
          0.013434282552561105,
          0.1916188862715387,
          0.5978644944394771,
          -1.1974830645358936,
          -0.06666291479540355,
          0.8386492151156741,
          -1.1291644176032307,
          0.05241849417403152,
          -0.10907417825855412,
          0.6380514166366121,
          0.04879476309572777,
          -0.16777849124113872,
          -0.39249040661168333,
          1.191873587685773,
          -1.3205280526782754,
          0.42993519552984616,
          -0.09237482587070879,
          -0.7926842172330973,
          0.5679663048689276,
          -1.654584667175674,
          1.2808190915252475,
          -0.10407137936591151,
          0.9459287720169433,
          2.997001930072728,
          0.9446389150568022,
          -0.73353832354179,
          -1.5846353717838617,
          -0.885051530172661,
          -0.4675519667238059,
          -0.13331587213270782,
          0.9611220186060137,
          -1.7600226706559756,
          -0.6197654075068263,
          -0.6491288178838583,
          0.05533463637359131,
          1.2545161923962125,
          -0.5498373082089602,
          0.005935305924675948,
          -0.28937403873654166,
          -1.7176819437111137,
          1.062708296845886,
          0.14576196013743872,
          0.36022314475696043,
          0.3100393862711781,
          0.43621572859192037,
          -1.1115511453849622,
          -0.8931284957701531,
          1.432237106043617,
          -0.26799178109682303,
          -1.2364356306727065,
          -0.27727843249292256,
          -0.7484029189008448,
          0.6628246713802153,
          0.6209823288852403,
          2.095729456275502,
          -0.8615847093288481,
          1.470005888534789,
          0.8742648623981958,
          0.9126777321153317,
          0.6494642173952481,
          0.3437184635242458,
          0.8055190722528236,
          0.15608954232600264,
          2.2991264282837514,
          -0.21805154042505967,
          0.4940450628946168,
          2.3879553375112446,
          0.8331103320151628,
          1.243259684792002,
          0.29035122447166023,
          1.5117606491184155,
          -0.9836973745096882,
          -0.0791966119835468,
          -0.04835572773807457,
          -0.4588441898535056,
          -0.46823840601349903,
          -0.18408406954795853,
          -1.1626812553841233,
          -0.2831560692653616,
          -1.8017380946848456,
          2.323297217914825,
          -0.012652770991927053,
          -1.624019653170712,
          -0.7302033749047425,
          -0.23963287429026348,
          -0.09943147070440395,
          -0.3845642646273242,
          0.21337835024865434,
          -0.1550967548668219,
          -1.7451208715071838,
          0.021781593220121454,
          0.482528557119484,
          0.12476506259864548,
          -0.6543838003523604,
          1.2277565899924272,
          -1.411510936136483,
          -2.118413452367423,
          -1.2191132070960833,
          -0.03352686771440494,
          0.7279308289098316,
          0.9873327613922971,
          -0.774358456390364,
          0.7004299687598552,
          -0.9058837691216307,
          -1.518410302156876,
          -0.4837581462051957,
          -1.6760619095747817,
          1.4722656310018942,
          0.4682039916630244,
          1.285696641292299,
          0.6831171389874126,
          0.1912045241029588,
          -2.224160874884401,
          1.1018758146399366,
          0.8747486356358478,
          -0.5279419976982931,
          -0.20003195098500165,
          1.5055495853342502,
          0.5842278792894626,
          -0.09310041514168922,
          -1.4060082253516486,
          0.43107319763056773,
          -0.36592333005463823,
          0.8141227079424633,
          -0.5425875028149405,
          3.3444053600891794,
          -0.8543661707645733,
          -0.0036736179172075657,
          1.4889857461361322,
          0.8774867172162479,
          0.8299268077371682,
          -1.05663825382182,
          -1.4149516227168877,
          0.7522426144924427,
          -0.00507914787781083,
          0.2610478555094977,
          -0.6591997559801382,
          1.7859012833147028,
          0.48619923737625087,
          -0.8214188979619703,
          0.6192804184346206,
          1.0713857011142744,
          -1.1610794412009768,
          1.6579333645418834,
          0.2034182528098526,
          1.4325120284223194,
          -0.09835000317701767,
          -0.15838912799838256,
          -1.0033864937970682,
          -0.19797015542064625,
          -0.3445003875231573,
          0.4629639290835394,
          2.004274465354049,
          -1.2368295038978248,
          -0.23788254454037747,
          2.0896780022851384,
          1.3412188953431496,
          0.3211422799063036,
          -0.935985886998604,
          1.0259480771917622,
          -1.1363139505860618,
          -0.22065679242018224,
          0.21541308017735333,
          0.258026315926332,
          -0.1422252125062341,
          1.1244121613009839,
          -0.12224367024175394,
          -1.1563005016916008,
          2.6727713098930304,
          -0.23724607730587513,
          -0.8492335753063022,
          -1.8238501392306563,
          0.6301747948826578,
          -0.4536294485473571,
          0.5466184239298865,
          -2.761470067853639,
          2.4219769246256138,
          0.6575582951257924,
          0.11018430960437979,
          -0.4043064664618296,
          -0.014195310918731014,
          -0.11848894241219605,
          0.06286111586675902,
          0.0021071470684251538,
          1.939388247139212,
          -0.7379644760465487,
          -1.0427124320458634,
          0.12747767318100034,
          -1.2522775334466993,
          0.9578929427346745,
          0.3271967175508989,
          0.5362929742083407,
          -0.3508172905905263,
          0.05492688094458291,
          -0.9421086807462195,
          -1.3251744536700256,
          -1.4980980685036622,
          0.28267030401835674,
          -0.7799313729849388,
          0.11868777977450357,
          1.686143711218559,
          -1.9291684273498853,
          -0.06254290149300008,
          0.4651236249986807,
          -0.04242190121669,
          -0.3525024804704805,
          1.6225727507548946,
          2.0977605032727804,
          -0.08923437022106705,
          1.3833770169837647,
          1.1862273094402493,
          -0.6246464424587231,
          0.8549954429876008,
          -0.7116385642343395,
          0.6265741730573536,
          1.1768356984339212,
          1.3248293605060646,
          -1.8522571483565107,
          0.30997096539653807,
          -0.8880745800000089,
          0.253383193283707,
          -0.9768957622608174,
          -0.6091935773789839,
          -0.6799134846035905,
          2.066333414643886,
          -0.4642699043334721,
          -0.02898032555184812,
          -0.9721294891522054,
          -0.15520264621898416,
          -1.5628622157904601,
          -0.8349774946109407,
          -0.40442140189019976,
          0.7723782891777186,
          0.5536856695790957,
          -2.7167014503503784,
          0.638822008846059,
          1.8712513786113707,
          -0.9953562930811777,
          1.061665809966131,
          0.9743917547121637,
          1.4671618364511696,
          0.9578471762382555,
          -0.5815277591166844,
          -1.2076648278816577,
          -0.0657016749925392,
          1.2102546538797605,
          -0.41434974587769396,
          -2.134092747898878,
          -1.3535497163380736,
          -1.103250175773825,
          -0.49731886265549,
          0.1734272005249689,
          -0.5265192685695984,
          -0.5324593192678335,
          1.216030605487049,
          0.7295668971800661,
          0.1774849473446891,
          0.3909567085886405,
          0.7540444722579828,
          -0.8355880993856984,
          -0.2699966546414888,
          -1.491589102324052,
          1.2074903860926305,
          0.1800949874190779,
          -0.027095195545727348,
          0.14112740040017233,
          0.18394558773240247,
          0.15863572656206876,
          -0.13863984835101228,
          0.11567371216113824,
          -2.747890945453844,
          0.6712394146089311,
          0.16440826700384412,
          -0.05379778761770426,
          -0.2465238049705523,
          0.323786924921426,
          0.5559385807572145,
          -2.118198834740286,
          0.035312905641552914,
          1.6944904345617409,
          -0.27016916835057697,
          -0.42411364677781505,
          0.9031225901674101,
          -0.6455303294094389,
          -0.8543668551987945,
          0.7648523102734774,
          -1.15592506213242,
          -1.1455866689194092,
          0.45455005352747685,
          -1.0418808254518175,
          -3.4398979994064396,
          0.9553147053149923,
          -1.35015049238068,
          -0.5104054673852467,
          0.3635549281497244,
          0.35042447944233734,
          -1.9251212835749618,
          0.0542309606517661,
          -0.4675538831867497,
          -0.5950121082024477,
          -0.36620442736041353,
          0.9090081344868,
          -0.28727179127092833,
          -0.5842058132658754,
          0.655637815539823,
          0.1622113796976176,
          1.6189653844673815,
          -0.06353675870301875,
          1.3735319300323154,
          -0.797621117621803,
          -1.4111881283100125,
          1.8737254828225627,
          1.527413080052041,
          0.5747615492248692,
          -2.602687966669538,
          0.1708012600060014,
          0.7591970655662041,
          -0.28349796436191604,
          1.1933316444037287,
          -0.34652383040180174,
          0.027978780165058847,
          0.09964420747497904,
          -0.15316023877715385,
          0.20278211150359476,
          -0.2883354426322248,
          1.6913561586121721,
          0.05766745533335582,
          0.6065666962000866,
          -0.133127654713106,
          -0.4915389492477984,
          0.6541428243870232,
          -0.7593657250143889,
          -2.756242431007816,
          -0.47883543341722296,
          0.8151174654789304,
          -0.21085476172580359,
          -0.0636153470267502,
          0.23795371149658143,
          0.7821675058426818,
          0.9646701284449362,
          -0.5169132171189804,
          -0.8268284016364045,
          0.9602246004207001,
          1.6125784412022457,
          -1.6354452396299193,
          -0.824785002549613,
          1.5387852773955826,
          0.028356711317799474,
          0.910487841740798,
          0.4612284154337478,
          -0.9421194730921624,
          0.03244761934384349,
          1.6483417596631968,
          1.679920658134673,
          0.18097423856973993
         ]
        }
       ],
       "layout": {
        "legend": {
         "bgcolor": "#F5F6F9",
         "font": {
          "color": "#4D5663"
         }
        },
        "paper_bgcolor": "#F5F6F9",
        "plot_bgcolor": "#F5F6F9",
        "template": {
         "data": {
          "bar": [
           {
            "error_x": {
             "color": "#2a3f5f"
            },
            "error_y": {
             "color": "#2a3f5f"
            },
            "marker": {
             "line": {
              "color": "#E5ECF6",
              "width": 0.5
             },
             "pattern": {
              "fillmode": "overlay",
              "size": 10,
              "solidity": 0.2
             }
            },
            "type": "bar"
           }
          ],
          "barpolar": [
           {
            "marker": {
             "line": {
              "color": "#E5ECF6",
              "width": 0.5
             },
             "pattern": {
              "fillmode": "overlay",
              "size": 10,
              "solidity": 0.2
             }
            },
            "type": "barpolar"
           }
          ],
          "carpet": [
           {
            "aaxis": {
             "endlinecolor": "#2a3f5f",
             "gridcolor": "white",
             "linecolor": "white",
             "minorgridcolor": "white",
             "startlinecolor": "#2a3f5f"
            },
            "baxis": {
             "endlinecolor": "#2a3f5f",
             "gridcolor": "white",
             "linecolor": "white",
             "minorgridcolor": "white",
             "startlinecolor": "#2a3f5f"
            },
            "type": "carpet"
           }
          ],
          "choropleth": [
           {
            "colorbar": {
             "outlinewidth": 0,
             "ticks": ""
            },
            "type": "choropleth"
           }
          ],
          "contour": [
           {
            "colorbar": {
             "outlinewidth": 0,
             "ticks": ""
            },
            "colorscale": [
             [
              0,
              "#0d0887"
             ],
             [
              0.1111111111111111,
              "#46039f"
             ],
             [
              0.2222222222222222,
              "#7201a8"
             ],
             [
              0.3333333333333333,
              "#9c179e"
             ],
             [
              0.4444444444444444,
              "#bd3786"
             ],
             [
              0.5555555555555556,
              "#d8576b"
             ],
             [
              0.6666666666666666,
              "#ed7953"
             ],
             [
              0.7777777777777778,
              "#fb9f3a"
             ],
             [
              0.8888888888888888,
              "#fdca26"
             ],
             [
              1,
              "#f0f921"
             ]
            ],
            "type": "contour"
           }
          ],
          "contourcarpet": [
           {
            "colorbar": {
             "outlinewidth": 0,
             "ticks": ""
            },
            "type": "contourcarpet"
           }
          ],
          "heatmap": [
           {
            "colorbar": {
             "outlinewidth": 0,
             "ticks": ""
            },
            "colorscale": [
             [
              0,
              "#0d0887"
             ],
             [
              0.1111111111111111,
              "#46039f"
             ],
             [
              0.2222222222222222,
              "#7201a8"
             ],
             [
              0.3333333333333333,
              "#9c179e"
             ],
             [
              0.4444444444444444,
              "#bd3786"
             ],
             [
              0.5555555555555556,
              "#d8576b"
             ],
             [
              0.6666666666666666,
              "#ed7953"
             ],
             [
              0.7777777777777778,
              "#fb9f3a"
             ],
             [
              0.8888888888888888,
              "#fdca26"
             ],
             [
              1,
              "#f0f921"
             ]
            ],
            "type": "heatmap"
           }
          ],
          "heatmapgl": [
           {
            "colorbar": {
             "outlinewidth": 0,
             "ticks": ""
            },
            "colorscale": [
             [
              0,
              "#0d0887"
             ],
             [
              0.1111111111111111,
              "#46039f"
             ],
             [
              0.2222222222222222,
              "#7201a8"
             ],
             [
              0.3333333333333333,
              "#9c179e"
             ],
             [
              0.4444444444444444,
              "#bd3786"
             ],
             [
              0.5555555555555556,
              "#d8576b"
             ],
             [
              0.6666666666666666,
              "#ed7953"
             ],
             [
              0.7777777777777778,
              "#fb9f3a"
             ],
             [
              0.8888888888888888,
              "#fdca26"
             ],
             [
              1,
              "#f0f921"
             ]
            ],
            "type": "heatmapgl"
           }
          ],
          "histogram": [
           {
            "marker": {
             "pattern": {
              "fillmode": "overlay",
              "size": 10,
              "solidity": 0.2
             }
            },
            "type": "histogram"
           }
          ],
          "histogram2d": [
           {
            "colorbar": {
             "outlinewidth": 0,
             "ticks": ""
            },
            "colorscale": [
             [
              0,
              "#0d0887"
             ],
             [
              0.1111111111111111,
              "#46039f"
             ],
             [
              0.2222222222222222,
              "#7201a8"
             ],
             [
              0.3333333333333333,
              "#9c179e"
             ],
             [
              0.4444444444444444,
              "#bd3786"
             ],
             [
              0.5555555555555556,
              "#d8576b"
             ],
             [
              0.6666666666666666,
              "#ed7953"
             ],
             [
              0.7777777777777778,
              "#fb9f3a"
             ],
             [
              0.8888888888888888,
              "#fdca26"
             ],
             [
              1,
              "#f0f921"
             ]
            ],
            "type": "histogram2d"
           }
          ],
          "histogram2dcontour": [
           {
            "colorbar": {
             "outlinewidth": 0,
             "ticks": ""
            },
            "colorscale": [
             [
              0,
              "#0d0887"
             ],
             [
              0.1111111111111111,
              "#46039f"
             ],
             [
              0.2222222222222222,
              "#7201a8"
             ],
             [
              0.3333333333333333,
              "#9c179e"
             ],
             [
              0.4444444444444444,
              "#bd3786"
             ],
             [
              0.5555555555555556,
              "#d8576b"
             ],
             [
              0.6666666666666666,
              "#ed7953"
             ],
             [
              0.7777777777777778,
              "#fb9f3a"
             ],
             [
              0.8888888888888888,
              "#fdca26"
             ],
             [
              1,
              "#f0f921"
             ]
            ],
            "type": "histogram2dcontour"
           }
          ],
          "mesh3d": [
           {
            "colorbar": {
             "outlinewidth": 0,
             "ticks": ""
            },
            "type": "mesh3d"
           }
          ],
          "parcoords": [
           {
            "line": {
             "colorbar": {
              "outlinewidth": 0,
              "ticks": ""
             }
            },
            "type": "parcoords"
           }
          ],
          "pie": [
           {
            "automargin": true,
            "type": "pie"
           }
          ],
          "scatter": [
           {
            "marker": {
             "colorbar": {
              "outlinewidth": 0,
              "ticks": ""
             }
            },
            "type": "scatter"
           }
          ],
          "scatter3d": [
           {
            "line": {
             "colorbar": {
              "outlinewidth": 0,
              "ticks": ""
             }
            },
            "marker": {
             "colorbar": {
              "outlinewidth": 0,
              "ticks": ""
             }
            },
            "type": "scatter3d"
           }
          ],
          "scattercarpet": [
           {
            "marker": {
             "colorbar": {
              "outlinewidth": 0,
              "ticks": ""
             }
            },
            "type": "scattercarpet"
           }
          ],
          "scattergeo": [
           {
            "marker": {
             "colorbar": {
              "outlinewidth": 0,
              "ticks": ""
             }
            },
            "type": "scattergeo"
           }
          ],
          "scattergl": [
           {
            "marker": {
             "colorbar": {
              "outlinewidth": 0,
              "ticks": ""
             }
            },
            "type": "scattergl"
           }
          ],
          "scattermapbox": [
           {
            "marker": {
             "colorbar": {
              "outlinewidth": 0,
              "ticks": ""
             }
            },
            "type": "scattermapbox"
           }
          ],
          "scatterpolar": [
           {
            "marker": {
             "colorbar": {
              "outlinewidth": 0,
              "ticks": ""
             }
            },
            "type": "scatterpolar"
           }
          ],
          "scatterpolargl": [
           {
            "marker": {
             "colorbar": {
              "outlinewidth": 0,
              "ticks": ""
             }
            },
            "type": "scatterpolargl"
           }
          ],
          "scatterternary": [
           {
            "marker": {
             "colorbar": {
              "outlinewidth": 0,
              "ticks": ""
             }
            },
            "type": "scatterternary"
           }
          ],
          "surface": [
           {
            "colorbar": {
             "outlinewidth": 0,
             "ticks": ""
            },
            "colorscale": [
             [
              0,
              "#0d0887"
             ],
             [
              0.1111111111111111,
              "#46039f"
             ],
             [
              0.2222222222222222,
              "#7201a8"
             ],
             [
              0.3333333333333333,
              "#9c179e"
             ],
             [
              0.4444444444444444,
              "#bd3786"
             ],
             [
              0.5555555555555556,
              "#d8576b"
             ],
             [
              0.6666666666666666,
              "#ed7953"
             ],
             [
              0.7777777777777778,
              "#fb9f3a"
             ],
             [
              0.8888888888888888,
              "#fdca26"
             ],
             [
              1,
              "#f0f921"
             ]
            ],
            "type": "surface"
           }
          ],
          "table": [
           {
            "cells": {
             "fill": {
              "color": "#EBF0F8"
             },
             "line": {
              "color": "white"
             }
            },
            "header": {
             "fill": {
              "color": "#C8D4E3"
             },
             "line": {
              "color": "white"
             }
            },
            "type": "table"
           }
          ]
         },
         "layout": {
          "annotationdefaults": {
           "arrowcolor": "#2a3f5f",
           "arrowhead": 0,
           "arrowwidth": 1
          },
          "autotypenumbers": "strict",
          "coloraxis": {
           "colorbar": {
            "outlinewidth": 0,
            "ticks": ""
           }
          },
          "colorscale": {
           "diverging": [
            [
             0,
             "#8e0152"
            ],
            [
             0.1,
             "#c51b7d"
            ],
            [
             0.2,
             "#de77ae"
            ],
            [
             0.3,
             "#f1b6da"
            ],
            [
             0.4,
             "#fde0ef"
            ],
            [
             0.5,
             "#f7f7f7"
            ],
            [
             0.6,
             "#e6f5d0"
            ],
            [
             0.7,
             "#b8e186"
            ],
            [
             0.8,
             "#7fbc41"
            ],
            [
             0.9,
             "#4d9221"
            ],
            [
             1,
             "#276419"
            ]
           ],
           "sequential": [
            [
             0,
             "#0d0887"
            ],
            [
             0.1111111111111111,
             "#46039f"
            ],
            [
             0.2222222222222222,
             "#7201a8"
            ],
            [
             0.3333333333333333,
             "#9c179e"
            ],
            [
             0.4444444444444444,
             "#bd3786"
            ],
            [
             0.5555555555555556,
             "#d8576b"
            ],
            [
             0.6666666666666666,
             "#ed7953"
            ],
            [
             0.7777777777777778,
             "#fb9f3a"
            ],
            [
             0.8888888888888888,
             "#fdca26"
            ],
            [
             1,
             "#f0f921"
            ]
           ],
           "sequentialminus": [
            [
             0,
             "#0d0887"
            ],
            [
             0.1111111111111111,
             "#46039f"
            ],
            [
             0.2222222222222222,
             "#7201a8"
            ],
            [
             0.3333333333333333,
             "#9c179e"
            ],
            [
             0.4444444444444444,
             "#bd3786"
            ],
            [
             0.5555555555555556,
             "#d8576b"
            ],
            [
             0.6666666666666666,
             "#ed7953"
            ],
            [
             0.7777777777777778,
             "#fb9f3a"
            ],
            [
             0.8888888888888888,
             "#fdca26"
            ],
            [
             1,
             "#f0f921"
            ]
           ]
          },
          "colorway": [
           "#636efa",
           "#EF553B",
           "#00cc96",
           "#ab63fa",
           "#FFA15A",
           "#19d3f3",
           "#FF6692",
           "#B6E880",
           "#FF97FF",
           "#FECB52"
          ],
          "font": {
           "color": "#2a3f5f"
          },
          "geo": {
           "bgcolor": "white",
           "lakecolor": "white",
           "landcolor": "#E5ECF6",
           "showlakes": true,
           "showland": true,
           "subunitcolor": "white"
          },
          "hoverlabel": {
           "align": "left"
          },
          "hovermode": "closest",
          "mapbox": {
           "style": "light"
          },
          "paper_bgcolor": "white",
          "plot_bgcolor": "#E5ECF6",
          "polar": {
           "angularaxis": {
            "gridcolor": "white",
            "linecolor": "white",
            "ticks": ""
           },
           "bgcolor": "#E5ECF6",
           "radialaxis": {
            "gridcolor": "white",
            "linecolor": "white",
            "ticks": ""
           }
          },
          "scene": {
           "xaxis": {
            "backgroundcolor": "#E5ECF6",
            "gridcolor": "white",
            "gridwidth": 2,
            "linecolor": "white",
            "showbackground": true,
            "ticks": "",
            "zerolinecolor": "white"
           },
           "yaxis": {
            "backgroundcolor": "#E5ECF6",
            "gridcolor": "white",
            "gridwidth": 2,
            "linecolor": "white",
            "showbackground": true,
            "ticks": "",
            "zerolinecolor": "white"
           },
           "zaxis": {
            "backgroundcolor": "#E5ECF6",
            "gridcolor": "white",
            "gridwidth": 2,
            "linecolor": "white",
            "showbackground": true,
            "ticks": "",
            "zerolinecolor": "white"
           }
          },
          "shapedefaults": {
           "line": {
            "color": "#2a3f5f"
           }
          },
          "ternary": {
           "aaxis": {
            "gridcolor": "white",
            "linecolor": "white",
            "ticks": ""
           },
           "baxis": {
            "gridcolor": "white",
            "linecolor": "white",
            "ticks": ""
           },
           "bgcolor": "#E5ECF6",
           "caxis": {
            "gridcolor": "white",
            "linecolor": "white",
            "ticks": ""
           }
          },
          "title": {
           "x": 0.05
          },
          "xaxis": {
           "automargin": true,
           "gridcolor": "white",
           "linecolor": "white",
           "ticks": "",
           "title": {
            "standoff": 15
           },
           "zerolinecolor": "white",
           "zerolinewidth": 2
          },
          "yaxis": {
           "automargin": true,
           "gridcolor": "white",
           "linecolor": "white",
           "ticks": "",
           "title": {
            "standoff": 15
           },
           "zerolinecolor": "white",
           "zerolinewidth": 2
          }
         }
        },
        "title": {
         "font": {
          "color": "#4D5663"
         },
         "text": "Relationship Between Height and Depth"
        },
        "xaxis": {
         "gridcolor": "#E1E5ED",
         "showgrid": true,
         "tickfont": {
          "color": "#4D5663"
         },
         "title": {
          "font": {
           "color": "#4D5663"
          },
          "text": "Height"
         },
         "zerolinecolor": "#E1E5ED"
        },
        "yaxis": {
         "gridcolor": "#E1E5ED",
         "showgrid": true,
         "tickfont": {
          "color": "#4D5663"
         },
         "title": {
          "font": {
           "color": "#4D5663"
          },
          "text": "Depth"
         },
         "zerolinecolor": "#E1E5ED"
        }
       }
      },
      "text/html": [
       "<div>                            <div id=\"bd3926e7-24db-47bc-bb50-6c521953ae56\" class=\"plotly-graph-div\" style=\"height:525px; width:100%;\"></div>            <script type=\"text/javascript\">                require([\"plotly\"], function(Plotly) {                    window.PLOTLYENV=window.PLOTLYENV || {};\n",
       "                    window.PLOTLYENV.BASE_URL='https://plot.ly';                                    if (document.getElementById(\"bd3926e7-24db-47bc-bb50-6c521953ae56\")) {                    Plotly.newPlot(                        \"bd3926e7-24db-47bc-bb50-6c521953ae56\",                        [{\"line\":{\"color\":\"rgba(255, 255, 51, 1.0)\",\"dash\":\"solid\",\"shape\":\"linear\",\"width\":1.3},\"marker\":{\"size\":20,\"symbol\":\"circle\"},\"mode\":\"markers\",\"name\":\"B\",\"text\":\"\",\"x\":[0.2368150873619006,0.15326634396288585,-0.7200298756684526,-1.01163513885463,-0.38161070197940017,-1.372529585653803,-0.9621157004232631,0.9498423277132721,0.2921052799655276,1.64830263330383,-0.3269032177752567,-0.7399905237461355,0.8891433061687039,1.2563426921920937,-0.9670412614794054,2.2434451242426334,0.3204207682211625,0.10607002243585302,0.10282387955271609,0.20987945169443412,-0.48961292431746223,2.736078134074456,-0.7596642482747243,2.0840111526550515,1.6625074980743457,0.23358726479203873,-0.07475488930655838,-1.285947988708988,-0.06774554118100017,1.556834576055044,-0.062102593814048326,0.07266582351703005,0.6531023403330972,0.21826020271644322,0.4051986338008625,0.6980726892127668,-0.08564192470061167,0.32288635586939,1.8480443809543814,0.8513913587925882,-1.0562482636354886,-0.8471967127703255,-0.3916668280564733,0.21136030960209737,-1.0342195077286696,-0.47436877076284034,2.133106907609308,-0.9124562885070545,-0.3539904177862304,-0.01892669958611769,-0.5831477949669034,0.7383055352776308,0.12178037533677828,-1.2333615901627757,-1.312849536735822,-1.5857992428728067,2.1016191547383114,0.8630051495108296,-1.0735780812840006,0.6535629551855013,-0.8202148846453614,0.8246460016536702,0.16662061604475872,-0.06959019587016031,0.08474234840654415,-0.6701742374876497,0.6742682452829133,1.053225992770241,-0.19980774946238936,0.11539341791055742,0.08095175908095865,0.7145032519139668,-0.15479068012296693,-0.18700595506906226,0.21545511055224112,1.0650207646484497,0.07150511811786767,-0.045864970918570246,-0.4512385906421965,-0.10166745237183507,-1.4316821184871111,-2.7380211323146306,0.8180233337064482,-0.4994511918143605,-2.4043828999681183,-1.1395643797626336,0.03179022302553748,-0.01812629979441633,1.0819779409412478,-0.708297735508812,-1.884492982858543,1.5325943616146824,1.9493000564490703,0.23733734800731313,-0.2970745980835244,-0.7864408792273413,0.9900462374535264,-0.48993231346208954,1.755657648874985,-1.7878933254288187,0.7904824140628962,-0.1387912867158326,1.1125997896524007,0.4466284093939971,1.3377970349951813,-1.5167312631098857,-0.3527989683391722,0.8450892879594704,0.44144997380599266,0.3112389700131346,-1.620986225796458,-0.10532568953539652,0.9621681876232612,0.26603811216623957,-0.7278819321154157,0.8557633933301175,0.21373046555661973,-1.9216608630905474,0.07124626079810054,0.5636295122576199,-0.09785433992800284,0.7171242209408782,-0.8234828692219782,-0.31049124523756266,1.0815727725968625,0.9322558767158597,1.0051448675074062,0.5147418325805265,1.132474332383901,-0.9577730705454137,0.1274731965439913,1.3607833721636429,-2.031349680993669,-1.4179174055135106,-0.5802132172377643,0.46512383755459596,0.769741053165253,-0.5268394647808874,-1.474722501836746,-0.10544730057266748,-0.12375734928948648,-0.2837510868317904,-0.3776030297047196,-1.0055196995558144,0.7397831703608402,-0.21382613291823613,-1.110158674711503,0.6536299518088545,1.8560300205580025,-0.22949167315478186,-0.6652377215639678,-1.8223567498937627,-0.8437036010599748,-0.7794639637425111,1.378770524567123,-0.8787447391959187,-0.06759996514266496,0.7869666748209092,-0.2853667830900193,1.503426340774217,-0.45306797568302104,0.12313898720717087,-2.1337303896365736,0.9527239208644198,0.5361866020066929,-0.31683954258425473,1.4856708456649141,0.25312497953325175,-0.621879305291454,-0.9628828587530323,0.3366107107320239,0.9038751668462113,1.9683113193177837,0.3647378382498198,0.9532860121288194,-0.14877645274271495,0.4718795530392423,-0.10197882301394859,0.6791396626072205,-1.5972721483802235,1.9459871243086975,-0.2909229012581445,0.38358279044873445,0.6856110204445703,-1.2872866113996893,1.5801098372998337,-0.345830839657898,0.5394454397252728,-1.144824644941274,0.2822162131726958,0.41527798106905595,-0.8363710782871023,-0.7891100080854799,0.0987548102416055,-0.9082942747068138,2.1682450119739687,0.008674867849282909,1.5867207686043467,0.375859843615774,1.6205759114546434,-0.6220493576852684,-0.6052351948454991,2.078311254829741,0.6766740800475627,-1.21945327693854,2.105282290819725,0.6625174918288212,-0.5520987644202794,-1.7557554235007398,0.6131934852748897,0.45941430189989535,0.5469026891603647,0.7726060371444358,0.038745617098979,0.4029521352947174,0.59667864550513,0.6394468486557562,0.03585263709459713,-0.30132295712647683,-0.9736496437983283,0.8684284681530144,0.45435969427651257,-0.41894917882778354,2.3996138388959625,0.13016686731748311,0.7014401771582283,-0.7514807578730582,-0.0703342885228187,-0.4105062121026977,1.1920394200746205,0.08445451518422463,-0.2025163746246574,1.875222541601167,-0.5989719779031201,-0.4105244325548731,-0.36255323646150084,-0.5365332726513887,0.16514441044170372,-0.15366747965434072,-1.1511640040344266,-0.4776382620296741,-0.248159010063528,-1.060136689754345,1.1775952611593365,0.5735557786356392,-1.3441547997680352,1.6915339089939418,0.016696622556028547,-0.26520167847816317,-0.5857148182200784,-0.4436374040827791,-0.5967148286534908,-2.0351354773210564,-0.6976623744585153,-0.5817199783204294,0.3962559413654138,-0.4132544997469191,-0.2729093781805246,0.3788744395312149,0.5246440988408595,0.21900962423386025,0.13846477721169534,0.7733237501369795,-0.4269716117244673,-1.774756512093707,-0.7913320725597334,-0.7604590762973202,1.0064206568214757,0.8173135439501026,0.2835310903393199,-0.4077795631538277,1.7004184578092958,-1.0923076735862849,1.4170695177987764,-0.06498282375869908,-0.7630196039036529,1.1899763888301635,-1.3137952469376586,0.04614970070655324,0.1478120840100369,-1.1154839533255734,0.8208781284469043,-0.015615108336519289,0.4542724587085309,-0.01078074600431685,-1.1545110313870102,-1.7764969509292745,0.6208306257500967,-0.3929576392349645,0.3714661965687448,-1.2820510092011643,0.5384800691403969,0.4198149045529836,1.641731336056215,-0.4594229812620825,-0.944265170175422,-1.9888377567757545,-0.10422511899635255,1.3592302834730288,-0.6895090440861636,-1.9921105922526858,-0.058510118356772584,0.08117545002670466,-0.7094489007189255,1.3008084440937275,0.16956253492086343,-1.0014644820759304,-0.25961232172184584,-2.090605931759697,1.209352832754878,0.95445025714465,0.20623168709571943,0.15076285771507894,-0.8160152566808745,-1.9615705425837606,-0.8751914103271305,0.754089407763497,1.4078369302972755,-0.10001832472771952,-0.7520289661044354,-0.6738441687702621,-0.0673594408867785,-0.32852581566216826,-0.25258733831344377,-0.4462509922484799,1.4510613953738045,1.0090117373301335,0.9809842629906007,0.8654959300737188,1.299111315561622,0.7211784797654185,0.7703081735799076,-1.4105329100831419,1.1467205765964805,0.10233042372592181,-1.393386673542929,-0.44588060913438005,-1.9480190475286596,-0.7384506575014999,0.20252930145745657,1.586064652085236,-1.1761006956237772,-1.0773273761416802,-1.1605388614829866,-1.4913779180967552,-0.7550221396272815,-0.5576166938373778,-0.09208667370830664,-0.8594126523914902,2.427562649531509,0.14372138205473883,-1.2610464985690502,1.2212866492566101,-0.11747150062602071,-0.13942542543992797,-0.08449696740141971,0.5501714229007804,0.1035966338364252,-0.07068518205969197,-0.47644579196107734,0.07706670930628945,1.190732961432969,0.6934480257594096,0.46636043616016404,-0.8568186922217378,0.8885682507467603,-0.002868754346338099,-1.0473823447401975,-0.019781716814244395,0.08164209617053143,0.05095183646085085,1.1115067823072395,0.26754729173018693,-2.643556503998431,-0.634661318300778,1.700965443457737,0.7681097744355195,-0.0002915698977350753,0.5425087029057125,-0.19107722823615073,0.4754898992416501,1.1119891901221408,-1.350779314007087,1.1840481566614414,0.3220604507282501,1.6228998918144735,-1.4853520788229608,-1.8681505016534263,-0.9334334338274148,-0.7890121818640046,0.7009774459626509,-0.14875864381666465,-1.3584138310311735,-0.655147021948073,2.435900349322354,0.3080797435799958,0.9856783442741043,0.4054609700760996,1.4978100188716799,-0.5087237204705086,-0.9779554406989923,0.3725423863310618,1.2937477714827705,0.4889841035491341,0.06067254942595004,-0.2349776125607095,1.1531626460929787,-0.46638432481415104,0.3962638207149185,1.1366846379889575,-1.630707075187233,1.518113229538493,-1.887433014484992,-1.094184893494811,0.7127572636935509,-0.09444118341341232,0.48072757870566685,1.2566025246713768,-0.12841282139269344,-1.3716924851194066,0.4540643143176696,-0.30648437491837227,1.161773518473166,-0.3576654157081193,0.7042516898399832,-1.3572638858746755,1.0753617160468283,-2.1734694603172713,0.8628793377626424,1.9331471412580652,-0.4715862554157834,-0.15271202827595196,0.37994233388832443,0.9396412684225307,0.27958990938116884,-0.23554990104822726,-2.552944410773581,1.314842184757068,-0.7738871853708631,-0.730218265475295,-1.0022486613575876,0.6958727303645778,0.1010033352581799,0.13279567162349035,0.07724730777344746,1.6552742343740676,-1.157578556230859,0.07858279718222029,-0.3719165434426983,0.3206147918930284,0.05779328996374325,0.6887144667527636,2.075438301924711,0.6923574480135772,1.7582322024175048,-0.2912618953698951,-1.1439733090849877,-1.537926995241701,0.47513794652368946,-0.362695995976741,-0.36376023940099866,-0.13870320888046705,1.240340864359662,-0.39069676333022824,-0.9688446097221273,1.4021409318828915,-0.8812425925987593,-0.15670679268849794,-0.539797913142098,1.071537541551203,0.06466774357162292,0.9909028045959679,0.09071015710331945,1.1466968152824226,1.905495008644417,-0.7538333949746019,1.4770006898411752,-0.09812592551325358,1.3997171459595272,1.408222930046248,-1.4286142426823405,0.5765648761641587,-0.1944580993769544,0.9565082022777497,0.09906196509263247,0.6192278649279873,-1.360855303542636,0.7729894700896965,-0.8396984723351454,1.4157937512219572,-0.21842360450459625,-0.24638896134133734,0.20803272294568032,0.6723557416737084,-1.6637031602771444,-2.9220351215208633,-1.1591824760850769,-0.8567034549273138,0.21984428244613446,-0.7139403013554955],\"y\":[-0.8643303486768782,-0.48545447661592434,0.074622210582842,-1.1235170332369224,-1.0135508333616168,0.30827543616675057,0.3752038214699598,-0.6007368177428646,0.9129030633322243,0.043888449546883514,-0.24031317108009856,-0.7375646355758417,-0.4681910820777421,0.9964026624751344,2.0971634956989016,0.450574874362932,1.4635098238231417,-0.4319436150231565,-1.278331730768012,0.5744366004914743,2.0869333139116595,-0.9193410790800395,-1.833408200375922,0.815870476737727,1.2255231447347203,1.4269942761256478,-0.0208392893246553,-0.802855883972416,0.7441495619973297,0.5726913780552716,-1.0359943891301344,-0.3032828708270887,0.32218939138050695,-0.07482836543124932,-2.2881247996561536,0.8396551087311036,0.6329973906675159,-0.8089122730077706,1.3563360794124653,-1.3910248195095662,0.18226155741218986,1.1812588349937838,-0.017857317368380452,-1.7335749162749488,-1.4021895915785028,-0.32509108497305844,-0.5869592019054817,0.9495712552305394,0.3463687493993234,-1.4667436417122397,1.3062901272194902,-0.42658619894597277,0.9620508083663744,0.23526592031426882,0.8497327673805525,0.5588145927097056,-0.48360172418772346,1.0709943964111517,0.8398138160631732,0.12310755185178913,-0.6527937114668243,-0.5922539583676146,-0.5544129808454866,-1.17542810552467,-0.8993931961583361,1.873212240564465,-0.759361895137789,1.462828531032524,-0.006853677859164635,-0.19400329825342275,-0.6102253464084665,1.243358257011422,-0.5201554842199142,0.7388503478936396,-0.2160079096289911,1.1631834133147718,-0.3574428213850189,-0.5272720419829308,-1.02954231733991,-0.40167488843385485,0.6136324469264254,-0.09110088583380581,-1.2690999569499417,-0.9218185358341311,1.5341086823582701,-1.0965694293552006,0.22986512582809857,-2.211500102580387,-0.9439370395816332,-0.15983863544068952,1.369931708738245,0.4934425353439321,-1.0176043028353083,-1.1886790512293166,-2.184617633428162,0.46019217910122356,0.4849860717936879,0.12688255505038534,-0.25140835619897484,1.4658126550581294,1.2694256644911606,-0.8138443318306805,1.1298803448185024,0.5348476041160375,1.2430183866911644,-0.35029193218261967,-0.9963080251603601,-1.088178138364631,-0.8427024185119844,-0.8780277630627888,-0.17087787066342594,0.5923576710960169,-1.514603792728183,-0.7971490448026465,1.8579492939592588,-0.47659227243257524,1.1741791349143988,-0.23002183980604202,-0.9788257071866882,-0.787089545523912,0.15632669264770976,0.7873375409078308,-0.6851596359225393,0.07258239604801417,1.0108568062678853,-0.5350206269668196,0.4617210322108998,0.6729851129996333,0.6947791573841785,-2.0349434613126345,0.9346846632454399,-1.904184957979476,-1.5897498110802348,0.07803041176088413,0.09756084554805393,0.6571696597348613,1.071629838766347,-3.282116736543372,0.2952320886515686,1.0286252197016175,0.4510046185128533,-0.5808097525959789,-0.2048240951015417,-0.7244019010710904,1.7234902946045805,0.013434282552561105,0.1916188862715387,0.5978644944394771,-1.1974830645358936,-0.06666291479540355,0.8386492151156741,-1.1291644176032307,0.05241849417403152,-0.10907417825855412,0.6380514166366121,0.04879476309572777,-0.16777849124113872,-0.39249040661168333,1.191873587685773,-1.3205280526782754,0.42993519552984616,-0.09237482587070879,-0.7926842172330973,0.5679663048689276,-1.654584667175674,1.2808190915252475,-0.10407137936591151,0.9459287720169433,2.997001930072728,0.9446389150568022,-0.73353832354179,-1.5846353717838617,-0.885051530172661,-0.4675519667238059,-0.13331587213270782,0.9611220186060137,-1.7600226706559756,-0.6197654075068263,-0.6491288178838583,0.05533463637359131,1.2545161923962125,-0.5498373082089602,0.005935305924675948,-0.28937403873654166,-1.7176819437111137,1.062708296845886,0.14576196013743872,0.36022314475696043,0.3100393862711781,0.43621572859192037,-1.1115511453849622,-0.8931284957701531,1.432237106043617,-0.26799178109682303,-1.2364356306727065,-0.27727843249292256,-0.7484029189008448,0.6628246713802153,0.6209823288852403,2.095729456275502,-0.8615847093288481,1.470005888534789,0.8742648623981958,0.9126777321153317,0.6494642173952481,0.3437184635242458,0.8055190722528236,0.15608954232600264,2.2991264282837514,-0.21805154042505967,0.4940450628946168,2.3879553375112446,0.8331103320151628,1.243259684792002,0.29035122447166023,1.5117606491184155,-0.9836973745096882,-0.0791966119835468,-0.04835572773807457,-0.4588441898535056,-0.46823840601349903,-0.18408406954795853,-1.1626812553841233,-0.2831560692653616,-1.8017380946848456,2.323297217914825,-0.012652770991927053,-1.624019653170712,-0.7302033749047425,-0.23963287429026348,-0.09943147070440395,-0.3845642646273242,0.21337835024865434,-0.1550967548668219,-1.7451208715071838,0.021781593220121454,0.482528557119484,0.12476506259864548,-0.6543838003523604,1.2277565899924272,-1.411510936136483,-2.118413452367423,-1.2191132070960833,-0.03352686771440494,0.7279308289098316,0.9873327613922971,-0.774358456390364,0.7004299687598552,-0.9058837691216307,-1.518410302156876,-0.4837581462051957,-1.6760619095747817,1.4722656310018942,0.4682039916630244,1.285696641292299,0.6831171389874126,0.1912045241029588,-2.224160874884401,1.1018758146399366,0.8747486356358478,-0.5279419976982931,-0.20003195098500165,1.5055495853342502,0.5842278792894626,-0.09310041514168922,-1.4060082253516486,0.43107319763056773,-0.36592333005463823,0.8141227079424633,-0.5425875028149405,3.3444053600891794,-0.8543661707645733,-0.0036736179172075657,1.4889857461361322,0.8774867172162479,0.8299268077371682,-1.05663825382182,-1.4149516227168877,0.7522426144924427,-0.00507914787781083,0.2610478555094977,-0.6591997559801382,1.7859012833147028,0.48619923737625087,-0.8214188979619703,0.6192804184346206,1.0713857011142744,-1.1610794412009768,1.6579333645418834,0.2034182528098526,1.4325120284223194,-0.09835000317701767,-0.15838912799838256,-1.0033864937970682,-0.19797015542064625,-0.3445003875231573,0.4629639290835394,2.004274465354049,-1.2368295038978248,-0.23788254454037747,2.0896780022851384,1.3412188953431496,0.3211422799063036,-0.935985886998604,1.0259480771917622,-1.1363139505860618,-0.22065679242018224,0.21541308017735333,0.258026315926332,-0.1422252125062341,1.1244121613009839,-0.12224367024175394,-1.1563005016916008,2.6727713098930304,-0.23724607730587513,-0.8492335753063022,-1.8238501392306563,0.6301747948826578,-0.4536294485473571,0.5466184239298865,-2.761470067853639,2.4219769246256138,0.6575582951257924,0.11018430960437979,-0.4043064664618296,-0.014195310918731014,-0.11848894241219605,0.06286111586675902,0.0021071470684251538,1.939388247139212,-0.7379644760465487,-1.0427124320458634,0.12747767318100034,-1.2522775334466993,0.9578929427346745,0.3271967175508989,0.5362929742083407,-0.3508172905905263,0.05492688094458291,-0.9421086807462195,-1.3251744536700256,-1.4980980685036622,0.28267030401835674,-0.7799313729849388,0.11868777977450357,1.686143711218559,-1.9291684273498853,-0.06254290149300008,0.4651236249986807,-0.04242190121669,-0.3525024804704805,1.6225727507548946,2.0977605032727804,-0.08923437022106705,1.3833770169837647,1.1862273094402493,-0.6246464424587231,0.8549954429876008,-0.7116385642343395,0.6265741730573536,1.1768356984339212,1.3248293605060646,-1.8522571483565107,0.30997096539653807,-0.8880745800000089,0.253383193283707,-0.9768957622608174,-0.6091935773789839,-0.6799134846035905,2.066333414643886,-0.4642699043334721,-0.02898032555184812,-0.9721294891522054,-0.15520264621898416,-1.5628622157904601,-0.8349774946109407,-0.40442140189019976,0.7723782891777186,0.5536856695790957,-2.7167014503503784,0.638822008846059,1.8712513786113707,-0.9953562930811777,1.061665809966131,0.9743917547121637,1.4671618364511696,0.9578471762382555,-0.5815277591166844,-1.2076648278816577,-0.0657016749925392,1.2102546538797605,-0.41434974587769396,-2.134092747898878,-1.3535497163380736,-1.103250175773825,-0.49731886265549,0.1734272005249689,-0.5265192685695984,-0.5324593192678335,1.216030605487049,0.7295668971800661,0.1774849473446891,0.3909567085886405,0.7540444722579828,-0.8355880993856984,-0.2699966546414888,-1.491589102324052,1.2074903860926305,0.1800949874190779,-0.027095195545727348,0.14112740040017233,0.18394558773240247,0.15863572656206876,-0.13863984835101228,0.11567371216113824,-2.747890945453844,0.6712394146089311,0.16440826700384412,-0.05379778761770426,-0.2465238049705523,0.323786924921426,0.5559385807572145,-2.118198834740286,0.035312905641552914,1.6944904345617409,-0.27016916835057697,-0.42411364677781505,0.9031225901674101,-0.6455303294094389,-0.8543668551987945,0.7648523102734774,-1.15592506213242,-1.1455866689194092,0.45455005352747685,-1.0418808254518175,-3.4398979994064396,0.9553147053149923,-1.35015049238068,-0.5104054673852467,0.3635549281497244,0.35042447944233734,-1.9251212835749618,0.0542309606517661,-0.4675538831867497,-0.5950121082024477,-0.36620442736041353,0.9090081344868,-0.28727179127092833,-0.5842058132658754,0.655637815539823,0.1622113796976176,1.6189653844673815,-0.06353675870301875,1.3735319300323154,-0.797621117621803,-1.4111881283100125,1.8737254828225627,1.527413080052041,0.5747615492248692,-2.602687966669538,0.1708012600060014,0.7591970655662041,-0.28349796436191604,1.1933316444037287,-0.34652383040180174,0.027978780165058847,0.09964420747497904,-0.15316023877715385,0.20278211150359476,-0.2883354426322248,1.6913561586121721,0.05766745533335582,0.6065666962000866,-0.133127654713106,-0.4915389492477984,0.6541428243870232,-0.7593657250143889,-2.756242431007816,-0.47883543341722296,0.8151174654789304,-0.21085476172580359,-0.0636153470267502,0.23795371149658143,0.7821675058426818,0.9646701284449362,-0.5169132171189804,-0.8268284016364045,0.9602246004207001,1.6125784412022457,-1.6354452396299193,-0.824785002549613,1.5387852773955826,0.028356711317799474,0.910487841740798,0.4612284154337478,-0.9421194730921624,0.03244761934384349,1.6483417596631968,1.679920658134673,0.18097423856973993],\"type\":\"scatter\"}],                        {\"legend\":{\"bgcolor\":\"#F5F6F9\",\"font\":{\"color\":\"#4D5663\"}},\"paper_bgcolor\":\"#F5F6F9\",\"plot_bgcolor\":\"#F5F6F9\",\"template\":{\"data\":{\"barpolar\":[{\"marker\":{\"line\":{\"color\":\"#E5ECF6\",\"width\":0.5},\"pattern\":{\"fillmode\":\"overlay\",\"size\":10,\"solidity\":0.2}},\"type\":\"barpolar\"}],\"bar\":[{\"error_x\":{\"color\":\"#2a3f5f\"},\"error_y\":{\"color\":\"#2a3f5f\"},\"marker\":{\"line\":{\"color\":\"#E5ECF6\",\"width\":0.5},\"pattern\":{\"fillmode\":\"overlay\",\"size\":10,\"solidity\":0.2}},\"type\":\"bar\"}],\"carpet\":[{\"aaxis\":{\"endlinecolor\":\"#2a3f5f\",\"gridcolor\":\"white\",\"linecolor\":\"white\",\"minorgridcolor\":\"white\",\"startlinecolor\":\"#2a3f5f\"},\"baxis\":{\"endlinecolor\":\"#2a3f5f\",\"gridcolor\":\"white\",\"linecolor\":\"white\",\"minorgridcolor\":\"white\",\"startlinecolor\":\"#2a3f5f\"},\"type\":\"carpet\"}],\"choropleth\":[{\"colorbar\":{\"outlinewidth\":0,\"ticks\":\"\"},\"type\":\"choropleth\"}],\"contourcarpet\":[{\"colorbar\":{\"outlinewidth\":0,\"ticks\":\"\"},\"type\":\"contourcarpet\"}],\"contour\":[{\"colorbar\":{\"outlinewidth\":0,\"ticks\":\"\"},\"colorscale\":[[0.0,\"#0d0887\"],[0.1111111111111111,\"#46039f\"],[0.2222222222222222,\"#7201a8\"],[0.3333333333333333,\"#9c179e\"],[0.4444444444444444,\"#bd3786\"],[0.5555555555555556,\"#d8576b\"],[0.6666666666666666,\"#ed7953\"],[0.7777777777777778,\"#fb9f3a\"],[0.8888888888888888,\"#fdca26\"],[1.0,\"#f0f921\"]],\"type\":\"contour\"}],\"heatmapgl\":[{\"colorbar\":{\"outlinewidth\":0,\"ticks\":\"\"},\"colorscale\":[[0.0,\"#0d0887\"],[0.1111111111111111,\"#46039f\"],[0.2222222222222222,\"#7201a8\"],[0.3333333333333333,\"#9c179e\"],[0.4444444444444444,\"#bd3786\"],[0.5555555555555556,\"#d8576b\"],[0.6666666666666666,\"#ed7953\"],[0.7777777777777778,\"#fb9f3a\"],[0.8888888888888888,\"#fdca26\"],[1.0,\"#f0f921\"]],\"type\":\"heatmapgl\"}],\"heatmap\":[{\"colorbar\":{\"outlinewidth\":0,\"ticks\":\"\"},\"colorscale\":[[0.0,\"#0d0887\"],[0.1111111111111111,\"#46039f\"],[0.2222222222222222,\"#7201a8\"],[0.3333333333333333,\"#9c179e\"],[0.4444444444444444,\"#bd3786\"],[0.5555555555555556,\"#d8576b\"],[0.6666666666666666,\"#ed7953\"],[0.7777777777777778,\"#fb9f3a\"],[0.8888888888888888,\"#fdca26\"],[1.0,\"#f0f921\"]],\"type\":\"heatmap\"}],\"histogram2dcontour\":[{\"colorbar\":{\"outlinewidth\":0,\"ticks\":\"\"},\"colorscale\":[[0.0,\"#0d0887\"],[0.1111111111111111,\"#46039f\"],[0.2222222222222222,\"#7201a8\"],[0.3333333333333333,\"#9c179e\"],[0.4444444444444444,\"#bd3786\"],[0.5555555555555556,\"#d8576b\"],[0.6666666666666666,\"#ed7953\"],[0.7777777777777778,\"#fb9f3a\"],[0.8888888888888888,\"#fdca26\"],[1.0,\"#f0f921\"]],\"type\":\"histogram2dcontour\"}],\"histogram2d\":[{\"colorbar\":{\"outlinewidth\":0,\"ticks\":\"\"},\"colorscale\":[[0.0,\"#0d0887\"],[0.1111111111111111,\"#46039f\"],[0.2222222222222222,\"#7201a8\"],[0.3333333333333333,\"#9c179e\"],[0.4444444444444444,\"#bd3786\"],[0.5555555555555556,\"#d8576b\"],[0.6666666666666666,\"#ed7953\"],[0.7777777777777778,\"#fb9f3a\"],[0.8888888888888888,\"#fdca26\"],[1.0,\"#f0f921\"]],\"type\":\"histogram2d\"}],\"histogram\":[{\"marker\":{\"pattern\":{\"fillmode\":\"overlay\",\"size\":10,\"solidity\":0.2}},\"type\":\"histogram\"}],\"mesh3d\":[{\"colorbar\":{\"outlinewidth\":0,\"ticks\":\"\"},\"type\":\"mesh3d\"}],\"parcoords\":[{\"line\":{\"colorbar\":{\"outlinewidth\":0,\"ticks\":\"\"}},\"type\":\"parcoords\"}],\"pie\":[{\"automargin\":true,\"type\":\"pie\"}],\"scatter3d\":[{\"line\":{\"colorbar\":{\"outlinewidth\":0,\"ticks\":\"\"}},\"marker\":{\"colorbar\":{\"outlinewidth\":0,\"ticks\":\"\"}},\"type\":\"scatter3d\"}],\"scattercarpet\":[{\"marker\":{\"colorbar\":{\"outlinewidth\":0,\"ticks\":\"\"}},\"type\":\"scattercarpet\"}],\"scattergeo\":[{\"marker\":{\"colorbar\":{\"outlinewidth\":0,\"ticks\":\"\"}},\"type\":\"scattergeo\"}],\"scattergl\":[{\"marker\":{\"colorbar\":{\"outlinewidth\":0,\"ticks\":\"\"}},\"type\":\"scattergl\"}],\"scattermapbox\":[{\"marker\":{\"colorbar\":{\"outlinewidth\":0,\"ticks\":\"\"}},\"type\":\"scattermapbox\"}],\"scatterpolargl\":[{\"marker\":{\"colorbar\":{\"outlinewidth\":0,\"ticks\":\"\"}},\"type\":\"scatterpolargl\"}],\"scatterpolar\":[{\"marker\":{\"colorbar\":{\"outlinewidth\":0,\"ticks\":\"\"}},\"type\":\"scatterpolar\"}],\"scatter\":[{\"marker\":{\"colorbar\":{\"outlinewidth\":0,\"ticks\":\"\"}},\"type\":\"scatter\"}],\"scatterternary\":[{\"marker\":{\"colorbar\":{\"outlinewidth\":0,\"ticks\":\"\"}},\"type\":\"scatterternary\"}],\"surface\":[{\"colorbar\":{\"outlinewidth\":0,\"ticks\":\"\"},\"colorscale\":[[0.0,\"#0d0887\"],[0.1111111111111111,\"#46039f\"],[0.2222222222222222,\"#7201a8\"],[0.3333333333333333,\"#9c179e\"],[0.4444444444444444,\"#bd3786\"],[0.5555555555555556,\"#d8576b\"],[0.6666666666666666,\"#ed7953\"],[0.7777777777777778,\"#fb9f3a\"],[0.8888888888888888,\"#fdca26\"],[1.0,\"#f0f921\"]],\"type\":\"surface\"}],\"table\":[{\"cells\":{\"fill\":{\"color\":\"#EBF0F8\"},\"line\":{\"color\":\"white\"}},\"header\":{\"fill\":{\"color\":\"#C8D4E3\"},\"line\":{\"color\":\"white\"}},\"type\":\"table\"}]},\"layout\":{\"annotationdefaults\":{\"arrowcolor\":\"#2a3f5f\",\"arrowhead\":0,\"arrowwidth\":1},\"autotypenumbers\":\"strict\",\"coloraxis\":{\"colorbar\":{\"outlinewidth\":0,\"ticks\":\"\"}},\"colorscale\":{\"diverging\":[[0,\"#8e0152\"],[0.1,\"#c51b7d\"],[0.2,\"#de77ae\"],[0.3,\"#f1b6da\"],[0.4,\"#fde0ef\"],[0.5,\"#f7f7f7\"],[0.6,\"#e6f5d0\"],[0.7,\"#b8e186\"],[0.8,\"#7fbc41\"],[0.9,\"#4d9221\"],[1,\"#276419\"]],\"sequential\":[[0.0,\"#0d0887\"],[0.1111111111111111,\"#46039f\"],[0.2222222222222222,\"#7201a8\"],[0.3333333333333333,\"#9c179e\"],[0.4444444444444444,\"#bd3786\"],[0.5555555555555556,\"#d8576b\"],[0.6666666666666666,\"#ed7953\"],[0.7777777777777778,\"#fb9f3a\"],[0.8888888888888888,\"#fdca26\"],[1.0,\"#f0f921\"]],\"sequentialminus\":[[0.0,\"#0d0887\"],[0.1111111111111111,\"#46039f\"],[0.2222222222222222,\"#7201a8\"],[0.3333333333333333,\"#9c179e\"],[0.4444444444444444,\"#bd3786\"],[0.5555555555555556,\"#d8576b\"],[0.6666666666666666,\"#ed7953\"],[0.7777777777777778,\"#fb9f3a\"],[0.8888888888888888,\"#fdca26\"],[1.0,\"#f0f921\"]]},\"colorway\":[\"#636efa\",\"#EF553B\",\"#00cc96\",\"#ab63fa\",\"#FFA15A\",\"#19d3f3\",\"#FF6692\",\"#B6E880\",\"#FF97FF\",\"#FECB52\"],\"font\":{\"color\":\"#2a3f5f\"},\"geo\":{\"bgcolor\":\"white\",\"lakecolor\":\"white\",\"landcolor\":\"#E5ECF6\",\"showlakes\":true,\"showland\":true,\"subunitcolor\":\"white\"},\"hoverlabel\":{\"align\":\"left\"},\"hovermode\":\"closest\",\"mapbox\":{\"style\":\"light\"},\"paper_bgcolor\":\"white\",\"plot_bgcolor\":\"#E5ECF6\",\"polar\":{\"angularaxis\":{\"gridcolor\":\"white\",\"linecolor\":\"white\",\"ticks\":\"\"},\"bgcolor\":\"#E5ECF6\",\"radialaxis\":{\"gridcolor\":\"white\",\"linecolor\":\"white\",\"ticks\":\"\"}},\"scene\":{\"xaxis\":{\"backgroundcolor\":\"#E5ECF6\",\"gridcolor\":\"white\",\"gridwidth\":2,\"linecolor\":\"white\",\"showbackground\":true,\"ticks\":\"\",\"zerolinecolor\":\"white\"},\"yaxis\":{\"backgroundcolor\":\"#E5ECF6\",\"gridcolor\":\"white\",\"gridwidth\":2,\"linecolor\":\"white\",\"showbackground\":true,\"ticks\":\"\",\"zerolinecolor\":\"white\"},\"zaxis\":{\"backgroundcolor\":\"#E5ECF6\",\"gridcolor\":\"white\",\"gridwidth\":2,\"linecolor\":\"white\",\"showbackground\":true,\"ticks\":\"\",\"zerolinecolor\":\"white\"}},\"shapedefaults\":{\"line\":{\"color\":\"#2a3f5f\"}},\"ternary\":{\"aaxis\":{\"gridcolor\":\"white\",\"linecolor\":\"white\",\"ticks\":\"\"},\"baxis\":{\"gridcolor\":\"white\",\"linecolor\":\"white\",\"ticks\":\"\"},\"bgcolor\":\"#E5ECF6\",\"caxis\":{\"gridcolor\":\"white\",\"linecolor\":\"white\",\"ticks\":\"\"}},\"title\":{\"x\":0.05},\"xaxis\":{\"automargin\":true,\"gridcolor\":\"white\",\"linecolor\":\"white\",\"ticks\":\"\",\"title\":{\"standoff\":15},\"zerolinecolor\":\"white\",\"zerolinewidth\":2},\"yaxis\":{\"automargin\":true,\"gridcolor\":\"white\",\"linecolor\":\"white\",\"ticks\":\"\",\"title\":{\"standoff\":15},\"zerolinecolor\":\"white\",\"zerolinewidth\":2}}},\"title\":{\"font\":{\"color\":\"#4D5663\"},\"text\":\"Relationship Between Height and Depth\"},\"xaxis\":{\"gridcolor\":\"#E1E5ED\",\"showgrid\":true,\"tickfont\":{\"color\":\"#4D5663\"},\"title\":{\"font\":{\"color\":\"#4D5663\"},\"text\":\"Height\"},\"zerolinecolor\":\"#E1E5ED\"},\"yaxis\":{\"gridcolor\":\"#E1E5ED\",\"showgrid\":true,\"tickfont\":{\"color\":\"#4D5663\"},\"title\":{\"font\":{\"color\":\"#4D5663\"},\"text\":\"Depth\"},\"zerolinecolor\":\"#E1E5ED\"}},                        {\"showLink\": true, \"linkText\": \"Export to plot.ly\", \"plotlyServerURL\": \"https://plot.ly\", \"responsive\": true}                    ).then(function(){\n",
       "                            \n",
       "var gd = document.getElementById('bd3926e7-24db-47bc-bb50-6c521953ae56');\n",
       "var x = new MutationObserver(function (mutations, observer) {{\n",
       "        var display = window.getComputedStyle(gd).display;\n",
       "        if (!display || display === 'none') {{\n",
       "            console.log([gd, 'removed!']);\n",
       "            Plotly.purge(gd);\n",
       "            observer.disconnect();\n",
       "        }}\n",
       "}});\n",
       "\n",
       "// Listen for the removal of the full notebook cells\n",
       "var notebookContainer = gd.closest('#notebook-container');\n",
       "if (notebookContainer) {{\n",
       "    x.observe(notebookContainer, {childList: true});\n",
       "}}\n",
       "\n",
       "// Listen for the clearing of the current output cell\n",
       "var outputEl = gd.closest('.output');\n",
       "if (outputEl) {{\n",
       "    x.observe(outputEl, {childList: true});\n",
       "}}\n",
       "\n",
       "                        })                };                });            </script>        </div>"
      ]
     },
     "metadata": {},
     "output_type": "display_data"
    }
   ],
   "source": [
    "df1.iplot(kind='scatter',x='D',y='B',color='yellow',mode='markers',size=20,\n",
    "         xTitle='Height',yTitle='Depth',title='Relationship Between Height and Depth')"
   ]
  },
  {
   "cell_type": "code",
   "execution_count": 21,
   "id": "ef63041b",
   "metadata": {},
   "outputs": [
    {
     "data": {
      "text/html": [
       "<div>\n",
       "<style scoped>\n",
       "    .dataframe tbody tr th:only-of-type {\n",
       "        vertical-align: middle;\n",
       "    }\n",
       "\n",
       "    .dataframe tbody tr th {\n",
       "        vertical-align: top;\n",
       "    }\n",
       "\n",
       "    .dataframe thead th {\n",
       "        text-align: right;\n",
       "    }\n",
       "</style>\n",
       "<table border=\"1\" class=\"dataframe\">\n",
       "  <thead>\n",
       "    <tr style=\"text-align: right;\">\n",
       "      <th></th>\n",
       "      <th>total_bill</th>\n",
       "      <th>tip</th>\n",
       "      <th>sex</th>\n",
       "      <th>smoker</th>\n",
       "      <th>day</th>\n",
       "      <th>time</th>\n",
       "      <th>size</th>\n",
       "    </tr>\n",
       "  </thead>\n",
       "  <tbody>\n",
       "    <tr>\n",
       "      <th>0</th>\n",
       "      <td>16.99</td>\n",
       "      <td>1.01</td>\n",
       "      <td>Female</td>\n",
       "      <td>No</td>\n",
       "      <td>Sun</td>\n",
       "      <td>Dinner</td>\n",
       "      <td>2</td>\n",
       "    </tr>\n",
       "    <tr>\n",
       "      <th>1</th>\n",
       "      <td>10.34</td>\n",
       "      <td>1.66</td>\n",
       "      <td>Male</td>\n",
       "      <td>No</td>\n",
       "      <td>Sun</td>\n",
       "      <td>Dinner</td>\n",
       "      <td>3</td>\n",
       "    </tr>\n",
       "    <tr>\n",
       "      <th>2</th>\n",
       "      <td>21.01</td>\n",
       "      <td>3.50</td>\n",
       "      <td>Male</td>\n",
       "      <td>No</td>\n",
       "      <td>Sun</td>\n",
       "      <td>Dinner</td>\n",
       "      <td>3</td>\n",
       "    </tr>\n",
       "    <tr>\n",
       "      <th>3</th>\n",
       "      <td>23.68</td>\n",
       "      <td>3.31</td>\n",
       "      <td>Male</td>\n",
       "      <td>No</td>\n",
       "      <td>Sun</td>\n",
       "      <td>Dinner</td>\n",
       "      <td>2</td>\n",
       "    </tr>\n",
       "    <tr>\n",
       "      <th>4</th>\n",
       "      <td>24.59</td>\n",
       "      <td>3.61</td>\n",
       "      <td>Female</td>\n",
       "      <td>No</td>\n",
       "      <td>Sun</td>\n",
       "      <td>Dinner</td>\n",
       "      <td>4</td>\n",
       "    </tr>\n",
       "  </tbody>\n",
       "</table>\n",
       "</div>"
      ],
      "text/plain": [
       "   total_bill   tip     sex smoker  day    time  size\n",
       "0       16.99  1.01  Female     No  Sun  Dinner     2\n",
       "1       10.34  1.66    Male     No  Sun  Dinner     3\n",
       "2       21.01  3.50    Male     No  Sun  Dinner     3\n",
       "3       23.68  3.31    Male     No  Sun  Dinner     2\n",
       "4       24.59  3.61  Female     No  Sun  Dinner     4"
      ]
     },
     "execution_count": 21,
     "metadata": {},
     "output_type": "execute_result"
    }
   ],
   "source": [
    "tips=sns.load_dataset('tips')\n",
    "tips.head()"
   ]
  },
  {
   "cell_type": "code",
   "execution_count": 22,
   "id": "4a1888b3",
   "metadata": {},
   "outputs": [
    {
     "data": {
      "application/vnd.plotly.v1+json": {
       "config": {
        "linkText": "Export to plot.ly",
        "plotlyServerURL": "https://plot.ly",
        "showLink": true
       },
       "data": [
        {
         "line": {
          "color": "rgba(255, 153, 51, 1.0)",
          "dash": "solid",
          "shape": "linear",
          "width": 1.3
         },
         "marker": {
          "size": 20,
          "symbol": "circle"
         },
         "mode": "markers",
         "name": "tip",
         "text": "",
         "type": "scatter",
         "x": [
          16.99,
          10.34,
          21.01,
          23.68,
          24.59,
          25.29,
          8.77,
          26.88,
          15.04,
          14.78,
          10.27,
          35.26,
          15.42,
          18.43,
          14.83,
          21.58,
          10.33,
          16.29,
          16.97,
          20.65,
          17.92,
          20.29,
          15.77,
          39.42,
          19.82,
          17.81,
          13.37,
          12.69,
          21.7,
          19.65,
          9.55,
          18.35,
          15.06,
          20.69,
          17.78,
          24.06,
          16.31,
          16.93,
          18.69,
          31.27,
          16.04,
          17.46,
          13.94,
          9.68,
          30.4,
          18.29,
          22.23,
          32.4,
          28.55,
          18.04,
          12.54,
          10.29,
          34.81,
          9.94,
          25.56,
          19.49,
          38.01,
          26.41,
          11.24,
          48.27,
          20.29,
          13.81,
          11.02,
          18.29,
          17.59,
          20.08,
          16.45,
          3.07,
          20.23,
          15.01,
          12.02,
          17.07,
          26.86,
          25.28,
          14.73,
          10.51,
          17.92,
          27.2,
          22.76,
          17.29,
          19.44,
          16.66,
          10.07,
          32.68,
          15.98,
          34.83,
          13.03,
          18.28,
          24.71,
          21.16,
          28.97,
          22.49,
          5.75,
          16.32,
          22.75,
          40.17,
          27.28,
          12.03,
          21.01,
          12.46,
          11.35,
          15.38,
          44.3,
          22.42,
          20.92,
          15.36,
          20.49,
          25.21,
          18.24,
          14.31,
          14,
          7.25,
          38.07,
          23.95,
          25.71,
          17.31,
          29.93,
          10.65,
          12.43,
          24.08,
          11.69,
          13.42,
          14.26,
          15.95,
          12.48,
          29.8,
          8.52,
          14.52,
          11.38,
          22.82,
          19.08,
          20.27,
          11.17,
          12.26,
          18.26,
          8.51,
          10.33,
          14.15,
          16,
          13.16,
          17.47,
          34.3,
          41.19,
          27.05,
          16.43,
          8.35,
          18.64,
          11.87,
          9.78,
          7.51,
          14.07,
          13.13,
          17.26,
          24.55,
          19.77,
          29.85,
          48.17,
          25,
          13.39,
          16.49,
          21.5,
          12.66,
          16.21,
          13.81,
          17.51,
          24.52,
          20.76,
          31.71,
          10.59,
          10.63,
          50.81,
          15.81,
          7.25,
          31.85,
          16.82,
          32.9,
          17.89,
          14.48,
          9.6,
          34.63,
          34.65,
          23.33,
          45.35,
          23.17,
          40.55,
          20.69,
          20.9,
          30.46,
          18.15,
          23.1,
          15.69,
          19.81,
          28.44,
          15.48,
          16.58,
          7.56,
          10.34,
          43.11,
          13,
          13.51,
          18.71,
          12.74,
          13,
          16.4,
          20.53,
          16.47,
          26.59,
          38.73,
          24.27,
          12.76,
          30.06,
          25.89,
          48.33,
          13.27,
          28.17,
          12.9,
          28.15,
          11.59,
          7.74,
          30.14,
          12.16,
          13.42,
          8.58,
          15.98,
          13.42,
          16.27,
          10.09,
          20.45,
          13.28,
          22.12,
          24.01,
          15.69,
          11.61,
          10.77,
          15.53,
          10.07,
          12.6,
          32.83,
          35.83,
          29.03,
          27.18,
          22.67,
          17.82,
          18.78
         ],
         "y": [
          1.01,
          1.66,
          3.5,
          3.31,
          3.61,
          4.71,
          2,
          3.12,
          1.96,
          3.23,
          1.71,
          5,
          1.57,
          3,
          3.02,
          3.92,
          1.67,
          3.71,
          3.5,
          3.35,
          4.08,
          2.75,
          2.23,
          7.58,
          3.18,
          2.34,
          2,
          2,
          4.3,
          3,
          1.45,
          2.5,
          3,
          2.45,
          3.27,
          3.6,
          2,
          3.07,
          2.31,
          5,
          2.24,
          2.54,
          3.06,
          1.32,
          5.6,
          3,
          5,
          6,
          2.05,
          3,
          2.5,
          2.6,
          5.2,
          1.56,
          4.34,
          3.51,
          3,
          1.5,
          1.76,
          6.73,
          3.21,
          2,
          1.98,
          3.76,
          2.64,
          3.15,
          2.47,
          1,
          2.01,
          2.09,
          1.97,
          3,
          3.14,
          5,
          2.2,
          1.25,
          3.08,
          4,
          3,
          2.71,
          3,
          3.4,
          1.83,
          5,
          2.03,
          5.17,
          2,
          4,
          5.85,
          3,
          3,
          3.5,
          1,
          4.3,
          3.25,
          4.73,
          4,
          1.5,
          3,
          1.5,
          2.5,
          3,
          2.5,
          3.48,
          4.08,
          1.64,
          4.06,
          4.29,
          3.76,
          4,
          3,
          1,
          4,
          2.55,
          4,
          3.5,
          5.07,
          1.5,
          1.8,
          2.92,
          2.31,
          1.68,
          2.5,
          2,
          2.52,
          4.2,
          1.48,
          2,
          2,
          2.18,
          1.5,
          2.83,
          1.5,
          2,
          3.25,
          1.25,
          2,
          2,
          2,
          2.75,
          3.5,
          6.7,
          5,
          5,
          2.3,
          1.5,
          1.36,
          1.63,
          1.73,
          2,
          2.5,
          2,
          2.74,
          2,
          2,
          5.14,
          5,
          3.75,
          2.61,
          2,
          3.5,
          2.5,
          2,
          2,
          3,
          3.48,
          2.24,
          4.5,
          1.61,
          2,
          10,
          3.16,
          5.15,
          3.18,
          4,
          3.11,
          2,
          2,
          4,
          3.55,
          3.68,
          5.65,
          3.5,
          6.5,
          3,
          5,
          3.5,
          2,
          3.5,
          4,
          1.5,
          4.19,
          2.56,
          2.02,
          4,
          1.44,
          2,
          5,
          2,
          2,
          4,
          2.01,
          2,
          2.5,
          4,
          3.23,
          3.41,
          3,
          2.03,
          2.23,
          2,
          5.16,
          9,
          2.5,
          6.5,
          1.1,
          3,
          1.5,
          1.44,
          3.09,
          2.2,
          3.48,
          1.92,
          3,
          1.58,
          2.5,
          2,
          3,
          2.72,
          2.88,
          2,
          3,
          3.39,
          1.47,
          3,
          1.25,
          1,
          1.17,
          4.67,
          5.92,
          2,
          2,
          1.75,
          3
         ]
        }
       ],
       "layout": {
        "legend": {
         "bgcolor": "#F5F6F9",
         "font": {
          "color": "#4D5663"
         }
        },
        "paper_bgcolor": "#F5F6F9",
        "plot_bgcolor": "#F5F6F9",
        "template": {
         "data": {
          "bar": [
           {
            "error_x": {
             "color": "#2a3f5f"
            },
            "error_y": {
             "color": "#2a3f5f"
            },
            "marker": {
             "line": {
              "color": "#E5ECF6",
              "width": 0.5
             },
             "pattern": {
              "fillmode": "overlay",
              "size": 10,
              "solidity": 0.2
             }
            },
            "type": "bar"
           }
          ],
          "barpolar": [
           {
            "marker": {
             "line": {
              "color": "#E5ECF6",
              "width": 0.5
             },
             "pattern": {
              "fillmode": "overlay",
              "size": 10,
              "solidity": 0.2
             }
            },
            "type": "barpolar"
           }
          ],
          "carpet": [
           {
            "aaxis": {
             "endlinecolor": "#2a3f5f",
             "gridcolor": "white",
             "linecolor": "white",
             "minorgridcolor": "white",
             "startlinecolor": "#2a3f5f"
            },
            "baxis": {
             "endlinecolor": "#2a3f5f",
             "gridcolor": "white",
             "linecolor": "white",
             "minorgridcolor": "white",
             "startlinecolor": "#2a3f5f"
            },
            "type": "carpet"
           }
          ],
          "choropleth": [
           {
            "colorbar": {
             "outlinewidth": 0,
             "ticks": ""
            },
            "type": "choropleth"
           }
          ],
          "contour": [
           {
            "colorbar": {
             "outlinewidth": 0,
             "ticks": ""
            },
            "colorscale": [
             [
              0,
              "#0d0887"
             ],
             [
              0.1111111111111111,
              "#46039f"
             ],
             [
              0.2222222222222222,
              "#7201a8"
             ],
             [
              0.3333333333333333,
              "#9c179e"
             ],
             [
              0.4444444444444444,
              "#bd3786"
             ],
             [
              0.5555555555555556,
              "#d8576b"
             ],
             [
              0.6666666666666666,
              "#ed7953"
             ],
             [
              0.7777777777777778,
              "#fb9f3a"
             ],
             [
              0.8888888888888888,
              "#fdca26"
             ],
             [
              1,
              "#f0f921"
             ]
            ],
            "type": "contour"
           }
          ],
          "contourcarpet": [
           {
            "colorbar": {
             "outlinewidth": 0,
             "ticks": ""
            },
            "type": "contourcarpet"
           }
          ],
          "heatmap": [
           {
            "colorbar": {
             "outlinewidth": 0,
             "ticks": ""
            },
            "colorscale": [
             [
              0,
              "#0d0887"
             ],
             [
              0.1111111111111111,
              "#46039f"
             ],
             [
              0.2222222222222222,
              "#7201a8"
             ],
             [
              0.3333333333333333,
              "#9c179e"
             ],
             [
              0.4444444444444444,
              "#bd3786"
             ],
             [
              0.5555555555555556,
              "#d8576b"
             ],
             [
              0.6666666666666666,
              "#ed7953"
             ],
             [
              0.7777777777777778,
              "#fb9f3a"
             ],
             [
              0.8888888888888888,
              "#fdca26"
             ],
             [
              1,
              "#f0f921"
             ]
            ],
            "type": "heatmap"
           }
          ],
          "heatmapgl": [
           {
            "colorbar": {
             "outlinewidth": 0,
             "ticks": ""
            },
            "colorscale": [
             [
              0,
              "#0d0887"
             ],
             [
              0.1111111111111111,
              "#46039f"
             ],
             [
              0.2222222222222222,
              "#7201a8"
             ],
             [
              0.3333333333333333,
              "#9c179e"
             ],
             [
              0.4444444444444444,
              "#bd3786"
             ],
             [
              0.5555555555555556,
              "#d8576b"
             ],
             [
              0.6666666666666666,
              "#ed7953"
             ],
             [
              0.7777777777777778,
              "#fb9f3a"
             ],
             [
              0.8888888888888888,
              "#fdca26"
             ],
             [
              1,
              "#f0f921"
             ]
            ],
            "type": "heatmapgl"
           }
          ],
          "histogram": [
           {
            "marker": {
             "pattern": {
              "fillmode": "overlay",
              "size": 10,
              "solidity": 0.2
             }
            },
            "type": "histogram"
           }
          ],
          "histogram2d": [
           {
            "colorbar": {
             "outlinewidth": 0,
             "ticks": ""
            },
            "colorscale": [
             [
              0,
              "#0d0887"
             ],
             [
              0.1111111111111111,
              "#46039f"
             ],
             [
              0.2222222222222222,
              "#7201a8"
             ],
             [
              0.3333333333333333,
              "#9c179e"
             ],
             [
              0.4444444444444444,
              "#bd3786"
             ],
             [
              0.5555555555555556,
              "#d8576b"
             ],
             [
              0.6666666666666666,
              "#ed7953"
             ],
             [
              0.7777777777777778,
              "#fb9f3a"
             ],
             [
              0.8888888888888888,
              "#fdca26"
             ],
             [
              1,
              "#f0f921"
             ]
            ],
            "type": "histogram2d"
           }
          ],
          "histogram2dcontour": [
           {
            "colorbar": {
             "outlinewidth": 0,
             "ticks": ""
            },
            "colorscale": [
             [
              0,
              "#0d0887"
             ],
             [
              0.1111111111111111,
              "#46039f"
             ],
             [
              0.2222222222222222,
              "#7201a8"
             ],
             [
              0.3333333333333333,
              "#9c179e"
             ],
             [
              0.4444444444444444,
              "#bd3786"
             ],
             [
              0.5555555555555556,
              "#d8576b"
             ],
             [
              0.6666666666666666,
              "#ed7953"
             ],
             [
              0.7777777777777778,
              "#fb9f3a"
             ],
             [
              0.8888888888888888,
              "#fdca26"
             ],
             [
              1,
              "#f0f921"
             ]
            ],
            "type": "histogram2dcontour"
           }
          ],
          "mesh3d": [
           {
            "colorbar": {
             "outlinewidth": 0,
             "ticks": ""
            },
            "type": "mesh3d"
           }
          ],
          "parcoords": [
           {
            "line": {
             "colorbar": {
              "outlinewidth": 0,
              "ticks": ""
             }
            },
            "type": "parcoords"
           }
          ],
          "pie": [
           {
            "automargin": true,
            "type": "pie"
           }
          ],
          "scatter": [
           {
            "marker": {
             "colorbar": {
              "outlinewidth": 0,
              "ticks": ""
             }
            },
            "type": "scatter"
           }
          ],
          "scatter3d": [
           {
            "line": {
             "colorbar": {
              "outlinewidth": 0,
              "ticks": ""
             }
            },
            "marker": {
             "colorbar": {
              "outlinewidth": 0,
              "ticks": ""
             }
            },
            "type": "scatter3d"
           }
          ],
          "scattercarpet": [
           {
            "marker": {
             "colorbar": {
              "outlinewidth": 0,
              "ticks": ""
             }
            },
            "type": "scattercarpet"
           }
          ],
          "scattergeo": [
           {
            "marker": {
             "colorbar": {
              "outlinewidth": 0,
              "ticks": ""
             }
            },
            "type": "scattergeo"
           }
          ],
          "scattergl": [
           {
            "marker": {
             "colorbar": {
              "outlinewidth": 0,
              "ticks": ""
             }
            },
            "type": "scattergl"
           }
          ],
          "scattermapbox": [
           {
            "marker": {
             "colorbar": {
              "outlinewidth": 0,
              "ticks": ""
             }
            },
            "type": "scattermapbox"
           }
          ],
          "scatterpolar": [
           {
            "marker": {
             "colorbar": {
              "outlinewidth": 0,
              "ticks": ""
             }
            },
            "type": "scatterpolar"
           }
          ],
          "scatterpolargl": [
           {
            "marker": {
             "colorbar": {
              "outlinewidth": 0,
              "ticks": ""
             }
            },
            "type": "scatterpolargl"
           }
          ],
          "scatterternary": [
           {
            "marker": {
             "colorbar": {
              "outlinewidth": 0,
              "ticks": ""
             }
            },
            "type": "scatterternary"
           }
          ],
          "surface": [
           {
            "colorbar": {
             "outlinewidth": 0,
             "ticks": ""
            },
            "colorscale": [
             [
              0,
              "#0d0887"
             ],
             [
              0.1111111111111111,
              "#46039f"
             ],
             [
              0.2222222222222222,
              "#7201a8"
             ],
             [
              0.3333333333333333,
              "#9c179e"
             ],
             [
              0.4444444444444444,
              "#bd3786"
             ],
             [
              0.5555555555555556,
              "#d8576b"
             ],
             [
              0.6666666666666666,
              "#ed7953"
             ],
             [
              0.7777777777777778,
              "#fb9f3a"
             ],
             [
              0.8888888888888888,
              "#fdca26"
             ],
             [
              1,
              "#f0f921"
             ]
            ],
            "type": "surface"
           }
          ],
          "table": [
           {
            "cells": {
             "fill": {
              "color": "#EBF0F8"
             },
             "line": {
              "color": "white"
             }
            },
            "header": {
             "fill": {
              "color": "#C8D4E3"
             },
             "line": {
              "color": "white"
             }
            },
            "type": "table"
           }
          ]
         },
         "layout": {
          "annotationdefaults": {
           "arrowcolor": "#2a3f5f",
           "arrowhead": 0,
           "arrowwidth": 1
          },
          "autotypenumbers": "strict",
          "coloraxis": {
           "colorbar": {
            "outlinewidth": 0,
            "ticks": ""
           }
          },
          "colorscale": {
           "diverging": [
            [
             0,
             "#8e0152"
            ],
            [
             0.1,
             "#c51b7d"
            ],
            [
             0.2,
             "#de77ae"
            ],
            [
             0.3,
             "#f1b6da"
            ],
            [
             0.4,
             "#fde0ef"
            ],
            [
             0.5,
             "#f7f7f7"
            ],
            [
             0.6,
             "#e6f5d0"
            ],
            [
             0.7,
             "#b8e186"
            ],
            [
             0.8,
             "#7fbc41"
            ],
            [
             0.9,
             "#4d9221"
            ],
            [
             1,
             "#276419"
            ]
           ],
           "sequential": [
            [
             0,
             "#0d0887"
            ],
            [
             0.1111111111111111,
             "#46039f"
            ],
            [
             0.2222222222222222,
             "#7201a8"
            ],
            [
             0.3333333333333333,
             "#9c179e"
            ],
            [
             0.4444444444444444,
             "#bd3786"
            ],
            [
             0.5555555555555556,
             "#d8576b"
            ],
            [
             0.6666666666666666,
             "#ed7953"
            ],
            [
             0.7777777777777778,
             "#fb9f3a"
            ],
            [
             0.8888888888888888,
             "#fdca26"
            ],
            [
             1,
             "#f0f921"
            ]
           ],
           "sequentialminus": [
            [
             0,
             "#0d0887"
            ],
            [
             0.1111111111111111,
             "#46039f"
            ],
            [
             0.2222222222222222,
             "#7201a8"
            ],
            [
             0.3333333333333333,
             "#9c179e"
            ],
            [
             0.4444444444444444,
             "#bd3786"
            ],
            [
             0.5555555555555556,
             "#d8576b"
            ],
            [
             0.6666666666666666,
             "#ed7953"
            ],
            [
             0.7777777777777778,
             "#fb9f3a"
            ],
            [
             0.8888888888888888,
             "#fdca26"
            ],
            [
             1,
             "#f0f921"
            ]
           ]
          },
          "colorway": [
           "#636efa",
           "#EF553B",
           "#00cc96",
           "#ab63fa",
           "#FFA15A",
           "#19d3f3",
           "#FF6692",
           "#B6E880",
           "#FF97FF",
           "#FECB52"
          ],
          "font": {
           "color": "#2a3f5f"
          },
          "geo": {
           "bgcolor": "white",
           "lakecolor": "white",
           "landcolor": "#E5ECF6",
           "showlakes": true,
           "showland": true,
           "subunitcolor": "white"
          },
          "hoverlabel": {
           "align": "left"
          },
          "hovermode": "closest",
          "mapbox": {
           "style": "light"
          },
          "paper_bgcolor": "white",
          "plot_bgcolor": "#E5ECF6",
          "polar": {
           "angularaxis": {
            "gridcolor": "white",
            "linecolor": "white",
            "ticks": ""
           },
           "bgcolor": "#E5ECF6",
           "radialaxis": {
            "gridcolor": "white",
            "linecolor": "white",
            "ticks": ""
           }
          },
          "scene": {
           "xaxis": {
            "backgroundcolor": "#E5ECF6",
            "gridcolor": "white",
            "gridwidth": 2,
            "linecolor": "white",
            "showbackground": true,
            "ticks": "",
            "zerolinecolor": "white"
           },
           "yaxis": {
            "backgroundcolor": "#E5ECF6",
            "gridcolor": "white",
            "gridwidth": 2,
            "linecolor": "white",
            "showbackground": true,
            "ticks": "",
            "zerolinecolor": "white"
           },
           "zaxis": {
            "backgroundcolor": "#E5ECF6",
            "gridcolor": "white",
            "gridwidth": 2,
            "linecolor": "white",
            "showbackground": true,
            "ticks": "",
            "zerolinecolor": "white"
           }
          },
          "shapedefaults": {
           "line": {
            "color": "#2a3f5f"
           }
          },
          "ternary": {
           "aaxis": {
            "gridcolor": "white",
            "linecolor": "white",
            "ticks": ""
           },
           "baxis": {
            "gridcolor": "white",
            "linecolor": "white",
            "ticks": ""
           },
           "bgcolor": "#E5ECF6",
           "caxis": {
            "gridcolor": "white",
            "linecolor": "white",
            "ticks": ""
           }
          },
          "title": {
           "x": 0.05
          },
          "xaxis": {
           "automargin": true,
           "gridcolor": "white",
           "linecolor": "white",
           "ticks": "",
           "title": {
            "standoff": 15
           },
           "zerolinecolor": "white",
           "zerolinewidth": 2
          },
          "yaxis": {
           "automargin": true,
           "gridcolor": "white",
           "linecolor": "white",
           "ticks": "",
           "title": {
            "standoff": 15
           },
           "zerolinecolor": "white",
           "zerolinewidth": 2
          }
         }
        },
        "title": {
         "font": {
          "color": "#4D5663"
         }
        },
        "xaxis": {
         "gridcolor": "#E1E5ED",
         "showgrid": true,
         "tickfont": {
          "color": "#4D5663"
         },
         "title": {
          "font": {
           "color": "#4D5663"
          },
          "text": ""
         },
         "zerolinecolor": "#E1E5ED"
        },
        "yaxis": {
         "gridcolor": "#E1E5ED",
         "showgrid": true,
         "tickfont": {
          "color": "#4D5663"
         },
         "title": {
          "font": {
           "color": "#4D5663"
          },
          "text": ""
         },
         "zerolinecolor": "#E1E5ED"
        }
       }
      },
      "text/html": [
       "<div>                            <div id=\"ecb02cf8-1c9c-43e7-b6e2-14d887e033dc\" class=\"plotly-graph-div\" style=\"height:525px; width:100%;\"></div>            <script type=\"text/javascript\">                require([\"plotly\"], function(Plotly) {                    window.PLOTLYENV=window.PLOTLYENV || {};\n",
       "                    window.PLOTLYENV.BASE_URL='https://plot.ly';                                    if (document.getElementById(\"ecb02cf8-1c9c-43e7-b6e2-14d887e033dc\")) {                    Plotly.newPlot(                        \"ecb02cf8-1c9c-43e7-b6e2-14d887e033dc\",                        [{\"line\":{\"color\":\"rgba(255, 153, 51, 1.0)\",\"dash\":\"solid\",\"shape\":\"linear\",\"width\":1.3},\"marker\":{\"size\":20,\"symbol\":\"circle\"},\"mode\":\"markers\",\"name\":\"tip\",\"text\":\"\",\"x\":[16.99,10.34,21.01,23.68,24.59,25.29,8.77,26.88,15.04,14.78,10.27,35.26,15.42,18.43,14.83,21.58,10.33,16.29,16.97,20.65,17.92,20.29,15.77,39.42,19.82,17.81,13.37,12.69,21.7,19.65,9.55,18.35,15.06,20.69,17.78,24.06,16.31,16.93,18.69,31.27,16.04,17.46,13.94,9.68,30.4,18.29,22.23,32.4,28.55,18.04,12.54,10.29,34.81,9.94,25.56,19.49,38.01,26.41,11.24,48.27,20.29,13.81,11.02,18.29,17.59,20.08,16.45,3.07,20.23,15.01,12.02,17.07,26.86,25.28,14.73,10.51,17.92,27.2,22.76,17.29,19.44,16.66,10.07,32.68,15.98,34.83,13.03,18.28,24.71,21.16,28.97,22.49,5.75,16.32,22.75,40.17,27.28,12.03,21.01,12.46,11.35,15.38,44.3,22.42,20.92,15.36,20.49,25.21,18.24,14.31,14.0,7.25,38.07,23.95,25.71,17.31,29.93,10.65,12.43,24.08,11.69,13.42,14.26,15.95,12.48,29.8,8.52,14.52,11.38,22.82,19.08,20.27,11.17,12.26,18.26,8.51,10.33,14.15,16.0,13.16,17.47,34.3,41.19,27.05,16.43,8.35,18.64,11.87,9.78,7.51,14.07,13.13,17.26,24.55,19.77,29.85,48.17,25.0,13.39,16.49,21.5,12.66,16.21,13.81,17.51,24.52,20.76,31.71,10.59,10.63,50.81,15.81,7.25,31.85,16.82,32.9,17.89,14.48,9.6,34.63,34.65,23.33,45.35,23.17,40.55,20.69,20.9,30.46,18.15,23.1,15.69,19.81,28.44,15.48,16.58,7.56,10.34,43.11,13.0,13.51,18.71,12.74,13.0,16.4,20.53,16.47,26.59,38.73,24.27,12.76,30.06,25.89,48.33,13.27,28.17,12.9,28.15,11.59,7.74,30.14,12.16,13.42,8.58,15.98,13.42,16.27,10.09,20.45,13.28,22.12,24.01,15.69,11.61,10.77,15.53,10.07,12.6,32.83,35.83,29.03,27.18,22.67,17.82,18.78],\"y\":[1.01,1.66,3.5,3.31,3.61,4.71,2.0,3.12,1.96,3.23,1.71,5.0,1.57,3.0,3.02,3.92,1.67,3.71,3.5,3.35,4.08,2.75,2.23,7.58,3.18,2.34,2.0,2.0,4.3,3.0,1.45,2.5,3.0,2.45,3.27,3.6,2.0,3.07,2.31,5.0,2.24,2.54,3.06,1.32,5.6,3.0,5.0,6.0,2.05,3.0,2.5,2.6,5.2,1.56,4.34,3.51,3.0,1.5,1.76,6.73,3.21,2.0,1.98,3.76,2.64,3.15,2.47,1.0,2.01,2.09,1.97,3.0,3.14,5.0,2.2,1.25,3.08,4.0,3.0,2.71,3.0,3.4,1.83,5.0,2.03,5.17,2.0,4.0,5.85,3.0,3.0,3.5,1.0,4.3,3.25,4.73,4.0,1.5,3.0,1.5,2.5,3.0,2.5,3.48,4.08,1.64,4.06,4.29,3.76,4.0,3.0,1.0,4.0,2.55,4.0,3.5,5.07,1.5,1.8,2.92,2.31,1.68,2.5,2.0,2.52,4.2,1.48,2.0,2.0,2.18,1.5,2.83,1.5,2.0,3.25,1.25,2.0,2.0,2.0,2.75,3.5,6.7,5.0,5.0,2.3,1.5,1.36,1.63,1.73,2.0,2.5,2.0,2.74,2.0,2.0,5.14,5.0,3.75,2.61,2.0,3.5,2.5,2.0,2.0,3.0,3.48,2.24,4.5,1.61,2.0,10.0,3.16,5.15,3.18,4.0,3.11,2.0,2.0,4.0,3.55,3.68,5.65,3.5,6.5,3.0,5.0,3.5,2.0,3.5,4.0,1.5,4.19,2.56,2.02,4.0,1.44,2.0,5.0,2.0,2.0,4.0,2.01,2.0,2.5,4.0,3.23,3.41,3.0,2.03,2.23,2.0,5.16,9.0,2.5,6.5,1.1,3.0,1.5,1.44,3.09,2.2,3.48,1.92,3.0,1.58,2.5,2.0,3.0,2.72,2.88,2.0,3.0,3.39,1.47,3.0,1.25,1.0,1.17,4.67,5.92,2.0,2.0,1.75,3.0],\"type\":\"scatter\"}],                        {\"legend\":{\"bgcolor\":\"#F5F6F9\",\"font\":{\"color\":\"#4D5663\"}},\"paper_bgcolor\":\"#F5F6F9\",\"plot_bgcolor\":\"#F5F6F9\",\"template\":{\"data\":{\"barpolar\":[{\"marker\":{\"line\":{\"color\":\"#E5ECF6\",\"width\":0.5},\"pattern\":{\"fillmode\":\"overlay\",\"size\":10,\"solidity\":0.2}},\"type\":\"barpolar\"}],\"bar\":[{\"error_x\":{\"color\":\"#2a3f5f\"},\"error_y\":{\"color\":\"#2a3f5f\"},\"marker\":{\"line\":{\"color\":\"#E5ECF6\",\"width\":0.5},\"pattern\":{\"fillmode\":\"overlay\",\"size\":10,\"solidity\":0.2}},\"type\":\"bar\"}],\"carpet\":[{\"aaxis\":{\"endlinecolor\":\"#2a3f5f\",\"gridcolor\":\"white\",\"linecolor\":\"white\",\"minorgridcolor\":\"white\",\"startlinecolor\":\"#2a3f5f\"},\"baxis\":{\"endlinecolor\":\"#2a3f5f\",\"gridcolor\":\"white\",\"linecolor\":\"white\",\"minorgridcolor\":\"white\",\"startlinecolor\":\"#2a3f5f\"},\"type\":\"carpet\"}],\"choropleth\":[{\"colorbar\":{\"outlinewidth\":0,\"ticks\":\"\"},\"type\":\"choropleth\"}],\"contourcarpet\":[{\"colorbar\":{\"outlinewidth\":0,\"ticks\":\"\"},\"type\":\"contourcarpet\"}],\"contour\":[{\"colorbar\":{\"outlinewidth\":0,\"ticks\":\"\"},\"colorscale\":[[0.0,\"#0d0887\"],[0.1111111111111111,\"#46039f\"],[0.2222222222222222,\"#7201a8\"],[0.3333333333333333,\"#9c179e\"],[0.4444444444444444,\"#bd3786\"],[0.5555555555555556,\"#d8576b\"],[0.6666666666666666,\"#ed7953\"],[0.7777777777777778,\"#fb9f3a\"],[0.8888888888888888,\"#fdca26\"],[1.0,\"#f0f921\"]],\"type\":\"contour\"}],\"heatmapgl\":[{\"colorbar\":{\"outlinewidth\":0,\"ticks\":\"\"},\"colorscale\":[[0.0,\"#0d0887\"],[0.1111111111111111,\"#46039f\"],[0.2222222222222222,\"#7201a8\"],[0.3333333333333333,\"#9c179e\"],[0.4444444444444444,\"#bd3786\"],[0.5555555555555556,\"#d8576b\"],[0.6666666666666666,\"#ed7953\"],[0.7777777777777778,\"#fb9f3a\"],[0.8888888888888888,\"#fdca26\"],[1.0,\"#f0f921\"]],\"type\":\"heatmapgl\"}],\"heatmap\":[{\"colorbar\":{\"outlinewidth\":0,\"ticks\":\"\"},\"colorscale\":[[0.0,\"#0d0887\"],[0.1111111111111111,\"#46039f\"],[0.2222222222222222,\"#7201a8\"],[0.3333333333333333,\"#9c179e\"],[0.4444444444444444,\"#bd3786\"],[0.5555555555555556,\"#d8576b\"],[0.6666666666666666,\"#ed7953\"],[0.7777777777777778,\"#fb9f3a\"],[0.8888888888888888,\"#fdca26\"],[1.0,\"#f0f921\"]],\"type\":\"heatmap\"}],\"histogram2dcontour\":[{\"colorbar\":{\"outlinewidth\":0,\"ticks\":\"\"},\"colorscale\":[[0.0,\"#0d0887\"],[0.1111111111111111,\"#46039f\"],[0.2222222222222222,\"#7201a8\"],[0.3333333333333333,\"#9c179e\"],[0.4444444444444444,\"#bd3786\"],[0.5555555555555556,\"#d8576b\"],[0.6666666666666666,\"#ed7953\"],[0.7777777777777778,\"#fb9f3a\"],[0.8888888888888888,\"#fdca26\"],[1.0,\"#f0f921\"]],\"type\":\"histogram2dcontour\"}],\"histogram2d\":[{\"colorbar\":{\"outlinewidth\":0,\"ticks\":\"\"},\"colorscale\":[[0.0,\"#0d0887\"],[0.1111111111111111,\"#46039f\"],[0.2222222222222222,\"#7201a8\"],[0.3333333333333333,\"#9c179e\"],[0.4444444444444444,\"#bd3786\"],[0.5555555555555556,\"#d8576b\"],[0.6666666666666666,\"#ed7953\"],[0.7777777777777778,\"#fb9f3a\"],[0.8888888888888888,\"#fdca26\"],[1.0,\"#f0f921\"]],\"type\":\"histogram2d\"}],\"histogram\":[{\"marker\":{\"pattern\":{\"fillmode\":\"overlay\",\"size\":10,\"solidity\":0.2}},\"type\":\"histogram\"}],\"mesh3d\":[{\"colorbar\":{\"outlinewidth\":0,\"ticks\":\"\"},\"type\":\"mesh3d\"}],\"parcoords\":[{\"line\":{\"colorbar\":{\"outlinewidth\":0,\"ticks\":\"\"}},\"type\":\"parcoords\"}],\"pie\":[{\"automargin\":true,\"type\":\"pie\"}],\"scatter3d\":[{\"line\":{\"colorbar\":{\"outlinewidth\":0,\"ticks\":\"\"}},\"marker\":{\"colorbar\":{\"outlinewidth\":0,\"ticks\":\"\"}},\"type\":\"scatter3d\"}],\"scattercarpet\":[{\"marker\":{\"colorbar\":{\"outlinewidth\":0,\"ticks\":\"\"}},\"type\":\"scattercarpet\"}],\"scattergeo\":[{\"marker\":{\"colorbar\":{\"outlinewidth\":0,\"ticks\":\"\"}},\"type\":\"scattergeo\"}],\"scattergl\":[{\"marker\":{\"colorbar\":{\"outlinewidth\":0,\"ticks\":\"\"}},\"type\":\"scattergl\"}],\"scattermapbox\":[{\"marker\":{\"colorbar\":{\"outlinewidth\":0,\"ticks\":\"\"}},\"type\":\"scattermapbox\"}],\"scatterpolargl\":[{\"marker\":{\"colorbar\":{\"outlinewidth\":0,\"ticks\":\"\"}},\"type\":\"scatterpolargl\"}],\"scatterpolar\":[{\"marker\":{\"colorbar\":{\"outlinewidth\":0,\"ticks\":\"\"}},\"type\":\"scatterpolar\"}],\"scatter\":[{\"marker\":{\"colorbar\":{\"outlinewidth\":0,\"ticks\":\"\"}},\"type\":\"scatter\"}],\"scatterternary\":[{\"marker\":{\"colorbar\":{\"outlinewidth\":0,\"ticks\":\"\"}},\"type\":\"scatterternary\"}],\"surface\":[{\"colorbar\":{\"outlinewidth\":0,\"ticks\":\"\"},\"colorscale\":[[0.0,\"#0d0887\"],[0.1111111111111111,\"#46039f\"],[0.2222222222222222,\"#7201a8\"],[0.3333333333333333,\"#9c179e\"],[0.4444444444444444,\"#bd3786\"],[0.5555555555555556,\"#d8576b\"],[0.6666666666666666,\"#ed7953\"],[0.7777777777777778,\"#fb9f3a\"],[0.8888888888888888,\"#fdca26\"],[1.0,\"#f0f921\"]],\"type\":\"surface\"}],\"table\":[{\"cells\":{\"fill\":{\"color\":\"#EBF0F8\"},\"line\":{\"color\":\"white\"}},\"header\":{\"fill\":{\"color\":\"#C8D4E3\"},\"line\":{\"color\":\"white\"}},\"type\":\"table\"}]},\"layout\":{\"annotationdefaults\":{\"arrowcolor\":\"#2a3f5f\",\"arrowhead\":0,\"arrowwidth\":1},\"autotypenumbers\":\"strict\",\"coloraxis\":{\"colorbar\":{\"outlinewidth\":0,\"ticks\":\"\"}},\"colorscale\":{\"diverging\":[[0,\"#8e0152\"],[0.1,\"#c51b7d\"],[0.2,\"#de77ae\"],[0.3,\"#f1b6da\"],[0.4,\"#fde0ef\"],[0.5,\"#f7f7f7\"],[0.6,\"#e6f5d0\"],[0.7,\"#b8e186\"],[0.8,\"#7fbc41\"],[0.9,\"#4d9221\"],[1,\"#276419\"]],\"sequential\":[[0.0,\"#0d0887\"],[0.1111111111111111,\"#46039f\"],[0.2222222222222222,\"#7201a8\"],[0.3333333333333333,\"#9c179e\"],[0.4444444444444444,\"#bd3786\"],[0.5555555555555556,\"#d8576b\"],[0.6666666666666666,\"#ed7953\"],[0.7777777777777778,\"#fb9f3a\"],[0.8888888888888888,\"#fdca26\"],[1.0,\"#f0f921\"]],\"sequentialminus\":[[0.0,\"#0d0887\"],[0.1111111111111111,\"#46039f\"],[0.2222222222222222,\"#7201a8\"],[0.3333333333333333,\"#9c179e\"],[0.4444444444444444,\"#bd3786\"],[0.5555555555555556,\"#d8576b\"],[0.6666666666666666,\"#ed7953\"],[0.7777777777777778,\"#fb9f3a\"],[0.8888888888888888,\"#fdca26\"],[1.0,\"#f0f921\"]]},\"colorway\":[\"#636efa\",\"#EF553B\",\"#00cc96\",\"#ab63fa\",\"#FFA15A\",\"#19d3f3\",\"#FF6692\",\"#B6E880\",\"#FF97FF\",\"#FECB52\"],\"font\":{\"color\":\"#2a3f5f\"},\"geo\":{\"bgcolor\":\"white\",\"lakecolor\":\"white\",\"landcolor\":\"#E5ECF6\",\"showlakes\":true,\"showland\":true,\"subunitcolor\":\"white\"},\"hoverlabel\":{\"align\":\"left\"},\"hovermode\":\"closest\",\"mapbox\":{\"style\":\"light\"},\"paper_bgcolor\":\"white\",\"plot_bgcolor\":\"#E5ECF6\",\"polar\":{\"angularaxis\":{\"gridcolor\":\"white\",\"linecolor\":\"white\",\"ticks\":\"\"},\"bgcolor\":\"#E5ECF6\",\"radialaxis\":{\"gridcolor\":\"white\",\"linecolor\":\"white\",\"ticks\":\"\"}},\"scene\":{\"xaxis\":{\"backgroundcolor\":\"#E5ECF6\",\"gridcolor\":\"white\",\"gridwidth\":2,\"linecolor\":\"white\",\"showbackground\":true,\"ticks\":\"\",\"zerolinecolor\":\"white\"},\"yaxis\":{\"backgroundcolor\":\"#E5ECF6\",\"gridcolor\":\"white\",\"gridwidth\":2,\"linecolor\":\"white\",\"showbackground\":true,\"ticks\":\"\",\"zerolinecolor\":\"white\"},\"zaxis\":{\"backgroundcolor\":\"#E5ECF6\",\"gridcolor\":\"white\",\"gridwidth\":2,\"linecolor\":\"white\",\"showbackground\":true,\"ticks\":\"\",\"zerolinecolor\":\"white\"}},\"shapedefaults\":{\"line\":{\"color\":\"#2a3f5f\"}},\"ternary\":{\"aaxis\":{\"gridcolor\":\"white\",\"linecolor\":\"white\",\"ticks\":\"\"},\"baxis\":{\"gridcolor\":\"white\",\"linecolor\":\"white\",\"ticks\":\"\"},\"bgcolor\":\"#E5ECF6\",\"caxis\":{\"gridcolor\":\"white\",\"linecolor\":\"white\",\"ticks\":\"\"}},\"title\":{\"x\":0.05},\"xaxis\":{\"automargin\":true,\"gridcolor\":\"white\",\"linecolor\":\"white\",\"ticks\":\"\",\"title\":{\"standoff\":15},\"zerolinecolor\":\"white\",\"zerolinewidth\":2},\"yaxis\":{\"automargin\":true,\"gridcolor\":\"white\",\"linecolor\":\"white\",\"ticks\":\"\",\"title\":{\"standoff\":15},\"zerolinecolor\":\"white\",\"zerolinewidth\":2}}},\"title\":{\"font\":{\"color\":\"#4D5663\"}},\"xaxis\":{\"gridcolor\":\"#E1E5ED\",\"showgrid\":true,\"tickfont\":{\"color\":\"#4D5663\"},\"title\":{\"font\":{\"color\":\"#4D5663\"},\"text\":\"\"},\"zerolinecolor\":\"#E1E5ED\"},\"yaxis\":{\"gridcolor\":\"#E1E5ED\",\"showgrid\":true,\"tickfont\":{\"color\":\"#4D5663\"},\"title\":{\"font\":{\"color\":\"#4D5663\"},\"text\":\"\"},\"zerolinecolor\":\"#E1E5ED\"}},                        {\"showLink\": true, \"linkText\": \"Export to plot.ly\", \"plotlyServerURL\": \"https://plot.ly\", \"responsive\": true}                    ).then(function(){\n",
       "                            \n",
       "var gd = document.getElementById('ecb02cf8-1c9c-43e7-b6e2-14d887e033dc');\n",
       "var x = new MutationObserver(function (mutations, observer) {{\n",
       "        var display = window.getComputedStyle(gd).display;\n",
       "        if (!display || display === 'none') {{\n",
       "            console.log([gd, 'removed!']);\n",
       "            Plotly.purge(gd);\n",
       "            observer.disconnect();\n",
       "        }}\n",
       "}});\n",
       "\n",
       "// Listen for the removal of the full notebook cells\n",
       "var notebookContainer = gd.closest('#notebook-container');\n",
       "if (notebookContainer) {{\n",
       "    x.observe(notebookContainer, {childList: true});\n",
       "}}\n",
       "\n",
       "// Listen for the clearing of the current output cell\n",
       "var outputEl = gd.closest('.output');\n",
       "if (outputEl) {{\n",
       "    x.observe(outputEl, {childList: true});\n",
       "}}\n",
       "\n",
       "                        })                };                });            </script>        </div>"
      ]
     },
     "metadata": {},
     "output_type": "display_data"
    }
   ],
   "source": [
    "tips.iplot(kind='scatter',x='total_bill',y='tip',mode='markers',size=20)"
   ]
  },
  {
   "cell_type": "code",
   "execution_count": 23,
   "id": "3ae874a0",
   "metadata": {},
   "outputs": [
    {
     "data": {
      "application/vnd.plotly.v1+json": {
       "config": {
        "linkText": "Export to plot.ly",
        "plotlyServerURL": "https://plot.ly",
        "showLink": true
       },
       "data": [
        {
         "marker": {
          "color": "rgba(255, 153, 51, 0.6)",
          "line": {
           "color": "rgba(255, 153, 51, 1.0)",
           "width": 1
          }
         },
         "name": "Values",
         "orientation": "v",
         "text": "",
         "type": "bar",
         "x": [
          "A",
          "B",
          "C"
         ],
         "y": [
          34,
          67,
          44
         ]
        }
       ],
       "layout": {
        "legend": {
         "bgcolor": "#F5F6F9",
         "font": {
          "color": "#4D5663"
         }
        },
        "paper_bgcolor": "#F5F6F9",
        "plot_bgcolor": "#F5F6F9",
        "template": {
         "data": {
          "bar": [
           {
            "error_x": {
             "color": "#2a3f5f"
            },
            "error_y": {
             "color": "#2a3f5f"
            },
            "marker": {
             "line": {
              "color": "#E5ECF6",
              "width": 0.5
             },
             "pattern": {
              "fillmode": "overlay",
              "size": 10,
              "solidity": 0.2
             }
            },
            "type": "bar"
           }
          ],
          "barpolar": [
           {
            "marker": {
             "line": {
              "color": "#E5ECF6",
              "width": 0.5
             },
             "pattern": {
              "fillmode": "overlay",
              "size": 10,
              "solidity": 0.2
             }
            },
            "type": "barpolar"
           }
          ],
          "carpet": [
           {
            "aaxis": {
             "endlinecolor": "#2a3f5f",
             "gridcolor": "white",
             "linecolor": "white",
             "minorgridcolor": "white",
             "startlinecolor": "#2a3f5f"
            },
            "baxis": {
             "endlinecolor": "#2a3f5f",
             "gridcolor": "white",
             "linecolor": "white",
             "minorgridcolor": "white",
             "startlinecolor": "#2a3f5f"
            },
            "type": "carpet"
           }
          ],
          "choropleth": [
           {
            "colorbar": {
             "outlinewidth": 0,
             "ticks": ""
            },
            "type": "choropleth"
           }
          ],
          "contour": [
           {
            "colorbar": {
             "outlinewidth": 0,
             "ticks": ""
            },
            "colorscale": [
             [
              0,
              "#0d0887"
             ],
             [
              0.1111111111111111,
              "#46039f"
             ],
             [
              0.2222222222222222,
              "#7201a8"
             ],
             [
              0.3333333333333333,
              "#9c179e"
             ],
             [
              0.4444444444444444,
              "#bd3786"
             ],
             [
              0.5555555555555556,
              "#d8576b"
             ],
             [
              0.6666666666666666,
              "#ed7953"
             ],
             [
              0.7777777777777778,
              "#fb9f3a"
             ],
             [
              0.8888888888888888,
              "#fdca26"
             ],
             [
              1,
              "#f0f921"
             ]
            ],
            "type": "contour"
           }
          ],
          "contourcarpet": [
           {
            "colorbar": {
             "outlinewidth": 0,
             "ticks": ""
            },
            "type": "contourcarpet"
           }
          ],
          "heatmap": [
           {
            "colorbar": {
             "outlinewidth": 0,
             "ticks": ""
            },
            "colorscale": [
             [
              0,
              "#0d0887"
             ],
             [
              0.1111111111111111,
              "#46039f"
             ],
             [
              0.2222222222222222,
              "#7201a8"
             ],
             [
              0.3333333333333333,
              "#9c179e"
             ],
             [
              0.4444444444444444,
              "#bd3786"
             ],
             [
              0.5555555555555556,
              "#d8576b"
             ],
             [
              0.6666666666666666,
              "#ed7953"
             ],
             [
              0.7777777777777778,
              "#fb9f3a"
             ],
             [
              0.8888888888888888,
              "#fdca26"
             ],
             [
              1,
              "#f0f921"
             ]
            ],
            "type": "heatmap"
           }
          ],
          "heatmapgl": [
           {
            "colorbar": {
             "outlinewidth": 0,
             "ticks": ""
            },
            "colorscale": [
             [
              0,
              "#0d0887"
             ],
             [
              0.1111111111111111,
              "#46039f"
             ],
             [
              0.2222222222222222,
              "#7201a8"
             ],
             [
              0.3333333333333333,
              "#9c179e"
             ],
             [
              0.4444444444444444,
              "#bd3786"
             ],
             [
              0.5555555555555556,
              "#d8576b"
             ],
             [
              0.6666666666666666,
              "#ed7953"
             ],
             [
              0.7777777777777778,
              "#fb9f3a"
             ],
             [
              0.8888888888888888,
              "#fdca26"
             ],
             [
              1,
              "#f0f921"
             ]
            ],
            "type": "heatmapgl"
           }
          ],
          "histogram": [
           {
            "marker": {
             "pattern": {
              "fillmode": "overlay",
              "size": 10,
              "solidity": 0.2
             }
            },
            "type": "histogram"
           }
          ],
          "histogram2d": [
           {
            "colorbar": {
             "outlinewidth": 0,
             "ticks": ""
            },
            "colorscale": [
             [
              0,
              "#0d0887"
             ],
             [
              0.1111111111111111,
              "#46039f"
             ],
             [
              0.2222222222222222,
              "#7201a8"
             ],
             [
              0.3333333333333333,
              "#9c179e"
             ],
             [
              0.4444444444444444,
              "#bd3786"
             ],
             [
              0.5555555555555556,
              "#d8576b"
             ],
             [
              0.6666666666666666,
              "#ed7953"
             ],
             [
              0.7777777777777778,
              "#fb9f3a"
             ],
             [
              0.8888888888888888,
              "#fdca26"
             ],
             [
              1,
              "#f0f921"
             ]
            ],
            "type": "histogram2d"
           }
          ],
          "histogram2dcontour": [
           {
            "colorbar": {
             "outlinewidth": 0,
             "ticks": ""
            },
            "colorscale": [
             [
              0,
              "#0d0887"
             ],
             [
              0.1111111111111111,
              "#46039f"
             ],
             [
              0.2222222222222222,
              "#7201a8"
             ],
             [
              0.3333333333333333,
              "#9c179e"
             ],
             [
              0.4444444444444444,
              "#bd3786"
             ],
             [
              0.5555555555555556,
              "#d8576b"
             ],
             [
              0.6666666666666666,
              "#ed7953"
             ],
             [
              0.7777777777777778,
              "#fb9f3a"
             ],
             [
              0.8888888888888888,
              "#fdca26"
             ],
             [
              1,
              "#f0f921"
             ]
            ],
            "type": "histogram2dcontour"
           }
          ],
          "mesh3d": [
           {
            "colorbar": {
             "outlinewidth": 0,
             "ticks": ""
            },
            "type": "mesh3d"
           }
          ],
          "parcoords": [
           {
            "line": {
             "colorbar": {
              "outlinewidth": 0,
              "ticks": ""
             }
            },
            "type": "parcoords"
           }
          ],
          "pie": [
           {
            "automargin": true,
            "type": "pie"
           }
          ],
          "scatter": [
           {
            "marker": {
             "colorbar": {
              "outlinewidth": 0,
              "ticks": ""
             }
            },
            "type": "scatter"
           }
          ],
          "scatter3d": [
           {
            "line": {
             "colorbar": {
              "outlinewidth": 0,
              "ticks": ""
             }
            },
            "marker": {
             "colorbar": {
              "outlinewidth": 0,
              "ticks": ""
             }
            },
            "type": "scatter3d"
           }
          ],
          "scattercarpet": [
           {
            "marker": {
             "colorbar": {
              "outlinewidth": 0,
              "ticks": ""
             }
            },
            "type": "scattercarpet"
           }
          ],
          "scattergeo": [
           {
            "marker": {
             "colorbar": {
              "outlinewidth": 0,
              "ticks": ""
             }
            },
            "type": "scattergeo"
           }
          ],
          "scattergl": [
           {
            "marker": {
             "colorbar": {
              "outlinewidth": 0,
              "ticks": ""
             }
            },
            "type": "scattergl"
           }
          ],
          "scattermapbox": [
           {
            "marker": {
             "colorbar": {
              "outlinewidth": 0,
              "ticks": ""
             }
            },
            "type": "scattermapbox"
           }
          ],
          "scatterpolar": [
           {
            "marker": {
             "colorbar": {
              "outlinewidth": 0,
              "ticks": ""
             }
            },
            "type": "scatterpolar"
           }
          ],
          "scatterpolargl": [
           {
            "marker": {
             "colorbar": {
              "outlinewidth": 0,
              "ticks": ""
             }
            },
            "type": "scatterpolargl"
           }
          ],
          "scatterternary": [
           {
            "marker": {
             "colorbar": {
              "outlinewidth": 0,
              "ticks": ""
             }
            },
            "type": "scatterternary"
           }
          ],
          "surface": [
           {
            "colorbar": {
             "outlinewidth": 0,
             "ticks": ""
            },
            "colorscale": [
             [
              0,
              "#0d0887"
             ],
             [
              0.1111111111111111,
              "#46039f"
             ],
             [
              0.2222222222222222,
              "#7201a8"
             ],
             [
              0.3333333333333333,
              "#9c179e"
             ],
             [
              0.4444444444444444,
              "#bd3786"
             ],
             [
              0.5555555555555556,
              "#d8576b"
             ],
             [
              0.6666666666666666,
              "#ed7953"
             ],
             [
              0.7777777777777778,
              "#fb9f3a"
             ],
             [
              0.8888888888888888,
              "#fdca26"
             ],
             [
              1,
              "#f0f921"
             ]
            ],
            "type": "surface"
           }
          ],
          "table": [
           {
            "cells": {
             "fill": {
              "color": "#EBF0F8"
             },
             "line": {
              "color": "white"
             }
            },
            "header": {
             "fill": {
              "color": "#C8D4E3"
             },
             "line": {
              "color": "white"
             }
            },
            "type": "table"
           }
          ]
         },
         "layout": {
          "annotationdefaults": {
           "arrowcolor": "#2a3f5f",
           "arrowhead": 0,
           "arrowwidth": 1
          },
          "autotypenumbers": "strict",
          "coloraxis": {
           "colorbar": {
            "outlinewidth": 0,
            "ticks": ""
           }
          },
          "colorscale": {
           "diverging": [
            [
             0,
             "#8e0152"
            ],
            [
             0.1,
             "#c51b7d"
            ],
            [
             0.2,
             "#de77ae"
            ],
            [
             0.3,
             "#f1b6da"
            ],
            [
             0.4,
             "#fde0ef"
            ],
            [
             0.5,
             "#f7f7f7"
            ],
            [
             0.6,
             "#e6f5d0"
            ],
            [
             0.7,
             "#b8e186"
            ],
            [
             0.8,
             "#7fbc41"
            ],
            [
             0.9,
             "#4d9221"
            ],
            [
             1,
             "#276419"
            ]
           ],
           "sequential": [
            [
             0,
             "#0d0887"
            ],
            [
             0.1111111111111111,
             "#46039f"
            ],
            [
             0.2222222222222222,
             "#7201a8"
            ],
            [
             0.3333333333333333,
             "#9c179e"
            ],
            [
             0.4444444444444444,
             "#bd3786"
            ],
            [
             0.5555555555555556,
             "#d8576b"
            ],
            [
             0.6666666666666666,
             "#ed7953"
            ],
            [
             0.7777777777777778,
             "#fb9f3a"
            ],
            [
             0.8888888888888888,
             "#fdca26"
            ],
            [
             1,
             "#f0f921"
            ]
           ],
           "sequentialminus": [
            [
             0,
             "#0d0887"
            ],
            [
             0.1111111111111111,
             "#46039f"
            ],
            [
             0.2222222222222222,
             "#7201a8"
            ],
            [
             0.3333333333333333,
             "#9c179e"
            ],
            [
             0.4444444444444444,
             "#bd3786"
            ],
            [
             0.5555555555555556,
             "#d8576b"
            ],
            [
             0.6666666666666666,
             "#ed7953"
            ],
            [
             0.7777777777777778,
             "#fb9f3a"
            ],
            [
             0.8888888888888888,
             "#fdca26"
            ],
            [
             1,
             "#f0f921"
            ]
           ]
          },
          "colorway": [
           "#636efa",
           "#EF553B",
           "#00cc96",
           "#ab63fa",
           "#FFA15A",
           "#19d3f3",
           "#FF6692",
           "#B6E880",
           "#FF97FF",
           "#FECB52"
          ],
          "font": {
           "color": "#2a3f5f"
          },
          "geo": {
           "bgcolor": "white",
           "lakecolor": "white",
           "landcolor": "#E5ECF6",
           "showlakes": true,
           "showland": true,
           "subunitcolor": "white"
          },
          "hoverlabel": {
           "align": "left"
          },
          "hovermode": "closest",
          "mapbox": {
           "style": "light"
          },
          "paper_bgcolor": "white",
          "plot_bgcolor": "#E5ECF6",
          "polar": {
           "angularaxis": {
            "gridcolor": "white",
            "linecolor": "white",
            "ticks": ""
           },
           "bgcolor": "#E5ECF6",
           "radialaxis": {
            "gridcolor": "white",
            "linecolor": "white",
            "ticks": ""
           }
          },
          "scene": {
           "xaxis": {
            "backgroundcolor": "#E5ECF6",
            "gridcolor": "white",
            "gridwidth": 2,
            "linecolor": "white",
            "showbackground": true,
            "ticks": "",
            "zerolinecolor": "white"
           },
           "yaxis": {
            "backgroundcolor": "#E5ECF6",
            "gridcolor": "white",
            "gridwidth": 2,
            "linecolor": "white",
            "showbackground": true,
            "ticks": "",
            "zerolinecolor": "white"
           },
           "zaxis": {
            "backgroundcolor": "#E5ECF6",
            "gridcolor": "white",
            "gridwidth": 2,
            "linecolor": "white",
            "showbackground": true,
            "ticks": "",
            "zerolinecolor": "white"
           }
          },
          "shapedefaults": {
           "line": {
            "color": "#2a3f5f"
           }
          },
          "ternary": {
           "aaxis": {
            "gridcolor": "white",
            "linecolor": "white",
            "ticks": ""
           },
           "baxis": {
            "gridcolor": "white",
            "linecolor": "white",
            "ticks": ""
           },
           "bgcolor": "#E5ECF6",
           "caxis": {
            "gridcolor": "white",
            "linecolor": "white",
            "ticks": ""
           }
          },
          "title": {
           "x": 0.05
          },
          "xaxis": {
           "automargin": true,
           "gridcolor": "white",
           "linecolor": "white",
           "ticks": "",
           "title": {
            "standoff": 15
           },
           "zerolinecolor": "white",
           "zerolinewidth": 2
          },
          "yaxis": {
           "automargin": true,
           "gridcolor": "white",
           "linecolor": "white",
           "ticks": "",
           "title": {
            "standoff": 15
           },
           "zerolinecolor": "white",
           "zerolinewidth": 2
          }
         }
        },
        "title": {
         "font": {
          "color": "#4D5663"
         },
         "text": "Representation of \nCategorical Data"
        },
        "xaxis": {
         "gridcolor": "#E1E5ED",
         "showgrid": true,
         "tickfont": {
          "color": "#4D5663"
         },
         "title": {
          "font": {
           "color": "#4D5663"
          },
          "text": "Category"
         },
         "zerolinecolor": "#E1E5ED"
        },
        "yaxis": {
         "gridcolor": "#E1E5ED",
         "showgrid": true,
         "tickfont": {
          "color": "#4D5663"
         },
         "title": {
          "font": {
           "color": "#4D5663"
          },
          "text": "Values"
         },
         "zerolinecolor": "#E1E5ED"
        }
       }
      },
      "text/html": [
       "<div>                            <div id=\"71027966-b8a9-49c1-88f9-eb45b7969779\" class=\"plotly-graph-div\" style=\"height:525px; width:100%;\"></div>            <script type=\"text/javascript\">                require([\"plotly\"], function(Plotly) {                    window.PLOTLYENV=window.PLOTLYENV || {};\n",
       "                    window.PLOTLYENV.BASE_URL='https://plot.ly';                                    if (document.getElementById(\"71027966-b8a9-49c1-88f9-eb45b7969779\")) {                    Plotly.newPlot(                        \"71027966-b8a9-49c1-88f9-eb45b7969779\",                        [{\"marker\":{\"color\":\"rgba(255, 153, 51, 0.6)\",\"line\":{\"color\":\"rgba(255, 153, 51, 1.0)\",\"width\":1}},\"name\":\"Values\",\"orientation\":\"v\",\"text\":\"\",\"x\":[\"A\",\"B\",\"C\"],\"y\":[34,67,44],\"type\":\"bar\"}],                        {\"legend\":{\"bgcolor\":\"#F5F6F9\",\"font\":{\"color\":\"#4D5663\"}},\"paper_bgcolor\":\"#F5F6F9\",\"plot_bgcolor\":\"#F5F6F9\",\"template\":{\"data\":{\"barpolar\":[{\"marker\":{\"line\":{\"color\":\"#E5ECF6\",\"width\":0.5},\"pattern\":{\"fillmode\":\"overlay\",\"size\":10,\"solidity\":0.2}},\"type\":\"barpolar\"}],\"bar\":[{\"error_x\":{\"color\":\"#2a3f5f\"},\"error_y\":{\"color\":\"#2a3f5f\"},\"marker\":{\"line\":{\"color\":\"#E5ECF6\",\"width\":0.5},\"pattern\":{\"fillmode\":\"overlay\",\"size\":10,\"solidity\":0.2}},\"type\":\"bar\"}],\"carpet\":[{\"aaxis\":{\"endlinecolor\":\"#2a3f5f\",\"gridcolor\":\"white\",\"linecolor\":\"white\",\"minorgridcolor\":\"white\",\"startlinecolor\":\"#2a3f5f\"},\"baxis\":{\"endlinecolor\":\"#2a3f5f\",\"gridcolor\":\"white\",\"linecolor\":\"white\",\"minorgridcolor\":\"white\",\"startlinecolor\":\"#2a3f5f\"},\"type\":\"carpet\"}],\"choropleth\":[{\"colorbar\":{\"outlinewidth\":0,\"ticks\":\"\"},\"type\":\"choropleth\"}],\"contourcarpet\":[{\"colorbar\":{\"outlinewidth\":0,\"ticks\":\"\"},\"type\":\"contourcarpet\"}],\"contour\":[{\"colorbar\":{\"outlinewidth\":0,\"ticks\":\"\"},\"colorscale\":[[0.0,\"#0d0887\"],[0.1111111111111111,\"#46039f\"],[0.2222222222222222,\"#7201a8\"],[0.3333333333333333,\"#9c179e\"],[0.4444444444444444,\"#bd3786\"],[0.5555555555555556,\"#d8576b\"],[0.6666666666666666,\"#ed7953\"],[0.7777777777777778,\"#fb9f3a\"],[0.8888888888888888,\"#fdca26\"],[1.0,\"#f0f921\"]],\"type\":\"contour\"}],\"heatmapgl\":[{\"colorbar\":{\"outlinewidth\":0,\"ticks\":\"\"},\"colorscale\":[[0.0,\"#0d0887\"],[0.1111111111111111,\"#46039f\"],[0.2222222222222222,\"#7201a8\"],[0.3333333333333333,\"#9c179e\"],[0.4444444444444444,\"#bd3786\"],[0.5555555555555556,\"#d8576b\"],[0.6666666666666666,\"#ed7953\"],[0.7777777777777778,\"#fb9f3a\"],[0.8888888888888888,\"#fdca26\"],[1.0,\"#f0f921\"]],\"type\":\"heatmapgl\"}],\"heatmap\":[{\"colorbar\":{\"outlinewidth\":0,\"ticks\":\"\"},\"colorscale\":[[0.0,\"#0d0887\"],[0.1111111111111111,\"#46039f\"],[0.2222222222222222,\"#7201a8\"],[0.3333333333333333,\"#9c179e\"],[0.4444444444444444,\"#bd3786\"],[0.5555555555555556,\"#d8576b\"],[0.6666666666666666,\"#ed7953\"],[0.7777777777777778,\"#fb9f3a\"],[0.8888888888888888,\"#fdca26\"],[1.0,\"#f0f921\"]],\"type\":\"heatmap\"}],\"histogram2dcontour\":[{\"colorbar\":{\"outlinewidth\":0,\"ticks\":\"\"},\"colorscale\":[[0.0,\"#0d0887\"],[0.1111111111111111,\"#46039f\"],[0.2222222222222222,\"#7201a8\"],[0.3333333333333333,\"#9c179e\"],[0.4444444444444444,\"#bd3786\"],[0.5555555555555556,\"#d8576b\"],[0.6666666666666666,\"#ed7953\"],[0.7777777777777778,\"#fb9f3a\"],[0.8888888888888888,\"#fdca26\"],[1.0,\"#f0f921\"]],\"type\":\"histogram2dcontour\"}],\"histogram2d\":[{\"colorbar\":{\"outlinewidth\":0,\"ticks\":\"\"},\"colorscale\":[[0.0,\"#0d0887\"],[0.1111111111111111,\"#46039f\"],[0.2222222222222222,\"#7201a8\"],[0.3333333333333333,\"#9c179e\"],[0.4444444444444444,\"#bd3786\"],[0.5555555555555556,\"#d8576b\"],[0.6666666666666666,\"#ed7953\"],[0.7777777777777778,\"#fb9f3a\"],[0.8888888888888888,\"#fdca26\"],[1.0,\"#f0f921\"]],\"type\":\"histogram2d\"}],\"histogram\":[{\"marker\":{\"pattern\":{\"fillmode\":\"overlay\",\"size\":10,\"solidity\":0.2}},\"type\":\"histogram\"}],\"mesh3d\":[{\"colorbar\":{\"outlinewidth\":0,\"ticks\":\"\"},\"type\":\"mesh3d\"}],\"parcoords\":[{\"line\":{\"colorbar\":{\"outlinewidth\":0,\"ticks\":\"\"}},\"type\":\"parcoords\"}],\"pie\":[{\"automargin\":true,\"type\":\"pie\"}],\"scatter3d\":[{\"line\":{\"colorbar\":{\"outlinewidth\":0,\"ticks\":\"\"}},\"marker\":{\"colorbar\":{\"outlinewidth\":0,\"ticks\":\"\"}},\"type\":\"scatter3d\"}],\"scattercarpet\":[{\"marker\":{\"colorbar\":{\"outlinewidth\":0,\"ticks\":\"\"}},\"type\":\"scattercarpet\"}],\"scattergeo\":[{\"marker\":{\"colorbar\":{\"outlinewidth\":0,\"ticks\":\"\"}},\"type\":\"scattergeo\"}],\"scattergl\":[{\"marker\":{\"colorbar\":{\"outlinewidth\":0,\"ticks\":\"\"}},\"type\":\"scattergl\"}],\"scattermapbox\":[{\"marker\":{\"colorbar\":{\"outlinewidth\":0,\"ticks\":\"\"}},\"type\":\"scattermapbox\"}],\"scatterpolargl\":[{\"marker\":{\"colorbar\":{\"outlinewidth\":0,\"ticks\":\"\"}},\"type\":\"scatterpolargl\"}],\"scatterpolar\":[{\"marker\":{\"colorbar\":{\"outlinewidth\":0,\"ticks\":\"\"}},\"type\":\"scatterpolar\"}],\"scatter\":[{\"marker\":{\"colorbar\":{\"outlinewidth\":0,\"ticks\":\"\"}},\"type\":\"scatter\"}],\"scatterternary\":[{\"marker\":{\"colorbar\":{\"outlinewidth\":0,\"ticks\":\"\"}},\"type\":\"scatterternary\"}],\"surface\":[{\"colorbar\":{\"outlinewidth\":0,\"ticks\":\"\"},\"colorscale\":[[0.0,\"#0d0887\"],[0.1111111111111111,\"#46039f\"],[0.2222222222222222,\"#7201a8\"],[0.3333333333333333,\"#9c179e\"],[0.4444444444444444,\"#bd3786\"],[0.5555555555555556,\"#d8576b\"],[0.6666666666666666,\"#ed7953\"],[0.7777777777777778,\"#fb9f3a\"],[0.8888888888888888,\"#fdca26\"],[1.0,\"#f0f921\"]],\"type\":\"surface\"}],\"table\":[{\"cells\":{\"fill\":{\"color\":\"#EBF0F8\"},\"line\":{\"color\":\"white\"}},\"header\":{\"fill\":{\"color\":\"#C8D4E3\"},\"line\":{\"color\":\"white\"}},\"type\":\"table\"}]},\"layout\":{\"annotationdefaults\":{\"arrowcolor\":\"#2a3f5f\",\"arrowhead\":0,\"arrowwidth\":1},\"autotypenumbers\":\"strict\",\"coloraxis\":{\"colorbar\":{\"outlinewidth\":0,\"ticks\":\"\"}},\"colorscale\":{\"diverging\":[[0,\"#8e0152\"],[0.1,\"#c51b7d\"],[0.2,\"#de77ae\"],[0.3,\"#f1b6da\"],[0.4,\"#fde0ef\"],[0.5,\"#f7f7f7\"],[0.6,\"#e6f5d0\"],[0.7,\"#b8e186\"],[0.8,\"#7fbc41\"],[0.9,\"#4d9221\"],[1,\"#276419\"]],\"sequential\":[[0.0,\"#0d0887\"],[0.1111111111111111,\"#46039f\"],[0.2222222222222222,\"#7201a8\"],[0.3333333333333333,\"#9c179e\"],[0.4444444444444444,\"#bd3786\"],[0.5555555555555556,\"#d8576b\"],[0.6666666666666666,\"#ed7953\"],[0.7777777777777778,\"#fb9f3a\"],[0.8888888888888888,\"#fdca26\"],[1.0,\"#f0f921\"]],\"sequentialminus\":[[0.0,\"#0d0887\"],[0.1111111111111111,\"#46039f\"],[0.2222222222222222,\"#7201a8\"],[0.3333333333333333,\"#9c179e\"],[0.4444444444444444,\"#bd3786\"],[0.5555555555555556,\"#d8576b\"],[0.6666666666666666,\"#ed7953\"],[0.7777777777777778,\"#fb9f3a\"],[0.8888888888888888,\"#fdca26\"],[1.0,\"#f0f921\"]]},\"colorway\":[\"#636efa\",\"#EF553B\",\"#00cc96\",\"#ab63fa\",\"#FFA15A\",\"#19d3f3\",\"#FF6692\",\"#B6E880\",\"#FF97FF\",\"#FECB52\"],\"font\":{\"color\":\"#2a3f5f\"},\"geo\":{\"bgcolor\":\"white\",\"lakecolor\":\"white\",\"landcolor\":\"#E5ECF6\",\"showlakes\":true,\"showland\":true,\"subunitcolor\":\"white\"},\"hoverlabel\":{\"align\":\"left\"},\"hovermode\":\"closest\",\"mapbox\":{\"style\":\"light\"},\"paper_bgcolor\":\"white\",\"plot_bgcolor\":\"#E5ECF6\",\"polar\":{\"angularaxis\":{\"gridcolor\":\"white\",\"linecolor\":\"white\",\"ticks\":\"\"},\"bgcolor\":\"#E5ECF6\",\"radialaxis\":{\"gridcolor\":\"white\",\"linecolor\":\"white\",\"ticks\":\"\"}},\"scene\":{\"xaxis\":{\"backgroundcolor\":\"#E5ECF6\",\"gridcolor\":\"white\",\"gridwidth\":2,\"linecolor\":\"white\",\"showbackground\":true,\"ticks\":\"\",\"zerolinecolor\":\"white\"},\"yaxis\":{\"backgroundcolor\":\"#E5ECF6\",\"gridcolor\":\"white\",\"gridwidth\":2,\"linecolor\":\"white\",\"showbackground\":true,\"ticks\":\"\",\"zerolinecolor\":\"white\"},\"zaxis\":{\"backgroundcolor\":\"#E5ECF6\",\"gridcolor\":\"white\",\"gridwidth\":2,\"linecolor\":\"white\",\"showbackground\":true,\"ticks\":\"\",\"zerolinecolor\":\"white\"}},\"shapedefaults\":{\"line\":{\"color\":\"#2a3f5f\"}},\"ternary\":{\"aaxis\":{\"gridcolor\":\"white\",\"linecolor\":\"white\",\"ticks\":\"\"},\"baxis\":{\"gridcolor\":\"white\",\"linecolor\":\"white\",\"ticks\":\"\"},\"bgcolor\":\"#E5ECF6\",\"caxis\":{\"gridcolor\":\"white\",\"linecolor\":\"white\",\"ticks\":\"\"}},\"title\":{\"x\":0.05},\"xaxis\":{\"automargin\":true,\"gridcolor\":\"white\",\"linecolor\":\"white\",\"ticks\":\"\",\"title\":{\"standoff\":15},\"zerolinecolor\":\"white\",\"zerolinewidth\":2},\"yaxis\":{\"automargin\":true,\"gridcolor\":\"white\",\"linecolor\":\"white\",\"ticks\":\"\",\"title\":{\"standoff\":15},\"zerolinecolor\":\"white\",\"zerolinewidth\":2}}},\"title\":{\"font\":{\"color\":\"#4D5663\"},\"text\":\"Representation of \\nCategorical Data\"},\"xaxis\":{\"gridcolor\":\"#E1E5ED\",\"showgrid\":true,\"tickfont\":{\"color\":\"#4D5663\"},\"title\":{\"font\":{\"color\":\"#4D5663\"},\"text\":\"Category\"},\"zerolinecolor\":\"#E1E5ED\"},\"yaxis\":{\"gridcolor\":\"#E1E5ED\",\"showgrid\":true,\"tickfont\":{\"color\":\"#4D5663\"},\"title\":{\"font\":{\"color\":\"#4D5663\"},\"text\":\"Values\"},\"zerolinecolor\":\"#E1E5ED\"}},                        {\"showLink\": true, \"linkText\": \"Export to plot.ly\", \"plotlyServerURL\": \"https://plot.ly\", \"responsive\": true}                    ).then(function(){\n",
       "                            \n",
       "var gd = document.getElementById('71027966-b8a9-49c1-88f9-eb45b7969779');\n",
       "var x = new MutationObserver(function (mutations, observer) {{\n",
       "        var display = window.getComputedStyle(gd).display;\n",
       "        if (!display || display === 'none') {{\n",
       "            console.log([gd, 'removed!']);\n",
       "            Plotly.purge(gd);\n",
       "            observer.disconnect();\n",
       "        }}\n",
       "}});\n",
       "\n",
       "// Listen for the removal of the full notebook cells\n",
       "var notebookContainer = gd.closest('#notebook-container');\n",
       "if (notebookContainer) {{\n",
       "    x.observe(notebookContainer, {childList: true});\n",
       "}}\n",
       "\n",
       "// Listen for the clearing of the current output cell\n",
       "var outputEl = gd.closest('.output');\n",
       "if (outputEl) {{\n",
       "    x.observe(outputEl, {childList: true});\n",
       "}}\n",
       "\n",
       "                        })                };                });            </script>        </div>"
      ]
     },
     "metadata": {},
     "output_type": "display_data"
    }
   ],
   "source": [
    "df2.iplot(kind='bar',x='Category',y='Values',title='''Representation of \n",
    "Categorical Data''',xTitle='Category',yTitle=\"Values\")"
   ]
  },
  {
   "cell_type": "code",
   "execution_count": 24,
   "id": "ed875d59",
   "metadata": {},
   "outputs": [
    {
     "data": {
      "application/vnd.plotly.v1+json": {
       "config": {
        "linkText": "Export to plot.ly",
        "plotlyServerURL": "https://plot.ly",
        "showLink": true
       },
       "data": [
        {
         "marker": {
          "color": "rgba(219, 64, 82, 0.6)",
          "line": {
           "color": "rgba(219, 64, 82, 1.0)",
           "width": 1
          }
         },
         "name": "None",
         "orientation": "v",
         "text": "",
         "type": "bar",
         "x": [
          "A",
          "B",
          "C",
          "D"
         ],
         "y": [
          2.246781469717252,
          1.5942378943856776,
          25.056128454604945,
          15.701084916958433
         ]
        }
       ],
       "layout": {
        "legend": {
         "bgcolor": "#F5F6F9",
         "font": {
          "color": "#4D5663"
         }
        },
        "paper_bgcolor": "#F5F6F9",
        "plot_bgcolor": "#F5F6F9",
        "template": {
         "data": {
          "bar": [
           {
            "error_x": {
             "color": "#2a3f5f"
            },
            "error_y": {
             "color": "#2a3f5f"
            },
            "marker": {
             "line": {
              "color": "#E5ECF6",
              "width": 0.5
             },
             "pattern": {
              "fillmode": "overlay",
              "size": 10,
              "solidity": 0.2
             }
            },
            "type": "bar"
           }
          ],
          "barpolar": [
           {
            "marker": {
             "line": {
              "color": "#E5ECF6",
              "width": 0.5
             },
             "pattern": {
              "fillmode": "overlay",
              "size": 10,
              "solidity": 0.2
             }
            },
            "type": "barpolar"
           }
          ],
          "carpet": [
           {
            "aaxis": {
             "endlinecolor": "#2a3f5f",
             "gridcolor": "white",
             "linecolor": "white",
             "minorgridcolor": "white",
             "startlinecolor": "#2a3f5f"
            },
            "baxis": {
             "endlinecolor": "#2a3f5f",
             "gridcolor": "white",
             "linecolor": "white",
             "minorgridcolor": "white",
             "startlinecolor": "#2a3f5f"
            },
            "type": "carpet"
           }
          ],
          "choropleth": [
           {
            "colorbar": {
             "outlinewidth": 0,
             "ticks": ""
            },
            "type": "choropleth"
           }
          ],
          "contour": [
           {
            "colorbar": {
             "outlinewidth": 0,
             "ticks": ""
            },
            "colorscale": [
             [
              0,
              "#0d0887"
             ],
             [
              0.1111111111111111,
              "#46039f"
             ],
             [
              0.2222222222222222,
              "#7201a8"
             ],
             [
              0.3333333333333333,
              "#9c179e"
             ],
             [
              0.4444444444444444,
              "#bd3786"
             ],
             [
              0.5555555555555556,
              "#d8576b"
             ],
             [
              0.6666666666666666,
              "#ed7953"
             ],
             [
              0.7777777777777778,
              "#fb9f3a"
             ],
             [
              0.8888888888888888,
              "#fdca26"
             ],
             [
              1,
              "#f0f921"
             ]
            ],
            "type": "contour"
           }
          ],
          "contourcarpet": [
           {
            "colorbar": {
             "outlinewidth": 0,
             "ticks": ""
            },
            "type": "contourcarpet"
           }
          ],
          "heatmap": [
           {
            "colorbar": {
             "outlinewidth": 0,
             "ticks": ""
            },
            "colorscale": [
             [
              0,
              "#0d0887"
             ],
             [
              0.1111111111111111,
              "#46039f"
             ],
             [
              0.2222222222222222,
              "#7201a8"
             ],
             [
              0.3333333333333333,
              "#9c179e"
             ],
             [
              0.4444444444444444,
              "#bd3786"
             ],
             [
              0.5555555555555556,
              "#d8576b"
             ],
             [
              0.6666666666666666,
              "#ed7953"
             ],
             [
              0.7777777777777778,
              "#fb9f3a"
             ],
             [
              0.8888888888888888,
              "#fdca26"
             ],
             [
              1,
              "#f0f921"
             ]
            ],
            "type": "heatmap"
           }
          ],
          "heatmapgl": [
           {
            "colorbar": {
             "outlinewidth": 0,
             "ticks": ""
            },
            "colorscale": [
             [
              0,
              "#0d0887"
             ],
             [
              0.1111111111111111,
              "#46039f"
             ],
             [
              0.2222222222222222,
              "#7201a8"
             ],
             [
              0.3333333333333333,
              "#9c179e"
             ],
             [
              0.4444444444444444,
              "#bd3786"
             ],
             [
              0.5555555555555556,
              "#d8576b"
             ],
             [
              0.6666666666666666,
              "#ed7953"
             ],
             [
              0.7777777777777778,
              "#fb9f3a"
             ],
             [
              0.8888888888888888,
              "#fdca26"
             ],
             [
              1,
              "#f0f921"
             ]
            ],
            "type": "heatmapgl"
           }
          ],
          "histogram": [
           {
            "marker": {
             "pattern": {
              "fillmode": "overlay",
              "size": 10,
              "solidity": 0.2
             }
            },
            "type": "histogram"
           }
          ],
          "histogram2d": [
           {
            "colorbar": {
             "outlinewidth": 0,
             "ticks": ""
            },
            "colorscale": [
             [
              0,
              "#0d0887"
             ],
             [
              0.1111111111111111,
              "#46039f"
             ],
             [
              0.2222222222222222,
              "#7201a8"
             ],
             [
              0.3333333333333333,
              "#9c179e"
             ],
             [
              0.4444444444444444,
              "#bd3786"
             ],
             [
              0.5555555555555556,
              "#d8576b"
             ],
             [
              0.6666666666666666,
              "#ed7953"
             ],
             [
              0.7777777777777778,
              "#fb9f3a"
             ],
             [
              0.8888888888888888,
              "#fdca26"
             ],
             [
              1,
              "#f0f921"
             ]
            ],
            "type": "histogram2d"
           }
          ],
          "histogram2dcontour": [
           {
            "colorbar": {
             "outlinewidth": 0,
             "ticks": ""
            },
            "colorscale": [
             [
              0,
              "#0d0887"
             ],
             [
              0.1111111111111111,
              "#46039f"
             ],
             [
              0.2222222222222222,
              "#7201a8"
             ],
             [
              0.3333333333333333,
              "#9c179e"
             ],
             [
              0.4444444444444444,
              "#bd3786"
             ],
             [
              0.5555555555555556,
              "#d8576b"
             ],
             [
              0.6666666666666666,
              "#ed7953"
             ],
             [
              0.7777777777777778,
              "#fb9f3a"
             ],
             [
              0.8888888888888888,
              "#fdca26"
             ],
             [
              1,
              "#f0f921"
             ]
            ],
            "type": "histogram2dcontour"
           }
          ],
          "mesh3d": [
           {
            "colorbar": {
             "outlinewidth": 0,
             "ticks": ""
            },
            "type": "mesh3d"
           }
          ],
          "parcoords": [
           {
            "line": {
             "colorbar": {
              "outlinewidth": 0,
              "ticks": ""
             }
            },
            "type": "parcoords"
           }
          ],
          "pie": [
           {
            "automargin": true,
            "type": "pie"
           }
          ],
          "scatter": [
           {
            "marker": {
             "colorbar": {
              "outlinewidth": 0,
              "ticks": ""
             }
            },
            "type": "scatter"
           }
          ],
          "scatter3d": [
           {
            "line": {
             "colorbar": {
              "outlinewidth": 0,
              "ticks": ""
             }
            },
            "marker": {
             "colorbar": {
              "outlinewidth": 0,
              "ticks": ""
             }
            },
            "type": "scatter3d"
           }
          ],
          "scattercarpet": [
           {
            "marker": {
             "colorbar": {
              "outlinewidth": 0,
              "ticks": ""
             }
            },
            "type": "scattercarpet"
           }
          ],
          "scattergeo": [
           {
            "marker": {
             "colorbar": {
              "outlinewidth": 0,
              "ticks": ""
             }
            },
            "type": "scattergeo"
           }
          ],
          "scattergl": [
           {
            "marker": {
             "colorbar": {
              "outlinewidth": 0,
              "ticks": ""
             }
            },
            "type": "scattergl"
           }
          ],
          "scattermapbox": [
           {
            "marker": {
             "colorbar": {
              "outlinewidth": 0,
              "ticks": ""
             }
            },
            "type": "scattermapbox"
           }
          ],
          "scatterpolar": [
           {
            "marker": {
             "colorbar": {
              "outlinewidth": 0,
              "ticks": ""
             }
            },
            "type": "scatterpolar"
           }
          ],
          "scatterpolargl": [
           {
            "marker": {
             "colorbar": {
              "outlinewidth": 0,
              "ticks": ""
             }
            },
            "type": "scatterpolargl"
           }
          ],
          "scatterternary": [
           {
            "marker": {
             "colorbar": {
              "outlinewidth": 0,
              "ticks": ""
             }
            },
            "type": "scatterternary"
           }
          ],
          "surface": [
           {
            "colorbar": {
             "outlinewidth": 0,
             "ticks": ""
            },
            "colorscale": [
             [
              0,
              "#0d0887"
             ],
             [
              0.1111111111111111,
              "#46039f"
             ],
             [
              0.2222222222222222,
              "#7201a8"
             ],
             [
              0.3333333333333333,
              "#9c179e"
             ],
             [
              0.4444444444444444,
              "#bd3786"
             ],
             [
              0.5555555555555556,
              "#d8576b"
             ],
             [
              0.6666666666666666,
              "#ed7953"
             ],
             [
              0.7777777777777778,
              "#fb9f3a"
             ],
             [
              0.8888888888888888,
              "#fdca26"
             ],
             [
              1,
              "#f0f921"
             ]
            ],
            "type": "surface"
           }
          ],
          "table": [
           {
            "cells": {
             "fill": {
              "color": "#EBF0F8"
             },
             "line": {
              "color": "white"
             }
            },
            "header": {
             "fill": {
              "color": "#C8D4E3"
             },
             "line": {
              "color": "white"
             }
            },
            "type": "table"
           }
          ]
         },
         "layout": {
          "annotationdefaults": {
           "arrowcolor": "#2a3f5f",
           "arrowhead": 0,
           "arrowwidth": 1
          },
          "autotypenumbers": "strict",
          "coloraxis": {
           "colorbar": {
            "outlinewidth": 0,
            "ticks": ""
           }
          },
          "colorscale": {
           "diverging": [
            [
             0,
             "#8e0152"
            ],
            [
             0.1,
             "#c51b7d"
            ],
            [
             0.2,
             "#de77ae"
            ],
            [
             0.3,
             "#f1b6da"
            ],
            [
             0.4,
             "#fde0ef"
            ],
            [
             0.5,
             "#f7f7f7"
            ],
            [
             0.6,
             "#e6f5d0"
            ],
            [
             0.7,
             "#b8e186"
            ],
            [
             0.8,
             "#7fbc41"
            ],
            [
             0.9,
             "#4d9221"
            ],
            [
             1,
             "#276419"
            ]
           ],
           "sequential": [
            [
             0,
             "#0d0887"
            ],
            [
             0.1111111111111111,
             "#46039f"
            ],
            [
             0.2222222222222222,
             "#7201a8"
            ],
            [
             0.3333333333333333,
             "#9c179e"
            ],
            [
             0.4444444444444444,
             "#bd3786"
            ],
            [
             0.5555555555555556,
             "#d8576b"
            ],
            [
             0.6666666666666666,
             "#ed7953"
            ],
            [
             0.7777777777777778,
             "#fb9f3a"
            ],
            [
             0.8888888888888888,
             "#fdca26"
            ],
            [
             1,
             "#f0f921"
            ]
           ],
           "sequentialminus": [
            [
             0,
             "#0d0887"
            ],
            [
             0.1111111111111111,
             "#46039f"
            ],
            [
             0.2222222222222222,
             "#7201a8"
            ],
            [
             0.3333333333333333,
             "#9c179e"
            ],
            [
             0.4444444444444444,
             "#bd3786"
            ],
            [
             0.5555555555555556,
             "#d8576b"
            ],
            [
             0.6666666666666666,
             "#ed7953"
            ],
            [
             0.7777777777777778,
             "#fb9f3a"
            ],
            [
             0.8888888888888888,
             "#fdca26"
            ],
            [
             1,
             "#f0f921"
            ]
           ]
          },
          "colorway": [
           "#636efa",
           "#EF553B",
           "#00cc96",
           "#ab63fa",
           "#FFA15A",
           "#19d3f3",
           "#FF6692",
           "#B6E880",
           "#FF97FF",
           "#FECB52"
          ],
          "font": {
           "color": "#2a3f5f"
          },
          "geo": {
           "bgcolor": "white",
           "lakecolor": "white",
           "landcolor": "#E5ECF6",
           "showlakes": true,
           "showland": true,
           "subunitcolor": "white"
          },
          "hoverlabel": {
           "align": "left"
          },
          "hovermode": "closest",
          "mapbox": {
           "style": "light"
          },
          "paper_bgcolor": "white",
          "plot_bgcolor": "#E5ECF6",
          "polar": {
           "angularaxis": {
            "gridcolor": "white",
            "linecolor": "white",
            "ticks": ""
           },
           "bgcolor": "#E5ECF6",
           "radialaxis": {
            "gridcolor": "white",
            "linecolor": "white",
            "ticks": ""
           }
          },
          "scene": {
           "xaxis": {
            "backgroundcolor": "#E5ECF6",
            "gridcolor": "white",
            "gridwidth": 2,
            "linecolor": "white",
            "showbackground": true,
            "ticks": "",
            "zerolinecolor": "white"
           },
           "yaxis": {
            "backgroundcolor": "#E5ECF6",
            "gridcolor": "white",
            "gridwidth": 2,
            "linecolor": "white",
            "showbackground": true,
            "ticks": "",
            "zerolinecolor": "white"
           },
           "zaxis": {
            "backgroundcolor": "#E5ECF6",
            "gridcolor": "white",
            "gridwidth": 2,
            "linecolor": "white",
            "showbackground": true,
            "ticks": "",
            "zerolinecolor": "white"
           }
          },
          "shapedefaults": {
           "line": {
            "color": "#2a3f5f"
           }
          },
          "ternary": {
           "aaxis": {
            "gridcolor": "white",
            "linecolor": "white",
            "ticks": ""
           },
           "baxis": {
            "gridcolor": "white",
            "linecolor": "white",
            "ticks": ""
           },
           "bgcolor": "#E5ECF6",
           "caxis": {
            "gridcolor": "white",
            "linecolor": "white",
            "ticks": ""
           }
          },
          "title": {
           "x": 0.05
          },
          "xaxis": {
           "automargin": true,
           "gridcolor": "white",
           "linecolor": "white",
           "ticks": "",
           "title": {
            "standoff": 15
           },
           "zerolinecolor": "white",
           "zerolinewidth": 2
          },
          "yaxis": {
           "automargin": true,
           "gridcolor": "white",
           "linecolor": "white",
           "ticks": "",
           "title": {
            "standoff": 15
           },
           "zerolinecolor": "white",
           "zerolinewidth": 2
          }
         }
        },
        "title": {
         "font": {
          "color": "#4D5663"
         }
        },
        "xaxis": {
         "gridcolor": "#E1E5ED",
         "showgrid": true,
         "tickfont": {
          "color": "#4D5663"
         },
         "title": {
          "font": {
           "color": "#4D5663"
          },
          "text": ""
         },
         "zerolinecolor": "#E1E5ED"
        },
        "yaxis": {
         "gridcolor": "#E1E5ED",
         "showgrid": true,
         "tickfont": {
          "color": "#4D5663"
         },
         "title": {
          "font": {
           "color": "#4D5663"
          },
          "text": ""
         },
         "zerolinecolor": "#E1E5ED"
        }
       }
      },
      "text/html": [
       "<div>                            <div id=\"5488b23c-5a0c-4493-aec9-a974d7d2b6ab\" class=\"plotly-graph-div\" style=\"height:525px; width:100%;\"></div>            <script type=\"text/javascript\">                require([\"plotly\"], function(Plotly) {                    window.PLOTLYENV=window.PLOTLYENV || {};\n",
       "                    window.PLOTLYENV.BASE_URL='https://plot.ly';                                    if (document.getElementById(\"5488b23c-5a0c-4493-aec9-a974d7d2b6ab\")) {                    Plotly.newPlot(                        \"5488b23c-5a0c-4493-aec9-a974d7d2b6ab\",                        [{\"marker\":{\"color\":\"rgba(219, 64, 82, 0.6)\",\"line\":{\"color\":\"rgba(219, 64, 82, 1.0)\",\"width\":1}},\"name\":\"None\",\"orientation\":\"v\",\"text\":\"\",\"x\":[\"A\",\"B\",\"C\",\"D\"],\"y\":[2.246781469717252,1.5942378943856776,25.056128454604945,15.701084916958433],\"type\":\"bar\"}],                        {\"legend\":{\"bgcolor\":\"#F5F6F9\",\"font\":{\"color\":\"#4D5663\"}},\"paper_bgcolor\":\"#F5F6F9\",\"plot_bgcolor\":\"#F5F6F9\",\"template\":{\"data\":{\"barpolar\":[{\"marker\":{\"line\":{\"color\":\"#E5ECF6\",\"width\":0.5},\"pattern\":{\"fillmode\":\"overlay\",\"size\":10,\"solidity\":0.2}},\"type\":\"barpolar\"}],\"bar\":[{\"error_x\":{\"color\":\"#2a3f5f\"},\"error_y\":{\"color\":\"#2a3f5f\"},\"marker\":{\"line\":{\"color\":\"#E5ECF6\",\"width\":0.5},\"pattern\":{\"fillmode\":\"overlay\",\"size\":10,\"solidity\":0.2}},\"type\":\"bar\"}],\"carpet\":[{\"aaxis\":{\"endlinecolor\":\"#2a3f5f\",\"gridcolor\":\"white\",\"linecolor\":\"white\",\"minorgridcolor\":\"white\",\"startlinecolor\":\"#2a3f5f\"},\"baxis\":{\"endlinecolor\":\"#2a3f5f\",\"gridcolor\":\"white\",\"linecolor\":\"white\",\"minorgridcolor\":\"white\",\"startlinecolor\":\"#2a3f5f\"},\"type\":\"carpet\"}],\"choropleth\":[{\"colorbar\":{\"outlinewidth\":0,\"ticks\":\"\"},\"type\":\"choropleth\"}],\"contourcarpet\":[{\"colorbar\":{\"outlinewidth\":0,\"ticks\":\"\"},\"type\":\"contourcarpet\"}],\"contour\":[{\"colorbar\":{\"outlinewidth\":0,\"ticks\":\"\"},\"colorscale\":[[0.0,\"#0d0887\"],[0.1111111111111111,\"#46039f\"],[0.2222222222222222,\"#7201a8\"],[0.3333333333333333,\"#9c179e\"],[0.4444444444444444,\"#bd3786\"],[0.5555555555555556,\"#d8576b\"],[0.6666666666666666,\"#ed7953\"],[0.7777777777777778,\"#fb9f3a\"],[0.8888888888888888,\"#fdca26\"],[1.0,\"#f0f921\"]],\"type\":\"contour\"}],\"heatmapgl\":[{\"colorbar\":{\"outlinewidth\":0,\"ticks\":\"\"},\"colorscale\":[[0.0,\"#0d0887\"],[0.1111111111111111,\"#46039f\"],[0.2222222222222222,\"#7201a8\"],[0.3333333333333333,\"#9c179e\"],[0.4444444444444444,\"#bd3786\"],[0.5555555555555556,\"#d8576b\"],[0.6666666666666666,\"#ed7953\"],[0.7777777777777778,\"#fb9f3a\"],[0.8888888888888888,\"#fdca26\"],[1.0,\"#f0f921\"]],\"type\":\"heatmapgl\"}],\"heatmap\":[{\"colorbar\":{\"outlinewidth\":0,\"ticks\":\"\"},\"colorscale\":[[0.0,\"#0d0887\"],[0.1111111111111111,\"#46039f\"],[0.2222222222222222,\"#7201a8\"],[0.3333333333333333,\"#9c179e\"],[0.4444444444444444,\"#bd3786\"],[0.5555555555555556,\"#d8576b\"],[0.6666666666666666,\"#ed7953\"],[0.7777777777777778,\"#fb9f3a\"],[0.8888888888888888,\"#fdca26\"],[1.0,\"#f0f921\"]],\"type\":\"heatmap\"}],\"histogram2dcontour\":[{\"colorbar\":{\"outlinewidth\":0,\"ticks\":\"\"},\"colorscale\":[[0.0,\"#0d0887\"],[0.1111111111111111,\"#46039f\"],[0.2222222222222222,\"#7201a8\"],[0.3333333333333333,\"#9c179e\"],[0.4444444444444444,\"#bd3786\"],[0.5555555555555556,\"#d8576b\"],[0.6666666666666666,\"#ed7953\"],[0.7777777777777778,\"#fb9f3a\"],[0.8888888888888888,\"#fdca26\"],[1.0,\"#f0f921\"]],\"type\":\"histogram2dcontour\"}],\"histogram2d\":[{\"colorbar\":{\"outlinewidth\":0,\"ticks\":\"\"},\"colorscale\":[[0.0,\"#0d0887\"],[0.1111111111111111,\"#46039f\"],[0.2222222222222222,\"#7201a8\"],[0.3333333333333333,\"#9c179e\"],[0.4444444444444444,\"#bd3786\"],[0.5555555555555556,\"#d8576b\"],[0.6666666666666666,\"#ed7953\"],[0.7777777777777778,\"#fb9f3a\"],[0.8888888888888888,\"#fdca26\"],[1.0,\"#f0f921\"]],\"type\":\"histogram2d\"}],\"histogram\":[{\"marker\":{\"pattern\":{\"fillmode\":\"overlay\",\"size\":10,\"solidity\":0.2}},\"type\":\"histogram\"}],\"mesh3d\":[{\"colorbar\":{\"outlinewidth\":0,\"ticks\":\"\"},\"type\":\"mesh3d\"}],\"parcoords\":[{\"line\":{\"colorbar\":{\"outlinewidth\":0,\"ticks\":\"\"}},\"type\":\"parcoords\"}],\"pie\":[{\"automargin\":true,\"type\":\"pie\"}],\"scatter3d\":[{\"line\":{\"colorbar\":{\"outlinewidth\":0,\"ticks\":\"\"}},\"marker\":{\"colorbar\":{\"outlinewidth\":0,\"ticks\":\"\"}},\"type\":\"scatter3d\"}],\"scattercarpet\":[{\"marker\":{\"colorbar\":{\"outlinewidth\":0,\"ticks\":\"\"}},\"type\":\"scattercarpet\"}],\"scattergeo\":[{\"marker\":{\"colorbar\":{\"outlinewidth\":0,\"ticks\":\"\"}},\"type\":\"scattergeo\"}],\"scattergl\":[{\"marker\":{\"colorbar\":{\"outlinewidth\":0,\"ticks\":\"\"}},\"type\":\"scattergl\"}],\"scattermapbox\":[{\"marker\":{\"colorbar\":{\"outlinewidth\":0,\"ticks\":\"\"}},\"type\":\"scattermapbox\"}],\"scatterpolargl\":[{\"marker\":{\"colorbar\":{\"outlinewidth\":0,\"ticks\":\"\"}},\"type\":\"scatterpolargl\"}],\"scatterpolar\":[{\"marker\":{\"colorbar\":{\"outlinewidth\":0,\"ticks\":\"\"}},\"type\":\"scatterpolar\"}],\"scatter\":[{\"marker\":{\"colorbar\":{\"outlinewidth\":0,\"ticks\":\"\"}},\"type\":\"scatter\"}],\"scatterternary\":[{\"marker\":{\"colorbar\":{\"outlinewidth\":0,\"ticks\":\"\"}},\"type\":\"scatterternary\"}],\"surface\":[{\"colorbar\":{\"outlinewidth\":0,\"ticks\":\"\"},\"colorscale\":[[0.0,\"#0d0887\"],[0.1111111111111111,\"#46039f\"],[0.2222222222222222,\"#7201a8\"],[0.3333333333333333,\"#9c179e\"],[0.4444444444444444,\"#bd3786\"],[0.5555555555555556,\"#d8576b\"],[0.6666666666666666,\"#ed7953\"],[0.7777777777777778,\"#fb9f3a\"],[0.8888888888888888,\"#fdca26\"],[1.0,\"#f0f921\"]],\"type\":\"surface\"}],\"table\":[{\"cells\":{\"fill\":{\"color\":\"#EBF0F8\"},\"line\":{\"color\":\"white\"}},\"header\":{\"fill\":{\"color\":\"#C8D4E3\"},\"line\":{\"color\":\"white\"}},\"type\":\"table\"}]},\"layout\":{\"annotationdefaults\":{\"arrowcolor\":\"#2a3f5f\",\"arrowhead\":0,\"arrowwidth\":1},\"autotypenumbers\":\"strict\",\"coloraxis\":{\"colorbar\":{\"outlinewidth\":0,\"ticks\":\"\"}},\"colorscale\":{\"diverging\":[[0,\"#8e0152\"],[0.1,\"#c51b7d\"],[0.2,\"#de77ae\"],[0.3,\"#f1b6da\"],[0.4,\"#fde0ef\"],[0.5,\"#f7f7f7\"],[0.6,\"#e6f5d0\"],[0.7,\"#b8e186\"],[0.8,\"#7fbc41\"],[0.9,\"#4d9221\"],[1,\"#276419\"]],\"sequential\":[[0.0,\"#0d0887\"],[0.1111111111111111,\"#46039f\"],[0.2222222222222222,\"#7201a8\"],[0.3333333333333333,\"#9c179e\"],[0.4444444444444444,\"#bd3786\"],[0.5555555555555556,\"#d8576b\"],[0.6666666666666666,\"#ed7953\"],[0.7777777777777778,\"#fb9f3a\"],[0.8888888888888888,\"#fdca26\"],[1.0,\"#f0f921\"]],\"sequentialminus\":[[0.0,\"#0d0887\"],[0.1111111111111111,\"#46039f\"],[0.2222222222222222,\"#7201a8\"],[0.3333333333333333,\"#9c179e\"],[0.4444444444444444,\"#bd3786\"],[0.5555555555555556,\"#d8576b\"],[0.6666666666666666,\"#ed7953\"],[0.7777777777777778,\"#fb9f3a\"],[0.8888888888888888,\"#fdca26\"],[1.0,\"#f0f921\"]]},\"colorway\":[\"#636efa\",\"#EF553B\",\"#00cc96\",\"#ab63fa\",\"#FFA15A\",\"#19d3f3\",\"#FF6692\",\"#B6E880\",\"#FF97FF\",\"#FECB52\"],\"font\":{\"color\":\"#2a3f5f\"},\"geo\":{\"bgcolor\":\"white\",\"lakecolor\":\"white\",\"landcolor\":\"#E5ECF6\",\"showlakes\":true,\"showland\":true,\"subunitcolor\":\"white\"},\"hoverlabel\":{\"align\":\"left\"},\"hovermode\":\"closest\",\"mapbox\":{\"style\":\"light\"},\"paper_bgcolor\":\"white\",\"plot_bgcolor\":\"#E5ECF6\",\"polar\":{\"angularaxis\":{\"gridcolor\":\"white\",\"linecolor\":\"white\",\"ticks\":\"\"},\"bgcolor\":\"#E5ECF6\",\"radialaxis\":{\"gridcolor\":\"white\",\"linecolor\":\"white\",\"ticks\":\"\"}},\"scene\":{\"xaxis\":{\"backgroundcolor\":\"#E5ECF6\",\"gridcolor\":\"white\",\"gridwidth\":2,\"linecolor\":\"white\",\"showbackground\":true,\"ticks\":\"\",\"zerolinecolor\":\"white\"},\"yaxis\":{\"backgroundcolor\":\"#E5ECF6\",\"gridcolor\":\"white\",\"gridwidth\":2,\"linecolor\":\"white\",\"showbackground\":true,\"ticks\":\"\",\"zerolinecolor\":\"white\"},\"zaxis\":{\"backgroundcolor\":\"#E5ECF6\",\"gridcolor\":\"white\",\"gridwidth\":2,\"linecolor\":\"white\",\"showbackground\":true,\"ticks\":\"\",\"zerolinecolor\":\"white\"}},\"shapedefaults\":{\"line\":{\"color\":\"#2a3f5f\"}},\"ternary\":{\"aaxis\":{\"gridcolor\":\"white\",\"linecolor\":\"white\",\"ticks\":\"\"},\"baxis\":{\"gridcolor\":\"white\",\"linecolor\":\"white\",\"ticks\":\"\"},\"bgcolor\":\"#E5ECF6\",\"caxis\":{\"gridcolor\":\"white\",\"linecolor\":\"white\",\"ticks\":\"\"}},\"title\":{\"x\":0.05},\"xaxis\":{\"automargin\":true,\"gridcolor\":\"white\",\"linecolor\":\"white\",\"ticks\":\"\",\"title\":{\"standoff\":15},\"zerolinecolor\":\"white\",\"zerolinewidth\":2},\"yaxis\":{\"automargin\":true,\"gridcolor\":\"white\",\"linecolor\":\"white\",\"ticks\":\"\",\"title\":{\"standoff\":15},\"zerolinecolor\":\"white\",\"zerolinewidth\":2}}},\"title\":{\"font\":{\"color\":\"#4D5663\"}},\"xaxis\":{\"gridcolor\":\"#E1E5ED\",\"showgrid\":true,\"tickfont\":{\"color\":\"#4D5663\"},\"title\":{\"font\":{\"color\":\"#4D5663\"},\"text\":\"\"},\"zerolinecolor\":\"#E1E5ED\"},\"yaxis\":{\"gridcolor\":\"#E1E5ED\",\"showgrid\":true,\"tickfont\":{\"color\":\"#4D5663\"},\"title\":{\"font\":{\"color\":\"#4D5663\"},\"text\":\"\"},\"zerolinecolor\":\"#E1E5ED\"}},                        {\"showLink\": true, \"linkText\": \"Export to plot.ly\", \"plotlyServerURL\": \"https://plot.ly\", \"responsive\": true}                    ).then(function(){\n",
       "                            \n",
       "var gd = document.getElementById('5488b23c-5a0c-4493-aec9-a974d7d2b6ab');\n",
       "var x = new MutationObserver(function (mutations, observer) {{\n",
       "        var display = window.getComputedStyle(gd).display;\n",
       "        if (!display || display === 'none') {{\n",
       "            console.log([gd, 'removed!']);\n",
       "            Plotly.purge(gd);\n",
       "            observer.disconnect();\n",
       "        }}\n",
       "}});\n",
       "\n",
       "// Listen for the removal of the full notebook cells\n",
       "var notebookContainer = gd.closest('#notebook-container');\n",
       "if (notebookContainer) {{\n",
       "    x.observe(notebookContainer, {childList: true});\n",
       "}}\n",
       "\n",
       "// Listen for the clearing of the current output cell\n",
       "var outputEl = gd.closest('.output');\n",
       "if (outputEl) {{\n",
       "    x.observe(outputEl, {childList: true});\n",
       "}}\n",
       "\n",
       "                        })                };                });            </script>        </div>"
      ]
     },
     "metadata": {},
     "output_type": "display_data"
    }
   ],
   "source": [
    "df1.sum().iplot(kind='bar',color='red')"
   ]
  },
  {
   "cell_type": "code",
   "execution_count": null,
   "id": "eeb0e7f7",
   "metadata": {},
   "outputs": [],
   "source": []
  },
  {
   "cell_type": "code",
   "execution_count": 25,
   "id": "7f9bb559",
   "metadata": {},
   "outputs": [
    {
     "data": {
      "application/vnd.plotly.v1+json": {
       "config": {
        "linkText": "Export to plot.ly",
        "plotlyServerURL": "https://plot.ly",
        "showLink": true
       },
       "data": [
        {
         "histfunc": "count",
         "histnorm": "",
         "marker": {
          "color": "rgba(255, 153, 51, 1.0)",
          "line": {
           "color": "#4D5663",
           "width": 1.3
          }
         },
         "name": "A",
         "opacity": 0.8,
         "orientation": "v",
         "type": "histogram",
         "x": [
          0.37904945688305364,
          1.1553236008254193,
          1.6969890092471622,
          -0.26805612805709716,
          0.9222956791397098,
          0.798379736515537,
          0.3545841546614589,
          0.9978239583053562,
          -1.3321492083741786,
          0.05666312908589525,
          0.7478667832529422,
          -0.21246474379562075,
          2.2956855650862518,
          -1.567536200835686,
          -0.3177343401130265,
          1.160609163321756,
          0.5755403019093225,
          1.1590622130402857,
          -0.6117973807611821,
          -0.04214790123959876,
          -1.167335021892236,
          -0.8889238602766412,
          -0.6874177995095404,
          0.23491229934004407,
          -0.5268035434849804,
          0.31606394499139395,
          -1.3146383330434688,
          1.526731697816121,
          0.4006621493463755,
          -0.161610886180504
         ]
        },
        {
         "histfunc": "count",
         "histnorm": "",
         "marker": {
          "color": "rgba(55, 128, 191, 1.0)",
          "line": {
           "color": "#4D5663",
           "width": 1.3
          }
         },
         "name": "B",
         "opacity": 0.8,
         "orientation": "v",
         "type": "histogram",
         "x": [
          0.4060011589905982,
          0.6959866985709183,
          -0.09187268790641648,
          0.8196471141084424,
          0.9510600021451722,
          -0.57663354303388,
          -1.6148335146223323,
          -0.8312079201207672,
          -0.6361055565535438,
          -1.031873693760971,
          -2.278612861973147,
          -0.4992312052364212,
          -2.1555841408323073,
          0.17978999043189037,
          -1.5054726213218554,
          0.28541582441169344,
          0.3313567135453369,
          -1.658129676423646,
          1.118325222071046,
          0.6862064146051308,
          0.09838931908775866,
          -2.0536725149107324,
          0.07695386234023052,
          -0.014781935129108274,
          0.5066945462984226,
          0.40199051763576144,
          -0.8929196284737861,
          -0.8959894328033265,
          -0.07703973081020832,
          2.3238030404337353
         ]
        },
        {
         "histfunc": "count",
         "histnorm": "",
         "marker": {
          "color": "rgba(50, 171, 96, 1.0)",
          "line": {
           "color": "#4D5663",
           "width": 1.3
          }
         },
         "name": "C",
         "opacity": 0.8,
         "orientation": "v",
         "type": "histogram",
         "x": [
          -0.6583813333865101,
          -0.6243174147171944,
          -1.7277153093321345,
          0.6156994130188095,
          1.8006132567561264,
          0.6963069341619541,
          1.6475171825501564,
          -3.111714477914328,
          -0.6646637800438707,
          1.311761596759695,
          -0.8781080287248739,
          -0.48175649871886467,
          1.3235838299933458,
          0.32455513345703196,
          -0.8822365711626433,
          -1.5898362500747403,
          -0.1352286183693309,
          -0.8874485347452742,
          0.4170182964373774,
          0.37373675611958695,
          -1.0590363614517722,
          -2.715948034158347,
          -0.4147647289227345,
          -1.7456116338051895,
          -0.48074489016648186,
          2.0420232239812495,
          -0.5484028561577265,
          -0.8198859021537481,
          0.2326853978481167,
          -1.7131471392023285
         ]
        },
        {
         "histfunc": "count",
         "histnorm": "",
         "marker": {
          "color": "rgba(128, 0, 128, 1.0)",
          "line": {
           "color": "#4D5663",
           "width": 1.3
          }
         },
         "name": "D",
         "opacity": 0.8,
         "orientation": "v",
         "type": "histogram",
         "x": [
          0.09790049863578758,
          1.2120523954095888,
          0.8876279767772142,
          -0.19728770002506377,
          -1.877549099287521,
          -0.6641797979377729,
          -0.23561594585793558,
          -0.46112302926184295,
          0.44932799618893254,
          0.32616076820790396,
          0.48522706788447506,
          1.7257275062009279,
          -0.5786341011281495,
          0.30340987230210176,
          0.602038534102397,
          -0.3927206542274248,
          -0.6730715632178651,
          -0.896713121450564,
          0.701798805735832,
          0.07664519490767432,
          -1.3284393373452033,
          0.6118173598979866,
          -1.390439058955952,
          -1.2784415237519355,
          0.388900123326237,
          -0.41105654182579093,
          0.3826947974342108,
          -0.06761446801247771,
          -0.39655068604752797,
          -0.04300471723810657
         ]
        }
       ],
       "layout": {
        "barmode": "overlay",
        "legend": {
         "bgcolor": "#F5F6F9",
         "font": {
          "color": "#4D5663"
         }
        },
        "paper_bgcolor": "#F5F6F9",
        "plot_bgcolor": "#F5F6F9",
        "template": {
         "data": {
          "bar": [
           {
            "error_x": {
             "color": "#2a3f5f"
            },
            "error_y": {
             "color": "#2a3f5f"
            },
            "marker": {
             "line": {
              "color": "#E5ECF6",
              "width": 0.5
             },
             "pattern": {
              "fillmode": "overlay",
              "size": 10,
              "solidity": 0.2
             }
            },
            "type": "bar"
           }
          ],
          "barpolar": [
           {
            "marker": {
             "line": {
              "color": "#E5ECF6",
              "width": 0.5
             },
             "pattern": {
              "fillmode": "overlay",
              "size": 10,
              "solidity": 0.2
             }
            },
            "type": "barpolar"
           }
          ],
          "carpet": [
           {
            "aaxis": {
             "endlinecolor": "#2a3f5f",
             "gridcolor": "white",
             "linecolor": "white",
             "minorgridcolor": "white",
             "startlinecolor": "#2a3f5f"
            },
            "baxis": {
             "endlinecolor": "#2a3f5f",
             "gridcolor": "white",
             "linecolor": "white",
             "minorgridcolor": "white",
             "startlinecolor": "#2a3f5f"
            },
            "type": "carpet"
           }
          ],
          "choropleth": [
           {
            "colorbar": {
             "outlinewidth": 0,
             "ticks": ""
            },
            "type": "choropleth"
           }
          ],
          "contour": [
           {
            "colorbar": {
             "outlinewidth": 0,
             "ticks": ""
            },
            "colorscale": [
             [
              0,
              "#0d0887"
             ],
             [
              0.1111111111111111,
              "#46039f"
             ],
             [
              0.2222222222222222,
              "#7201a8"
             ],
             [
              0.3333333333333333,
              "#9c179e"
             ],
             [
              0.4444444444444444,
              "#bd3786"
             ],
             [
              0.5555555555555556,
              "#d8576b"
             ],
             [
              0.6666666666666666,
              "#ed7953"
             ],
             [
              0.7777777777777778,
              "#fb9f3a"
             ],
             [
              0.8888888888888888,
              "#fdca26"
             ],
             [
              1,
              "#f0f921"
             ]
            ],
            "type": "contour"
           }
          ],
          "contourcarpet": [
           {
            "colorbar": {
             "outlinewidth": 0,
             "ticks": ""
            },
            "type": "contourcarpet"
           }
          ],
          "heatmap": [
           {
            "colorbar": {
             "outlinewidth": 0,
             "ticks": ""
            },
            "colorscale": [
             [
              0,
              "#0d0887"
             ],
             [
              0.1111111111111111,
              "#46039f"
             ],
             [
              0.2222222222222222,
              "#7201a8"
             ],
             [
              0.3333333333333333,
              "#9c179e"
             ],
             [
              0.4444444444444444,
              "#bd3786"
             ],
             [
              0.5555555555555556,
              "#d8576b"
             ],
             [
              0.6666666666666666,
              "#ed7953"
             ],
             [
              0.7777777777777778,
              "#fb9f3a"
             ],
             [
              0.8888888888888888,
              "#fdca26"
             ],
             [
              1,
              "#f0f921"
             ]
            ],
            "type": "heatmap"
           }
          ],
          "heatmapgl": [
           {
            "colorbar": {
             "outlinewidth": 0,
             "ticks": ""
            },
            "colorscale": [
             [
              0,
              "#0d0887"
             ],
             [
              0.1111111111111111,
              "#46039f"
             ],
             [
              0.2222222222222222,
              "#7201a8"
             ],
             [
              0.3333333333333333,
              "#9c179e"
             ],
             [
              0.4444444444444444,
              "#bd3786"
             ],
             [
              0.5555555555555556,
              "#d8576b"
             ],
             [
              0.6666666666666666,
              "#ed7953"
             ],
             [
              0.7777777777777778,
              "#fb9f3a"
             ],
             [
              0.8888888888888888,
              "#fdca26"
             ],
             [
              1,
              "#f0f921"
             ]
            ],
            "type": "heatmapgl"
           }
          ],
          "histogram": [
           {
            "marker": {
             "pattern": {
              "fillmode": "overlay",
              "size": 10,
              "solidity": 0.2
             }
            },
            "type": "histogram"
           }
          ],
          "histogram2d": [
           {
            "colorbar": {
             "outlinewidth": 0,
             "ticks": ""
            },
            "colorscale": [
             [
              0,
              "#0d0887"
             ],
             [
              0.1111111111111111,
              "#46039f"
             ],
             [
              0.2222222222222222,
              "#7201a8"
             ],
             [
              0.3333333333333333,
              "#9c179e"
             ],
             [
              0.4444444444444444,
              "#bd3786"
             ],
             [
              0.5555555555555556,
              "#d8576b"
             ],
             [
              0.6666666666666666,
              "#ed7953"
             ],
             [
              0.7777777777777778,
              "#fb9f3a"
             ],
             [
              0.8888888888888888,
              "#fdca26"
             ],
             [
              1,
              "#f0f921"
             ]
            ],
            "type": "histogram2d"
           }
          ],
          "histogram2dcontour": [
           {
            "colorbar": {
             "outlinewidth": 0,
             "ticks": ""
            },
            "colorscale": [
             [
              0,
              "#0d0887"
             ],
             [
              0.1111111111111111,
              "#46039f"
             ],
             [
              0.2222222222222222,
              "#7201a8"
             ],
             [
              0.3333333333333333,
              "#9c179e"
             ],
             [
              0.4444444444444444,
              "#bd3786"
             ],
             [
              0.5555555555555556,
              "#d8576b"
             ],
             [
              0.6666666666666666,
              "#ed7953"
             ],
             [
              0.7777777777777778,
              "#fb9f3a"
             ],
             [
              0.8888888888888888,
              "#fdca26"
             ],
             [
              1,
              "#f0f921"
             ]
            ],
            "type": "histogram2dcontour"
           }
          ],
          "mesh3d": [
           {
            "colorbar": {
             "outlinewidth": 0,
             "ticks": ""
            },
            "type": "mesh3d"
           }
          ],
          "parcoords": [
           {
            "line": {
             "colorbar": {
              "outlinewidth": 0,
              "ticks": ""
             }
            },
            "type": "parcoords"
           }
          ],
          "pie": [
           {
            "automargin": true,
            "type": "pie"
           }
          ],
          "scatter": [
           {
            "marker": {
             "colorbar": {
              "outlinewidth": 0,
              "ticks": ""
             }
            },
            "type": "scatter"
           }
          ],
          "scatter3d": [
           {
            "line": {
             "colorbar": {
              "outlinewidth": 0,
              "ticks": ""
             }
            },
            "marker": {
             "colorbar": {
              "outlinewidth": 0,
              "ticks": ""
             }
            },
            "type": "scatter3d"
           }
          ],
          "scattercarpet": [
           {
            "marker": {
             "colorbar": {
              "outlinewidth": 0,
              "ticks": ""
             }
            },
            "type": "scattercarpet"
           }
          ],
          "scattergeo": [
           {
            "marker": {
             "colorbar": {
              "outlinewidth": 0,
              "ticks": ""
             }
            },
            "type": "scattergeo"
           }
          ],
          "scattergl": [
           {
            "marker": {
             "colorbar": {
              "outlinewidth": 0,
              "ticks": ""
             }
            },
            "type": "scattergl"
           }
          ],
          "scattermapbox": [
           {
            "marker": {
             "colorbar": {
              "outlinewidth": 0,
              "ticks": ""
             }
            },
            "type": "scattermapbox"
           }
          ],
          "scatterpolar": [
           {
            "marker": {
             "colorbar": {
              "outlinewidth": 0,
              "ticks": ""
             }
            },
            "type": "scatterpolar"
           }
          ],
          "scatterpolargl": [
           {
            "marker": {
             "colorbar": {
              "outlinewidth": 0,
              "ticks": ""
             }
            },
            "type": "scatterpolargl"
           }
          ],
          "scatterternary": [
           {
            "marker": {
             "colorbar": {
              "outlinewidth": 0,
              "ticks": ""
             }
            },
            "type": "scatterternary"
           }
          ],
          "surface": [
           {
            "colorbar": {
             "outlinewidth": 0,
             "ticks": ""
            },
            "colorscale": [
             [
              0,
              "#0d0887"
             ],
             [
              0.1111111111111111,
              "#46039f"
             ],
             [
              0.2222222222222222,
              "#7201a8"
             ],
             [
              0.3333333333333333,
              "#9c179e"
             ],
             [
              0.4444444444444444,
              "#bd3786"
             ],
             [
              0.5555555555555556,
              "#d8576b"
             ],
             [
              0.6666666666666666,
              "#ed7953"
             ],
             [
              0.7777777777777778,
              "#fb9f3a"
             ],
             [
              0.8888888888888888,
              "#fdca26"
             ],
             [
              1,
              "#f0f921"
             ]
            ],
            "type": "surface"
           }
          ],
          "table": [
           {
            "cells": {
             "fill": {
              "color": "#EBF0F8"
             },
             "line": {
              "color": "white"
             }
            },
            "header": {
             "fill": {
              "color": "#C8D4E3"
             },
             "line": {
              "color": "white"
             }
            },
            "type": "table"
           }
          ]
         },
         "layout": {
          "annotationdefaults": {
           "arrowcolor": "#2a3f5f",
           "arrowhead": 0,
           "arrowwidth": 1
          },
          "autotypenumbers": "strict",
          "coloraxis": {
           "colorbar": {
            "outlinewidth": 0,
            "ticks": ""
           }
          },
          "colorscale": {
           "diverging": [
            [
             0,
             "#8e0152"
            ],
            [
             0.1,
             "#c51b7d"
            ],
            [
             0.2,
             "#de77ae"
            ],
            [
             0.3,
             "#f1b6da"
            ],
            [
             0.4,
             "#fde0ef"
            ],
            [
             0.5,
             "#f7f7f7"
            ],
            [
             0.6,
             "#e6f5d0"
            ],
            [
             0.7,
             "#b8e186"
            ],
            [
             0.8,
             "#7fbc41"
            ],
            [
             0.9,
             "#4d9221"
            ],
            [
             1,
             "#276419"
            ]
           ],
           "sequential": [
            [
             0,
             "#0d0887"
            ],
            [
             0.1111111111111111,
             "#46039f"
            ],
            [
             0.2222222222222222,
             "#7201a8"
            ],
            [
             0.3333333333333333,
             "#9c179e"
            ],
            [
             0.4444444444444444,
             "#bd3786"
            ],
            [
             0.5555555555555556,
             "#d8576b"
            ],
            [
             0.6666666666666666,
             "#ed7953"
            ],
            [
             0.7777777777777778,
             "#fb9f3a"
            ],
            [
             0.8888888888888888,
             "#fdca26"
            ],
            [
             1,
             "#f0f921"
            ]
           ],
           "sequentialminus": [
            [
             0,
             "#0d0887"
            ],
            [
             0.1111111111111111,
             "#46039f"
            ],
            [
             0.2222222222222222,
             "#7201a8"
            ],
            [
             0.3333333333333333,
             "#9c179e"
            ],
            [
             0.4444444444444444,
             "#bd3786"
            ],
            [
             0.5555555555555556,
             "#d8576b"
            ],
            [
             0.6666666666666666,
             "#ed7953"
            ],
            [
             0.7777777777777778,
             "#fb9f3a"
            ],
            [
             0.8888888888888888,
             "#fdca26"
            ],
            [
             1,
             "#f0f921"
            ]
           ]
          },
          "colorway": [
           "#636efa",
           "#EF553B",
           "#00cc96",
           "#ab63fa",
           "#FFA15A",
           "#19d3f3",
           "#FF6692",
           "#B6E880",
           "#FF97FF",
           "#FECB52"
          ],
          "font": {
           "color": "#2a3f5f"
          },
          "geo": {
           "bgcolor": "white",
           "lakecolor": "white",
           "landcolor": "#E5ECF6",
           "showlakes": true,
           "showland": true,
           "subunitcolor": "white"
          },
          "hoverlabel": {
           "align": "left"
          },
          "hovermode": "closest",
          "mapbox": {
           "style": "light"
          },
          "paper_bgcolor": "white",
          "plot_bgcolor": "#E5ECF6",
          "polar": {
           "angularaxis": {
            "gridcolor": "white",
            "linecolor": "white",
            "ticks": ""
           },
           "bgcolor": "#E5ECF6",
           "radialaxis": {
            "gridcolor": "white",
            "linecolor": "white",
            "ticks": ""
           }
          },
          "scene": {
           "xaxis": {
            "backgroundcolor": "#E5ECF6",
            "gridcolor": "white",
            "gridwidth": 2,
            "linecolor": "white",
            "showbackground": true,
            "ticks": "",
            "zerolinecolor": "white"
           },
           "yaxis": {
            "backgroundcolor": "#E5ECF6",
            "gridcolor": "white",
            "gridwidth": 2,
            "linecolor": "white",
            "showbackground": true,
            "ticks": "",
            "zerolinecolor": "white"
           },
           "zaxis": {
            "backgroundcolor": "#E5ECF6",
            "gridcolor": "white",
            "gridwidth": 2,
            "linecolor": "white",
            "showbackground": true,
            "ticks": "",
            "zerolinecolor": "white"
           }
          },
          "shapedefaults": {
           "line": {
            "color": "#2a3f5f"
           }
          },
          "ternary": {
           "aaxis": {
            "gridcolor": "white",
            "linecolor": "white",
            "ticks": ""
           },
           "baxis": {
            "gridcolor": "white",
            "linecolor": "white",
            "ticks": ""
           },
           "bgcolor": "#E5ECF6",
           "caxis": {
            "gridcolor": "white",
            "linecolor": "white",
            "ticks": ""
           }
          },
          "title": {
           "x": 0.05
          },
          "xaxis": {
           "automargin": true,
           "gridcolor": "white",
           "linecolor": "white",
           "ticks": "",
           "title": {
            "standoff": 15
           },
           "zerolinecolor": "white",
           "zerolinewidth": 2
          },
          "yaxis": {
           "automargin": true,
           "gridcolor": "white",
           "linecolor": "white",
           "ticks": "",
           "title": {
            "standoff": 15
           },
           "zerolinecolor": "white",
           "zerolinewidth": 2
          }
         }
        },
        "title": {
         "font": {
          "color": "#4D5663"
         }
        },
        "xaxis": {
         "gridcolor": "#E1E5ED",
         "showgrid": true,
         "tickfont": {
          "color": "#4D5663"
         },
         "title": {
          "font": {
           "color": "#4D5663"
          },
          "text": ""
         },
         "zerolinecolor": "#E1E5ED"
        },
        "yaxis": {
         "gridcolor": "#E1E5ED",
         "showgrid": true,
         "tickfont": {
          "color": "#4D5663"
         },
         "title": {
          "font": {
           "color": "#4D5663"
          },
          "text": ""
         },
         "zerolinecolor": "#E1E5ED"
        }
       }
      },
      "text/html": [
       "<div>                            <div id=\"cbd6e678-f843-46b3-9e40-79d9d122b3ff\" class=\"plotly-graph-div\" style=\"height:525px; width:100%;\"></div>            <script type=\"text/javascript\">                require([\"plotly\"], function(Plotly) {                    window.PLOTLYENV=window.PLOTLYENV || {};\n",
       "                    window.PLOTLYENV.BASE_URL='https://plot.ly';                                    if (document.getElementById(\"cbd6e678-f843-46b3-9e40-79d9d122b3ff\")) {                    Plotly.newPlot(                        \"cbd6e678-f843-46b3-9e40-79d9d122b3ff\",                        [{\"histfunc\":\"count\",\"histnorm\":\"\",\"marker\":{\"color\":\"rgba(255, 153, 51, 1.0)\",\"line\":{\"color\":\"#4D5663\",\"width\":1.3}},\"name\":\"A\",\"opacity\":0.8,\"orientation\":\"v\",\"x\":[0.37904945688305364,1.1553236008254193,1.6969890092471622,-0.26805612805709716,0.9222956791397098,0.798379736515537,0.3545841546614589,0.9978239583053562,-1.3321492083741786,0.05666312908589525,0.7478667832529422,-0.21246474379562075,2.2956855650862518,-1.567536200835686,-0.3177343401130265,1.160609163321756,0.5755403019093225,1.1590622130402857,-0.6117973807611821,-0.04214790123959876,-1.167335021892236,-0.8889238602766412,-0.6874177995095404,0.23491229934004407,-0.5268035434849804,0.31606394499139395,-1.3146383330434688,1.526731697816121,0.4006621493463755,-0.161610886180504],\"type\":\"histogram\"},{\"histfunc\":\"count\",\"histnorm\":\"\",\"marker\":{\"color\":\"rgba(55, 128, 191, 1.0)\",\"line\":{\"color\":\"#4D5663\",\"width\":1.3}},\"name\":\"B\",\"opacity\":0.8,\"orientation\":\"v\",\"x\":[0.4060011589905982,0.6959866985709183,-0.09187268790641648,0.8196471141084424,0.9510600021451722,-0.57663354303388,-1.6148335146223323,-0.8312079201207672,-0.6361055565535438,-1.031873693760971,-2.278612861973147,-0.4992312052364212,-2.1555841408323073,0.17978999043189037,-1.5054726213218554,0.28541582441169344,0.3313567135453369,-1.658129676423646,1.118325222071046,0.6862064146051308,0.09838931908775866,-2.0536725149107324,0.07695386234023052,-0.014781935129108274,0.5066945462984226,0.40199051763576144,-0.8929196284737861,-0.8959894328033265,-0.07703973081020832,2.3238030404337353],\"type\":\"histogram\"},{\"histfunc\":\"count\",\"histnorm\":\"\",\"marker\":{\"color\":\"rgba(50, 171, 96, 1.0)\",\"line\":{\"color\":\"#4D5663\",\"width\":1.3}},\"name\":\"C\",\"opacity\":0.8,\"orientation\":\"v\",\"x\":[-0.6583813333865101,-0.6243174147171944,-1.7277153093321345,0.6156994130188095,1.8006132567561264,0.6963069341619541,1.6475171825501564,-3.111714477914328,-0.6646637800438707,1.311761596759695,-0.8781080287248739,-0.48175649871886467,1.3235838299933458,0.32455513345703196,-0.8822365711626433,-1.5898362500747403,-0.1352286183693309,-0.8874485347452742,0.4170182964373774,0.37373675611958695,-1.0590363614517722,-2.715948034158347,-0.4147647289227345,-1.7456116338051895,-0.48074489016648186,2.0420232239812495,-0.5484028561577265,-0.8198859021537481,0.2326853978481167,-1.7131471392023285],\"type\":\"histogram\"},{\"histfunc\":\"count\",\"histnorm\":\"\",\"marker\":{\"color\":\"rgba(128, 0, 128, 1.0)\",\"line\":{\"color\":\"#4D5663\",\"width\":1.3}},\"name\":\"D\",\"opacity\":0.8,\"orientation\":\"v\",\"x\":[0.09790049863578758,1.2120523954095888,0.8876279767772142,-0.19728770002506377,-1.877549099287521,-0.6641797979377729,-0.23561594585793558,-0.46112302926184295,0.44932799618893254,0.32616076820790396,0.48522706788447506,1.7257275062009279,-0.5786341011281495,0.30340987230210176,0.602038534102397,-0.3927206542274248,-0.6730715632178651,-0.896713121450564,0.701798805735832,0.07664519490767432,-1.3284393373452033,0.6118173598979866,-1.390439058955952,-1.2784415237519355,0.388900123326237,-0.41105654182579093,0.3826947974342108,-0.06761446801247771,-0.39655068604752797,-0.04300471723810657],\"type\":\"histogram\"}],                        {\"barmode\":\"overlay\",\"legend\":{\"bgcolor\":\"#F5F6F9\",\"font\":{\"color\":\"#4D5663\"}},\"paper_bgcolor\":\"#F5F6F9\",\"plot_bgcolor\":\"#F5F6F9\",\"template\":{\"data\":{\"barpolar\":[{\"marker\":{\"line\":{\"color\":\"#E5ECF6\",\"width\":0.5},\"pattern\":{\"fillmode\":\"overlay\",\"size\":10,\"solidity\":0.2}},\"type\":\"barpolar\"}],\"bar\":[{\"error_x\":{\"color\":\"#2a3f5f\"},\"error_y\":{\"color\":\"#2a3f5f\"},\"marker\":{\"line\":{\"color\":\"#E5ECF6\",\"width\":0.5},\"pattern\":{\"fillmode\":\"overlay\",\"size\":10,\"solidity\":0.2}},\"type\":\"bar\"}],\"carpet\":[{\"aaxis\":{\"endlinecolor\":\"#2a3f5f\",\"gridcolor\":\"white\",\"linecolor\":\"white\",\"minorgridcolor\":\"white\",\"startlinecolor\":\"#2a3f5f\"},\"baxis\":{\"endlinecolor\":\"#2a3f5f\",\"gridcolor\":\"white\",\"linecolor\":\"white\",\"minorgridcolor\":\"white\",\"startlinecolor\":\"#2a3f5f\"},\"type\":\"carpet\"}],\"choropleth\":[{\"colorbar\":{\"outlinewidth\":0,\"ticks\":\"\"},\"type\":\"choropleth\"}],\"contourcarpet\":[{\"colorbar\":{\"outlinewidth\":0,\"ticks\":\"\"},\"type\":\"contourcarpet\"}],\"contour\":[{\"colorbar\":{\"outlinewidth\":0,\"ticks\":\"\"},\"colorscale\":[[0.0,\"#0d0887\"],[0.1111111111111111,\"#46039f\"],[0.2222222222222222,\"#7201a8\"],[0.3333333333333333,\"#9c179e\"],[0.4444444444444444,\"#bd3786\"],[0.5555555555555556,\"#d8576b\"],[0.6666666666666666,\"#ed7953\"],[0.7777777777777778,\"#fb9f3a\"],[0.8888888888888888,\"#fdca26\"],[1.0,\"#f0f921\"]],\"type\":\"contour\"}],\"heatmapgl\":[{\"colorbar\":{\"outlinewidth\":0,\"ticks\":\"\"},\"colorscale\":[[0.0,\"#0d0887\"],[0.1111111111111111,\"#46039f\"],[0.2222222222222222,\"#7201a8\"],[0.3333333333333333,\"#9c179e\"],[0.4444444444444444,\"#bd3786\"],[0.5555555555555556,\"#d8576b\"],[0.6666666666666666,\"#ed7953\"],[0.7777777777777778,\"#fb9f3a\"],[0.8888888888888888,\"#fdca26\"],[1.0,\"#f0f921\"]],\"type\":\"heatmapgl\"}],\"heatmap\":[{\"colorbar\":{\"outlinewidth\":0,\"ticks\":\"\"},\"colorscale\":[[0.0,\"#0d0887\"],[0.1111111111111111,\"#46039f\"],[0.2222222222222222,\"#7201a8\"],[0.3333333333333333,\"#9c179e\"],[0.4444444444444444,\"#bd3786\"],[0.5555555555555556,\"#d8576b\"],[0.6666666666666666,\"#ed7953\"],[0.7777777777777778,\"#fb9f3a\"],[0.8888888888888888,\"#fdca26\"],[1.0,\"#f0f921\"]],\"type\":\"heatmap\"}],\"histogram2dcontour\":[{\"colorbar\":{\"outlinewidth\":0,\"ticks\":\"\"},\"colorscale\":[[0.0,\"#0d0887\"],[0.1111111111111111,\"#46039f\"],[0.2222222222222222,\"#7201a8\"],[0.3333333333333333,\"#9c179e\"],[0.4444444444444444,\"#bd3786\"],[0.5555555555555556,\"#d8576b\"],[0.6666666666666666,\"#ed7953\"],[0.7777777777777778,\"#fb9f3a\"],[0.8888888888888888,\"#fdca26\"],[1.0,\"#f0f921\"]],\"type\":\"histogram2dcontour\"}],\"histogram2d\":[{\"colorbar\":{\"outlinewidth\":0,\"ticks\":\"\"},\"colorscale\":[[0.0,\"#0d0887\"],[0.1111111111111111,\"#46039f\"],[0.2222222222222222,\"#7201a8\"],[0.3333333333333333,\"#9c179e\"],[0.4444444444444444,\"#bd3786\"],[0.5555555555555556,\"#d8576b\"],[0.6666666666666666,\"#ed7953\"],[0.7777777777777778,\"#fb9f3a\"],[0.8888888888888888,\"#fdca26\"],[1.0,\"#f0f921\"]],\"type\":\"histogram2d\"}],\"histogram\":[{\"marker\":{\"pattern\":{\"fillmode\":\"overlay\",\"size\":10,\"solidity\":0.2}},\"type\":\"histogram\"}],\"mesh3d\":[{\"colorbar\":{\"outlinewidth\":0,\"ticks\":\"\"},\"type\":\"mesh3d\"}],\"parcoords\":[{\"line\":{\"colorbar\":{\"outlinewidth\":0,\"ticks\":\"\"}},\"type\":\"parcoords\"}],\"pie\":[{\"automargin\":true,\"type\":\"pie\"}],\"scatter3d\":[{\"line\":{\"colorbar\":{\"outlinewidth\":0,\"ticks\":\"\"}},\"marker\":{\"colorbar\":{\"outlinewidth\":0,\"ticks\":\"\"}},\"type\":\"scatter3d\"}],\"scattercarpet\":[{\"marker\":{\"colorbar\":{\"outlinewidth\":0,\"ticks\":\"\"}},\"type\":\"scattercarpet\"}],\"scattergeo\":[{\"marker\":{\"colorbar\":{\"outlinewidth\":0,\"ticks\":\"\"}},\"type\":\"scattergeo\"}],\"scattergl\":[{\"marker\":{\"colorbar\":{\"outlinewidth\":0,\"ticks\":\"\"}},\"type\":\"scattergl\"}],\"scattermapbox\":[{\"marker\":{\"colorbar\":{\"outlinewidth\":0,\"ticks\":\"\"}},\"type\":\"scattermapbox\"}],\"scatterpolargl\":[{\"marker\":{\"colorbar\":{\"outlinewidth\":0,\"ticks\":\"\"}},\"type\":\"scatterpolargl\"}],\"scatterpolar\":[{\"marker\":{\"colorbar\":{\"outlinewidth\":0,\"ticks\":\"\"}},\"type\":\"scatterpolar\"}],\"scatter\":[{\"marker\":{\"colorbar\":{\"outlinewidth\":0,\"ticks\":\"\"}},\"type\":\"scatter\"}],\"scatterternary\":[{\"marker\":{\"colorbar\":{\"outlinewidth\":0,\"ticks\":\"\"}},\"type\":\"scatterternary\"}],\"surface\":[{\"colorbar\":{\"outlinewidth\":0,\"ticks\":\"\"},\"colorscale\":[[0.0,\"#0d0887\"],[0.1111111111111111,\"#46039f\"],[0.2222222222222222,\"#7201a8\"],[0.3333333333333333,\"#9c179e\"],[0.4444444444444444,\"#bd3786\"],[0.5555555555555556,\"#d8576b\"],[0.6666666666666666,\"#ed7953\"],[0.7777777777777778,\"#fb9f3a\"],[0.8888888888888888,\"#fdca26\"],[1.0,\"#f0f921\"]],\"type\":\"surface\"}],\"table\":[{\"cells\":{\"fill\":{\"color\":\"#EBF0F8\"},\"line\":{\"color\":\"white\"}},\"header\":{\"fill\":{\"color\":\"#C8D4E3\"},\"line\":{\"color\":\"white\"}},\"type\":\"table\"}]},\"layout\":{\"annotationdefaults\":{\"arrowcolor\":\"#2a3f5f\",\"arrowhead\":0,\"arrowwidth\":1},\"autotypenumbers\":\"strict\",\"coloraxis\":{\"colorbar\":{\"outlinewidth\":0,\"ticks\":\"\"}},\"colorscale\":{\"diverging\":[[0,\"#8e0152\"],[0.1,\"#c51b7d\"],[0.2,\"#de77ae\"],[0.3,\"#f1b6da\"],[0.4,\"#fde0ef\"],[0.5,\"#f7f7f7\"],[0.6,\"#e6f5d0\"],[0.7,\"#b8e186\"],[0.8,\"#7fbc41\"],[0.9,\"#4d9221\"],[1,\"#276419\"]],\"sequential\":[[0.0,\"#0d0887\"],[0.1111111111111111,\"#46039f\"],[0.2222222222222222,\"#7201a8\"],[0.3333333333333333,\"#9c179e\"],[0.4444444444444444,\"#bd3786\"],[0.5555555555555556,\"#d8576b\"],[0.6666666666666666,\"#ed7953\"],[0.7777777777777778,\"#fb9f3a\"],[0.8888888888888888,\"#fdca26\"],[1.0,\"#f0f921\"]],\"sequentialminus\":[[0.0,\"#0d0887\"],[0.1111111111111111,\"#46039f\"],[0.2222222222222222,\"#7201a8\"],[0.3333333333333333,\"#9c179e\"],[0.4444444444444444,\"#bd3786\"],[0.5555555555555556,\"#d8576b\"],[0.6666666666666666,\"#ed7953\"],[0.7777777777777778,\"#fb9f3a\"],[0.8888888888888888,\"#fdca26\"],[1.0,\"#f0f921\"]]},\"colorway\":[\"#636efa\",\"#EF553B\",\"#00cc96\",\"#ab63fa\",\"#FFA15A\",\"#19d3f3\",\"#FF6692\",\"#B6E880\",\"#FF97FF\",\"#FECB52\"],\"font\":{\"color\":\"#2a3f5f\"},\"geo\":{\"bgcolor\":\"white\",\"lakecolor\":\"white\",\"landcolor\":\"#E5ECF6\",\"showlakes\":true,\"showland\":true,\"subunitcolor\":\"white\"},\"hoverlabel\":{\"align\":\"left\"},\"hovermode\":\"closest\",\"mapbox\":{\"style\":\"light\"},\"paper_bgcolor\":\"white\",\"plot_bgcolor\":\"#E5ECF6\",\"polar\":{\"angularaxis\":{\"gridcolor\":\"white\",\"linecolor\":\"white\",\"ticks\":\"\"},\"bgcolor\":\"#E5ECF6\",\"radialaxis\":{\"gridcolor\":\"white\",\"linecolor\":\"white\",\"ticks\":\"\"}},\"scene\":{\"xaxis\":{\"backgroundcolor\":\"#E5ECF6\",\"gridcolor\":\"white\",\"gridwidth\":2,\"linecolor\":\"white\",\"showbackground\":true,\"ticks\":\"\",\"zerolinecolor\":\"white\"},\"yaxis\":{\"backgroundcolor\":\"#E5ECF6\",\"gridcolor\":\"white\",\"gridwidth\":2,\"linecolor\":\"white\",\"showbackground\":true,\"ticks\":\"\",\"zerolinecolor\":\"white\"},\"zaxis\":{\"backgroundcolor\":\"#E5ECF6\",\"gridcolor\":\"white\",\"gridwidth\":2,\"linecolor\":\"white\",\"showbackground\":true,\"ticks\":\"\",\"zerolinecolor\":\"white\"}},\"shapedefaults\":{\"line\":{\"color\":\"#2a3f5f\"}},\"ternary\":{\"aaxis\":{\"gridcolor\":\"white\",\"linecolor\":\"white\",\"ticks\":\"\"},\"baxis\":{\"gridcolor\":\"white\",\"linecolor\":\"white\",\"ticks\":\"\"},\"bgcolor\":\"#E5ECF6\",\"caxis\":{\"gridcolor\":\"white\",\"linecolor\":\"white\",\"ticks\":\"\"}},\"title\":{\"x\":0.05},\"xaxis\":{\"automargin\":true,\"gridcolor\":\"white\",\"linecolor\":\"white\",\"ticks\":\"\",\"title\":{\"standoff\":15},\"zerolinecolor\":\"white\",\"zerolinewidth\":2},\"yaxis\":{\"automargin\":true,\"gridcolor\":\"white\",\"linecolor\":\"white\",\"ticks\":\"\",\"title\":{\"standoff\":15},\"zerolinecolor\":\"white\",\"zerolinewidth\":2}}},\"title\":{\"font\":{\"color\":\"#4D5663\"}},\"xaxis\":{\"gridcolor\":\"#E1E5ED\",\"showgrid\":true,\"tickfont\":{\"color\":\"#4D5663\"},\"title\":{\"font\":{\"color\":\"#4D5663\"},\"text\":\"\"},\"zerolinecolor\":\"#E1E5ED\"},\"yaxis\":{\"gridcolor\":\"#E1E5ED\",\"showgrid\":true,\"tickfont\":{\"color\":\"#4D5663\"},\"title\":{\"font\":{\"color\":\"#4D5663\"},\"text\":\"\"},\"zerolinecolor\":\"#E1E5ED\"}},                        {\"showLink\": true, \"linkText\": \"Export to plot.ly\", \"plotlyServerURL\": \"https://plot.ly\", \"responsive\": true}                    ).then(function(){\n",
       "                            \n",
       "var gd = document.getElementById('cbd6e678-f843-46b3-9e40-79d9d122b3ff');\n",
       "var x = new MutationObserver(function (mutations, observer) {{\n",
       "        var display = window.getComputedStyle(gd).display;\n",
       "        if (!display || display === 'none') {{\n",
       "            console.log([gd, 'removed!']);\n",
       "            Plotly.purge(gd);\n",
       "            observer.disconnect();\n",
       "        }}\n",
       "}});\n",
       "\n",
       "// Listen for the removal of the full notebook cells\n",
       "var notebookContainer = gd.closest('#notebook-container');\n",
       "if (notebookContainer) {{\n",
       "    x.observe(notebookContainer, {childList: true});\n",
       "}}\n",
       "\n",
       "// Listen for the clearing of the current output cell\n",
       "var outputEl = gd.closest('.output');\n",
       "if (outputEl) {{\n",
       "    x.observe(outputEl, {childList: true});\n",
       "}}\n",
       "\n",
       "                        })                };                });            </script>        </div>"
      ]
     },
     "metadata": {},
     "output_type": "display_data"
    }
   ],
   "source": [
    "df.iplot(kind='hist')"
   ]
  },
  {
   "cell_type": "code",
   "execution_count": 26,
   "id": "cc00cadf",
   "metadata": {},
   "outputs": [
    {
     "name": "stderr",
     "output_type": "stream",
     "text": [
      "C:\\Users\\reliance\\anaconda3\\lib\\site-packages\\cufflinks\\plotlytools.py:849: FutureWarning:\n",
      "\n",
      "The pandas.np module is deprecated and will be removed from pandas in a future version. Import numpy directly instead.\n",
      "\n",
      "C:\\Users\\reliance\\anaconda3\\lib\\site-packages\\cufflinks\\plotlytools.py:850: FutureWarning:\n",
      "\n",
      "The pandas.np module is deprecated and will be removed from pandas in a future version. Import numpy directly instead.\n",
      "\n"
     ]
    },
    {
     "data": {
      "application/vnd.plotly.v1+json": {
       "config": {
        "linkText": "Export to plot.ly",
        "plotlyServerURL": "https://plot.ly",
        "showLink": true
       },
       "data": [
        {
         "line": {
          "color": "rgba(255, 153, 51, 1.0)",
          "dash": "solid",
          "shape": "linear",
          "width": 1.3
         },
         "mode": "lines",
         "name": "A",
         "text": "",
         "type": "scatter",
         "x": [
          0,
          1,
          2,
          3,
          4,
          5,
          6,
          7,
          8,
          9,
          10,
          11,
          12,
          13,
          14,
          15,
          16,
          17,
          18,
          19,
          20,
          21,
          22,
          23,
          24,
          25,
          26,
          27,
          28,
          29
         ],
         "y": [
          0.37904945688305364,
          1.1553236008254193,
          1.6969890092471622,
          -0.26805612805709716,
          0.9222956791397098,
          0.798379736515537,
          0.3545841546614589,
          0.9978239583053562,
          -1.3321492083741786,
          0.05666312908589525,
          0.7478667832529422,
          -0.21246474379562075,
          2.2956855650862518,
          -1.567536200835686,
          -0.3177343401130265,
          1.160609163321756,
          0.5755403019093225,
          1.1590622130402857,
          -0.6117973807611821,
          -0.04214790123959876,
          -1.167335021892236,
          -0.8889238602766412,
          -0.6874177995095404,
          0.23491229934004407,
          -0.5268035434849804,
          0.31606394499139395,
          -1.3146383330434688,
          1.526731697816121,
          0.4006621493463755,
          -0.161610886180504
         ]
        },
        {
         "line": {
          "color": "rgba(55, 128, 191, 1.0)",
          "dash": "solid",
          "shape": "linear",
          "width": 1.3
         },
         "mode": "lines",
         "name": "B",
         "text": "",
         "type": "scatter",
         "x": [
          0,
          1,
          2,
          3,
          4,
          5,
          6,
          7,
          8,
          9,
          10,
          11,
          12,
          13,
          14,
          15,
          16,
          17,
          18,
          19,
          20,
          21,
          22,
          23,
          24,
          25,
          26,
          27,
          28,
          29
         ],
         "y": [
          0.4060011589905982,
          0.6959866985709183,
          -0.09187268790641648,
          0.8196471141084424,
          0.9510600021451722,
          -0.57663354303388,
          -1.6148335146223323,
          -0.8312079201207672,
          -0.6361055565535438,
          -1.031873693760971,
          -2.278612861973147,
          -0.4992312052364212,
          -2.1555841408323073,
          0.17978999043189037,
          -1.5054726213218554,
          0.28541582441169344,
          0.3313567135453369,
          -1.658129676423646,
          1.118325222071046,
          0.6862064146051308,
          0.09838931908775866,
          -2.0536725149107324,
          0.07695386234023052,
          -0.014781935129108274,
          0.5066945462984226,
          0.40199051763576144,
          -0.8929196284737861,
          -0.8959894328033265,
          -0.07703973081020832,
          2.3238030404337353
         ]
        },
        {
         "connectgaps": false,
         "fill": "tozeroy",
         "line": {
          "color": "green",
          "dash": "solid",
          "shape": "linear",
          "width": 0.5
         },
         "mode": "lines",
         "name": "Spread",
         "showlegend": false,
         "type": "scatter",
         "x": [
          0,
          1,
          2,
          3,
          4,
          5,
          6,
          7,
          8,
          9,
          10,
          11,
          12,
          13,
          14,
          15,
          16,
          17,
          18,
          19,
          20,
          21,
          22,
          23,
          24,
          25,
          26,
          27,
          28,
          29
         ],
         "xaxis": "x2",
         "y": [
          "",
          0.45933690225450097,
          1.7888616971535787,
          "",
          "",
          1.375013279549417,
          1.969417669283791,
          1.8290318784261235,
          "",
          1.0885368228468661,
          3.026479645226089,
          0.2867664614408005,
          4.451269705918559,
          "",
          1.187738281208829,
          0.8751933389100625,
          0.24418358836398557,
          2.8171918894639316,
          "",
          "",
          "",
          1.1647486546340913,
          "",
          0.24969423446915234,
          "",
          "",
          "",
          2.4227211306194474,
          0.4777018801565838,
          ""
         ],
         "yaxis": "y2"
        },
        {
         "connectgaps": false,
         "fill": "tozeroy",
         "line": {
          "color": "red",
          "dash": "solid",
          "shape": "linear",
          "width": 0.5
         },
         "mode": "lines",
         "name": "Spread",
         "showlegend": false,
         "type": "scatter",
         "x": [
          0,
          1,
          2,
          3,
          4,
          5,
          6,
          7,
          8,
          9,
          10,
          11,
          12,
          13,
          14,
          15,
          16,
          17,
          18,
          19,
          20,
          21,
          22,
          23,
          24,
          25,
          26,
          27,
          28,
          29
         ],
         "xaxis": "x2",
         "y": [
          -0.02695170210754455,
          "",
          "",
          -1.0877032421655395,
          -0.02876432300546239,
          "",
          "",
          "",
          -0.6960436518206348,
          "",
          "",
          "",
          "",
          -1.7473261912675762,
          "",
          "",
          "",
          "",
          -1.730122602832228,
          -0.7283543158447295,
          -1.2657243409799948,
          "",
          -0.7643716618497709,
          "",
          -1.033498089783403,
          -0.08592657264436748,
          -0.42171870456968263,
          "",
          "",
          -2.4854139266142394
         ],
         "yaxis": "y2"
        }
       ],
       "layout": {
        "hovermode": "x",
        "legend": {
         "bgcolor": "#F5F6F9",
         "font": {
          "color": "#4D5663"
         }
        },
        "paper_bgcolor": "#F5F6F9",
        "plot_bgcolor": "#F5F6F9",
        "template": {
         "data": {
          "bar": [
           {
            "error_x": {
             "color": "#2a3f5f"
            },
            "error_y": {
             "color": "#2a3f5f"
            },
            "marker": {
             "line": {
              "color": "#E5ECF6",
              "width": 0.5
             },
             "pattern": {
              "fillmode": "overlay",
              "size": 10,
              "solidity": 0.2
             }
            },
            "type": "bar"
           }
          ],
          "barpolar": [
           {
            "marker": {
             "line": {
              "color": "#E5ECF6",
              "width": 0.5
             },
             "pattern": {
              "fillmode": "overlay",
              "size": 10,
              "solidity": 0.2
             }
            },
            "type": "barpolar"
           }
          ],
          "carpet": [
           {
            "aaxis": {
             "endlinecolor": "#2a3f5f",
             "gridcolor": "white",
             "linecolor": "white",
             "minorgridcolor": "white",
             "startlinecolor": "#2a3f5f"
            },
            "baxis": {
             "endlinecolor": "#2a3f5f",
             "gridcolor": "white",
             "linecolor": "white",
             "minorgridcolor": "white",
             "startlinecolor": "#2a3f5f"
            },
            "type": "carpet"
           }
          ],
          "choropleth": [
           {
            "colorbar": {
             "outlinewidth": 0,
             "ticks": ""
            },
            "type": "choropleth"
           }
          ],
          "contour": [
           {
            "colorbar": {
             "outlinewidth": 0,
             "ticks": ""
            },
            "colorscale": [
             [
              0,
              "#0d0887"
             ],
             [
              0.1111111111111111,
              "#46039f"
             ],
             [
              0.2222222222222222,
              "#7201a8"
             ],
             [
              0.3333333333333333,
              "#9c179e"
             ],
             [
              0.4444444444444444,
              "#bd3786"
             ],
             [
              0.5555555555555556,
              "#d8576b"
             ],
             [
              0.6666666666666666,
              "#ed7953"
             ],
             [
              0.7777777777777778,
              "#fb9f3a"
             ],
             [
              0.8888888888888888,
              "#fdca26"
             ],
             [
              1,
              "#f0f921"
             ]
            ],
            "type": "contour"
           }
          ],
          "contourcarpet": [
           {
            "colorbar": {
             "outlinewidth": 0,
             "ticks": ""
            },
            "type": "contourcarpet"
           }
          ],
          "heatmap": [
           {
            "colorbar": {
             "outlinewidth": 0,
             "ticks": ""
            },
            "colorscale": [
             [
              0,
              "#0d0887"
             ],
             [
              0.1111111111111111,
              "#46039f"
             ],
             [
              0.2222222222222222,
              "#7201a8"
             ],
             [
              0.3333333333333333,
              "#9c179e"
             ],
             [
              0.4444444444444444,
              "#bd3786"
             ],
             [
              0.5555555555555556,
              "#d8576b"
             ],
             [
              0.6666666666666666,
              "#ed7953"
             ],
             [
              0.7777777777777778,
              "#fb9f3a"
             ],
             [
              0.8888888888888888,
              "#fdca26"
             ],
             [
              1,
              "#f0f921"
             ]
            ],
            "type": "heatmap"
           }
          ],
          "heatmapgl": [
           {
            "colorbar": {
             "outlinewidth": 0,
             "ticks": ""
            },
            "colorscale": [
             [
              0,
              "#0d0887"
             ],
             [
              0.1111111111111111,
              "#46039f"
             ],
             [
              0.2222222222222222,
              "#7201a8"
             ],
             [
              0.3333333333333333,
              "#9c179e"
             ],
             [
              0.4444444444444444,
              "#bd3786"
             ],
             [
              0.5555555555555556,
              "#d8576b"
             ],
             [
              0.6666666666666666,
              "#ed7953"
             ],
             [
              0.7777777777777778,
              "#fb9f3a"
             ],
             [
              0.8888888888888888,
              "#fdca26"
             ],
             [
              1,
              "#f0f921"
             ]
            ],
            "type": "heatmapgl"
           }
          ],
          "histogram": [
           {
            "marker": {
             "pattern": {
              "fillmode": "overlay",
              "size": 10,
              "solidity": 0.2
             }
            },
            "type": "histogram"
           }
          ],
          "histogram2d": [
           {
            "colorbar": {
             "outlinewidth": 0,
             "ticks": ""
            },
            "colorscale": [
             [
              0,
              "#0d0887"
             ],
             [
              0.1111111111111111,
              "#46039f"
             ],
             [
              0.2222222222222222,
              "#7201a8"
             ],
             [
              0.3333333333333333,
              "#9c179e"
             ],
             [
              0.4444444444444444,
              "#bd3786"
             ],
             [
              0.5555555555555556,
              "#d8576b"
             ],
             [
              0.6666666666666666,
              "#ed7953"
             ],
             [
              0.7777777777777778,
              "#fb9f3a"
             ],
             [
              0.8888888888888888,
              "#fdca26"
             ],
             [
              1,
              "#f0f921"
             ]
            ],
            "type": "histogram2d"
           }
          ],
          "histogram2dcontour": [
           {
            "colorbar": {
             "outlinewidth": 0,
             "ticks": ""
            },
            "colorscale": [
             [
              0,
              "#0d0887"
             ],
             [
              0.1111111111111111,
              "#46039f"
             ],
             [
              0.2222222222222222,
              "#7201a8"
             ],
             [
              0.3333333333333333,
              "#9c179e"
             ],
             [
              0.4444444444444444,
              "#bd3786"
             ],
             [
              0.5555555555555556,
              "#d8576b"
             ],
             [
              0.6666666666666666,
              "#ed7953"
             ],
             [
              0.7777777777777778,
              "#fb9f3a"
             ],
             [
              0.8888888888888888,
              "#fdca26"
             ],
             [
              1,
              "#f0f921"
             ]
            ],
            "type": "histogram2dcontour"
           }
          ],
          "mesh3d": [
           {
            "colorbar": {
             "outlinewidth": 0,
             "ticks": ""
            },
            "type": "mesh3d"
           }
          ],
          "parcoords": [
           {
            "line": {
             "colorbar": {
              "outlinewidth": 0,
              "ticks": ""
             }
            },
            "type": "parcoords"
           }
          ],
          "pie": [
           {
            "automargin": true,
            "type": "pie"
           }
          ],
          "scatter": [
           {
            "marker": {
             "colorbar": {
              "outlinewidth": 0,
              "ticks": ""
             }
            },
            "type": "scatter"
           }
          ],
          "scatter3d": [
           {
            "line": {
             "colorbar": {
              "outlinewidth": 0,
              "ticks": ""
             }
            },
            "marker": {
             "colorbar": {
              "outlinewidth": 0,
              "ticks": ""
             }
            },
            "type": "scatter3d"
           }
          ],
          "scattercarpet": [
           {
            "marker": {
             "colorbar": {
              "outlinewidth": 0,
              "ticks": ""
             }
            },
            "type": "scattercarpet"
           }
          ],
          "scattergeo": [
           {
            "marker": {
             "colorbar": {
              "outlinewidth": 0,
              "ticks": ""
             }
            },
            "type": "scattergeo"
           }
          ],
          "scattergl": [
           {
            "marker": {
             "colorbar": {
              "outlinewidth": 0,
              "ticks": ""
             }
            },
            "type": "scattergl"
           }
          ],
          "scattermapbox": [
           {
            "marker": {
             "colorbar": {
              "outlinewidth": 0,
              "ticks": ""
             }
            },
            "type": "scattermapbox"
           }
          ],
          "scatterpolar": [
           {
            "marker": {
             "colorbar": {
              "outlinewidth": 0,
              "ticks": ""
             }
            },
            "type": "scatterpolar"
           }
          ],
          "scatterpolargl": [
           {
            "marker": {
             "colorbar": {
              "outlinewidth": 0,
              "ticks": ""
             }
            },
            "type": "scatterpolargl"
           }
          ],
          "scatterternary": [
           {
            "marker": {
             "colorbar": {
              "outlinewidth": 0,
              "ticks": ""
             }
            },
            "type": "scatterternary"
           }
          ],
          "surface": [
           {
            "colorbar": {
             "outlinewidth": 0,
             "ticks": ""
            },
            "colorscale": [
             [
              0,
              "#0d0887"
             ],
             [
              0.1111111111111111,
              "#46039f"
             ],
             [
              0.2222222222222222,
              "#7201a8"
             ],
             [
              0.3333333333333333,
              "#9c179e"
             ],
             [
              0.4444444444444444,
              "#bd3786"
             ],
             [
              0.5555555555555556,
              "#d8576b"
             ],
             [
              0.6666666666666666,
              "#ed7953"
             ],
             [
              0.7777777777777778,
              "#fb9f3a"
             ],
             [
              0.8888888888888888,
              "#fdca26"
             ],
             [
              1,
              "#f0f921"
             ]
            ],
            "type": "surface"
           }
          ],
          "table": [
           {
            "cells": {
             "fill": {
              "color": "#EBF0F8"
             },
             "line": {
              "color": "white"
             }
            },
            "header": {
             "fill": {
              "color": "#C8D4E3"
             },
             "line": {
              "color": "white"
             }
            },
            "type": "table"
           }
          ]
         },
         "layout": {
          "annotationdefaults": {
           "arrowcolor": "#2a3f5f",
           "arrowhead": 0,
           "arrowwidth": 1
          },
          "autotypenumbers": "strict",
          "coloraxis": {
           "colorbar": {
            "outlinewidth": 0,
            "ticks": ""
           }
          },
          "colorscale": {
           "diverging": [
            [
             0,
             "#8e0152"
            ],
            [
             0.1,
             "#c51b7d"
            ],
            [
             0.2,
             "#de77ae"
            ],
            [
             0.3,
             "#f1b6da"
            ],
            [
             0.4,
             "#fde0ef"
            ],
            [
             0.5,
             "#f7f7f7"
            ],
            [
             0.6,
             "#e6f5d0"
            ],
            [
             0.7,
             "#b8e186"
            ],
            [
             0.8,
             "#7fbc41"
            ],
            [
             0.9,
             "#4d9221"
            ],
            [
             1,
             "#276419"
            ]
           ],
           "sequential": [
            [
             0,
             "#0d0887"
            ],
            [
             0.1111111111111111,
             "#46039f"
            ],
            [
             0.2222222222222222,
             "#7201a8"
            ],
            [
             0.3333333333333333,
             "#9c179e"
            ],
            [
             0.4444444444444444,
             "#bd3786"
            ],
            [
             0.5555555555555556,
             "#d8576b"
            ],
            [
             0.6666666666666666,
             "#ed7953"
            ],
            [
             0.7777777777777778,
             "#fb9f3a"
            ],
            [
             0.8888888888888888,
             "#fdca26"
            ],
            [
             1,
             "#f0f921"
            ]
           ],
           "sequentialminus": [
            [
             0,
             "#0d0887"
            ],
            [
             0.1111111111111111,
             "#46039f"
            ],
            [
             0.2222222222222222,
             "#7201a8"
            ],
            [
             0.3333333333333333,
             "#9c179e"
            ],
            [
             0.4444444444444444,
             "#bd3786"
            ],
            [
             0.5555555555555556,
             "#d8576b"
            ],
            [
             0.6666666666666666,
             "#ed7953"
            ],
            [
             0.7777777777777778,
             "#fb9f3a"
            ],
            [
             0.8888888888888888,
             "#fdca26"
            ],
            [
             1,
             "#f0f921"
            ]
           ]
          },
          "colorway": [
           "#636efa",
           "#EF553B",
           "#00cc96",
           "#ab63fa",
           "#FFA15A",
           "#19d3f3",
           "#FF6692",
           "#B6E880",
           "#FF97FF",
           "#FECB52"
          ],
          "font": {
           "color": "#2a3f5f"
          },
          "geo": {
           "bgcolor": "white",
           "lakecolor": "white",
           "landcolor": "#E5ECF6",
           "showlakes": true,
           "showland": true,
           "subunitcolor": "white"
          },
          "hoverlabel": {
           "align": "left"
          },
          "hovermode": "closest",
          "mapbox": {
           "style": "light"
          },
          "paper_bgcolor": "white",
          "plot_bgcolor": "#E5ECF6",
          "polar": {
           "angularaxis": {
            "gridcolor": "white",
            "linecolor": "white",
            "ticks": ""
           },
           "bgcolor": "#E5ECF6",
           "radialaxis": {
            "gridcolor": "white",
            "linecolor": "white",
            "ticks": ""
           }
          },
          "scene": {
           "xaxis": {
            "backgroundcolor": "#E5ECF6",
            "gridcolor": "white",
            "gridwidth": 2,
            "linecolor": "white",
            "showbackground": true,
            "ticks": "",
            "zerolinecolor": "white"
           },
           "yaxis": {
            "backgroundcolor": "#E5ECF6",
            "gridcolor": "white",
            "gridwidth": 2,
            "linecolor": "white",
            "showbackground": true,
            "ticks": "",
            "zerolinecolor": "white"
           },
           "zaxis": {
            "backgroundcolor": "#E5ECF6",
            "gridcolor": "white",
            "gridwidth": 2,
            "linecolor": "white",
            "showbackground": true,
            "ticks": "",
            "zerolinecolor": "white"
           }
          },
          "shapedefaults": {
           "line": {
            "color": "#2a3f5f"
           }
          },
          "ternary": {
           "aaxis": {
            "gridcolor": "white",
            "linecolor": "white",
            "ticks": ""
           },
           "baxis": {
            "gridcolor": "white",
            "linecolor": "white",
            "ticks": ""
           },
           "bgcolor": "#E5ECF6",
           "caxis": {
            "gridcolor": "white",
            "linecolor": "white",
            "ticks": ""
           }
          },
          "title": {
           "x": 0.05
          },
          "xaxis": {
           "automargin": true,
           "gridcolor": "white",
           "linecolor": "white",
           "ticks": "",
           "title": {
            "standoff": 15
           },
           "zerolinecolor": "white",
           "zerolinewidth": 2
          },
          "yaxis": {
           "automargin": true,
           "gridcolor": "white",
           "linecolor": "white",
           "ticks": "",
           "title": {
            "standoff": 15
           },
           "zerolinecolor": "white",
           "zerolinewidth": 2
          }
         }
        },
        "title": {
         "font": {
          "color": "#4D5663"
         }
        },
        "xaxis": {
         "gridcolor": "#E1E5ED",
         "showgrid": true,
         "tickfont": {
          "color": "#4D5663"
         },
         "title": {
          "font": {
           "color": "#4D5663"
          },
          "text": ""
         },
         "zerolinecolor": "#E1E5ED"
        },
        "xaxis2": {
         "anchor": "y2",
         "gridcolor": "#E1E5ED",
         "showgrid": true,
         "showticklabels": false,
         "tickfont": {
          "color": "#4D5663"
         },
         "title": {
          "font": {
           "color": "#4D5663"
          },
          "text": ""
         },
         "zerolinecolor": "#E1E5ED"
        },
        "yaxis": {
         "domain": [
          0.3,
          1
         ],
         "gridcolor": "#E1E5ED",
         "showgrid": true,
         "tickfont": {
          "color": "#4D5663"
         },
         "title": {
          "font": {
           "color": "#4D5663"
          },
          "text": ""
         },
         "zerolinecolor": "#E1E5ED"
        },
        "yaxis2": {
         "domain": [
          0,
          0.25
         ],
         "gridcolor": "#E1E5ED",
         "showgrid": true,
         "tickfont": {
          "color": "#4D5663"
         },
         "title": {
          "font": {
           "color": "#4D5663"
          },
          "text": "Spread"
         },
         "zerolinecolor": "#E1E5ED"
        }
       }
      },
      "text/html": [
       "<div>                            <div id=\"b48ad64b-55f8-44f7-81a2-1e88ea610726\" class=\"plotly-graph-div\" style=\"height:525px; width:100%;\"></div>            <script type=\"text/javascript\">                require([\"plotly\"], function(Plotly) {                    window.PLOTLYENV=window.PLOTLYENV || {};\n",
       "                    window.PLOTLYENV.BASE_URL='https://plot.ly';                                    if (document.getElementById(\"b48ad64b-55f8-44f7-81a2-1e88ea610726\")) {                    Plotly.newPlot(                        \"b48ad64b-55f8-44f7-81a2-1e88ea610726\",                        [{\"line\":{\"color\":\"rgba(255, 153, 51, 1.0)\",\"dash\":\"solid\",\"shape\":\"linear\",\"width\":1.3},\"mode\":\"lines\",\"name\":\"A\",\"text\":\"\",\"x\":[0,1,2,3,4,5,6,7,8,9,10,11,12,13,14,15,16,17,18,19,20,21,22,23,24,25,26,27,28,29],\"y\":[0.37904945688305364,1.1553236008254193,1.6969890092471622,-0.26805612805709716,0.9222956791397098,0.798379736515537,0.3545841546614589,0.9978239583053562,-1.3321492083741786,0.05666312908589525,0.7478667832529422,-0.21246474379562075,2.2956855650862518,-1.567536200835686,-0.3177343401130265,1.160609163321756,0.5755403019093225,1.1590622130402857,-0.6117973807611821,-0.04214790123959876,-1.167335021892236,-0.8889238602766412,-0.6874177995095404,0.23491229934004407,-0.5268035434849804,0.31606394499139395,-1.3146383330434688,1.526731697816121,0.4006621493463755,-0.161610886180504],\"type\":\"scatter\"},{\"line\":{\"color\":\"rgba(55, 128, 191, 1.0)\",\"dash\":\"solid\",\"shape\":\"linear\",\"width\":1.3},\"mode\":\"lines\",\"name\":\"B\",\"text\":\"\",\"x\":[0,1,2,3,4,5,6,7,8,9,10,11,12,13,14,15,16,17,18,19,20,21,22,23,24,25,26,27,28,29],\"y\":[0.4060011589905982,0.6959866985709183,-0.09187268790641648,0.8196471141084424,0.9510600021451722,-0.57663354303388,-1.6148335146223323,-0.8312079201207672,-0.6361055565535438,-1.031873693760971,-2.278612861973147,-0.4992312052364212,-2.1555841408323073,0.17978999043189037,-1.5054726213218554,0.28541582441169344,0.3313567135453369,-1.658129676423646,1.118325222071046,0.6862064146051308,0.09838931908775866,-2.0536725149107324,0.07695386234023052,-0.014781935129108274,0.5066945462984226,0.40199051763576144,-0.8929196284737861,-0.8959894328033265,-0.07703973081020832,2.3238030404337353],\"type\":\"scatter\"},{\"connectgaps\":false,\"fill\":\"tozeroy\",\"line\":{\"color\":\"green\",\"dash\":\"solid\",\"shape\":\"linear\",\"width\":0.5},\"mode\":\"lines\",\"name\":\"Spread\",\"showlegend\":false,\"x\":[0,1,2,3,4,5,6,7,8,9,10,11,12,13,14,15,16,17,18,19,20,21,22,23,24,25,26,27,28,29],\"xaxis\":\"x2\",\"y\":[\"\",0.45933690225450097,1.7888616971535787,\"\",\"\",1.375013279549417,1.969417669283791,1.8290318784261235,\"\",1.0885368228468661,3.026479645226089,0.2867664614408005,4.451269705918559,\"\",1.187738281208829,0.8751933389100625,0.24418358836398557,2.8171918894639316,\"\",\"\",\"\",1.1647486546340913,\"\",0.24969423446915234,\"\",\"\",\"\",2.4227211306194474,0.4777018801565838,\"\"],\"yaxis\":\"y2\",\"type\":\"scatter\"},{\"connectgaps\":false,\"fill\":\"tozeroy\",\"line\":{\"color\":\"red\",\"dash\":\"solid\",\"shape\":\"linear\",\"width\":0.5},\"mode\":\"lines\",\"name\":\"Spread\",\"showlegend\":false,\"x\":[0,1,2,3,4,5,6,7,8,9,10,11,12,13,14,15,16,17,18,19,20,21,22,23,24,25,26,27,28,29],\"xaxis\":\"x2\",\"y\":[-0.02695170210754455,\"\",\"\",-1.0877032421655395,-0.02876432300546239,\"\",\"\",\"\",-0.6960436518206348,\"\",\"\",\"\",\"\",-1.7473261912675762,\"\",\"\",\"\",\"\",-1.730122602832228,-0.7283543158447295,-1.2657243409799948,\"\",-0.7643716618497709,\"\",-1.033498089783403,-0.08592657264436748,-0.42171870456968263,\"\",\"\",-2.4854139266142394],\"yaxis\":\"y2\",\"type\":\"scatter\"}],                        {\"hovermode\":\"x\",\"legend\":{\"bgcolor\":\"#F5F6F9\",\"font\":{\"color\":\"#4D5663\"}},\"paper_bgcolor\":\"#F5F6F9\",\"plot_bgcolor\":\"#F5F6F9\",\"template\":{\"data\":{\"barpolar\":[{\"marker\":{\"line\":{\"color\":\"#E5ECF6\",\"width\":0.5},\"pattern\":{\"fillmode\":\"overlay\",\"size\":10,\"solidity\":0.2}},\"type\":\"barpolar\"}],\"bar\":[{\"error_x\":{\"color\":\"#2a3f5f\"},\"error_y\":{\"color\":\"#2a3f5f\"},\"marker\":{\"line\":{\"color\":\"#E5ECF6\",\"width\":0.5},\"pattern\":{\"fillmode\":\"overlay\",\"size\":10,\"solidity\":0.2}},\"type\":\"bar\"}],\"carpet\":[{\"aaxis\":{\"endlinecolor\":\"#2a3f5f\",\"gridcolor\":\"white\",\"linecolor\":\"white\",\"minorgridcolor\":\"white\",\"startlinecolor\":\"#2a3f5f\"},\"baxis\":{\"endlinecolor\":\"#2a3f5f\",\"gridcolor\":\"white\",\"linecolor\":\"white\",\"minorgridcolor\":\"white\",\"startlinecolor\":\"#2a3f5f\"},\"type\":\"carpet\"}],\"choropleth\":[{\"colorbar\":{\"outlinewidth\":0,\"ticks\":\"\"},\"type\":\"choropleth\"}],\"contourcarpet\":[{\"colorbar\":{\"outlinewidth\":0,\"ticks\":\"\"},\"type\":\"contourcarpet\"}],\"contour\":[{\"colorbar\":{\"outlinewidth\":0,\"ticks\":\"\"},\"colorscale\":[[0.0,\"#0d0887\"],[0.1111111111111111,\"#46039f\"],[0.2222222222222222,\"#7201a8\"],[0.3333333333333333,\"#9c179e\"],[0.4444444444444444,\"#bd3786\"],[0.5555555555555556,\"#d8576b\"],[0.6666666666666666,\"#ed7953\"],[0.7777777777777778,\"#fb9f3a\"],[0.8888888888888888,\"#fdca26\"],[1.0,\"#f0f921\"]],\"type\":\"contour\"}],\"heatmapgl\":[{\"colorbar\":{\"outlinewidth\":0,\"ticks\":\"\"},\"colorscale\":[[0.0,\"#0d0887\"],[0.1111111111111111,\"#46039f\"],[0.2222222222222222,\"#7201a8\"],[0.3333333333333333,\"#9c179e\"],[0.4444444444444444,\"#bd3786\"],[0.5555555555555556,\"#d8576b\"],[0.6666666666666666,\"#ed7953\"],[0.7777777777777778,\"#fb9f3a\"],[0.8888888888888888,\"#fdca26\"],[1.0,\"#f0f921\"]],\"type\":\"heatmapgl\"}],\"heatmap\":[{\"colorbar\":{\"outlinewidth\":0,\"ticks\":\"\"},\"colorscale\":[[0.0,\"#0d0887\"],[0.1111111111111111,\"#46039f\"],[0.2222222222222222,\"#7201a8\"],[0.3333333333333333,\"#9c179e\"],[0.4444444444444444,\"#bd3786\"],[0.5555555555555556,\"#d8576b\"],[0.6666666666666666,\"#ed7953\"],[0.7777777777777778,\"#fb9f3a\"],[0.8888888888888888,\"#fdca26\"],[1.0,\"#f0f921\"]],\"type\":\"heatmap\"}],\"histogram2dcontour\":[{\"colorbar\":{\"outlinewidth\":0,\"ticks\":\"\"},\"colorscale\":[[0.0,\"#0d0887\"],[0.1111111111111111,\"#46039f\"],[0.2222222222222222,\"#7201a8\"],[0.3333333333333333,\"#9c179e\"],[0.4444444444444444,\"#bd3786\"],[0.5555555555555556,\"#d8576b\"],[0.6666666666666666,\"#ed7953\"],[0.7777777777777778,\"#fb9f3a\"],[0.8888888888888888,\"#fdca26\"],[1.0,\"#f0f921\"]],\"type\":\"histogram2dcontour\"}],\"histogram2d\":[{\"colorbar\":{\"outlinewidth\":0,\"ticks\":\"\"},\"colorscale\":[[0.0,\"#0d0887\"],[0.1111111111111111,\"#46039f\"],[0.2222222222222222,\"#7201a8\"],[0.3333333333333333,\"#9c179e\"],[0.4444444444444444,\"#bd3786\"],[0.5555555555555556,\"#d8576b\"],[0.6666666666666666,\"#ed7953\"],[0.7777777777777778,\"#fb9f3a\"],[0.8888888888888888,\"#fdca26\"],[1.0,\"#f0f921\"]],\"type\":\"histogram2d\"}],\"histogram\":[{\"marker\":{\"pattern\":{\"fillmode\":\"overlay\",\"size\":10,\"solidity\":0.2}},\"type\":\"histogram\"}],\"mesh3d\":[{\"colorbar\":{\"outlinewidth\":0,\"ticks\":\"\"},\"type\":\"mesh3d\"}],\"parcoords\":[{\"line\":{\"colorbar\":{\"outlinewidth\":0,\"ticks\":\"\"}},\"type\":\"parcoords\"}],\"pie\":[{\"automargin\":true,\"type\":\"pie\"}],\"scatter3d\":[{\"line\":{\"colorbar\":{\"outlinewidth\":0,\"ticks\":\"\"}},\"marker\":{\"colorbar\":{\"outlinewidth\":0,\"ticks\":\"\"}},\"type\":\"scatter3d\"}],\"scattercarpet\":[{\"marker\":{\"colorbar\":{\"outlinewidth\":0,\"ticks\":\"\"}},\"type\":\"scattercarpet\"}],\"scattergeo\":[{\"marker\":{\"colorbar\":{\"outlinewidth\":0,\"ticks\":\"\"}},\"type\":\"scattergeo\"}],\"scattergl\":[{\"marker\":{\"colorbar\":{\"outlinewidth\":0,\"ticks\":\"\"}},\"type\":\"scattergl\"}],\"scattermapbox\":[{\"marker\":{\"colorbar\":{\"outlinewidth\":0,\"ticks\":\"\"}},\"type\":\"scattermapbox\"}],\"scatterpolargl\":[{\"marker\":{\"colorbar\":{\"outlinewidth\":0,\"ticks\":\"\"}},\"type\":\"scatterpolargl\"}],\"scatterpolar\":[{\"marker\":{\"colorbar\":{\"outlinewidth\":0,\"ticks\":\"\"}},\"type\":\"scatterpolar\"}],\"scatter\":[{\"marker\":{\"colorbar\":{\"outlinewidth\":0,\"ticks\":\"\"}},\"type\":\"scatter\"}],\"scatterternary\":[{\"marker\":{\"colorbar\":{\"outlinewidth\":0,\"ticks\":\"\"}},\"type\":\"scatterternary\"}],\"surface\":[{\"colorbar\":{\"outlinewidth\":0,\"ticks\":\"\"},\"colorscale\":[[0.0,\"#0d0887\"],[0.1111111111111111,\"#46039f\"],[0.2222222222222222,\"#7201a8\"],[0.3333333333333333,\"#9c179e\"],[0.4444444444444444,\"#bd3786\"],[0.5555555555555556,\"#d8576b\"],[0.6666666666666666,\"#ed7953\"],[0.7777777777777778,\"#fb9f3a\"],[0.8888888888888888,\"#fdca26\"],[1.0,\"#f0f921\"]],\"type\":\"surface\"}],\"table\":[{\"cells\":{\"fill\":{\"color\":\"#EBF0F8\"},\"line\":{\"color\":\"white\"}},\"header\":{\"fill\":{\"color\":\"#C8D4E3\"},\"line\":{\"color\":\"white\"}},\"type\":\"table\"}]},\"layout\":{\"annotationdefaults\":{\"arrowcolor\":\"#2a3f5f\",\"arrowhead\":0,\"arrowwidth\":1},\"autotypenumbers\":\"strict\",\"coloraxis\":{\"colorbar\":{\"outlinewidth\":0,\"ticks\":\"\"}},\"colorscale\":{\"diverging\":[[0,\"#8e0152\"],[0.1,\"#c51b7d\"],[0.2,\"#de77ae\"],[0.3,\"#f1b6da\"],[0.4,\"#fde0ef\"],[0.5,\"#f7f7f7\"],[0.6,\"#e6f5d0\"],[0.7,\"#b8e186\"],[0.8,\"#7fbc41\"],[0.9,\"#4d9221\"],[1,\"#276419\"]],\"sequential\":[[0.0,\"#0d0887\"],[0.1111111111111111,\"#46039f\"],[0.2222222222222222,\"#7201a8\"],[0.3333333333333333,\"#9c179e\"],[0.4444444444444444,\"#bd3786\"],[0.5555555555555556,\"#d8576b\"],[0.6666666666666666,\"#ed7953\"],[0.7777777777777778,\"#fb9f3a\"],[0.8888888888888888,\"#fdca26\"],[1.0,\"#f0f921\"]],\"sequentialminus\":[[0.0,\"#0d0887\"],[0.1111111111111111,\"#46039f\"],[0.2222222222222222,\"#7201a8\"],[0.3333333333333333,\"#9c179e\"],[0.4444444444444444,\"#bd3786\"],[0.5555555555555556,\"#d8576b\"],[0.6666666666666666,\"#ed7953\"],[0.7777777777777778,\"#fb9f3a\"],[0.8888888888888888,\"#fdca26\"],[1.0,\"#f0f921\"]]},\"colorway\":[\"#636efa\",\"#EF553B\",\"#00cc96\",\"#ab63fa\",\"#FFA15A\",\"#19d3f3\",\"#FF6692\",\"#B6E880\",\"#FF97FF\",\"#FECB52\"],\"font\":{\"color\":\"#2a3f5f\"},\"geo\":{\"bgcolor\":\"white\",\"lakecolor\":\"white\",\"landcolor\":\"#E5ECF6\",\"showlakes\":true,\"showland\":true,\"subunitcolor\":\"white\"},\"hoverlabel\":{\"align\":\"left\"},\"hovermode\":\"closest\",\"mapbox\":{\"style\":\"light\"},\"paper_bgcolor\":\"white\",\"plot_bgcolor\":\"#E5ECF6\",\"polar\":{\"angularaxis\":{\"gridcolor\":\"white\",\"linecolor\":\"white\",\"ticks\":\"\"},\"bgcolor\":\"#E5ECF6\",\"radialaxis\":{\"gridcolor\":\"white\",\"linecolor\":\"white\",\"ticks\":\"\"}},\"scene\":{\"xaxis\":{\"backgroundcolor\":\"#E5ECF6\",\"gridcolor\":\"white\",\"gridwidth\":2,\"linecolor\":\"white\",\"showbackground\":true,\"ticks\":\"\",\"zerolinecolor\":\"white\"},\"yaxis\":{\"backgroundcolor\":\"#E5ECF6\",\"gridcolor\":\"white\",\"gridwidth\":2,\"linecolor\":\"white\",\"showbackground\":true,\"ticks\":\"\",\"zerolinecolor\":\"white\"},\"zaxis\":{\"backgroundcolor\":\"#E5ECF6\",\"gridcolor\":\"white\",\"gridwidth\":2,\"linecolor\":\"white\",\"showbackground\":true,\"ticks\":\"\",\"zerolinecolor\":\"white\"}},\"shapedefaults\":{\"line\":{\"color\":\"#2a3f5f\"}},\"ternary\":{\"aaxis\":{\"gridcolor\":\"white\",\"linecolor\":\"white\",\"ticks\":\"\"},\"baxis\":{\"gridcolor\":\"white\",\"linecolor\":\"white\",\"ticks\":\"\"},\"bgcolor\":\"#E5ECF6\",\"caxis\":{\"gridcolor\":\"white\",\"linecolor\":\"white\",\"ticks\":\"\"}},\"title\":{\"x\":0.05},\"xaxis\":{\"automargin\":true,\"gridcolor\":\"white\",\"linecolor\":\"white\",\"ticks\":\"\",\"title\":{\"standoff\":15},\"zerolinecolor\":\"white\",\"zerolinewidth\":2},\"yaxis\":{\"automargin\":true,\"gridcolor\":\"white\",\"linecolor\":\"white\",\"ticks\":\"\",\"title\":{\"standoff\":15},\"zerolinecolor\":\"white\",\"zerolinewidth\":2}}},\"title\":{\"font\":{\"color\":\"#4D5663\"}},\"xaxis\":{\"gridcolor\":\"#E1E5ED\",\"showgrid\":true,\"tickfont\":{\"color\":\"#4D5663\"},\"title\":{\"font\":{\"color\":\"#4D5663\"},\"text\":\"\"},\"zerolinecolor\":\"#E1E5ED\"},\"yaxis\":{\"domain\":[0.3,1],\"gridcolor\":\"#E1E5ED\",\"showgrid\":true,\"tickfont\":{\"color\":\"#4D5663\"},\"title\":{\"font\":{\"color\":\"#4D5663\"},\"text\":\"\"},\"zerolinecolor\":\"#E1E5ED\"},\"yaxis2\":{\"domain\":[0,0.25],\"gridcolor\":\"#E1E5ED\",\"showgrid\":true,\"tickfont\":{\"color\":\"#4D5663\"},\"title\":{\"font\":{\"color\":\"#4D5663\"},\"text\":\"Spread\"},\"zerolinecolor\":\"#E1E5ED\"},\"xaxis2\":{\"anchor\":\"y2\",\"gridcolor\":\"#E1E5ED\",\"showgrid\":true,\"showticklabels\":false,\"tickfont\":{\"color\":\"#4D5663\"},\"title\":{\"font\":{\"color\":\"#4D5663\"},\"text\":\"\"},\"zerolinecolor\":\"#E1E5ED\"}},                        {\"showLink\": true, \"linkText\": \"Export to plot.ly\", \"plotlyServerURL\": \"https://plot.ly\", \"responsive\": true}                    ).then(function(){\n",
       "                            \n",
       "var gd = document.getElementById('b48ad64b-55f8-44f7-81a2-1e88ea610726');\n",
       "var x = new MutationObserver(function (mutations, observer) {{\n",
       "        var display = window.getComputedStyle(gd).display;\n",
       "        if (!display || display === 'none') {{\n",
       "            console.log([gd, 'removed!']);\n",
       "            Plotly.purge(gd);\n",
       "            observer.disconnect();\n",
       "        }}\n",
       "}});\n",
       "\n",
       "// Listen for the removal of the full notebook cells\n",
       "var notebookContainer = gd.closest('#notebook-container');\n",
       "if (notebookContainer) {{\n",
       "    x.observe(notebookContainer, {childList: true});\n",
       "}}\n",
       "\n",
       "// Listen for the clearing of the current output cell\n",
       "var outputEl = gd.closest('.output');\n",
       "if (outputEl) {{\n",
       "    x.observe(outputEl, {childList: true});\n",
       "}}\n",
       "\n",
       "                        })                };                });            </script>        </div>"
      ]
     },
     "metadata": {},
     "output_type": "display_data"
    }
   ],
   "source": [
    "df[['A','B']].iplot(kind='spread')"
   ]
  },
  {
   "cell_type": "code",
   "execution_count": 27,
   "id": "fafc2832",
   "metadata": {},
   "outputs": [
    {
     "data": {
      "application/vnd.plotly.v1+json": {
       "config": {
        "linkText": "Export to plot.ly",
        "plotlyServerURL": "https://plot.ly",
        "showLink": true
       },
       "data": [
        {
         "marker": {
          "color": [
           "yellow",
           "yellow",
           "yellow",
           "yellow",
           "yellow",
           "yellow",
           "yellow",
           "yellow",
           "yellow",
           "yellow",
           "yellow",
           "yellow",
           "yellow",
           "yellow",
           "yellow",
           "yellow",
           "yellow",
           "yellow",
           "yellow",
           "yellow",
           "yellow",
           "yellow",
           "yellow",
           "yellow",
           "yellow",
           "yellow",
           "yellow",
           "yellow",
           "yellow",
           "yellow",
           "yellow",
           "yellow",
           "yellow",
           "yellow",
           "yellow",
           "yellow",
           "yellow",
           "yellow",
           "yellow",
           "yellow",
           "yellow",
           "yellow",
           "yellow",
           "yellow",
           "yellow",
           "yellow",
           "yellow",
           "yellow",
           "yellow",
           "yellow",
           "yellow",
           "yellow",
           "yellow",
           "yellow",
           "yellow",
           "yellow",
           "yellow",
           "yellow",
           "yellow",
           "yellow",
           "yellow",
           "yellow",
           "yellow",
           "yellow",
           "yellow",
           "yellow",
           "yellow",
           "yellow",
           "yellow",
           "yellow",
           "yellow",
           "yellow",
           "yellow",
           "yellow",
           "yellow",
           "yellow",
           "yellow",
           "yellow",
           "yellow",
           "yellow",
           "yellow",
           "yellow",
           "yellow",
           "yellow",
           "yellow",
           "yellow",
           "yellow",
           "yellow",
           "yellow",
           "yellow",
           "yellow",
           "yellow",
           "yellow",
           "yellow",
           "yellow",
           "yellow",
           "yellow",
           "yellow",
           "yellow",
           "yellow",
           "yellow",
           "yellow",
           "yellow",
           "yellow",
           "yellow",
           "yellow",
           "yellow",
           "yellow",
           "yellow",
           "yellow",
           "yellow",
           "yellow",
           "yellow",
           "yellow",
           "yellow",
           "yellow",
           "yellow",
           "yellow",
           "yellow",
           "yellow",
           "yellow",
           "yellow",
           "yellow",
           "yellow",
           "yellow",
           "yellow",
           "yellow",
           "yellow",
           "yellow",
           "yellow",
           "yellow",
           "yellow",
           "yellow",
           "yellow",
           "yellow",
           "yellow",
           "yellow",
           "yellow",
           "yellow",
           "yellow",
           "yellow",
           "yellow",
           "yellow",
           "yellow",
           "yellow",
           "yellow",
           "yellow",
           "yellow",
           "yellow",
           "yellow",
           "yellow",
           "yellow",
           "yellow",
           "yellow",
           "yellow",
           "yellow",
           "yellow",
           "yellow",
           "yellow",
           "yellow",
           "yellow",
           "yellow",
           "yellow",
           "yellow",
           "yellow",
           "yellow",
           "yellow",
           "yellow",
           "yellow",
           "yellow",
           "yellow",
           "yellow",
           "yellow",
           "yellow",
           "yellow",
           "yellow",
           "yellow",
           "yellow",
           "yellow",
           "yellow",
           "yellow",
           "yellow",
           "yellow",
           "yellow",
           "yellow",
           "yellow",
           "yellow",
           "yellow",
           "yellow",
           "yellow",
           "yellow",
           "yellow",
           "yellow",
           "yellow",
           "yellow",
           "yellow",
           "yellow",
           "yellow",
           "yellow",
           "yellow",
           "yellow",
           "yellow",
           "yellow",
           "yellow",
           "yellow",
           "yellow",
           "yellow",
           "yellow",
           "yellow",
           "yellow",
           "yellow",
           "yellow",
           "yellow",
           "yellow",
           "yellow",
           "yellow",
           "yellow",
           "yellow",
           "yellow",
           "yellow",
           "yellow",
           "yellow",
           "yellow",
           "yellow",
           "yellow",
           "yellow",
           "yellow",
           "yellow",
           "yellow",
           "yellow",
           "yellow",
           "yellow",
           "yellow",
           "yellow",
           "yellow",
           "yellow",
           "yellow",
           "yellow",
           "yellow",
           "yellow",
           "yellow",
           "yellow",
           "yellow",
           "yellow",
           "yellow",
           "yellow",
           "yellow",
           "yellow",
           "yellow",
           "yellow",
           "yellow",
           "yellow",
           "yellow",
           "yellow",
           "yellow",
           "yellow",
           "yellow",
           "yellow",
           "yellow",
           "yellow",
           "yellow",
           "yellow",
           "yellow",
           "yellow",
           "yellow",
           "yellow",
           "yellow",
           "yellow",
           "yellow",
           "yellow",
           "yellow",
           "yellow",
           "yellow",
           "yellow",
           "yellow",
           "yellow",
           "yellow",
           "yellow",
           "yellow",
           "yellow",
           "yellow",
           "yellow",
           "yellow",
           "yellow",
           "yellow",
           "yellow",
           "yellow",
           "yellow",
           "yellow",
           "yellow",
           "yellow",
           "yellow",
           "yellow",
           "yellow",
           "yellow",
           "yellow",
           "yellow",
           "yellow",
           "yellow",
           "yellow",
           "yellow",
           "yellow",
           "yellow",
           "yellow",
           "yellow",
           "yellow",
           "yellow",
           "yellow",
           "yellow",
           "yellow",
           "yellow",
           "yellow",
           "yellow",
           "yellow",
           "yellow",
           "yellow",
           "yellow",
           "yellow",
           "yellow",
           "yellow",
           "yellow",
           "yellow",
           "yellow",
           "yellow",
           "yellow",
           "yellow",
           "yellow",
           "yellow",
           "yellow",
           "yellow",
           "yellow",
           "yellow",
           "yellow",
           "yellow",
           "yellow",
           "yellow",
           "yellow",
           "yellow",
           "yellow",
           "yellow",
           "yellow",
           "yellow",
           "yellow",
           "yellow",
           "yellow",
           "yellow",
           "yellow",
           "yellow",
           "yellow",
           "yellow",
           "yellow",
           "yellow",
           "yellow",
           "yellow",
           "yellow",
           "yellow",
           "yellow",
           "yellow",
           "yellow",
           "yellow",
           "yellow",
           "yellow",
           "yellow",
           "yellow",
           "yellow",
           "yellow",
           "yellow",
           "yellow",
           "yellow",
           "yellow",
           "yellow",
           "yellow",
           "yellow",
           "yellow",
           "yellow",
           "yellow",
           "yellow",
           "yellow",
           "yellow",
           "yellow",
           "yellow",
           "yellow",
           "yellow",
           "yellow",
           "yellow",
           "yellow",
           "yellow",
           "yellow",
           "yellow",
           "yellow",
           "yellow",
           "yellow",
           "yellow",
           "yellow",
           "yellow",
           "yellow",
           "yellow",
           "yellow",
           "yellow",
           "yellow",
           "yellow",
           "yellow",
           "yellow",
           "yellow",
           "yellow",
           "yellow",
           "yellow",
           "yellow",
           "yellow",
           "yellow",
           "yellow",
           "yellow",
           "yellow",
           "yellow",
           "yellow",
           "yellow",
           "yellow",
           "yellow",
           "yellow",
           "yellow",
           "yellow",
           "yellow",
           "yellow",
           "yellow",
           "yellow",
           "yellow",
           "yellow",
           "yellow",
           "yellow",
           "yellow",
           "yellow",
           "yellow",
           "yellow",
           "yellow",
           "yellow",
           "yellow",
           "yellow",
           "yellow",
           "yellow",
           "yellow",
           "yellow",
           "yellow",
           "yellow",
           "yellow",
           "yellow",
           "yellow",
           "yellow",
           "yellow",
           "yellow",
           "yellow",
           "yellow",
           "yellow",
           "yellow",
           "yellow",
           "yellow",
           "yellow",
           "yellow",
           "yellow",
           "yellow",
           "yellow",
           "yellow",
           "yellow",
           "yellow",
           "yellow",
           "yellow",
           "yellow",
           "yellow",
           "yellow",
           "yellow",
           "yellow",
           "yellow",
           "yellow",
           "yellow",
           "yellow",
           "yellow",
           "yellow",
           "yellow",
           "yellow",
           "yellow",
           "yellow",
           "yellow",
           "yellow",
           "yellow",
           "yellow",
           "yellow",
           "yellow",
           "yellow",
           "yellow",
           "yellow",
           "yellow",
           "yellow",
           "yellow",
           "yellow",
           "yellow",
           "yellow",
           "yellow",
           "yellow",
           "yellow",
           "yellow",
           "yellow"
          ],
          "line": {
           "width": 1.3
          },
          "size": [
           72,
           58,
           55,
           43,
           60,
           31,
           57,
           37,
           68,
           55,
           39,
           67,
           66,
           59,
           47,
           70,
           70,
           92,
           48,
           59,
           32,
           50,
           39,
           95,
           67,
           39,
           77,
           71,
           64,
           57,
           53,
           56,
           65,
           82,
           24,
           62,
           53,
           58,
           30,
           63,
           93,
           63,
           26,
           73,
           44,
           64,
           36,
           82,
           46,
           58,
           31,
           54,
           49,
           37,
           60,
           29,
           64,
           78,
           45,
           62,
           24,
           46,
           47,
           50,
           55,
           40,
           44,
           44,
           32,
           63,
           56,
           40,
           95,
           55,
           32,
           46,
           28,
           60,
           34,
           91,
           21,
           43,
           52,
           36,
           75,
           37,
           43,
           73,
           80,
           42,
           41,
           48,
           53,
           51,
           55,
           30,
           50,
           80,
           62,
           56,
           85,
           65,
           49,
           47,
           88,
           72,
           46,
           45,
           76,
           39,
           73,
           70,
           35,
           49,
           63,
           74,
           76,
           50,
           68,
           74,
           35,
           59,
           49,
           53,
           58,
           53,
           56,
           49,
           60,
           46,
           78,
           54,
           51,
           41,
           49,
           64,
           50,
           90,
           34,
           62,
           45,
           76,
           37,
           58,
           57,
           53,
           28,
           44,
           41,
           58,
           28,
           54,
           15,
           43,
           64,
           82,
           43,
           36,
           75,
           82,
           52,
           79,
           34,
           59,
           96,
           60,
           32,
           72,
           69,
           44,
           47,
           20,
           69,
           72,
           55,
           48,
           61,
           100,
           45,
           64,
           60,
           47,
           51,
           103,
           57,
           78,
           77,
           64,
           60,
           38,
           47,
           87,
           65,
           56,
           83,
           51,
           78,
           59,
           49,
           50,
           90,
           65,
           50,
           63,
           60,
           42,
           54,
           62,
           66,
           25,
           56,
           57,
           33,
           36,
           56,
           49,
           56,
           77,
           63,
           35,
           60,
           43,
           39,
           64,
           70,
           50,
           60,
           52,
           58,
           75,
           35,
           71,
           65,
           48,
           54,
           50,
           63,
           67,
           78,
           76,
           71,
           54,
           45,
           47,
           55,
           89,
           81,
           51,
           70,
           68,
           64,
           50,
           55,
           52,
           57,
           47,
           41,
           111,
           62,
           59,
           42,
           78,
           67,
           43,
           39,
           53,
           80,
           37,
           78,
           37,
           55,
           81,
           43,
           64,
           41,
           45,
           12,
           84,
           43,
           100,
           27,
           68,
           40,
           40,
           73,
           44,
           70,
           28,
           49,
           71,
           55,
           25,
           68,
           63,
           46,
           55,
           99,
           90,
           14,
           69,
           66,
           50,
           97,
           64,
           80,
           48,
           44,
           67,
           58,
           43,
           74,
           71,
           47,
           63,
           73,
           82,
           93,
           82,
           40,
           28,
           75,
           90,
           60,
           55,
           107,
           54,
           50,
           38,
           73,
           63,
           73,
           58,
           40,
           62,
           52,
           34,
           84,
           66,
           56,
           69,
           26,
           58,
           12,
           42,
           53,
           33,
           22,
           38,
           34,
           39,
           71,
           92,
           65,
           55,
           41,
           62,
           54,
           42,
           55,
           36,
           104,
           62,
           23,
           63,
           35,
           70,
           31,
           67,
           57,
           66,
           53,
           60,
           61,
           69,
           74,
           47,
           24,
           85,
           67,
           51,
           50,
           39,
           57,
           64,
           80,
           79,
           49,
           32,
           47,
           33,
           19,
           40,
           54,
           75,
           31,
           29,
           62,
           65,
           29,
           67,
           52,
           52,
           81,
           47,
           42,
           50,
           58,
           80,
           82,
           79,
           51,
           42,
           20,
           55,
           59,
           73,
           50,
           66,
           45,
           69,
           34,
           51,
           65,
           56,
           56,
           58,
           88,
           30,
           54,
           73,
           51,
           20,
           64,
           79,
           68,
           58,
           67,
           59,
           54,
           62,
           59,
           50,
           63,
           55,
           33,
           57,
           23,
           57,
           46,
           72,
           73,
           70,
           50,
           37,
           39,
           43,
           37,
           81,
           82,
           40,
           46,
           57,
           67,
           59,
           46,
           75,
           74,
           70,
           28,
           60,
           68,
           39,
           32,
           43,
           44,
           74,
           32,
           51,
           44,
           41,
           62,
           64,
           44,
           57,
           57,
           57,
           40,
           56,
           71,
           47,
           72,
           60,
           43,
           75,
           77,
           64,
           56,
           78,
           43,
           20
          ],
          "symbol": "circle"
         },
         "mode": "markers",
         "text": "",
         "type": "scatter",
         "x": [
          -2.263530892487862,
          1.2931622185906402,
          -0.674193936092612,
          0.28982843143464,
          1.168733585759221,
          -1.1963987200334893,
          0.9083825341950454,
          0.45225224490658605,
          -0.1326145424892588,
          -0.1344990688537319,
          0.7807652903673963,
          -1.4337125687871444,
          -0.12071239683816742,
          0.4805733984730154,
          0.14235621082255248,
          0.7243815820408156,
          -0.0645315836726518,
          0.5281781388355035,
          -0.7365648102087147,
          -1.2577462277201688,
          -0.5549795887698592,
          1.343798783190818,
          -0.7865681783893995,
          -0.8474033072481033,
          0.8308077289301352,
          0.9755607342753246,
          -0.7295423926374264,
          -1.2747937735421129,
          0.34765950690666925,
          -0.2686263038390421,
          -0.03565719616788954,
          1.0741632479361454,
          0.6711218309848905,
          0.6063463280066883,
          -0.5070509768068395,
          -0.13307170262589568,
          0.25112528463280714,
          0.3036181273196037,
          0.4267228613259005,
          -1.3018928402964878,
          1.1340951010761302,
          -0.15513570635943902,
          1.5154080929594729,
          -0.5010874228487359,
          -0.07738406282135914,
          2.5025421218163895,
          0.060016776197184804,
          -0.6675995797014896,
          -1.5802324861295867,
          -1.2710573824068159,
          0.14302066598095226,
          0.18437078396562148,
          -1.0526411058637164,
          -0.31946170175227223,
          -0.6165010536939555,
          0.9708442100287182,
          -0.1072377482733915,
          0.9406224656738986,
          1.031969727894555,
          -0.5084730686108397,
          0.33338057654200803,
          -1.6568866190342455,
          0.501319808680964,
          0.7435253417736852,
          0.42741207175129237,
          -0.06331903536520643,
          0.48116256299632837,
          0.27940258904180143,
          2.9690165692171835,
          0.465424022229492,
          -0.2568651162461084,
          0.06797524841361728,
          -0.27089980908944267,
          -0.5636918326276839,
          0.4154581564963929,
          0.3937327168790468,
          -0.521903923967632,
          1.41851180033925,
          -0.6305609418876876,
          0.3702062552002396,
          0.13839629391183297,
          -0.516744743702872,
          0.20664188057882016,
          -0.23197177469006836,
          0.10732992879287706,
          -0.06376900010260295,
          0.41645078447200085,
          -0.8195465776663764,
          1.1000543843685058,
          0.01963504707941006,
          0.08292363982947464,
          -1.2644823340069948,
          0.35478605515189504,
          0.18469048770069843,
          -0.8630346784233842,
          0.057634657188536276,
          -1.9982530933857214,
          0.32446239388700315,
          1.3790503727539425,
          -0.5728349873062363,
          0.3373476490053909,
          -0.25517852261167695,
          0.1904056854582507,
          -0.2591750312536783,
          0.7838162700899124,
          0.7796573548659446,
          0.7118731095767221,
          0.36539888386756963,
          -0.43726056789653056,
          -1.0623076658348654,
          -0.22304115327462642,
          -2.2308191060258618,
          0.014977126832011724,
          -0.414957999980559,
          0.40013852785859755,
          0.21662758683231118,
          0.3907856223427216,
          -0.823196964321295,
          -3.0209307167497834,
          -2.2999787429256067,
          2.4854281371348463,
          1.9654216696232505,
          0.5948463956332936,
          -1.0144489778106556,
          0.03546356421200841,
          -1.8975752469814653,
          -1.7216475578736783,
          0.8588569148586542,
          0.31284550437011216,
          -0.29444107410787135,
          0.48728443622557116,
          0.6623801563995151,
          -0.9304947727335924,
          0.908508602198395,
          -0.7559180860476535,
          -0.1594911024237002,
          0.9323974364880934,
          -1.7343248713237718,
          0.4352867789695257,
          -2.0787248421776505,
          -1.846549566718216,
          -0.31991195095981106,
          -0.34767624488654586,
          1.7773014030644105,
          0.8609716419916509,
          0.6691992216660718,
          -1.047005679807852,
          1.1247576465115727,
          -0.0010306862221828904,
          -0.5016394368988792,
          -2.129341982975807,
          0.43547481558860807,
          0.30551755848417494,
          -2.319990959520456,
          0.8613887030748035,
          0.7531167448977183,
          1.3720814036889586,
          -0.8446690078791586,
          -0.5311815131414809,
          -1.8294118711319158,
          0.7830069242795333,
          1.1111818227836079,
          0.7738256742050303,
          0.5423350566916659,
          2.298708344580066,
          -0.9561631699002705,
          0.3437428089537067,
          -0.34021588889828186,
          -0.7453163891591427,
          0.16566735732333085,
          0.1304095228491779,
          0.17601692970922428,
          2.3242099430727783,
          -1.4676809774137018,
          -0.7406488579696542,
          -0.7469977143083395,
          0.21112256611228444,
          -1.0222673603442518,
          0.9149341555459293,
          0.4591991923802058,
          2.4791206158224877,
          1.1354066793438746,
          -0.28476213045106297,
          0.20896434408286213,
          -0.09432320763542629,
          -1.2655652575074947,
          -0.48265845179891986,
          0.4576186092005852,
          -0.502374216892446,
          -1.0438369418833433,
          0.01898548414859855,
          1.747128677676987,
          -0.9254820359985816,
          -0.9371081560647786,
          -0.040689186834107195,
          0.748766192264696,
          -1.433836964261931,
          1.257469522064568,
          0.34223784914746813,
          0.15510041874097413,
          0.7369586534302179,
          -1.3051319918539688,
          0.9650844233754938,
          0.0294641882329352,
          -1.1193629660564408,
          -0.4576007221612925,
          -0.5424946474412504,
          0.4883663464302213,
          -1.134716743243459,
          0.11316936606887865,
          -1.2899166145015668,
          1.124184389689339,
          -0.06552923465487889,
          -0.8770432719360128,
          -0.9452049653777476,
          0.9024843079591985,
          0.8956072698567098,
          -0.5407108505069146,
          1.0435046454320283,
          0.02114450471936369,
          -0.5042445703250149,
          0.29630809851569295,
          -0.14968363635729198,
          -0.01749152499881055,
          0.04947806063039101,
          1.1854880273777322,
          0.8366700622014895,
          0.1561426803349261,
          0.41049920354581304,
          1.631235167376211,
          0.24002268326462506,
          2.1534718069988656,
          -1.6432581285762573,
          -0.7892960976444583,
          0.7007186928265287,
          -1.441945746498854,
          -2.2896616096147575,
          1.3262867987221907,
          -0.026855457257691118,
          0.35726739177069006,
          1.2887404125169968,
          -1.2231878066377828,
          1.6446618254023313,
          -0.00024085824195230714,
          -0.44813546304346896,
          -0.6541373102832895,
          -1.525800344200501,
          -0.9730737126313034,
          0.806971396520868,
          -0.26838596797724346,
          0.6682255507644822,
          -0.7486303983627517,
          0.4725948900406291,
          0.6002797325737819,
          -0.7367136151083686,
          0.8885134523108786,
          -1.3052370883017614,
          0.511084723840786,
          -0.057363235322683795,
          -1.612228770511537,
          0.20907858573793778,
          1.5570907061219004,
          -0.32025891454521943,
          -0.08872991162353243,
          -0.5913337034961879,
          -0.07030233001543838,
          -0.9011713615136048,
          0.33091792523565255,
          -1.2455624650201134,
          -1.0301800065378626,
          0.4345732340283692,
          0.44377584377472473,
          0.4646799737881138,
          0.3928722271494445,
          0.17733717777020758,
          1.00391162586979,
          0.3920381763672593,
          -0.11230537076021556,
          -0.5271166605425942,
          -0.11405562478863711,
          1.7145691080577936,
          1.1525548351520163,
          0.5139617356659979,
          0.9442967076756399,
          0.6981857290660731,
          0.48258056416573625,
          0.3520693005829216,
          -2.208513926848844,
          0.424110253008601,
          0.8632965133822713,
          0.3245090460327771,
          -0.31719399050552805,
          1.9709382724127844,
          -0.7365172167429717,
          0.8430735901492473,
          -1.292733992672372,
          -0.807596405232898,
          -0.33512592396532637,
          0.2406938034068273,
          -0.43143729286101756,
          0.1635705756260592,
          0.11267280591680653,
          0.139855661093003,
          0.3705370108611749,
          0.4318068890161458,
          -0.7630252467798829,
          0.5035095053817834,
          -1.4320810947774816,
          -1.6123166701891412,
          0.7728321804380414,
          -1.1526192176140195,
          0.4490567606226094,
          -0.5120466164808718,
          -0.31128068641577805,
          -0.3741944354752403,
          2.573961855152507,
          1.129761396743796,
          -0.13023688088558832,
          -1.2711066783772655,
          -0.823927112576881,
          -0.060878930248960156,
          0.9857754030096827,
          -0.3705909628275801,
          1.5271355888229459,
          -0.27374393310299894,
          -0.44712759831362897,
          -1.9892029452090774,
          0.21785145448078794,
          -1.0175443239494406,
          1.046543405366355,
          -0.6209081954767225,
          -0.3817011985545491,
          -0.4227322767724117,
          -0.5405563776614343,
          1.1961782749686571,
          -1.5950755804922503,
          0.5185731716235648,
          -1.2138170472416863,
          0.0016551191026055961,
          -0.6735530005522238,
          1.2067857022545645,
          -0.11423539722269796,
          -0.25773190206860297,
          -0.5020587385521718,
          -0.8417264556304909,
          -0.3152266841920473,
          -0.3763608716364807,
          1.303589709775874,
          0.6952425468307468,
          0.732638600022976,
          0.5321699993684309,
          -1.94806499803705,
          1.3028472704276242,
          2.072503290705003,
          -1.2596069873697961,
          0.2960439844482653,
          1.0094256349962283,
          -0.04493838195875521,
          -0.43731532421036856,
          -0.29955587062081435,
          0.5860981198944563,
          -0.8021308301584055,
          -0.34432102183587354,
          -0.6086020453812708,
          -0.17009053165483076,
          0.5913722247038146,
          1.7199319699942375,
          -0.7252580820623431,
          1.4092409572090254,
          -0.3534096194886525,
          -0.3539658055719198,
          0.12015892819393792,
          0.8670888861143118,
          0.2688411679504519,
          0.9906743691395143,
          -0.734173899204397,
          -1.953741482356788,
          1.0477019338677451,
          -0.2778548349560111,
          -1.330058985771333,
          -0.03022038505228627,
          -0.4242048029948255,
          1.5261289641859148,
          -2.0835404255127057,
          0.5041532863513903,
          0.37898970914754454,
          0.33165885913905996,
          -1.0198492238115628,
          -0.34544520337826207,
          0.533093216997367,
          0.2305781133853838,
          0.4304819334315093,
          1.5296519928433527,
          -0.8362117782123512,
          0.5857685730417653,
          1.299825734604204,
          -1.4765417395923297,
          1.1317210602279755,
          1.1375692493163128,
          0.10565726659957062,
          1.421535237455665,
          -0.4313585124037633,
          1.5120605990238247,
          0.5956445380097267,
          -1.233371446013412,
          0.32095312412927623,
          0.20704713654645968,
          0.07883156254653347,
          0.2559231181034012,
          -0.5293853706510283,
          0.21877786325512374,
          0.3092397968337286,
          -0.6320613018711665,
          2.1845029430500373,
          1.5115404445869274,
          0.5234446681738709,
          -1.7952880026772697,
          0.5947117535910786,
          -0.5936688757653348,
          -1.9573988460736569,
          1.2238610033291626,
          -1.0530822326927423,
          -0.005909598988247,
          0.27563585173518856,
          -1.2400033314032664,
          -0.6797688261705226,
          0.5489124486842144,
          1.089778993179704,
          -0.45711726687572507,
          0.037457596816397244,
          -1.4042322333515007,
          0.30368288687852635,
          0.06756441580452588,
          -0.5182493262741984,
          -0.7151298150452237,
          0.2278434295883213,
          0.04435768356599988,
          -0.8282132665015844,
          -1.382525230050665,
          2.170403967511804,
          0.36478306568663177,
          0.21784762677205788,
          -0.40769882767941135,
          0.6504071519104804,
          1.1341099685707114,
          0.3960040724599995,
          -1.7155345415699248,
          -1.7744959527814521,
          0.81526411352325,
          -0.9156385278401167,
          0.2173424590970779,
          0.26204069102142247,
          -1.8727027673201961,
          1.7217758369729563,
          0.9657745410308541,
          -1.2815053853496943,
          -0.24927336468821654,
          0.14763154336243584,
          -0.20147918388128916,
          1.5425690612480052,
          -0.1182309333853094,
          -1.3340117486782903,
          0.2126655390087511,
          -0.1106874954864721,
          0.30447108601204664,
          0.020982190016305285,
          0.18193746695792085,
          -0.020733034307504516,
          0.7486353092053304,
          1.6800208234269025,
          -0.6332391093063604,
          -0.0024254507725629437,
          0.8196390283342632,
          -0.38648040437410264,
          -0.21042733698987323,
          1.7074486964659832,
          0.4973323975597727,
          0.6896523446861065,
          0.2863507676773237,
          -0.9738184564196188,
          1.4648060266786653,
          -1.3098008412197324,
          -1.0526887107055733,
          -1.3999218982915989,
          -1.988669644262112,
          -0.33973696149969346,
          1.945402053012429,
          -1.2055724881225565,
          -0.821684958945505,
          0.7457562226320248,
          0.06287171833139077,
          0.16292221467042742,
          -0.7505023891359669,
          0.7587161193174603,
          -0.8998895541304912,
          0.4590758873279594,
          0.5511216358616269,
          0.44056770922447236,
          1.2112545129129224,
          -0.6128335579651852
         ],
         "y": [
          -0.8643303486768782,
          -0.48545447661592434,
          0.074622210582842,
          -1.1235170332369224,
          -1.0135508333616168,
          0.30827543616675057,
          0.3752038214699598,
          -0.6007368177428646,
          0.9129030633322243,
          0.043888449546883514,
          -0.24031317108009856,
          -0.7375646355758417,
          -0.4681910820777421,
          0.9964026624751344,
          2.0971634956989016,
          0.450574874362932,
          1.4635098238231417,
          -0.4319436150231565,
          -1.278331730768012,
          0.5744366004914743,
          2.0869333139116595,
          -0.9193410790800395,
          -1.833408200375922,
          0.815870476737727,
          1.2255231447347203,
          1.4269942761256478,
          -0.0208392893246553,
          -0.802855883972416,
          0.7441495619973297,
          0.5726913780552716,
          -1.0359943891301344,
          -0.3032828708270887,
          0.32218939138050695,
          -0.07482836543124932,
          -2.2881247996561536,
          0.8396551087311036,
          0.6329973906675159,
          -0.8089122730077706,
          1.3563360794124653,
          -1.3910248195095662,
          0.18226155741218986,
          1.1812588349937838,
          -0.017857317368380452,
          -1.7335749162749488,
          -1.4021895915785028,
          -0.32509108497305844,
          -0.5869592019054817,
          0.9495712552305394,
          0.3463687493993234,
          -1.4667436417122397,
          1.3062901272194902,
          -0.42658619894597277,
          0.9620508083663744,
          0.23526592031426882,
          0.8497327673805525,
          0.5588145927097056,
          -0.48360172418772346,
          1.0709943964111517,
          0.8398138160631732,
          0.12310755185178913,
          -0.6527937114668243,
          -0.5922539583676146,
          -0.5544129808454866,
          -1.17542810552467,
          -0.8993931961583361,
          1.873212240564465,
          -0.759361895137789,
          1.462828531032524,
          -0.006853677859164635,
          -0.19400329825342275,
          -0.6102253464084665,
          1.243358257011422,
          -0.5201554842199142,
          0.7388503478936396,
          -0.2160079096289911,
          1.1631834133147718,
          -0.3574428213850189,
          -0.5272720419829308,
          -1.02954231733991,
          -0.40167488843385485,
          0.6136324469264254,
          -0.09110088583380581,
          -1.2690999569499417,
          -0.9218185358341311,
          1.5341086823582701,
          -1.0965694293552006,
          0.22986512582809857,
          -2.211500102580387,
          -0.9439370395816332,
          -0.15983863544068952,
          1.369931708738245,
          0.4934425353439321,
          -1.0176043028353083,
          -1.1886790512293166,
          -2.184617633428162,
          0.46019217910122356,
          0.4849860717936879,
          0.12688255505038534,
          -0.25140835619897484,
          1.4658126550581294,
          1.2694256644911606,
          -0.8138443318306805,
          1.1298803448185024,
          0.5348476041160375,
          1.2430183866911644,
          -0.35029193218261967,
          -0.9963080251603601,
          -1.088178138364631,
          -0.8427024185119844,
          -0.8780277630627888,
          -0.17087787066342594,
          0.5923576710960169,
          -1.514603792728183,
          -0.7971490448026465,
          1.8579492939592588,
          -0.47659227243257524,
          1.1741791349143988,
          -0.23002183980604202,
          -0.9788257071866882,
          -0.787089545523912,
          0.15632669264770976,
          0.7873375409078308,
          -0.6851596359225393,
          0.07258239604801417,
          1.0108568062678853,
          -0.5350206269668196,
          0.4617210322108998,
          0.6729851129996333,
          0.6947791573841785,
          -2.0349434613126345,
          0.9346846632454399,
          -1.904184957979476,
          -1.5897498110802348,
          0.07803041176088413,
          0.09756084554805393,
          0.6571696597348613,
          1.071629838766347,
          -3.282116736543372,
          0.2952320886515686,
          1.0286252197016175,
          0.4510046185128533,
          -0.5808097525959789,
          -0.2048240951015417,
          -0.7244019010710904,
          1.7234902946045805,
          0.013434282552561105,
          0.1916188862715387,
          0.5978644944394771,
          -1.1974830645358936,
          -0.06666291479540355,
          0.8386492151156741,
          -1.1291644176032307,
          0.05241849417403152,
          -0.10907417825855412,
          0.6380514166366121,
          0.04879476309572777,
          -0.16777849124113872,
          -0.39249040661168333,
          1.191873587685773,
          -1.3205280526782754,
          0.42993519552984616,
          -0.09237482587070879,
          -0.7926842172330973,
          0.5679663048689276,
          -1.654584667175674,
          1.2808190915252475,
          -0.10407137936591151,
          0.9459287720169433,
          2.997001930072728,
          0.9446389150568022,
          -0.73353832354179,
          -1.5846353717838617,
          -0.885051530172661,
          -0.4675519667238059,
          -0.13331587213270782,
          0.9611220186060137,
          -1.7600226706559756,
          -0.6197654075068263,
          -0.6491288178838583,
          0.05533463637359131,
          1.2545161923962125,
          -0.5498373082089602,
          0.005935305924675948,
          -0.28937403873654166,
          -1.7176819437111137,
          1.062708296845886,
          0.14576196013743872,
          0.36022314475696043,
          0.3100393862711781,
          0.43621572859192037,
          -1.1115511453849622,
          -0.8931284957701531,
          1.432237106043617,
          -0.26799178109682303,
          -1.2364356306727065,
          -0.27727843249292256,
          -0.7484029189008448,
          0.6628246713802153,
          0.6209823288852403,
          2.095729456275502,
          -0.8615847093288481,
          1.470005888534789,
          0.8742648623981958,
          0.9126777321153317,
          0.6494642173952481,
          0.3437184635242458,
          0.8055190722528236,
          0.15608954232600264,
          2.2991264282837514,
          -0.21805154042505967,
          0.4940450628946168,
          2.3879553375112446,
          0.8331103320151628,
          1.243259684792002,
          0.29035122447166023,
          1.5117606491184155,
          -0.9836973745096882,
          -0.0791966119835468,
          -0.04835572773807457,
          -0.4588441898535056,
          -0.46823840601349903,
          -0.18408406954795853,
          -1.1626812553841233,
          -0.2831560692653616,
          -1.8017380946848456,
          2.323297217914825,
          -0.012652770991927053,
          -1.624019653170712,
          -0.7302033749047425,
          -0.23963287429026348,
          -0.09943147070440395,
          -0.3845642646273242,
          0.21337835024865434,
          -0.1550967548668219,
          -1.7451208715071838,
          0.021781593220121454,
          0.482528557119484,
          0.12476506259864548,
          -0.6543838003523604,
          1.2277565899924272,
          -1.411510936136483,
          -2.118413452367423,
          -1.2191132070960833,
          -0.03352686771440494,
          0.7279308289098316,
          0.9873327613922971,
          -0.774358456390364,
          0.7004299687598552,
          -0.9058837691216307,
          -1.518410302156876,
          -0.4837581462051957,
          -1.6760619095747817,
          1.4722656310018942,
          0.4682039916630244,
          1.285696641292299,
          0.6831171389874126,
          0.1912045241029588,
          -2.224160874884401,
          1.1018758146399366,
          0.8747486356358478,
          -0.5279419976982931,
          -0.20003195098500165,
          1.5055495853342502,
          0.5842278792894626,
          -0.09310041514168922,
          -1.4060082253516486,
          0.43107319763056773,
          -0.36592333005463823,
          0.8141227079424633,
          -0.5425875028149405,
          3.3444053600891794,
          -0.8543661707645733,
          -0.0036736179172075657,
          1.4889857461361322,
          0.8774867172162479,
          0.8299268077371682,
          -1.05663825382182,
          -1.4149516227168877,
          0.7522426144924427,
          -0.00507914787781083,
          0.2610478555094977,
          -0.6591997559801382,
          1.7859012833147028,
          0.48619923737625087,
          -0.8214188979619703,
          0.6192804184346206,
          1.0713857011142744,
          -1.1610794412009768,
          1.6579333645418834,
          0.2034182528098526,
          1.4325120284223194,
          -0.09835000317701767,
          -0.15838912799838256,
          -1.0033864937970682,
          -0.19797015542064625,
          -0.3445003875231573,
          0.4629639290835394,
          2.004274465354049,
          -1.2368295038978248,
          -0.23788254454037747,
          2.0896780022851384,
          1.3412188953431496,
          0.3211422799063036,
          -0.935985886998604,
          1.0259480771917622,
          -1.1363139505860618,
          -0.22065679242018224,
          0.21541308017735333,
          0.258026315926332,
          -0.1422252125062341,
          1.1244121613009839,
          -0.12224367024175394,
          -1.1563005016916008,
          2.6727713098930304,
          -0.23724607730587513,
          -0.8492335753063022,
          -1.8238501392306563,
          0.6301747948826578,
          -0.4536294485473571,
          0.5466184239298865,
          -2.761470067853639,
          2.4219769246256138,
          0.6575582951257924,
          0.11018430960437979,
          -0.4043064664618296,
          -0.014195310918731014,
          -0.11848894241219605,
          0.06286111586675902,
          0.0021071470684251538,
          1.939388247139212,
          -0.7379644760465487,
          -1.0427124320458634,
          0.12747767318100034,
          -1.2522775334466993,
          0.9578929427346745,
          0.3271967175508989,
          0.5362929742083407,
          -0.3508172905905263,
          0.05492688094458291,
          -0.9421086807462195,
          -1.3251744536700256,
          -1.4980980685036622,
          0.28267030401835674,
          -0.7799313729849388,
          0.11868777977450357,
          1.686143711218559,
          -1.9291684273498853,
          -0.06254290149300008,
          0.4651236249986807,
          -0.04242190121669,
          -0.3525024804704805,
          1.6225727507548946,
          2.0977605032727804,
          -0.08923437022106705,
          1.3833770169837647,
          1.1862273094402493,
          -0.6246464424587231,
          0.8549954429876008,
          -0.7116385642343395,
          0.6265741730573536,
          1.1768356984339212,
          1.3248293605060646,
          -1.8522571483565107,
          0.30997096539653807,
          -0.8880745800000089,
          0.253383193283707,
          -0.9768957622608174,
          -0.6091935773789839,
          -0.6799134846035905,
          2.066333414643886,
          -0.4642699043334721,
          -0.02898032555184812,
          -0.9721294891522054,
          -0.15520264621898416,
          -1.5628622157904601,
          -0.8349774946109407,
          -0.40442140189019976,
          0.7723782891777186,
          0.5536856695790957,
          -2.7167014503503784,
          0.638822008846059,
          1.8712513786113707,
          -0.9953562930811777,
          1.061665809966131,
          0.9743917547121637,
          1.4671618364511696,
          0.9578471762382555,
          -0.5815277591166844,
          -1.2076648278816577,
          -0.0657016749925392,
          1.2102546538797605,
          -0.41434974587769396,
          -2.134092747898878,
          -1.3535497163380736,
          -1.103250175773825,
          -0.49731886265549,
          0.1734272005249689,
          -0.5265192685695984,
          -0.5324593192678335,
          1.216030605487049,
          0.7295668971800661,
          0.1774849473446891,
          0.3909567085886405,
          0.7540444722579828,
          -0.8355880993856984,
          -0.2699966546414888,
          -1.491589102324052,
          1.2074903860926305,
          0.1800949874190779,
          -0.027095195545727348,
          0.14112740040017233,
          0.18394558773240247,
          0.15863572656206876,
          -0.13863984835101228,
          0.11567371216113824,
          -2.747890945453844,
          0.6712394146089311,
          0.16440826700384412,
          -0.05379778761770426,
          -0.2465238049705523,
          0.323786924921426,
          0.5559385807572145,
          -2.118198834740286,
          0.035312905641552914,
          1.6944904345617409,
          -0.27016916835057697,
          -0.42411364677781505,
          0.9031225901674101,
          -0.6455303294094389,
          -0.8543668551987945,
          0.7648523102734774,
          -1.15592506213242,
          -1.1455866689194092,
          0.45455005352747685,
          -1.0418808254518175,
          -3.4398979994064396,
          0.9553147053149923,
          -1.35015049238068,
          -0.5104054673852467,
          0.3635549281497244,
          0.35042447944233734,
          -1.9251212835749618,
          0.0542309606517661,
          -0.4675538831867497,
          -0.5950121082024477,
          -0.36620442736041353,
          0.9090081344868,
          -0.28727179127092833,
          -0.5842058132658754,
          0.655637815539823,
          0.1622113796976176,
          1.6189653844673815,
          -0.06353675870301875,
          1.3735319300323154,
          -0.797621117621803,
          -1.4111881283100125,
          1.8737254828225627,
          1.527413080052041,
          0.5747615492248692,
          -2.602687966669538,
          0.1708012600060014,
          0.7591970655662041,
          -0.28349796436191604,
          1.1933316444037287,
          -0.34652383040180174,
          0.027978780165058847,
          0.09964420747497904,
          -0.15316023877715385,
          0.20278211150359476,
          -0.2883354426322248,
          1.6913561586121721,
          0.05766745533335582,
          0.6065666962000866,
          -0.133127654713106,
          -0.4915389492477984,
          0.6541428243870232,
          -0.7593657250143889,
          -2.756242431007816,
          -0.47883543341722296,
          0.8151174654789304,
          -0.21085476172580359,
          -0.0636153470267502,
          0.23795371149658143,
          0.7821675058426818,
          0.9646701284449362,
          -0.5169132171189804,
          -0.8268284016364045,
          0.9602246004207001,
          1.6125784412022457,
          -1.6354452396299193,
          -0.824785002549613,
          1.5387852773955826,
          0.028356711317799474,
          0.910487841740798,
          0.4612284154337478,
          -0.9421194730921624,
          0.03244761934384349,
          1.6483417596631968,
          1.679920658134673,
          0.18097423856973993
         ]
        }
       ],
       "layout": {
        "legend": {
         "bgcolor": "#F5F6F9",
         "font": {
          "color": "#4D5663"
         }
        },
        "paper_bgcolor": "#F5F6F9",
        "plot_bgcolor": "#F5F6F9",
        "template": {
         "data": {
          "bar": [
           {
            "error_x": {
             "color": "#2a3f5f"
            },
            "error_y": {
             "color": "#2a3f5f"
            },
            "marker": {
             "line": {
              "color": "#E5ECF6",
              "width": 0.5
             },
             "pattern": {
              "fillmode": "overlay",
              "size": 10,
              "solidity": 0.2
             }
            },
            "type": "bar"
           }
          ],
          "barpolar": [
           {
            "marker": {
             "line": {
              "color": "#E5ECF6",
              "width": 0.5
             },
             "pattern": {
              "fillmode": "overlay",
              "size": 10,
              "solidity": 0.2
             }
            },
            "type": "barpolar"
           }
          ],
          "carpet": [
           {
            "aaxis": {
             "endlinecolor": "#2a3f5f",
             "gridcolor": "white",
             "linecolor": "white",
             "minorgridcolor": "white",
             "startlinecolor": "#2a3f5f"
            },
            "baxis": {
             "endlinecolor": "#2a3f5f",
             "gridcolor": "white",
             "linecolor": "white",
             "minorgridcolor": "white",
             "startlinecolor": "#2a3f5f"
            },
            "type": "carpet"
           }
          ],
          "choropleth": [
           {
            "colorbar": {
             "outlinewidth": 0,
             "ticks": ""
            },
            "type": "choropleth"
           }
          ],
          "contour": [
           {
            "colorbar": {
             "outlinewidth": 0,
             "ticks": ""
            },
            "colorscale": [
             [
              0,
              "#0d0887"
             ],
             [
              0.1111111111111111,
              "#46039f"
             ],
             [
              0.2222222222222222,
              "#7201a8"
             ],
             [
              0.3333333333333333,
              "#9c179e"
             ],
             [
              0.4444444444444444,
              "#bd3786"
             ],
             [
              0.5555555555555556,
              "#d8576b"
             ],
             [
              0.6666666666666666,
              "#ed7953"
             ],
             [
              0.7777777777777778,
              "#fb9f3a"
             ],
             [
              0.8888888888888888,
              "#fdca26"
             ],
             [
              1,
              "#f0f921"
             ]
            ],
            "type": "contour"
           }
          ],
          "contourcarpet": [
           {
            "colorbar": {
             "outlinewidth": 0,
             "ticks": ""
            },
            "type": "contourcarpet"
           }
          ],
          "heatmap": [
           {
            "colorbar": {
             "outlinewidth": 0,
             "ticks": ""
            },
            "colorscale": [
             [
              0,
              "#0d0887"
             ],
             [
              0.1111111111111111,
              "#46039f"
             ],
             [
              0.2222222222222222,
              "#7201a8"
             ],
             [
              0.3333333333333333,
              "#9c179e"
             ],
             [
              0.4444444444444444,
              "#bd3786"
             ],
             [
              0.5555555555555556,
              "#d8576b"
             ],
             [
              0.6666666666666666,
              "#ed7953"
             ],
             [
              0.7777777777777778,
              "#fb9f3a"
             ],
             [
              0.8888888888888888,
              "#fdca26"
             ],
             [
              1,
              "#f0f921"
             ]
            ],
            "type": "heatmap"
           }
          ],
          "heatmapgl": [
           {
            "colorbar": {
             "outlinewidth": 0,
             "ticks": ""
            },
            "colorscale": [
             [
              0,
              "#0d0887"
             ],
             [
              0.1111111111111111,
              "#46039f"
             ],
             [
              0.2222222222222222,
              "#7201a8"
             ],
             [
              0.3333333333333333,
              "#9c179e"
             ],
             [
              0.4444444444444444,
              "#bd3786"
             ],
             [
              0.5555555555555556,
              "#d8576b"
             ],
             [
              0.6666666666666666,
              "#ed7953"
             ],
             [
              0.7777777777777778,
              "#fb9f3a"
             ],
             [
              0.8888888888888888,
              "#fdca26"
             ],
             [
              1,
              "#f0f921"
             ]
            ],
            "type": "heatmapgl"
           }
          ],
          "histogram": [
           {
            "marker": {
             "pattern": {
              "fillmode": "overlay",
              "size": 10,
              "solidity": 0.2
             }
            },
            "type": "histogram"
           }
          ],
          "histogram2d": [
           {
            "colorbar": {
             "outlinewidth": 0,
             "ticks": ""
            },
            "colorscale": [
             [
              0,
              "#0d0887"
             ],
             [
              0.1111111111111111,
              "#46039f"
             ],
             [
              0.2222222222222222,
              "#7201a8"
             ],
             [
              0.3333333333333333,
              "#9c179e"
             ],
             [
              0.4444444444444444,
              "#bd3786"
             ],
             [
              0.5555555555555556,
              "#d8576b"
             ],
             [
              0.6666666666666666,
              "#ed7953"
             ],
             [
              0.7777777777777778,
              "#fb9f3a"
             ],
             [
              0.8888888888888888,
              "#fdca26"
             ],
             [
              1,
              "#f0f921"
             ]
            ],
            "type": "histogram2d"
           }
          ],
          "histogram2dcontour": [
           {
            "colorbar": {
             "outlinewidth": 0,
             "ticks": ""
            },
            "colorscale": [
             [
              0,
              "#0d0887"
             ],
             [
              0.1111111111111111,
              "#46039f"
             ],
             [
              0.2222222222222222,
              "#7201a8"
             ],
             [
              0.3333333333333333,
              "#9c179e"
             ],
             [
              0.4444444444444444,
              "#bd3786"
             ],
             [
              0.5555555555555556,
              "#d8576b"
             ],
             [
              0.6666666666666666,
              "#ed7953"
             ],
             [
              0.7777777777777778,
              "#fb9f3a"
             ],
             [
              0.8888888888888888,
              "#fdca26"
             ],
             [
              1,
              "#f0f921"
             ]
            ],
            "type": "histogram2dcontour"
           }
          ],
          "mesh3d": [
           {
            "colorbar": {
             "outlinewidth": 0,
             "ticks": ""
            },
            "type": "mesh3d"
           }
          ],
          "parcoords": [
           {
            "line": {
             "colorbar": {
              "outlinewidth": 0,
              "ticks": ""
             }
            },
            "type": "parcoords"
           }
          ],
          "pie": [
           {
            "automargin": true,
            "type": "pie"
           }
          ],
          "scatter": [
           {
            "marker": {
             "colorbar": {
              "outlinewidth": 0,
              "ticks": ""
             }
            },
            "type": "scatter"
           }
          ],
          "scatter3d": [
           {
            "line": {
             "colorbar": {
              "outlinewidth": 0,
              "ticks": ""
             }
            },
            "marker": {
             "colorbar": {
              "outlinewidth": 0,
              "ticks": ""
             }
            },
            "type": "scatter3d"
           }
          ],
          "scattercarpet": [
           {
            "marker": {
             "colorbar": {
              "outlinewidth": 0,
              "ticks": ""
             }
            },
            "type": "scattercarpet"
           }
          ],
          "scattergeo": [
           {
            "marker": {
             "colorbar": {
              "outlinewidth": 0,
              "ticks": ""
             }
            },
            "type": "scattergeo"
           }
          ],
          "scattergl": [
           {
            "marker": {
             "colorbar": {
              "outlinewidth": 0,
              "ticks": ""
             }
            },
            "type": "scattergl"
           }
          ],
          "scattermapbox": [
           {
            "marker": {
             "colorbar": {
              "outlinewidth": 0,
              "ticks": ""
             }
            },
            "type": "scattermapbox"
           }
          ],
          "scatterpolar": [
           {
            "marker": {
             "colorbar": {
              "outlinewidth": 0,
              "ticks": ""
             }
            },
            "type": "scatterpolar"
           }
          ],
          "scatterpolargl": [
           {
            "marker": {
             "colorbar": {
              "outlinewidth": 0,
              "ticks": ""
             }
            },
            "type": "scatterpolargl"
           }
          ],
          "scatterternary": [
           {
            "marker": {
             "colorbar": {
              "outlinewidth": 0,
              "ticks": ""
             }
            },
            "type": "scatterternary"
           }
          ],
          "surface": [
           {
            "colorbar": {
             "outlinewidth": 0,
             "ticks": ""
            },
            "colorscale": [
             [
              0,
              "#0d0887"
             ],
             [
              0.1111111111111111,
              "#46039f"
             ],
             [
              0.2222222222222222,
              "#7201a8"
             ],
             [
              0.3333333333333333,
              "#9c179e"
             ],
             [
              0.4444444444444444,
              "#bd3786"
             ],
             [
              0.5555555555555556,
              "#d8576b"
             ],
             [
              0.6666666666666666,
              "#ed7953"
             ],
             [
              0.7777777777777778,
              "#fb9f3a"
             ],
             [
              0.8888888888888888,
              "#fdca26"
             ],
             [
              1,
              "#f0f921"
             ]
            ],
            "type": "surface"
           }
          ],
          "table": [
           {
            "cells": {
             "fill": {
              "color": "#EBF0F8"
             },
             "line": {
              "color": "white"
             }
            },
            "header": {
             "fill": {
              "color": "#C8D4E3"
             },
             "line": {
              "color": "white"
             }
            },
            "type": "table"
           }
          ]
         },
         "layout": {
          "annotationdefaults": {
           "arrowcolor": "#2a3f5f",
           "arrowhead": 0,
           "arrowwidth": 1
          },
          "autotypenumbers": "strict",
          "coloraxis": {
           "colorbar": {
            "outlinewidth": 0,
            "ticks": ""
           }
          },
          "colorscale": {
           "diverging": [
            [
             0,
             "#8e0152"
            ],
            [
             0.1,
             "#c51b7d"
            ],
            [
             0.2,
             "#de77ae"
            ],
            [
             0.3,
             "#f1b6da"
            ],
            [
             0.4,
             "#fde0ef"
            ],
            [
             0.5,
             "#f7f7f7"
            ],
            [
             0.6,
             "#e6f5d0"
            ],
            [
             0.7,
             "#b8e186"
            ],
            [
             0.8,
             "#7fbc41"
            ],
            [
             0.9,
             "#4d9221"
            ],
            [
             1,
             "#276419"
            ]
           ],
           "sequential": [
            [
             0,
             "#0d0887"
            ],
            [
             0.1111111111111111,
             "#46039f"
            ],
            [
             0.2222222222222222,
             "#7201a8"
            ],
            [
             0.3333333333333333,
             "#9c179e"
            ],
            [
             0.4444444444444444,
             "#bd3786"
            ],
            [
             0.5555555555555556,
             "#d8576b"
            ],
            [
             0.6666666666666666,
             "#ed7953"
            ],
            [
             0.7777777777777778,
             "#fb9f3a"
            ],
            [
             0.8888888888888888,
             "#fdca26"
            ],
            [
             1,
             "#f0f921"
            ]
           ],
           "sequentialminus": [
            [
             0,
             "#0d0887"
            ],
            [
             0.1111111111111111,
             "#46039f"
            ],
            [
             0.2222222222222222,
             "#7201a8"
            ],
            [
             0.3333333333333333,
             "#9c179e"
            ],
            [
             0.4444444444444444,
             "#bd3786"
            ],
            [
             0.5555555555555556,
             "#d8576b"
            ],
            [
             0.6666666666666666,
             "#ed7953"
            ],
            [
             0.7777777777777778,
             "#fb9f3a"
            ],
            [
             0.8888888888888888,
             "#fdca26"
            ],
            [
             1,
             "#f0f921"
            ]
           ]
          },
          "colorway": [
           "#636efa",
           "#EF553B",
           "#00cc96",
           "#ab63fa",
           "#FFA15A",
           "#19d3f3",
           "#FF6692",
           "#B6E880",
           "#FF97FF",
           "#FECB52"
          ],
          "font": {
           "color": "#2a3f5f"
          },
          "geo": {
           "bgcolor": "white",
           "lakecolor": "white",
           "landcolor": "#E5ECF6",
           "showlakes": true,
           "showland": true,
           "subunitcolor": "white"
          },
          "hoverlabel": {
           "align": "left"
          },
          "hovermode": "closest",
          "mapbox": {
           "style": "light"
          },
          "paper_bgcolor": "white",
          "plot_bgcolor": "#E5ECF6",
          "polar": {
           "angularaxis": {
            "gridcolor": "white",
            "linecolor": "white",
            "ticks": ""
           },
           "bgcolor": "#E5ECF6",
           "radialaxis": {
            "gridcolor": "white",
            "linecolor": "white",
            "ticks": ""
           }
          },
          "scene": {
           "xaxis": {
            "backgroundcolor": "#E5ECF6",
            "gridcolor": "white",
            "gridwidth": 2,
            "linecolor": "white",
            "showbackground": true,
            "ticks": "",
            "zerolinecolor": "white"
           },
           "yaxis": {
            "backgroundcolor": "#E5ECF6",
            "gridcolor": "white",
            "gridwidth": 2,
            "linecolor": "white",
            "showbackground": true,
            "ticks": "",
            "zerolinecolor": "white"
           },
           "zaxis": {
            "backgroundcolor": "#E5ECF6",
            "gridcolor": "white",
            "gridwidth": 2,
            "linecolor": "white",
            "showbackground": true,
            "ticks": "",
            "zerolinecolor": "white"
           }
          },
          "shapedefaults": {
           "line": {
            "color": "#2a3f5f"
           }
          },
          "ternary": {
           "aaxis": {
            "gridcolor": "white",
            "linecolor": "white",
            "ticks": ""
           },
           "baxis": {
            "gridcolor": "white",
            "linecolor": "white",
            "ticks": ""
           },
           "bgcolor": "#E5ECF6",
           "caxis": {
            "gridcolor": "white",
            "linecolor": "white",
            "ticks": ""
           }
          },
          "title": {
           "x": 0.05
          },
          "xaxis": {
           "automargin": true,
           "gridcolor": "white",
           "linecolor": "white",
           "ticks": "",
           "title": {
            "standoff": 15
           },
           "zerolinecolor": "white",
           "zerolinewidth": 2
          },
          "yaxis": {
           "automargin": true,
           "gridcolor": "white",
           "linecolor": "white",
           "ticks": "",
           "title": {
            "standoff": 15
           },
           "zerolinecolor": "white",
           "zerolinewidth": 2
          }
         }
        },
        "title": {
         "font": {
          "color": "#4D5663"
         }
        },
        "xaxis": {
         "gridcolor": "#E1E5ED",
         "showgrid": true,
         "tickfont": {
          "color": "#4D5663"
         },
         "title": {
          "font": {
           "color": "#4D5663"
          },
          "text": ""
         },
         "zerolinecolor": "#E1E5ED"
        },
        "yaxis": {
         "gridcolor": "#E1E5ED",
         "showgrid": true,
         "tickfont": {
          "color": "#4D5663"
         },
         "title": {
          "font": {
           "color": "#4D5663"
          },
          "text": ""
         },
         "zerolinecolor": "#E1E5ED"
        }
       }
      },
      "text/html": [
       "<div>                            <div id=\"24434156-93cd-4de4-9138-bfaad1739716\" class=\"plotly-graph-div\" style=\"height:525px; width:100%;\"></div>            <script type=\"text/javascript\">                require([\"plotly\"], function(Plotly) {                    window.PLOTLYENV=window.PLOTLYENV || {};\n",
       "                    window.PLOTLYENV.BASE_URL='https://plot.ly';                                    if (document.getElementById(\"24434156-93cd-4de4-9138-bfaad1739716\")) {                    Plotly.newPlot(                        \"24434156-93cd-4de4-9138-bfaad1739716\",                        [{\"marker\":{\"color\":[\"yellow\",\"yellow\",\"yellow\",\"yellow\",\"yellow\",\"yellow\",\"yellow\",\"yellow\",\"yellow\",\"yellow\",\"yellow\",\"yellow\",\"yellow\",\"yellow\",\"yellow\",\"yellow\",\"yellow\",\"yellow\",\"yellow\",\"yellow\",\"yellow\",\"yellow\",\"yellow\",\"yellow\",\"yellow\",\"yellow\",\"yellow\",\"yellow\",\"yellow\",\"yellow\",\"yellow\",\"yellow\",\"yellow\",\"yellow\",\"yellow\",\"yellow\",\"yellow\",\"yellow\",\"yellow\",\"yellow\",\"yellow\",\"yellow\",\"yellow\",\"yellow\",\"yellow\",\"yellow\",\"yellow\",\"yellow\",\"yellow\",\"yellow\",\"yellow\",\"yellow\",\"yellow\",\"yellow\",\"yellow\",\"yellow\",\"yellow\",\"yellow\",\"yellow\",\"yellow\",\"yellow\",\"yellow\",\"yellow\",\"yellow\",\"yellow\",\"yellow\",\"yellow\",\"yellow\",\"yellow\",\"yellow\",\"yellow\",\"yellow\",\"yellow\",\"yellow\",\"yellow\",\"yellow\",\"yellow\",\"yellow\",\"yellow\",\"yellow\",\"yellow\",\"yellow\",\"yellow\",\"yellow\",\"yellow\",\"yellow\",\"yellow\",\"yellow\",\"yellow\",\"yellow\",\"yellow\",\"yellow\",\"yellow\",\"yellow\",\"yellow\",\"yellow\",\"yellow\",\"yellow\",\"yellow\",\"yellow\",\"yellow\",\"yellow\",\"yellow\",\"yellow\",\"yellow\",\"yellow\",\"yellow\",\"yellow\",\"yellow\",\"yellow\",\"yellow\",\"yellow\",\"yellow\",\"yellow\",\"yellow\",\"yellow\",\"yellow\",\"yellow\",\"yellow\",\"yellow\",\"yellow\",\"yellow\",\"yellow\",\"yellow\",\"yellow\",\"yellow\",\"yellow\",\"yellow\",\"yellow\",\"yellow\",\"yellow\",\"yellow\",\"yellow\",\"yellow\",\"yellow\",\"yellow\",\"yellow\",\"yellow\",\"yellow\",\"yellow\",\"yellow\",\"yellow\",\"yellow\",\"yellow\",\"yellow\",\"yellow\",\"yellow\",\"yellow\",\"yellow\",\"yellow\",\"yellow\",\"yellow\",\"yellow\",\"yellow\",\"yellow\",\"yellow\",\"yellow\",\"yellow\",\"yellow\",\"yellow\",\"yellow\",\"yellow\",\"yellow\",\"yellow\",\"yellow\",\"yellow\",\"yellow\",\"yellow\",\"yellow\",\"yellow\",\"yellow\",\"yellow\",\"yellow\",\"yellow\",\"yellow\",\"yellow\",\"yellow\",\"yellow\",\"yellow\",\"yellow\",\"yellow\",\"yellow\",\"yellow\",\"yellow\",\"yellow\",\"yellow\",\"yellow\",\"yellow\",\"yellow\",\"yellow\",\"yellow\",\"yellow\",\"yellow\",\"yellow\",\"yellow\",\"yellow\",\"yellow\",\"yellow\",\"yellow\",\"yellow\",\"yellow\",\"yellow\",\"yellow\",\"yellow\",\"yellow\",\"yellow\",\"yellow\",\"yellow\",\"yellow\",\"yellow\",\"yellow\",\"yellow\",\"yellow\",\"yellow\",\"yellow\",\"yellow\",\"yellow\",\"yellow\",\"yellow\",\"yellow\",\"yellow\",\"yellow\",\"yellow\",\"yellow\",\"yellow\",\"yellow\",\"yellow\",\"yellow\",\"yellow\",\"yellow\",\"yellow\",\"yellow\",\"yellow\",\"yellow\",\"yellow\",\"yellow\",\"yellow\",\"yellow\",\"yellow\",\"yellow\",\"yellow\",\"yellow\",\"yellow\",\"yellow\",\"yellow\",\"yellow\",\"yellow\",\"yellow\",\"yellow\",\"yellow\",\"yellow\",\"yellow\",\"yellow\",\"yellow\",\"yellow\",\"yellow\",\"yellow\",\"yellow\",\"yellow\",\"yellow\",\"yellow\",\"yellow\",\"yellow\",\"yellow\",\"yellow\",\"yellow\",\"yellow\",\"yellow\",\"yellow\",\"yellow\",\"yellow\",\"yellow\",\"yellow\",\"yellow\",\"yellow\",\"yellow\",\"yellow\",\"yellow\",\"yellow\",\"yellow\",\"yellow\",\"yellow\",\"yellow\",\"yellow\",\"yellow\",\"yellow\",\"yellow\",\"yellow\",\"yellow\",\"yellow\",\"yellow\",\"yellow\",\"yellow\",\"yellow\",\"yellow\",\"yellow\",\"yellow\",\"yellow\",\"yellow\",\"yellow\",\"yellow\",\"yellow\",\"yellow\",\"yellow\",\"yellow\",\"yellow\",\"yellow\",\"yellow\",\"yellow\",\"yellow\",\"yellow\",\"yellow\",\"yellow\",\"yellow\",\"yellow\",\"yellow\",\"yellow\",\"yellow\",\"yellow\",\"yellow\",\"yellow\",\"yellow\",\"yellow\",\"yellow\",\"yellow\",\"yellow\",\"yellow\",\"yellow\",\"yellow\",\"yellow\",\"yellow\",\"yellow\",\"yellow\",\"yellow\",\"yellow\",\"yellow\",\"yellow\",\"yellow\",\"yellow\",\"yellow\",\"yellow\",\"yellow\",\"yellow\",\"yellow\",\"yellow\",\"yellow\",\"yellow\",\"yellow\",\"yellow\",\"yellow\",\"yellow\",\"yellow\",\"yellow\",\"yellow\",\"yellow\",\"yellow\",\"yellow\",\"yellow\",\"yellow\",\"yellow\",\"yellow\",\"yellow\",\"yellow\",\"yellow\",\"yellow\",\"yellow\",\"yellow\",\"yellow\",\"yellow\",\"yellow\",\"yellow\",\"yellow\",\"yellow\",\"yellow\",\"yellow\",\"yellow\",\"yellow\",\"yellow\",\"yellow\",\"yellow\",\"yellow\",\"yellow\",\"yellow\",\"yellow\",\"yellow\",\"yellow\",\"yellow\",\"yellow\",\"yellow\",\"yellow\",\"yellow\",\"yellow\",\"yellow\",\"yellow\",\"yellow\",\"yellow\",\"yellow\",\"yellow\",\"yellow\",\"yellow\",\"yellow\",\"yellow\",\"yellow\",\"yellow\",\"yellow\",\"yellow\",\"yellow\",\"yellow\",\"yellow\",\"yellow\",\"yellow\",\"yellow\",\"yellow\",\"yellow\",\"yellow\",\"yellow\",\"yellow\",\"yellow\",\"yellow\",\"yellow\",\"yellow\",\"yellow\",\"yellow\",\"yellow\",\"yellow\",\"yellow\",\"yellow\",\"yellow\",\"yellow\",\"yellow\",\"yellow\",\"yellow\",\"yellow\",\"yellow\",\"yellow\",\"yellow\",\"yellow\",\"yellow\",\"yellow\",\"yellow\",\"yellow\",\"yellow\",\"yellow\",\"yellow\",\"yellow\",\"yellow\",\"yellow\",\"yellow\",\"yellow\",\"yellow\",\"yellow\",\"yellow\",\"yellow\",\"yellow\",\"yellow\",\"yellow\",\"yellow\",\"yellow\",\"yellow\",\"yellow\",\"yellow\",\"yellow\",\"yellow\",\"yellow\",\"yellow\",\"yellow\",\"yellow\",\"yellow\",\"yellow\",\"yellow\",\"yellow\",\"yellow\",\"yellow\",\"yellow\",\"yellow\",\"yellow\",\"yellow\",\"yellow\",\"yellow\",\"yellow\",\"yellow\",\"yellow\",\"yellow\",\"yellow\",\"yellow\",\"yellow\",\"yellow\",\"yellow\",\"yellow\",\"yellow\",\"yellow\",\"yellow\",\"yellow\",\"yellow\",\"yellow\",\"yellow\",\"yellow\",\"yellow\",\"yellow\",\"yellow\"],\"line\":{\"width\":1.3},\"size\":[72,58,55,43,60,31,57,37,68,55,39,67,66,59,47,70,70,92,48,59,32,50,39,95,67,39,77,71,64,57,53,56,65,82,24,62,53,58,30,63,93,63,26,73,44,64,36,82,46,58,31,54,49,37,60,29,64,78,45,62,24,46,47,50,55,40,44,44,32,63,56,40,95,55,32,46,28,60,34,91,21,43,52,36,75,37,43,73,80,42,41,48,53,51,55,30,50,80,62,56,85,65,49,47,88,72,46,45,76,39,73,70,35,49,63,74,76,50,68,74,35,59,49,53,58,53,56,49,60,46,78,54,51,41,49,64,50,90,34,62,45,76,37,58,57,53,28,44,41,58,28,54,15,43,64,82,43,36,75,82,52,79,34,59,96,60,32,72,69,44,47,20,69,72,55,48,61,100,45,64,60,47,51,103,57,78,77,64,60,38,47,87,65,56,83,51,78,59,49,50,90,65,50,63,60,42,54,62,66,25,56,57,33,36,56,49,56,77,63,35,60,43,39,64,70,50,60,52,58,75,35,71,65,48,54,50,63,67,78,76,71,54,45,47,55,89,81,51,70,68,64,50,55,52,57,47,41,111,62,59,42,78,67,43,39,53,80,37,78,37,55,81,43,64,41,45,12,84,43,100,27,68,40,40,73,44,70,28,49,71,55,25,68,63,46,55,99,90,14,69,66,50,97,64,80,48,44,67,58,43,74,71,47,63,73,82,93,82,40,28,75,90,60,55,107,54,50,38,73,63,73,58,40,62,52,34,84,66,56,69,26,58,12,42,53,33,22,38,34,39,71,92,65,55,41,62,54,42,55,36,104,62,23,63,35,70,31,67,57,66,53,60,61,69,74,47,24,85,67,51,50,39,57,64,80,79,49,32,47,33,19,40,54,75,31,29,62,65,29,67,52,52,81,47,42,50,58,80,82,79,51,42,20,55,59,73,50,66,45,69,34,51,65,56,56,58,88,30,54,73,51,20,64,79,68,58,67,59,54,62,59,50,63,55,33,57,23,57,46,72,73,70,50,37,39,43,37,81,82,40,46,57,67,59,46,75,74,70,28,60,68,39,32,43,44,74,32,51,44,41,62,64,44,57,57,57,40,56,71,47,72,60,43,75,77,64,56,78,43,20],\"symbol\":\"circle\"},\"mode\":\"markers\",\"text\":\"\",\"x\":[-2.263530892487862,1.2931622185906402,-0.674193936092612,0.28982843143464,1.168733585759221,-1.1963987200334893,0.9083825341950454,0.45225224490658605,-0.1326145424892588,-0.1344990688537319,0.7807652903673963,-1.4337125687871444,-0.12071239683816742,0.4805733984730154,0.14235621082255248,0.7243815820408156,-0.0645315836726518,0.5281781388355035,-0.7365648102087147,-1.2577462277201688,-0.5549795887698592,1.343798783190818,-0.7865681783893995,-0.8474033072481033,0.8308077289301352,0.9755607342753246,-0.7295423926374264,-1.2747937735421129,0.34765950690666925,-0.2686263038390421,-0.03565719616788954,1.0741632479361454,0.6711218309848905,0.6063463280066883,-0.5070509768068395,-0.13307170262589568,0.25112528463280714,0.3036181273196037,0.4267228613259005,-1.3018928402964878,1.1340951010761302,-0.15513570635943902,1.5154080929594729,-0.5010874228487359,-0.07738406282135914,2.5025421218163895,0.060016776197184804,-0.6675995797014896,-1.5802324861295867,-1.2710573824068159,0.14302066598095226,0.18437078396562148,-1.0526411058637164,-0.31946170175227223,-0.6165010536939555,0.9708442100287182,-0.1072377482733915,0.9406224656738986,1.031969727894555,-0.5084730686108397,0.33338057654200803,-1.6568866190342455,0.501319808680964,0.7435253417736852,0.42741207175129237,-0.06331903536520643,0.48116256299632837,0.27940258904180143,2.9690165692171835,0.465424022229492,-0.2568651162461084,0.06797524841361728,-0.27089980908944267,-0.5636918326276839,0.4154581564963929,0.3937327168790468,-0.521903923967632,1.41851180033925,-0.6305609418876876,0.3702062552002396,0.13839629391183297,-0.516744743702872,0.20664188057882016,-0.23197177469006836,0.10732992879287706,-0.06376900010260295,0.41645078447200085,-0.8195465776663764,1.1000543843685058,0.01963504707941006,0.08292363982947464,-1.2644823340069948,0.35478605515189504,0.18469048770069843,-0.8630346784233842,0.057634657188536276,-1.9982530933857214,0.32446239388700315,1.3790503727539425,-0.5728349873062363,0.3373476490053909,-0.25517852261167695,0.1904056854582507,-0.2591750312536783,0.7838162700899124,0.7796573548659446,0.7118731095767221,0.36539888386756963,-0.43726056789653056,-1.0623076658348654,-0.22304115327462642,-2.2308191060258618,0.014977126832011724,-0.414957999980559,0.40013852785859755,0.21662758683231118,0.3907856223427216,-0.823196964321295,-3.0209307167497834,-2.2999787429256067,2.4854281371348463,1.9654216696232505,0.5948463956332936,-1.0144489778106556,0.03546356421200841,-1.8975752469814653,-1.7216475578736783,0.8588569148586542,0.31284550437011216,-0.29444107410787135,0.48728443622557116,0.6623801563995151,-0.9304947727335924,0.908508602198395,-0.7559180860476535,-0.1594911024237002,0.9323974364880934,-1.7343248713237718,0.4352867789695257,-2.0787248421776505,-1.846549566718216,-0.31991195095981106,-0.34767624488654586,1.7773014030644105,0.8609716419916509,0.6691992216660718,-1.047005679807852,1.1247576465115727,-0.0010306862221828904,-0.5016394368988792,-2.129341982975807,0.43547481558860807,0.30551755848417494,-2.319990959520456,0.8613887030748035,0.7531167448977183,1.3720814036889586,-0.8446690078791586,-0.5311815131414809,-1.8294118711319158,0.7830069242795333,1.1111818227836079,0.7738256742050303,0.5423350566916659,2.298708344580066,-0.9561631699002705,0.3437428089537067,-0.34021588889828186,-0.7453163891591427,0.16566735732333085,0.1304095228491779,0.17601692970922428,2.3242099430727783,-1.4676809774137018,-0.7406488579696542,-0.7469977143083395,0.21112256611228444,-1.0222673603442518,0.9149341555459293,0.4591991923802058,2.4791206158224877,1.1354066793438746,-0.28476213045106297,0.20896434408286213,-0.09432320763542629,-1.2655652575074947,-0.48265845179891986,0.4576186092005852,-0.502374216892446,-1.0438369418833433,0.01898548414859855,1.747128677676987,-0.9254820359985816,-0.9371081560647786,-0.040689186834107195,0.748766192264696,-1.433836964261931,1.257469522064568,0.34223784914746813,0.15510041874097413,0.7369586534302179,-1.3051319918539688,0.9650844233754938,0.0294641882329352,-1.1193629660564408,-0.4576007221612925,-0.5424946474412504,0.4883663464302213,-1.134716743243459,0.11316936606887865,-1.2899166145015668,1.124184389689339,-0.06552923465487889,-0.8770432719360128,-0.9452049653777476,0.9024843079591985,0.8956072698567098,-0.5407108505069146,1.0435046454320283,0.02114450471936369,-0.5042445703250149,0.29630809851569295,-0.14968363635729198,-0.01749152499881055,0.04947806063039101,1.1854880273777322,0.8366700622014895,0.1561426803349261,0.41049920354581304,1.631235167376211,0.24002268326462506,2.1534718069988656,-1.6432581285762573,-0.7892960976444583,0.7007186928265287,-1.441945746498854,-2.2896616096147575,1.3262867987221907,-0.026855457257691118,0.35726739177069006,1.2887404125169968,-1.2231878066377828,1.6446618254023313,-0.00024085824195230714,-0.44813546304346896,-0.6541373102832895,-1.525800344200501,-0.9730737126313034,0.806971396520868,-0.26838596797724346,0.6682255507644822,-0.7486303983627517,0.4725948900406291,0.6002797325737819,-0.7367136151083686,0.8885134523108786,-1.3052370883017614,0.511084723840786,-0.057363235322683795,-1.612228770511537,0.20907858573793778,1.5570907061219004,-0.32025891454521943,-0.08872991162353243,-0.5913337034961879,-0.07030233001543838,-0.9011713615136048,0.33091792523565255,-1.2455624650201134,-1.0301800065378626,0.4345732340283692,0.44377584377472473,0.4646799737881138,0.3928722271494445,0.17733717777020758,1.00391162586979,0.3920381763672593,-0.11230537076021556,-0.5271166605425942,-0.11405562478863711,1.7145691080577936,1.1525548351520163,0.5139617356659979,0.9442967076756399,0.6981857290660731,0.48258056416573625,0.3520693005829216,-2.208513926848844,0.424110253008601,0.8632965133822713,0.3245090460327771,-0.31719399050552805,1.9709382724127844,-0.7365172167429717,0.8430735901492473,-1.292733992672372,-0.807596405232898,-0.33512592396532637,0.2406938034068273,-0.43143729286101756,0.1635705756260592,0.11267280591680653,0.139855661093003,0.3705370108611749,0.4318068890161458,-0.7630252467798829,0.5035095053817834,-1.4320810947774816,-1.6123166701891412,0.7728321804380414,-1.1526192176140195,0.4490567606226094,-0.5120466164808718,-0.31128068641577805,-0.3741944354752403,2.573961855152507,1.129761396743796,-0.13023688088558832,-1.2711066783772655,-0.823927112576881,-0.060878930248960156,0.9857754030096827,-0.3705909628275801,1.5271355888229459,-0.27374393310299894,-0.44712759831362897,-1.9892029452090774,0.21785145448078794,-1.0175443239494406,1.046543405366355,-0.6209081954767225,-0.3817011985545491,-0.4227322767724117,-0.5405563776614343,1.1961782749686571,-1.5950755804922503,0.5185731716235648,-1.2138170472416863,0.0016551191026055961,-0.6735530005522238,1.2067857022545645,-0.11423539722269796,-0.25773190206860297,-0.5020587385521718,-0.8417264556304909,-0.3152266841920473,-0.3763608716364807,1.303589709775874,0.6952425468307468,0.732638600022976,0.5321699993684309,-1.94806499803705,1.3028472704276242,2.072503290705003,-1.2596069873697961,0.2960439844482653,1.0094256349962283,-0.04493838195875521,-0.43731532421036856,-0.29955587062081435,0.5860981198944563,-0.8021308301584055,-0.34432102183587354,-0.6086020453812708,-0.17009053165483076,0.5913722247038146,1.7199319699942375,-0.7252580820623431,1.4092409572090254,-0.3534096194886525,-0.3539658055719198,0.12015892819393792,0.8670888861143118,0.2688411679504519,0.9906743691395143,-0.734173899204397,-1.953741482356788,1.0477019338677451,-0.2778548349560111,-1.330058985771333,-0.03022038505228627,-0.4242048029948255,1.5261289641859148,-2.0835404255127057,0.5041532863513903,0.37898970914754454,0.33165885913905996,-1.0198492238115628,-0.34544520337826207,0.533093216997367,0.2305781133853838,0.4304819334315093,1.5296519928433527,-0.8362117782123512,0.5857685730417653,1.299825734604204,-1.4765417395923297,1.1317210602279755,1.1375692493163128,0.10565726659957062,1.421535237455665,-0.4313585124037633,1.5120605990238247,0.5956445380097267,-1.233371446013412,0.32095312412927623,0.20704713654645968,0.07883156254653347,0.2559231181034012,-0.5293853706510283,0.21877786325512374,0.3092397968337286,-0.6320613018711665,2.1845029430500373,1.5115404445869274,0.5234446681738709,-1.7952880026772697,0.5947117535910786,-0.5936688757653348,-1.9573988460736569,1.2238610033291626,-1.0530822326927423,-0.005909598988247,0.27563585173518856,-1.2400033314032664,-0.6797688261705226,0.5489124486842144,1.089778993179704,-0.45711726687572507,0.037457596816397244,-1.4042322333515007,0.30368288687852635,0.06756441580452588,-0.5182493262741984,-0.7151298150452237,0.2278434295883213,0.04435768356599988,-0.8282132665015844,-1.382525230050665,2.170403967511804,0.36478306568663177,0.21784762677205788,-0.40769882767941135,0.6504071519104804,1.1341099685707114,0.3960040724599995,-1.7155345415699248,-1.7744959527814521,0.81526411352325,-0.9156385278401167,0.2173424590970779,0.26204069102142247,-1.8727027673201961,1.7217758369729563,0.9657745410308541,-1.2815053853496943,-0.24927336468821654,0.14763154336243584,-0.20147918388128916,1.5425690612480052,-0.1182309333853094,-1.3340117486782903,0.2126655390087511,-0.1106874954864721,0.30447108601204664,0.020982190016305285,0.18193746695792085,-0.020733034307504516,0.7486353092053304,1.6800208234269025,-0.6332391093063604,-0.0024254507725629437,0.8196390283342632,-0.38648040437410264,-0.21042733698987323,1.7074486964659832,0.4973323975597727,0.6896523446861065,0.2863507676773237,-0.9738184564196188,1.4648060266786653,-1.3098008412197324,-1.0526887107055733,-1.3999218982915989,-1.988669644262112,-0.33973696149969346,1.945402053012429,-1.2055724881225565,-0.821684958945505,0.7457562226320248,0.06287171833139077,0.16292221467042742,-0.7505023891359669,0.7587161193174603,-0.8998895541304912,0.4590758873279594,0.5511216358616269,0.44056770922447236,1.2112545129129224,-0.6128335579651852],\"y\":[-0.8643303486768782,-0.48545447661592434,0.074622210582842,-1.1235170332369224,-1.0135508333616168,0.30827543616675057,0.3752038214699598,-0.6007368177428646,0.9129030633322243,0.043888449546883514,-0.24031317108009856,-0.7375646355758417,-0.4681910820777421,0.9964026624751344,2.0971634956989016,0.450574874362932,1.4635098238231417,-0.4319436150231565,-1.278331730768012,0.5744366004914743,2.0869333139116595,-0.9193410790800395,-1.833408200375922,0.815870476737727,1.2255231447347203,1.4269942761256478,-0.0208392893246553,-0.802855883972416,0.7441495619973297,0.5726913780552716,-1.0359943891301344,-0.3032828708270887,0.32218939138050695,-0.07482836543124932,-2.2881247996561536,0.8396551087311036,0.6329973906675159,-0.8089122730077706,1.3563360794124653,-1.3910248195095662,0.18226155741218986,1.1812588349937838,-0.017857317368380452,-1.7335749162749488,-1.4021895915785028,-0.32509108497305844,-0.5869592019054817,0.9495712552305394,0.3463687493993234,-1.4667436417122397,1.3062901272194902,-0.42658619894597277,0.9620508083663744,0.23526592031426882,0.8497327673805525,0.5588145927097056,-0.48360172418772346,1.0709943964111517,0.8398138160631732,0.12310755185178913,-0.6527937114668243,-0.5922539583676146,-0.5544129808454866,-1.17542810552467,-0.8993931961583361,1.873212240564465,-0.759361895137789,1.462828531032524,-0.006853677859164635,-0.19400329825342275,-0.6102253464084665,1.243358257011422,-0.5201554842199142,0.7388503478936396,-0.2160079096289911,1.1631834133147718,-0.3574428213850189,-0.5272720419829308,-1.02954231733991,-0.40167488843385485,0.6136324469264254,-0.09110088583380581,-1.2690999569499417,-0.9218185358341311,1.5341086823582701,-1.0965694293552006,0.22986512582809857,-2.211500102580387,-0.9439370395816332,-0.15983863544068952,1.369931708738245,0.4934425353439321,-1.0176043028353083,-1.1886790512293166,-2.184617633428162,0.46019217910122356,0.4849860717936879,0.12688255505038534,-0.25140835619897484,1.4658126550581294,1.2694256644911606,-0.8138443318306805,1.1298803448185024,0.5348476041160375,1.2430183866911644,-0.35029193218261967,-0.9963080251603601,-1.088178138364631,-0.8427024185119844,-0.8780277630627888,-0.17087787066342594,0.5923576710960169,-1.514603792728183,-0.7971490448026465,1.8579492939592588,-0.47659227243257524,1.1741791349143988,-0.23002183980604202,-0.9788257071866882,-0.787089545523912,0.15632669264770976,0.7873375409078308,-0.6851596359225393,0.07258239604801417,1.0108568062678853,-0.5350206269668196,0.4617210322108998,0.6729851129996333,0.6947791573841785,-2.0349434613126345,0.9346846632454399,-1.904184957979476,-1.5897498110802348,0.07803041176088413,0.09756084554805393,0.6571696597348613,1.071629838766347,-3.282116736543372,0.2952320886515686,1.0286252197016175,0.4510046185128533,-0.5808097525959789,-0.2048240951015417,-0.7244019010710904,1.7234902946045805,0.013434282552561105,0.1916188862715387,0.5978644944394771,-1.1974830645358936,-0.06666291479540355,0.8386492151156741,-1.1291644176032307,0.05241849417403152,-0.10907417825855412,0.6380514166366121,0.04879476309572777,-0.16777849124113872,-0.39249040661168333,1.191873587685773,-1.3205280526782754,0.42993519552984616,-0.09237482587070879,-0.7926842172330973,0.5679663048689276,-1.654584667175674,1.2808190915252475,-0.10407137936591151,0.9459287720169433,2.997001930072728,0.9446389150568022,-0.73353832354179,-1.5846353717838617,-0.885051530172661,-0.4675519667238059,-0.13331587213270782,0.9611220186060137,-1.7600226706559756,-0.6197654075068263,-0.6491288178838583,0.05533463637359131,1.2545161923962125,-0.5498373082089602,0.005935305924675948,-0.28937403873654166,-1.7176819437111137,1.062708296845886,0.14576196013743872,0.36022314475696043,0.3100393862711781,0.43621572859192037,-1.1115511453849622,-0.8931284957701531,1.432237106043617,-0.26799178109682303,-1.2364356306727065,-0.27727843249292256,-0.7484029189008448,0.6628246713802153,0.6209823288852403,2.095729456275502,-0.8615847093288481,1.470005888534789,0.8742648623981958,0.9126777321153317,0.6494642173952481,0.3437184635242458,0.8055190722528236,0.15608954232600264,2.2991264282837514,-0.21805154042505967,0.4940450628946168,2.3879553375112446,0.8331103320151628,1.243259684792002,0.29035122447166023,1.5117606491184155,-0.9836973745096882,-0.0791966119835468,-0.04835572773807457,-0.4588441898535056,-0.46823840601349903,-0.18408406954795853,-1.1626812553841233,-0.2831560692653616,-1.8017380946848456,2.323297217914825,-0.012652770991927053,-1.624019653170712,-0.7302033749047425,-0.23963287429026348,-0.09943147070440395,-0.3845642646273242,0.21337835024865434,-0.1550967548668219,-1.7451208715071838,0.021781593220121454,0.482528557119484,0.12476506259864548,-0.6543838003523604,1.2277565899924272,-1.411510936136483,-2.118413452367423,-1.2191132070960833,-0.03352686771440494,0.7279308289098316,0.9873327613922971,-0.774358456390364,0.7004299687598552,-0.9058837691216307,-1.518410302156876,-0.4837581462051957,-1.6760619095747817,1.4722656310018942,0.4682039916630244,1.285696641292299,0.6831171389874126,0.1912045241029588,-2.224160874884401,1.1018758146399366,0.8747486356358478,-0.5279419976982931,-0.20003195098500165,1.5055495853342502,0.5842278792894626,-0.09310041514168922,-1.4060082253516486,0.43107319763056773,-0.36592333005463823,0.8141227079424633,-0.5425875028149405,3.3444053600891794,-0.8543661707645733,-0.0036736179172075657,1.4889857461361322,0.8774867172162479,0.8299268077371682,-1.05663825382182,-1.4149516227168877,0.7522426144924427,-0.00507914787781083,0.2610478555094977,-0.6591997559801382,1.7859012833147028,0.48619923737625087,-0.8214188979619703,0.6192804184346206,1.0713857011142744,-1.1610794412009768,1.6579333645418834,0.2034182528098526,1.4325120284223194,-0.09835000317701767,-0.15838912799838256,-1.0033864937970682,-0.19797015542064625,-0.3445003875231573,0.4629639290835394,2.004274465354049,-1.2368295038978248,-0.23788254454037747,2.0896780022851384,1.3412188953431496,0.3211422799063036,-0.935985886998604,1.0259480771917622,-1.1363139505860618,-0.22065679242018224,0.21541308017735333,0.258026315926332,-0.1422252125062341,1.1244121613009839,-0.12224367024175394,-1.1563005016916008,2.6727713098930304,-0.23724607730587513,-0.8492335753063022,-1.8238501392306563,0.6301747948826578,-0.4536294485473571,0.5466184239298865,-2.761470067853639,2.4219769246256138,0.6575582951257924,0.11018430960437979,-0.4043064664618296,-0.014195310918731014,-0.11848894241219605,0.06286111586675902,0.0021071470684251538,1.939388247139212,-0.7379644760465487,-1.0427124320458634,0.12747767318100034,-1.2522775334466993,0.9578929427346745,0.3271967175508989,0.5362929742083407,-0.3508172905905263,0.05492688094458291,-0.9421086807462195,-1.3251744536700256,-1.4980980685036622,0.28267030401835674,-0.7799313729849388,0.11868777977450357,1.686143711218559,-1.9291684273498853,-0.06254290149300008,0.4651236249986807,-0.04242190121669,-0.3525024804704805,1.6225727507548946,2.0977605032727804,-0.08923437022106705,1.3833770169837647,1.1862273094402493,-0.6246464424587231,0.8549954429876008,-0.7116385642343395,0.6265741730573536,1.1768356984339212,1.3248293605060646,-1.8522571483565107,0.30997096539653807,-0.8880745800000089,0.253383193283707,-0.9768957622608174,-0.6091935773789839,-0.6799134846035905,2.066333414643886,-0.4642699043334721,-0.02898032555184812,-0.9721294891522054,-0.15520264621898416,-1.5628622157904601,-0.8349774946109407,-0.40442140189019976,0.7723782891777186,0.5536856695790957,-2.7167014503503784,0.638822008846059,1.8712513786113707,-0.9953562930811777,1.061665809966131,0.9743917547121637,1.4671618364511696,0.9578471762382555,-0.5815277591166844,-1.2076648278816577,-0.0657016749925392,1.2102546538797605,-0.41434974587769396,-2.134092747898878,-1.3535497163380736,-1.103250175773825,-0.49731886265549,0.1734272005249689,-0.5265192685695984,-0.5324593192678335,1.216030605487049,0.7295668971800661,0.1774849473446891,0.3909567085886405,0.7540444722579828,-0.8355880993856984,-0.2699966546414888,-1.491589102324052,1.2074903860926305,0.1800949874190779,-0.027095195545727348,0.14112740040017233,0.18394558773240247,0.15863572656206876,-0.13863984835101228,0.11567371216113824,-2.747890945453844,0.6712394146089311,0.16440826700384412,-0.05379778761770426,-0.2465238049705523,0.323786924921426,0.5559385807572145,-2.118198834740286,0.035312905641552914,1.6944904345617409,-0.27016916835057697,-0.42411364677781505,0.9031225901674101,-0.6455303294094389,-0.8543668551987945,0.7648523102734774,-1.15592506213242,-1.1455866689194092,0.45455005352747685,-1.0418808254518175,-3.4398979994064396,0.9553147053149923,-1.35015049238068,-0.5104054673852467,0.3635549281497244,0.35042447944233734,-1.9251212835749618,0.0542309606517661,-0.4675538831867497,-0.5950121082024477,-0.36620442736041353,0.9090081344868,-0.28727179127092833,-0.5842058132658754,0.655637815539823,0.1622113796976176,1.6189653844673815,-0.06353675870301875,1.3735319300323154,-0.797621117621803,-1.4111881283100125,1.8737254828225627,1.527413080052041,0.5747615492248692,-2.602687966669538,0.1708012600060014,0.7591970655662041,-0.28349796436191604,1.1933316444037287,-0.34652383040180174,0.027978780165058847,0.09964420747497904,-0.15316023877715385,0.20278211150359476,-0.2883354426322248,1.6913561586121721,0.05766745533335582,0.6065666962000866,-0.133127654713106,-0.4915389492477984,0.6541428243870232,-0.7593657250143889,-2.756242431007816,-0.47883543341722296,0.8151174654789304,-0.21085476172580359,-0.0636153470267502,0.23795371149658143,0.7821675058426818,0.9646701284449362,-0.5169132171189804,-0.8268284016364045,0.9602246004207001,1.6125784412022457,-1.6354452396299193,-0.824785002549613,1.5387852773955826,0.028356711317799474,0.910487841740798,0.4612284154337478,-0.9421194730921624,0.03244761934384349,1.6483417596631968,1.679920658134673,0.18097423856973993],\"type\":\"scatter\"}],                        {\"legend\":{\"bgcolor\":\"#F5F6F9\",\"font\":{\"color\":\"#4D5663\"}},\"paper_bgcolor\":\"#F5F6F9\",\"plot_bgcolor\":\"#F5F6F9\",\"template\":{\"data\":{\"barpolar\":[{\"marker\":{\"line\":{\"color\":\"#E5ECF6\",\"width\":0.5},\"pattern\":{\"fillmode\":\"overlay\",\"size\":10,\"solidity\":0.2}},\"type\":\"barpolar\"}],\"bar\":[{\"error_x\":{\"color\":\"#2a3f5f\"},\"error_y\":{\"color\":\"#2a3f5f\"},\"marker\":{\"line\":{\"color\":\"#E5ECF6\",\"width\":0.5},\"pattern\":{\"fillmode\":\"overlay\",\"size\":10,\"solidity\":0.2}},\"type\":\"bar\"}],\"carpet\":[{\"aaxis\":{\"endlinecolor\":\"#2a3f5f\",\"gridcolor\":\"white\",\"linecolor\":\"white\",\"minorgridcolor\":\"white\",\"startlinecolor\":\"#2a3f5f\"},\"baxis\":{\"endlinecolor\":\"#2a3f5f\",\"gridcolor\":\"white\",\"linecolor\":\"white\",\"minorgridcolor\":\"white\",\"startlinecolor\":\"#2a3f5f\"},\"type\":\"carpet\"}],\"choropleth\":[{\"colorbar\":{\"outlinewidth\":0,\"ticks\":\"\"},\"type\":\"choropleth\"}],\"contourcarpet\":[{\"colorbar\":{\"outlinewidth\":0,\"ticks\":\"\"},\"type\":\"contourcarpet\"}],\"contour\":[{\"colorbar\":{\"outlinewidth\":0,\"ticks\":\"\"},\"colorscale\":[[0.0,\"#0d0887\"],[0.1111111111111111,\"#46039f\"],[0.2222222222222222,\"#7201a8\"],[0.3333333333333333,\"#9c179e\"],[0.4444444444444444,\"#bd3786\"],[0.5555555555555556,\"#d8576b\"],[0.6666666666666666,\"#ed7953\"],[0.7777777777777778,\"#fb9f3a\"],[0.8888888888888888,\"#fdca26\"],[1.0,\"#f0f921\"]],\"type\":\"contour\"}],\"heatmapgl\":[{\"colorbar\":{\"outlinewidth\":0,\"ticks\":\"\"},\"colorscale\":[[0.0,\"#0d0887\"],[0.1111111111111111,\"#46039f\"],[0.2222222222222222,\"#7201a8\"],[0.3333333333333333,\"#9c179e\"],[0.4444444444444444,\"#bd3786\"],[0.5555555555555556,\"#d8576b\"],[0.6666666666666666,\"#ed7953\"],[0.7777777777777778,\"#fb9f3a\"],[0.8888888888888888,\"#fdca26\"],[1.0,\"#f0f921\"]],\"type\":\"heatmapgl\"}],\"heatmap\":[{\"colorbar\":{\"outlinewidth\":0,\"ticks\":\"\"},\"colorscale\":[[0.0,\"#0d0887\"],[0.1111111111111111,\"#46039f\"],[0.2222222222222222,\"#7201a8\"],[0.3333333333333333,\"#9c179e\"],[0.4444444444444444,\"#bd3786\"],[0.5555555555555556,\"#d8576b\"],[0.6666666666666666,\"#ed7953\"],[0.7777777777777778,\"#fb9f3a\"],[0.8888888888888888,\"#fdca26\"],[1.0,\"#f0f921\"]],\"type\":\"heatmap\"}],\"histogram2dcontour\":[{\"colorbar\":{\"outlinewidth\":0,\"ticks\":\"\"},\"colorscale\":[[0.0,\"#0d0887\"],[0.1111111111111111,\"#46039f\"],[0.2222222222222222,\"#7201a8\"],[0.3333333333333333,\"#9c179e\"],[0.4444444444444444,\"#bd3786\"],[0.5555555555555556,\"#d8576b\"],[0.6666666666666666,\"#ed7953\"],[0.7777777777777778,\"#fb9f3a\"],[0.8888888888888888,\"#fdca26\"],[1.0,\"#f0f921\"]],\"type\":\"histogram2dcontour\"}],\"histogram2d\":[{\"colorbar\":{\"outlinewidth\":0,\"ticks\":\"\"},\"colorscale\":[[0.0,\"#0d0887\"],[0.1111111111111111,\"#46039f\"],[0.2222222222222222,\"#7201a8\"],[0.3333333333333333,\"#9c179e\"],[0.4444444444444444,\"#bd3786\"],[0.5555555555555556,\"#d8576b\"],[0.6666666666666666,\"#ed7953\"],[0.7777777777777778,\"#fb9f3a\"],[0.8888888888888888,\"#fdca26\"],[1.0,\"#f0f921\"]],\"type\":\"histogram2d\"}],\"histogram\":[{\"marker\":{\"pattern\":{\"fillmode\":\"overlay\",\"size\":10,\"solidity\":0.2}},\"type\":\"histogram\"}],\"mesh3d\":[{\"colorbar\":{\"outlinewidth\":0,\"ticks\":\"\"},\"type\":\"mesh3d\"}],\"parcoords\":[{\"line\":{\"colorbar\":{\"outlinewidth\":0,\"ticks\":\"\"}},\"type\":\"parcoords\"}],\"pie\":[{\"automargin\":true,\"type\":\"pie\"}],\"scatter3d\":[{\"line\":{\"colorbar\":{\"outlinewidth\":0,\"ticks\":\"\"}},\"marker\":{\"colorbar\":{\"outlinewidth\":0,\"ticks\":\"\"}},\"type\":\"scatter3d\"}],\"scattercarpet\":[{\"marker\":{\"colorbar\":{\"outlinewidth\":0,\"ticks\":\"\"}},\"type\":\"scattercarpet\"}],\"scattergeo\":[{\"marker\":{\"colorbar\":{\"outlinewidth\":0,\"ticks\":\"\"}},\"type\":\"scattergeo\"}],\"scattergl\":[{\"marker\":{\"colorbar\":{\"outlinewidth\":0,\"ticks\":\"\"}},\"type\":\"scattergl\"}],\"scattermapbox\":[{\"marker\":{\"colorbar\":{\"outlinewidth\":0,\"ticks\":\"\"}},\"type\":\"scattermapbox\"}],\"scatterpolargl\":[{\"marker\":{\"colorbar\":{\"outlinewidth\":0,\"ticks\":\"\"}},\"type\":\"scatterpolargl\"}],\"scatterpolar\":[{\"marker\":{\"colorbar\":{\"outlinewidth\":0,\"ticks\":\"\"}},\"type\":\"scatterpolar\"}],\"scatter\":[{\"marker\":{\"colorbar\":{\"outlinewidth\":0,\"ticks\":\"\"}},\"type\":\"scatter\"}],\"scatterternary\":[{\"marker\":{\"colorbar\":{\"outlinewidth\":0,\"ticks\":\"\"}},\"type\":\"scatterternary\"}],\"surface\":[{\"colorbar\":{\"outlinewidth\":0,\"ticks\":\"\"},\"colorscale\":[[0.0,\"#0d0887\"],[0.1111111111111111,\"#46039f\"],[0.2222222222222222,\"#7201a8\"],[0.3333333333333333,\"#9c179e\"],[0.4444444444444444,\"#bd3786\"],[0.5555555555555556,\"#d8576b\"],[0.6666666666666666,\"#ed7953\"],[0.7777777777777778,\"#fb9f3a\"],[0.8888888888888888,\"#fdca26\"],[1.0,\"#f0f921\"]],\"type\":\"surface\"}],\"table\":[{\"cells\":{\"fill\":{\"color\":\"#EBF0F8\"},\"line\":{\"color\":\"white\"}},\"header\":{\"fill\":{\"color\":\"#C8D4E3\"},\"line\":{\"color\":\"white\"}},\"type\":\"table\"}]},\"layout\":{\"annotationdefaults\":{\"arrowcolor\":\"#2a3f5f\",\"arrowhead\":0,\"arrowwidth\":1},\"autotypenumbers\":\"strict\",\"coloraxis\":{\"colorbar\":{\"outlinewidth\":0,\"ticks\":\"\"}},\"colorscale\":{\"diverging\":[[0,\"#8e0152\"],[0.1,\"#c51b7d\"],[0.2,\"#de77ae\"],[0.3,\"#f1b6da\"],[0.4,\"#fde0ef\"],[0.5,\"#f7f7f7\"],[0.6,\"#e6f5d0\"],[0.7,\"#b8e186\"],[0.8,\"#7fbc41\"],[0.9,\"#4d9221\"],[1,\"#276419\"]],\"sequential\":[[0.0,\"#0d0887\"],[0.1111111111111111,\"#46039f\"],[0.2222222222222222,\"#7201a8\"],[0.3333333333333333,\"#9c179e\"],[0.4444444444444444,\"#bd3786\"],[0.5555555555555556,\"#d8576b\"],[0.6666666666666666,\"#ed7953\"],[0.7777777777777778,\"#fb9f3a\"],[0.8888888888888888,\"#fdca26\"],[1.0,\"#f0f921\"]],\"sequentialminus\":[[0.0,\"#0d0887\"],[0.1111111111111111,\"#46039f\"],[0.2222222222222222,\"#7201a8\"],[0.3333333333333333,\"#9c179e\"],[0.4444444444444444,\"#bd3786\"],[0.5555555555555556,\"#d8576b\"],[0.6666666666666666,\"#ed7953\"],[0.7777777777777778,\"#fb9f3a\"],[0.8888888888888888,\"#fdca26\"],[1.0,\"#f0f921\"]]},\"colorway\":[\"#636efa\",\"#EF553B\",\"#00cc96\",\"#ab63fa\",\"#FFA15A\",\"#19d3f3\",\"#FF6692\",\"#B6E880\",\"#FF97FF\",\"#FECB52\"],\"font\":{\"color\":\"#2a3f5f\"},\"geo\":{\"bgcolor\":\"white\",\"lakecolor\":\"white\",\"landcolor\":\"#E5ECF6\",\"showlakes\":true,\"showland\":true,\"subunitcolor\":\"white\"},\"hoverlabel\":{\"align\":\"left\"},\"hovermode\":\"closest\",\"mapbox\":{\"style\":\"light\"},\"paper_bgcolor\":\"white\",\"plot_bgcolor\":\"#E5ECF6\",\"polar\":{\"angularaxis\":{\"gridcolor\":\"white\",\"linecolor\":\"white\",\"ticks\":\"\"},\"bgcolor\":\"#E5ECF6\",\"radialaxis\":{\"gridcolor\":\"white\",\"linecolor\":\"white\",\"ticks\":\"\"}},\"scene\":{\"xaxis\":{\"backgroundcolor\":\"#E5ECF6\",\"gridcolor\":\"white\",\"gridwidth\":2,\"linecolor\":\"white\",\"showbackground\":true,\"ticks\":\"\",\"zerolinecolor\":\"white\"},\"yaxis\":{\"backgroundcolor\":\"#E5ECF6\",\"gridcolor\":\"white\",\"gridwidth\":2,\"linecolor\":\"white\",\"showbackground\":true,\"ticks\":\"\",\"zerolinecolor\":\"white\"},\"zaxis\":{\"backgroundcolor\":\"#E5ECF6\",\"gridcolor\":\"white\",\"gridwidth\":2,\"linecolor\":\"white\",\"showbackground\":true,\"ticks\":\"\",\"zerolinecolor\":\"white\"}},\"shapedefaults\":{\"line\":{\"color\":\"#2a3f5f\"}},\"ternary\":{\"aaxis\":{\"gridcolor\":\"white\",\"linecolor\":\"white\",\"ticks\":\"\"},\"baxis\":{\"gridcolor\":\"white\",\"linecolor\":\"white\",\"ticks\":\"\"},\"bgcolor\":\"#E5ECF6\",\"caxis\":{\"gridcolor\":\"white\",\"linecolor\":\"white\",\"ticks\":\"\"}},\"title\":{\"x\":0.05},\"xaxis\":{\"automargin\":true,\"gridcolor\":\"white\",\"linecolor\":\"white\",\"ticks\":\"\",\"title\":{\"standoff\":15},\"zerolinecolor\":\"white\",\"zerolinewidth\":2},\"yaxis\":{\"automargin\":true,\"gridcolor\":\"white\",\"linecolor\":\"white\",\"ticks\":\"\",\"title\":{\"standoff\":15},\"zerolinecolor\":\"white\",\"zerolinewidth\":2}}},\"title\":{\"font\":{\"color\":\"#4D5663\"}},\"xaxis\":{\"gridcolor\":\"#E1E5ED\",\"showgrid\":true,\"tickfont\":{\"color\":\"#4D5663\"},\"title\":{\"font\":{\"color\":\"#4D5663\"},\"text\":\"\"},\"zerolinecolor\":\"#E1E5ED\"},\"yaxis\":{\"gridcolor\":\"#E1E5ED\",\"showgrid\":true,\"tickfont\":{\"color\":\"#4D5663\"},\"title\":{\"font\":{\"color\":\"#4D5663\"},\"text\":\"\"},\"zerolinecolor\":\"#E1E5ED\"}},                        {\"showLink\": true, \"linkText\": \"Export to plot.ly\", \"plotlyServerURL\": \"https://plot.ly\", \"responsive\": true}                    ).then(function(){\n",
       "                            \n",
       "var gd = document.getElementById('24434156-93cd-4de4-9138-bfaad1739716');\n",
       "var x = new MutationObserver(function (mutations, observer) {{\n",
       "        var display = window.getComputedStyle(gd).display;\n",
       "        if (!display || display === 'none') {{\n",
       "            console.log([gd, 'removed!']);\n",
       "            Plotly.purge(gd);\n",
       "            observer.disconnect();\n",
       "        }}\n",
       "}});\n",
       "\n",
       "// Listen for the removal of the full notebook cells\n",
       "var notebookContainer = gd.closest('#notebook-container');\n",
       "if (notebookContainer) {{\n",
       "    x.observe(notebookContainer, {childList: true});\n",
       "}}\n",
       "\n",
       "// Listen for the clearing of the current output cell\n",
       "var outputEl = gd.closest('.output');\n",
       "if (outputEl) {{\n",
       "    x.observe(outputEl, {childList: true});\n",
       "}}\n",
       "\n",
       "                        })                };                });            </script>        </div>"
      ]
     },
     "metadata": {},
     "output_type": "display_data"
    }
   ],
   "source": [
    "df1.iplot(kind='bubble',x='A',y='B',size='C',color='yellow')"
   ]
  },
  {
   "cell_type": "code",
   "execution_count": 28,
   "id": "6cfdd7bc",
   "metadata": {},
   "outputs": [
    {
     "data": {
      "application/vnd.plotly.v1+json": {
       "config": {
        "linkText": "Export to plot.ly",
        "plotlyServerURL": "https://plot.ly",
        "showLink": true
       },
       "data": [
        {
         "histfunc": "count",
         "histnorm": "",
         "marker": {
          "color": "rgba(255, 153, 51, 1.0)",
          "line": {
           "color": "#4D5663",
           "width": 1.3
          }
         },
         "name": "A",
         "nbinsx": 10,
         "opacity": 0.8,
         "orientation": "v",
         "type": "histogram",
         "x": [
          0.37904945688305364,
          1.1553236008254193,
          1.6969890092471622,
          -0.26805612805709716,
          0.9222956791397098,
          0.798379736515537,
          0.3545841546614589,
          0.9978239583053562,
          -1.3321492083741786,
          0.05666312908589525,
          0.7478667832529422,
          -0.21246474379562075,
          2.2956855650862518,
          -1.567536200835686,
          -0.3177343401130265,
          1.160609163321756,
          0.5755403019093225,
          1.1590622130402857,
          -0.6117973807611821,
          -0.04214790123959876,
          -1.167335021892236,
          -0.8889238602766412,
          -0.6874177995095404,
          0.23491229934004407,
          -0.5268035434849804,
          0.31606394499139395,
          -1.3146383330434688,
          1.526731697816121,
          0.4006621493463755,
          -0.161610886180504
         ],
         "xaxis": "x",
         "yaxis": "y"
        },
        {
         "line": {
          "color": "rgba(128, 128, 128, 1.0)",
          "dash": "solid",
          "shape": "linear",
          "width": 1.3
         },
         "marker": {
          "size": 2,
          "symbol": "circle"
         },
         "mode": "markers",
         "name": "A",
         "text": "",
         "type": "scatter",
         "x": [
          0.4060011589905982,
          0.6959866985709183,
          -0.09187268790641648,
          0.8196471141084424,
          0.9510600021451722,
          -0.57663354303388,
          -1.6148335146223323,
          -0.8312079201207672,
          -0.6361055565535438,
          -1.031873693760971,
          -2.278612861973147,
          -0.4992312052364212,
          -2.1555841408323073,
          0.17978999043189037,
          -1.5054726213218554,
          0.28541582441169344,
          0.3313567135453369,
          -1.658129676423646,
          1.118325222071046,
          0.6862064146051308,
          0.09838931908775866,
          -2.0536725149107324,
          0.07695386234023052,
          -0.014781935129108274,
          0.5066945462984226,
          0.40199051763576144,
          -0.8929196284737861,
          -0.8959894328033265,
          -0.07703973081020832,
          2.3238030404337353
         ],
         "xaxis": "x2",
         "y": [
          0.37904945688305364,
          1.1553236008254193,
          1.6969890092471622,
          -0.26805612805709716,
          0.9222956791397098,
          0.798379736515537,
          0.3545841546614589,
          0.9978239583053562,
          -1.3321492083741786,
          0.05666312908589525,
          0.7478667832529422,
          -0.21246474379562075,
          2.2956855650862518,
          -1.567536200835686,
          -0.3177343401130265,
          1.160609163321756,
          0.5755403019093225,
          1.1590622130402857,
          -0.6117973807611821,
          -0.04214790123959876,
          -1.167335021892236,
          -0.8889238602766412,
          -0.6874177995095404,
          0.23491229934004407,
          -0.5268035434849804,
          0.31606394499139395,
          -1.3146383330434688,
          1.526731697816121,
          0.4006621493463755,
          -0.161610886180504
         ],
         "yaxis": "y2"
        },
        {
         "line": {
          "color": "rgba(128, 128, 128, 1.0)",
          "dash": "solid",
          "shape": "linear",
          "width": 1.3
         },
         "marker": {
          "size": 2,
          "symbol": "circle"
         },
         "mode": "markers",
         "name": "A",
         "text": "",
         "type": "scatter",
         "x": [
          -0.6583813333865101,
          -0.6243174147171944,
          -1.7277153093321345,
          0.6156994130188095,
          1.8006132567561264,
          0.6963069341619541,
          1.6475171825501564,
          -3.111714477914328,
          -0.6646637800438707,
          1.311761596759695,
          -0.8781080287248739,
          -0.48175649871886467,
          1.3235838299933458,
          0.32455513345703196,
          -0.8822365711626433,
          -1.5898362500747403,
          -0.1352286183693309,
          -0.8874485347452742,
          0.4170182964373774,
          0.37373675611958695,
          -1.0590363614517722,
          -2.715948034158347,
          -0.4147647289227345,
          -1.7456116338051895,
          -0.48074489016648186,
          2.0420232239812495,
          -0.5484028561577265,
          -0.8198859021537481,
          0.2326853978481167,
          -1.7131471392023285
         ],
         "xaxis": "x3",
         "y": [
          0.37904945688305364,
          1.1553236008254193,
          1.6969890092471622,
          -0.26805612805709716,
          0.9222956791397098,
          0.798379736515537,
          0.3545841546614589,
          0.9978239583053562,
          -1.3321492083741786,
          0.05666312908589525,
          0.7478667832529422,
          -0.21246474379562075,
          2.2956855650862518,
          -1.567536200835686,
          -0.3177343401130265,
          1.160609163321756,
          0.5755403019093225,
          1.1590622130402857,
          -0.6117973807611821,
          -0.04214790123959876,
          -1.167335021892236,
          -0.8889238602766412,
          -0.6874177995095404,
          0.23491229934004407,
          -0.5268035434849804,
          0.31606394499139395,
          -1.3146383330434688,
          1.526731697816121,
          0.4006621493463755,
          -0.161610886180504
         ],
         "yaxis": "y3"
        },
        {
         "line": {
          "color": "rgba(128, 128, 128, 1.0)",
          "dash": "solid",
          "shape": "linear",
          "width": 1.3
         },
         "marker": {
          "size": 2,
          "symbol": "circle"
         },
         "mode": "markers",
         "name": "A",
         "text": "",
         "type": "scatter",
         "x": [
          0.09790049863578758,
          1.2120523954095888,
          0.8876279767772142,
          -0.19728770002506377,
          -1.877549099287521,
          -0.6641797979377729,
          -0.23561594585793558,
          -0.46112302926184295,
          0.44932799618893254,
          0.32616076820790396,
          0.48522706788447506,
          1.7257275062009279,
          -0.5786341011281495,
          0.30340987230210176,
          0.602038534102397,
          -0.3927206542274248,
          -0.6730715632178651,
          -0.896713121450564,
          0.701798805735832,
          0.07664519490767432,
          -1.3284393373452033,
          0.6118173598979866,
          -1.390439058955952,
          -1.2784415237519355,
          0.388900123326237,
          -0.41105654182579093,
          0.3826947974342108,
          -0.06761446801247771,
          -0.39655068604752797,
          -0.04300471723810657
         ],
         "xaxis": "x4",
         "y": [
          0.37904945688305364,
          1.1553236008254193,
          1.6969890092471622,
          -0.26805612805709716,
          0.9222956791397098,
          0.798379736515537,
          0.3545841546614589,
          0.9978239583053562,
          -1.3321492083741786,
          0.05666312908589525,
          0.7478667832529422,
          -0.21246474379562075,
          2.2956855650862518,
          -1.567536200835686,
          -0.3177343401130265,
          1.160609163321756,
          0.5755403019093225,
          1.1590622130402857,
          -0.6117973807611821,
          -0.04214790123959876,
          -1.167335021892236,
          -0.8889238602766412,
          -0.6874177995095404,
          0.23491229934004407,
          -0.5268035434849804,
          0.31606394499139395,
          -1.3146383330434688,
          1.526731697816121,
          0.4006621493463755,
          -0.161610886180504
         ],
         "yaxis": "y4"
        },
        {
         "line": {
          "color": "rgba(128, 128, 128, 1.0)",
          "dash": "solid",
          "shape": "linear",
          "width": 1.3
         },
         "marker": {
          "size": 2,
          "symbol": "circle"
         },
         "mode": "markers",
         "name": "B",
         "text": "",
         "type": "scatter",
         "x": [
          0.37904945688305364,
          1.1553236008254193,
          1.6969890092471622,
          -0.26805612805709716,
          0.9222956791397098,
          0.798379736515537,
          0.3545841546614589,
          0.9978239583053562,
          -1.3321492083741786,
          0.05666312908589525,
          0.7478667832529422,
          -0.21246474379562075,
          2.2956855650862518,
          -1.567536200835686,
          -0.3177343401130265,
          1.160609163321756,
          0.5755403019093225,
          1.1590622130402857,
          -0.6117973807611821,
          -0.04214790123959876,
          -1.167335021892236,
          -0.8889238602766412,
          -0.6874177995095404,
          0.23491229934004407,
          -0.5268035434849804,
          0.31606394499139395,
          -1.3146383330434688,
          1.526731697816121,
          0.4006621493463755,
          -0.161610886180504
         ],
         "xaxis": "x5",
         "y": [
          0.4060011589905982,
          0.6959866985709183,
          -0.09187268790641648,
          0.8196471141084424,
          0.9510600021451722,
          -0.57663354303388,
          -1.6148335146223323,
          -0.8312079201207672,
          -0.6361055565535438,
          -1.031873693760971,
          -2.278612861973147,
          -0.4992312052364212,
          -2.1555841408323073,
          0.17978999043189037,
          -1.5054726213218554,
          0.28541582441169344,
          0.3313567135453369,
          -1.658129676423646,
          1.118325222071046,
          0.6862064146051308,
          0.09838931908775866,
          -2.0536725149107324,
          0.07695386234023052,
          -0.014781935129108274,
          0.5066945462984226,
          0.40199051763576144,
          -0.8929196284737861,
          -0.8959894328033265,
          -0.07703973081020832,
          2.3238030404337353
         ],
         "yaxis": "y5"
        },
        {
         "histfunc": "count",
         "histnorm": "",
         "marker": {
          "color": "rgba(55, 128, 191, 1.0)",
          "line": {
           "color": "#4D5663",
           "width": 1.3
          }
         },
         "name": "B",
         "nbinsx": 10,
         "opacity": 0.8,
         "orientation": "v",
         "type": "histogram",
         "x": [
          0.4060011589905982,
          0.6959866985709183,
          -0.09187268790641648,
          0.8196471141084424,
          0.9510600021451722,
          -0.57663354303388,
          -1.6148335146223323,
          -0.8312079201207672,
          -0.6361055565535438,
          -1.031873693760971,
          -2.278612861973147,
          -0.4992312052364212,
          -2.1555841408323073,
          0.17978999043189037,
          -1.5054726213218554,
          0.28541582441169344,
          0.3313567135453369,
          -1.658129676423646,
          1.118325222071046,
          0.6862064146051308,
          0.09838931908775866,
          -2.0536725149107324,
          0.07695386234023052,
          -0.014781935129108274,
          0.5066945462984226,
          0.40199051763576144,
          -0.8929196284737861,
          -0.8959894328033265,
          -0.07703973081020832,
          2.3238030404337353
         ],
         "xaxis": "x6",
         "yaxis": "y6"
        },
        {
         "line": {
          "color": "rgba(128, 128, 128, 1.0)",
          "dash": "solid",
          "shape": "linear",
          "width": 1.3
         },
         "marker": {
          "size": 2,
          "symbol": "circle"
         },
         "mode": "markers",
         "name": "B",
         "text": "",
         "type": "scatter",
         "x": [
          -0.6583813333865101,
          -0.6243174147171944,
          -1.7277153093321345,
          0.6156994130188095,
          1.8006132567561264,
          0.6963069341619541,
          1.6475171825501564,
          -3.111714477914328,
          -0.6646637800438707,
          1.311761596759695,
          -0.8781080287248739,
          -0.48175649871886467,
          1.3235838299933458,
          0.32455513345703196,
          -0.8822365711626433,
          -1.5898362500747403,
          -0.1352286183693309,
          -0.8874485347452742,
          0.4170182964373774,
          0.37373675611958695,
          -1.0590363614517722,
          -2.715948034158347,
          -0.4147647289227345,
          -1.7456116338051895,
          -0.48074489016648186,
          2.0420232239812495,
          -0.5484028561577265,
          -0.8198859021537481,
          0.2326853978481167,
          -1.7131471392023285
         ],
         "xaxis": "x7",
         "y": [
          0.4060011589905982,
          0.6959866985709183,
          -0.09187268790641648,
          0.8196471141084424,
          0.9510600021451722,
          -0.57663354303388,
          -1.6148335146223323,
          -0.8312079201207672,
          -0.6361055565535438,
          -1.031873693760971,
          -2.278612861973147,
          -0.4992312052364212,
          -2.1555841408323073,
          0.17978999043189037,
          -1.5054726213218554,
          0.28541582441169344,
          0.3313567135453369,
          -1.658129676423646,
          1.118325222071046,
          0.6862064146051308,
          0.09838931908775866,
          -2.0536725149107324,
          0.07695386234023052,
          -0.014781935129108274,
          0.5066945462984226,
          0.40199051763576144,
          -0.8929196284737861,
          -0.8959894328033265,
          -0.07703973081020832,
          2.3238030404337353
         ],
         "yaxis": "y7"
        },
        {
         "line": {
          "color": "rgba(128, 128, 128, 1.0)",
          "dash": "solid",
          "shape": "linear",
          "width": 1.3
         },
         "marker": {
          "size": 2,
          "symbol": "circle"
         },
         "mode": "markers",
         "name": "B",
         "text": "",
         "type": "scatter",
         "x": [
          0.09790049863578758,
          1.2120523954095888,
          0.8876279767772142,
          -0.19728770002506377,
          -1.877549099287521,
          -0.6641797979377729,
          -0.23561594585793558,
          -0.46112302926184295,
          0.44932799618893254,
          0.32616076820790396,
          0.48522706788447506,
          1.7257275062009279,
          -0.5786341011281495,
          0.30340987230210176,
          0.602038534102397,
          -0.3927206542274248,
          -0.6730715632178651,
          -0.896713121450564,
          0.701798805735832,
          0.07664519490767432,
          -1.3284393373452033,
          0.6118173598979866,
          -1.390439058955952,
          -1.2784415237519355,
          0.388900123326237,
          -0.41105654182579093,
          0.3826947974342108,
          -0.06761446801247771,
          -0.39655068604752797,
          -0.04300471723810657
         ],
         "xaxis": "x8",
         "y": [
          0.4060011589905982,
          0.6959866985709183,
          -0.09187268790641648,
          0.8196471141084424,
          0.9510600021451722,
          -0.57663354303388,
          -1.6148335146223323,
          -0.8312079201207672,
          -0.6361055565535438,
          -1.031873693760971,
          -2.278612861973147,
          -0.4992312052364212,
          -2.1555841408323073,
          0.17978999043189037,
          -1.5054726213218554,
          0.28541582441169344,
          0.3313567135453369,
          -1.658129676423646,
          1.118325222071046,
          0.6862064146051308,
          0.09838931908775866,
          -2.0536725149107324,
          0.07695386234023052,
          -0.014781935129108274,
          0.5066945462984226,
          0.40199051763576144,
          -0.8929196284737861,
          -0.8959894328033265,
          -0.07703973081020832,
          2.3238030404337353
         ],
         "yaxis": "y8"
        },
        {
         "line": {
          "color": "rgba(128, 128, 128, 1.0)",
          "dash": "solid",
          "shape": "linear",
          "width": 1.3
         },
         "marker": {
          "size": 2,
          "symbol": "circle"
         },
         "mode": "markers",
         "name": "C",
         "text": "",
         "type": "scatter",
         "x": [
          0.37904945688305364,
          1.1553236008254193,
          1.6969890092471622,
          -0.26805612805709716,
          0.9222956791397098,
          0.798379736515537,
          0.3545841546614589,
          0.9978239583053562,
          -1.3321492083741786,
          0.05666312908589525,
          0.7478667832529422,
          -0.21246474379562075,
          2.2956855650862518,
          -1.567536200835686,
          -0.3177343401130265,
          1.160609163321756,
          0.5755403019093225,
          1.1590622130402857,
          -0.6117973807611821,
          -0.04214790123959876,
          -1.167335021892236,
          -0.8889238602766412,
          -0.6874177995095404,
          0.23491229934004407,
          -0.5268035434849804,
          0.31606394499139395,
          -1.3146383330434688,
          1.526731697816121,
          0.4006621493463755,
          -0.161610886180504
         ],
         "xaxis": "x9",
         "y": [
          -0.6583813333865101,
          -0.6243174147171944,
          -1.7277153093321345,
          0.6156994130188095,
          1.8006132567561264,
          0.6963069341619541,
          1.6475171825501564,
          -3.111714477914328,
          -0.6646637800438707,
          1.311761596759695,
          -0.8781080287248739,
          -0.48175649871886467,
          1.3235838299933458,
          0.32455513345703196,
          -0.8822365711626433,
          -1.5898362500747403,
          -0.1352286183693309,
          -0.8874485347452742,
          0.4170182964373774,
          0.37373675611958695,
          -1.0590363614517722,
          -2.715948034158347,
          -0.4147647289227345,
          -1.7456116338051895,
          -0.48074489016648186,
          2.0420232239812495,
          -0.5484028561577265,
          -0.8198859021537481,
          0.2326853978481167,
          -1.7131471392023285
         ],
         "yaxis": "y9"
        },
        {
         "line": {
          "color": "rgba(128, 128, 128, 1.0)",
          "dash": "solid",
          "shape": "linear",
          "width": 1.3
         },
         "marker": {
          "size": 2,
          "symbol": "circle"
         },
         "mode": "markers",
         "name": "C",
         "text": "",
         "type": "scatter",
         "x": [
          0.4060011589905982,
          0.6959866985709183,
          -0.09187268790641648,
          0.8196471141084424,
          0.9510600021451722,
          -0.57663354303388,
          -1.6148335146223323,
          -0.8312079201207672,
          -0.6361055565535438,
          -1.031873693760971,
          -2.278612861973147,
          -0.4992312052364212,
          -2.1555841408323073,
          0.17978999043189037,
          -1.5054726213218554,
          0.28541582441169344,
          0.3313567135453369,
          -1.658129676423646,
          1.118325222071046,
          0.6862064146051308,
          0.09838931908775866,
          -2.0536725149107324,
          0.07695386234023052,
          -0.014781935129108274,
          0.5066945462984226,
          0.40199051763576144,
          -0.8929196284737861,
          -0.8959894328033265,
          -0.07703973081020832,
          2.3238030404337353
         ],
         "xaxis": "x10",
         "y": [
          -0.6583813333865101,
          -0.6243174147171944,
          -1.7277153093321345,
          0.6156994130188095,
          1.8006132567561264,
          0.6963069341619541,
          1.6475171825501564,
          -3.111714477914328,
          -0.6646637800438707,
          1.311761596759695,
          -0.8781080287248739,
          -0.48175649871886467,
          1.3235838299933458,
          0.32455513345703196,
          -0.8822365711626433,
          -1.5898362500747403,
          -0.1352286183693309,
          -0.8874485347452742,
          0.4170182964373774,
          0.37373675611958695,
          -1.0590363614517722,
          -2.715948034158347,
          -0.4147647289227345,
          -1.7456116338051895,
          -0.48074489016648186,
          2.0420232239812495,
          -0.5484028561577265,
          -0.8198859021537481,
          0.2326853978481167,
          -1.7131471392023285
         ],
         "yaxis": "y10"
        },
        {
         "histfunc": "count",
         "histnorm": "",
         "marker": {
          "color": "rgba(50, 171, 96, 1.0)",
          "line": {
           "color": "#4D5663",
           "width": 1.3
          }
         },
         "name": "C",
         "nbinsx": 10,
         "opacity": 0.8,
         "orientation": "v",
         "type": "histogram",
         "x": [
          -0.6583813333865101,
          -0.6243174147171944,
          -1.7277153093321345,
          0.6156994130188095,
          1.8006132567561264,
          0.6963069341619541,
          1.6475171825501564,
          -3.111714477914328,
          -0.6646637800438707,
          1.311761596759695,
          -0.8781080287248739,
          -0.48175649871886467,
          1.3235838299933458,
          0.32455513345703196,
          -0.8822365711626433,
          -1.5898362500747403,
          -0.1352286183693309,
          -0.8874485347452742,
          0.4170182964373774,
          0.37373675611958695,
          -1.0590363614517722,
          -2.715948034158347,
          -0.4147647289227345,
          -1.7456116338051895,
          -0.48074489016648186,
          2.0420232239812495,
          -0.5484028561577265,
          -0.8198859021537481,
          0.2326853978481167,
          -1.7131471392023285
         ],
         "xaxis": "x11",
         "yaxis": "y11"
        },
        {
         "line": {
          "color": "rgba(128, 128, 128, 1.0)",
          "dash": "solid",
          "shape": "linear",
          "width": 1.3
         },
         "marker": {
          "size": 2,
          "symbol": "circle"
         },
         "mode": "markers",
         "name": "C",
         "text": "",
         "type": "scatter",
         "x": [
          0.09790049863578758,
          1.2120523954095888,
          0.8876279767772142,
          -0.19728770002506377,
          -1.877549099287521,
          -0.6641797979377729,
          -0.23561594585793558,
          -0.46112302926184295,
          0.44932799618893254,
          0.32616076820790396,
          0.48522706788447506,
          1.7257275062009279,
          -0.5786341011281495,
          0.30340987230210176,
          0.602038534102397,
          -0.3927206542274248,
          -0.6730715632178651,
          -0.896713121450564,
          0.701798805735832,
          0.07664519490767432,
          -1.3284393373452033,
          0.6118173598979866,
          -1.390439058955952,
          -1.2784415237519355,
          0.388900123326237,
          -0.41105654182579093,
          0.3826947974342108,
          -0.06761446801247771,
          -0.39655068604752797,
          -0.04300471723810657
         ],
         "xaxis": "x12",
         "y": [
          -0.6583813333865101,
          -0.6243174147171944,
          -1.7277153093321345,
          0.6156994130188095,
          1.8006132567561264,
          0.6963069341619541,
          1.6475171825501564,
          -3.111714477914328,
          -0.6646637800438707,
          1.311761596759695,
          -0.8781080287248739,
          -0.48175649871886467,
          1.3235838299933458,
          0.32455513345703196,
          -0.8822365711626433,
          -1.5898362500747403,
          -0.1352286183693309,
          -0.8874485347452742,
          0.4170182964373774,
          0.37373675611958695,
          -1.0590363614517722,
          -2.715948034158347,
          -0.4147647289227345,
          -1.7456116338051895,
          -0.48074489016648186,
          2.0420232239812495,
          -0.5484028561577265,
          -0.8198859021537481,
          0.2326853978481167,
          -1.7131471392023285
         ],
         "yaxis": "y12"
        },
        {
         "line": {
          "color": "rgba(128, 128, 128, 1.0)",
          "dash": "solid",
          "shape": "linear",
          "width": 1.3
         },
         "marker": {
          "size": 2,
          "symbol": "circle"
         },
         "mode": "markers",
         "name": "D",
         "text": "",
         "type": "scatter",
         "x": [
          0.37904945688305364,
          1.1553236008254193,
          1.6969890092471622,
          -0.26805612805709716,
          0.9222956791397098,
          0.798379736515537,
          0.3545841546614589,
          0.9978239583053562,
          -1.3321492083741786,
          0.05666312908589525,
          0.7478667832529422,
          -0.21246474379562075,
          2.2956855650862518,
          -1.567536200835686,
          -0.3177343401130265,
          1.160609163321756,
          0.5755403019093225,
          1.1590622130402857,
          -0.6117973807611821,
          -0.04214790123959876,
          -1.167335021892236,
          -0.8889238602766412,
          -0.6874177995095404,
          0.23491229934004407,
          -0.5268035434849804,
          0.31606394499139395,
          -1.3146383330434688,
          1.526731697816121,
          0.4006621493463755,
          -0.161610886180504
         ],
         "xaxis": "x13",
         "y": [
          0.09790049863578758,
          1.2120523954095888,
          0.8876279767772142,
          -0.19728770002506377,
          -1.877549099287521,
          -0.6641797979377729,
          -0.23561594585793558,
          -0.46112302926184295,
          0.44932799618893254,
          0.32616076820790396,
          0.48522706788447506,
          1.7257275062009279,
          -0.5786341011281495,
          0.30340987230210176,
          0.602038534102397,
          -0.3927206542274248,
          -0.6730715632178651,
          -0.896713121450564,
          0.701798805735832,
          0.07664519490767432,
          -1.3284393373452033,
          0.6118173598979866,
          -1.390439058955952,
          -1.2784415237519355,
          0.388900123326237,
          -0.41105654182579093,
          0.3826947974342108,
          -0.06761446801247771,
          -0.39655068604752797,
          -0.04300471723810657
         ],
         "yaxis": "y13"
        },
        {
         "line": {
          "color": "rgba(128, 128, 128, 1.0)",
          "dash": "solid",
          "shape": "linear",
          "width": 1.3
         },
         "marker": {
          "size": 2,
          "symbol": "circle"
         },
         "mode": "markers",
         "name": "D",
         "text": "",
         "type": "scatter",
         "x": [
          0.4060011589905982,
          0.6959866985709183,
          -0.09187268790641648,
          0.8196471141084424,
          0.9510600021451722,
          -0.57663354303388,
          -1.6148335146223323,
          -0.8312079201207672,
          -0.6361055565535438,
          -1.031873693760971,
          -2.278612861973147,
          -0.4992312052364212,
          -2.1555841408323073,
          0.17978999043189037,
          -1.5054726213218554,
          0.28541582441169344,
          0.3313567135453369,
          -1.658129676423646,
          1.118325222071046,
          0.6862064146051308,
          0.09838931908775866,
          -2.0536725149107324,
          0.07695386234023052,
          -0.014781935129108274,
          0.5066945462984226,
          0.40199051763576144,
          -0.8929196284737861,
          -0.8959894328033265,
          -0.07703973081020832,
          2.3238030404337353
         ],
         "xaxis": "x14",
         "y": [
          0.09790049863578758,
          1.2120523954095888,
          0.8876279767772142,
          -0.19728770002506377,
          -1.877549099287521,
          -0.6641797979377729,
          -0.23561594585793558,
          -0.46112302926184295,
          0.44932799618893254,
          0.32616076820790396,
          0.48522706788447506,
          1.7257275062009279,
          -0.5786341011281495,
          0.30340987230210176,
          0.602038534102397,
          -0.3927206542274248,
          -0.6730715632178651,
          -0.896713121450564,
          0.701798805735832,
          0.07664519490767432,
          -1.3284393373452033,
          0.6118173598979866,
          -1.390439058955952,
          -1.2784415237519355,
          0.388900123326237,
          -0.41105654182579093,
          0.3826947974342108,
          -0.06761446801247771,
          -0.39655068604752797,
          -0.04300471723810657
         ],
         "yaxis": "y14"
        },
        {
         "line": {
          "color": "rgba(128, 128, 128, 1.0)",
          "dash": "solid",
          "shape": "linear",
          "width": 1.3
         },
         "marker": {
          "size": 2,
          "symbol": "circle"
         },
         "mode": "markers",
         "name": "D",
         "text": "",
         "type": "scatter",
         "x": [
          -0.6583813333865101,
          -0.6243174147171944,
          -1.7277153093321345,
          0.6156994130188095,
          1.8006132567561264,
          0.6963069341619541,
          1.6475171825501564,
          -3.111714477914328,
          -0.6646637800438707,
          1.311761596759695,
          -0.8781080287248739,
          -0.48175649871886467,
          1.3235838299933458,
          0.32455513345703196,
          -0.8822365711626433,
          -1.5898362500747403,
          -0.1352286183693309,
          -0.8874485347452742,
          0.4170182964373774,
          0.37373675611958695,
          -1.0590363614517722,
          -2.715948034158347,
          -0.4147647289227345,
          -1.7456116338051895,
          -0.48074489016648186,
          2.0420232239812495,
          -0.5484028561577265,
          -0.8198859021537481,
          0.2326853978481167,
          -1.7131471392023285
         ],
         "xaxis": "x15",
         "y": [
          0.09790049863578758,
          1.2120523954095888,
          0.8876279767772142,
          -0.19728770002506377,
          -1.877549099287521,
          -0.6641797979377729,
          -0.23561594585793558,
          -0.46112302926184295,
          0.44932799618893254,
          0.32616076820790396,
          0.48522706788447506,
          1.7257275062009279,
          -0.5786341011281495,
          0.30340987230210176,
          0.602038534102397,
          -0.3927206542274248,
          -0.6730715632178651,
          -0.896713121450564,
          0.701798805735832,
          0.07664519490767432,
          -1.3284393373452033,
          0.6118173598979866,
          -1.390439058955952,
          -1.2784415237519355,
          0.388900123326237,
          -0.41105654182579093,
          0.3826947974342108,
          -0.06761446801247771,
          -0.39655068604752797,
          -0.04300471723810657
         ],
         "yaxis": "y15"
        },
        {
         "histfunc": "count",
         "histnorm": "",
         "marker": {
          "color": "rgba(128, 0, 128, 1.0)",
          "line": {
           "color": "#4D5663",
           "width": 1.3
          }
         },
         "name": "D",
         "nbinsx": 10,
         "opacity": 0.8,
         "orientation": "v",
         "type": "histogram",
         "x": [
          0.09790049863578758,
          1.2120523954095888,
          0.8876279767772142,
          -0.19728770002506377,
          -1.877549099287521,
          -0.6641797979377729,
          -0.23561594585793558,
          -0.46112302926184295,
          0.44932799618893254,
          0.32616076820790396,
          0.48522706788447506,
          1.7257275062009279,
          -0.5786341011281495,
          0.30340987230210176,
          0.602038534102397,
          -0.3927206542274248,
          -0.6730715632178651,
          -0.896713121450564,
          0.701798805735832,
          0.07664519490767432,
          -1.3284393373452033,
          0.6118173598979866,
          -1.390439058955952,
          -1.2784415237519355,
          0.388900123326237,
          -0.41105654182579093,
          0.3826947974342108,
          -0.06761446801247771,
          -0.39655068604752797,
          -0.04300471723810657
         ],
         "xaxis": "x16",
         "yaxis": "y16"
        }
       ],
       "layout": {
        "bargap": 0.02,
        "legend": {
         "bgcolor": "#F5F6F9",
         "font": {
          "color": "#4D5663"
         }
        },
        "paper_bgcolor": "#F5F6F9",
        "plot_bgcolor": "#F5F6F9",
        "showlegend": false,
        "template": {
         "data": {
          "bar": [
           {
            "error_x": {
             "color": "#2a3f5f"
            },
            "error_y": {
             "color": "#2a3f5f"
            },
            "marker": {
             "line": {
              "color": "#E5ECF6",
              "width": 0.5
             },
             "pattern": {
              "fillmode": "overlay",
              "size": 10,
              "solidity": 0.2
             }
            },
            "type": "bar"
           }
          ],
          "barpolar": [
           {
            "marker": {
             "line": {
              "color": "#E5ECF6",
              "width": 0.5
             },
             "pattern": {
              "fillmode": "overlay",
              "size": 10,
              "solidity": 0.2
             }
            },
            "type": "barpolar"
           }
          ],
          "carpet": [
           {
            "aaxis": {
             "endlinecolor": "#2a3f5f",
             "gridcolor": "white",
             "linecolor": "white",
             "minorgridcolor": "white",
             "startlinecolor": "#2a3f5f"
            },
            "baxis": {
             "endlinecolor": "#2a3f5f",
             "gridcolor": "white",
             "linecolor": "white",
             "minorgridcolor": "white",
             "startlinecolor": "#2a3f5f"
            },
            "type": "carpet"
           }
          ],
          "choropleth": [
           {
            "colorbar": {
             "outlinewidth": 0,
             "ticks": ""
            },
            "type": "choropleth"
           }
          ],
          "contour": [
           {
            "colorbar": {
             "outlinewidth": 0,
             "ticks": ""
            },
            "colorscale": [
             [
              0,
              "#0d0887"
             ],
             [
              0.1111111111111111,
              "#46039f"
             ],
             [
              0.2222222222222222,
              "#7201a8"
             ],
             [
              0.3333333333333333,
              "#9c179e"
             ],
             [
              0.4444444444444444,
              "#bd3786"
             ],
             [
              0.5555555555555556,
              "#d8576b"
             ],
             [
              0.6666666666666666,
              "#ed7953"
             ],
             [
              0.7777777777777778,
              "#fb9f3a"
             ],
             [
              0.8888888888888888,
              "#fdca26"
             ],
             [
              1,
              "#f0f921"
             ]
            ],
            "type": "contour"
           }
          ],
          "contourcarpet": [
           {
            "colorbar": {
             "outlinewidth": 0,
             "ticks": ""
            },
            "type": "contourcarpet"
           }
          ],
          "heatmap": [
           {
            "colorbar": {
             "outlinewidth": 0,
             "ticks": ""
            },
            "colorscale": [
             [
              0,
              "#0d0887"
             ],
             [
              0.1111111111111111,
              "#46039f"
             ],
             [
              0.2222222222222222,
              "#7201a8"
             ],
             [
              0.3333333333333333,
              "#9c179e"
             ],
             [
              0.4444444444444444,
              "#bd3786"
             ],
             [
              0.5555555555555556,
              "#d8576b"
             ],
             [
              0.6666666666666666,
              "#ed7953"
             ],
             [
              0.7777777777777778,
              "#fb9f3a"
             ],
             [
              0.8888888888888888,
              "#fdca26"
             ],
             [
              1,
              "#f0f921"
             ]
            ],
            "type": "heatmap"
           }
          ],
          "heatmapgl": [
           {
            "colorbar": {
             "outlinewidth": 0,
             "ticks": ""
            },
            "colorscale": [
             [
              0,
              "#0d0887"
             ],
             [
              0.1111111111111111,
              "#46039f"
             ],
             [
              0.2222222222222222,
              "#7201a8"
             ],
             [
              0.3333333333333333,
              "#9c179e"
             ],
             [
              0.4444444444444444,
              "#bd3786"
             ],
             [
              0.5555555555555556,
              "#d8576b"
             ],
             [
              0.6666666666666666,
              "#ed7953"
             ],
             [
              0.7777777777777778,
              "#fb9f3a"
             ],
             [
              0.8888888888888888,
              "#fdca26"
             ],
             [
              1,
              "#f0f921"
             ]
            ],
            "type": "heatmapgl"
           }
          ],
          "histogram": [
           {
            "marker": {
             "pattern": {
              "fillmode": "overlay",
              "size": 10,
              "solidity": 0.2
             }
            },
            "type": "histogram"
           }
          ],
          "histogram2d": [
           {
            "colorbar": {
             "outlinewidth": 0,
             "ticks": ""
            },
            "colorscale": [
             [
              0,
              "#0d0887"
             ],
             [
              0.1111111111111111,
              "#46039f"
             ],
             [
              0.2222222222222222,
              "#7201a8"
             ],
             [
              0.3333333333333333,
              "#9c179e"
             ],
             [
              0.4444444444444444,
              "#bd3786"
             ],
             [
              0.5555555555555556,
              "#d8576b"
             ],
             [
              0.6666666666666666,
              "#ed7953"
             ],
             [
              0.7777777777777778,
              "#fb9f3a"
             ],
             [
              0.8888888888888888,
              "#fdca26"
             ],
             [
              1,
              "#f0f921"
             ]
            ],
            "type": "histogram2d"
           }
          ],
          "histogram2dcontour": [
           {
            "colorbar": {
             "outlinewidth": 0,
             "ticks": ""
            },
            "colorscale": [
             [
              0,
              "#0d0887"
             ],
             [
              0.1111111111111111,
              "#46039f"
             ],
             [
              0.2222222222222222,
              "#7201a8"
             ],
             [
              0.3333333333333333,
              "#9c179e"
             ],
             [
              0.4444444444444444,
              "#bd3786"
             ],
             [
              0.5555555555555556,
              "#d8576b"
             ],
             [
              0.6666666666666666,
              "#ed7953"
             ],
             [
              0.7777777777777778,
              "#fb9f3a"
             ],
             [
              0.8888888888888888,
              "#fdca26"
             ],
             [
              1,
              "#f0f921"
             ]
            ],
            "type": "histogram2dcontour"
           }
          ],
          "mesh3d": [
           {
            "colorbar": {
             "outlinewidth": 0,
             "ticks": ""
            },
            "type": "mesh3d"
           }
          ],
          "parcoords": [
           {
            "line": {
             "colorbar": {
              "outlinewidth": 0,
              "ticks": ""
             }
            },
            "type": "parcoords"
           }
          ],
          "pie": [
           {
            "automargin": true,
            "type": "pie"
           }
          ],
          "scatter": [
           {
            "marker": {
             "colorbar": {
              "outlinewidth": 0,
              "ticks": ""
             }
            },
            "type": "scatter"
           }
          ],
          "scatter3d": [
           {
            "line": {
             "colorbar": {
              "outlinewidth": 0,
              "ticks": ""
             }
            },
            "marker": {
             "colorbar": {
              "outlinewidth": 0,
              "ticks": ""
             }
            },
            "type": "scatter3d"
           }
          ],
          "scattercarpet": [
           {
            "marker": {
             "colorbar": {
              "outlinewidth": 0,
              "ticks": ""
             }
            },
            "type": "scattercarpet"
           }
          ],
          "scattergeo": [
           {
            "marker": {
             "colorbar": {
              "outlinewidth": 0,
              "ticks": ""
             }
            },
            "type": "scattergeo"
           }
          ],
          "scattergl": [
           {
            "marker": {
             "colorbar": {
              "outlinewidth": 0,
              "ticks": ""
             }
            },
            "type": "scattergl"
           }
          ],
          "scattermapbox": [
           {
            "marker": {
             "colorbar": {
              "outlinewidth": 0,
              "ticks": ""
             }
            },
            "type": "scattermapbox"
           }
          ],
          "scatterpolar": [
           {
            "marker": {
             "colorbar": {
              "outlinewidth": 0,
              "ticks": ""
             }
            },
            "type": "scatterpolar"
           }
          ],
          "scatterpolargl": [
           {
            "marker": {
             "colorbar": {
              "outlinewidth": 0,
              "ticks": ""
             }
            },
            "type": "scatterpolargl"
           }
          ],
          "scatterternary": [
           {
            "marker": {
             "colorbar": {
              "outlinewidth": 0,
              "ticks": ""
             }
            },
            "type": "scatterternary"
           }
          ],
          "surface": [
           {
            "colorbar": {
             "outlinewidth": 0,
             "ticks": ""
            },
            "colorscale": [
             [
              0,
              "#0d0887"
             ],
             [
              0.1111111111111111,
              "#46039f"
             ],
             [
              0.2222222222222222,
              "#7201a8"
             ],
             [
              0.3333333333333333,
              "#9c179e"
             ],
             [
              0.4444444444444444,
              "#bd3786"
             ],
             [
              0.5555555555555556,
              "#d8576b"
             ],
             [
              0.6666666666666666,
              "#ed7953"
             ],
             [
              0.7777777777777778,
              "#fb9f3a"
             ],
             [
              0.8888888888888888,
              "#fdca26"
             ],
             [
              1,
              "#f0f921"
             ]
            ],
            "type": "surface"
           }
          ],
          "table": [
           {
            "cells": {
             "fill": {
              "color": "#EBF0F8"
             },
             "line": {
              "color": "white"
             }
            },
            "header": {
             "fill": {
              "color": "#C8D4E3"
             },
             "line": {
              "color": "white"
             }
            },
            "type": "table"
           }
          ]
         },
         "layout": {
          "annotationdefaults": {
           "arrowcolor": "#2a3f5f",
           "arrowhead": 0,
           "arrowwidth": 1
          },
          "autotypenumbers": "strict",
          "coloraxis": {
           "colorbar": {
            "outlinewidth": 0,
            "ticks": ""
           }
          },
          "colorscale": {
           "diverging": [
            [
             0,
             "#8e0152"
            ],
            [
             0.1,
             "#c51b7d"
            ],
            [
             0.2,
             "#de77ae"
            ],
            [
             0.3,
             "#f1b6da"
            ],
            [
             0.4,
             "#fde0ef"
            ],
            [
             0.5,
             "#f7f7f7"
            ],
            [
             0.6,
             "#e6f5d0"
            ],
            [
             0.7,
             "#b8e186"
            ],
            [
             0.8,
             "#7fbc41"
            ],
            [
             0.9,
             "#4d9221"
            ],
            [
             1,
             "#276419"
            ]
           ],
           "sequential": [
            [
             0,
             "#0d0887"
            ],
            [
             0.1111111111111111,
             "#46039f"
            ],
            [
             0.2222222222222222,
             "#7201a8"
            ],
            [
             0.3333333333333333,
             "#9c179e"
            ],
            [
             0.4444444444444444,
             "#bd3786"
            ],
            [
             0.5555555555555556,
             "#d8576b"
            ],
            [
             0.6666666666666666,
             "#ed7953"
            ],
            [
             0.7777777777777778,
             "#fb9f3a"
            ],
            [
             0.8888888888888888,
             "#fdca26"
            ],
            [
             1,
             "#f0f921"
            ]
           ],
           "sequentialminus": [
            [
             0,
             "#0d0887"
            ],
            [
             0.1111111111111111,
             "#46039f"
            ],
            [
             0.2222222222222222,
             "#7201a8"
            ],
            [
             0.3333333333333333,
             "#9c179e"
            ],
            [
             0.4444444444444444,
             "#bd3786"
            ],
            [
             0.5555555555555556,
             "#d8576b"
            ],
            [
             0.6666666666666666,
             "#ed7953"
            ],
            [
             0.7777777777777778,
             "#fb9f3a"
            ],
            [
             0.8888888888888888,
             "#fdca26"
            ],
            [
             1,
             "#f0f921"
            ]
           ]
          },
          "colorway": [
           "#636efa",
           "#EF553B",
           "#00cc96",
           "#ab63fa",
           "#FFA15A",
           "#19d3f3",
           "#FF6692",
           "#B6E880",
           "#FF97FF",
           "#FECB52"
          ],
          "font": {
           "color": "#2a3f5f"
          },
          "geo": {
           "bgcolor": "white",
           "lakecolor": "white",
           "landcolor": "#E5ECF6",
           "showlakes": true,
           "showland": true,
           "subunitcolor": "white"
          },
          "hoverlabel": {
           "align": "left"
          },
          "hovermode": "closest",
          "mapbox": {
           "style": "light"
          },
          "paper_bgcolor": "white",
          "plot_bgcolor": "#E5ECF6",
          "polar": {
           "angularaxis": {
            "gridcolor": "white",
            "linecolor": "white",
            "ticks": ""
           },
           "bgcolor": "#E5ECF6",
           "radialaxis": {
            "gridcolor": "white",
            "linecolor": "white",
            "ticks": ""
           }
          },
          "scene": {
           "xaxis": {
            "backgroundcolor": "#E5ECF6",
            "gridcolor": "white",
            "gridwidth": 2,
            "linecolor": "white",
            "showbackground": true,
            "ticks": "",
            "zerolinecolor": "white"
           },
           "yaxis": {
            "backgroundcolor": "#E5ECF6",
            "gridcolor": "white",
            "gridwidth": 2,
            "linecolor": "white",
            "showbackground": true,
            "ticks": "",
            "zerolinecolor": "white"
           },
           "zaxis": {
            "backgroundcolor": "#E5ECF6",
            "gridcolor": "white",
            "gridwidth": 2,
            "linecolor": "white",
            "showbackground": true,
            "ticks": "",
            "zerolinecolor": "white"
           }
          },
          "shapedefaults": {
           "line": {
            "color": "#2a3f5f"
           }
          },
          "ternary": {
           "aaxis": {
            "gridcolor": "white",
            "linecolor": "white",
            "ticks": ""
           },
           "baxis": {
            "gridcolor": "white",
            "linecolor": "white",
            "ticks": ""
           },
           "bgcolor": "#E5ECF6",
           "caxis": {
            "gridcolor": "white",
            "linecolor": "white",
            "ticks": ""
           }
          },
          "title": {
           "x": 0.05
          },
          "xaxis": {
           "automargin": true,
           "gridcolor": "white",
           "linecolor": "white",
           "ticks": "",
           "title": {
            "standoff": 15
           },
           "zerolinecolor": "white",
           "zerolinewidth": 2
          },
          "yaxis": {
           "automargin": true,
           "gridcolor": "white",
           "linecolor": "white",
           "ticks": "",
           "title": {
            "standoff": 15
           },
           "zerolinecolor": "white",
           "zerolinewidth": 2
          }
         }
        },
        "title": {
         "font": {
          "color": "#4D5663"
         }
        },
        "xaxis": {
         "anchor": "y",
         "domain": [
          0,
          0.2125
         ],
         "gridcolor": "#E1E5ED",
         "showgrid": false,
         "tickfont": {
          "color": "#4D5663"
         },
         "title": {
          "font": {
           "color": "#4D5663"
          },
          "text": ""
         },
         "zerolinecolor": "#E1E5ED"
        },
        "xaxis10": {
         "anchor": "y10",
         "domain": [
          0.2625,
          0.475
         ],
         "gridcolor": "#E1E5ED",
         "showgrid": false,
         "tickfont": {
          "color": "#4D5663"
         },
         "title": {
          "font": {
           "color": "#4D5663"
          },
          "text": ""
         },
         "zerolinecolor": "#E1E5ED"
        },
        "xaxis11": {
         "anchor": "y11",
         "domain": [
          0.525,
          0.7375
         ],
         "gridcolor": "#E1E5ED",
         "showgrid": false,
         "tickfont": {
          "color": "#4D5663"
         },
         "title": {
          "font": {
           "color": "#4D5663"
          },
          "text": ""
         },
         "zerolinecolor": "#E1E5ED"
        },
        "xaxis12": {
         "anchor": "y12",
         "domain": [
          0.7875,
          1
         ],
         "gridcolor": "#E1E5ED",
         "showgrid": false,
         "tickfont": {
          "color": "#4D5663"
         },
         "title": {
          "font": {
           "color": "#4D5663"
          },
          "text": ""
         },
         "zerolinecolor": "#E1E5ED"
        },
        "xaxis13": {
         "anchor": "y13",
         "domain": [
          0,
          0.2125
         ],
         "gridcolor": "#E1E5ED",
         "showgrid": false,
         "tickfont": {
          "color": "#4D5663"
         },
         "title": {
          "font": {
           "color": "#4D5663"
          },
          "text": ""
         },
         "zerolinecolor": "#E1E5ED"
        },
        "xaxis14": {
         "anchor": "y14",
         "domain": [
          0.2625,
          0.475
         ],
         "gridcolor": "#E1E5ED",
         "showgrid": false,
         "tickfont": {
          "color": "#4D5663"
         },
         "title": {
          "font": {
           "color": "#4D5663"
          },
          "text": ""
         },
         "zerolinecolor": "#E1E5ED"
        },
        "xaxis15": {
         "anchor": "y15",
         "domain": [
          0.525,
          0.7375
         ],
         "gridcolor": "#E1E5ED",
         "showgrid": false,
         "tickfont": {
          "color": "#4D5663"
         },
         "title": {
          "font": {
           "color": "#4D5663"
          },
          "text": ""
         },
         "zerolinecolor": "#E1E5ED"
        },
        "xaxis16": {
         "anchor": "y16",
         "domain": [
          0.7875,
          1
         ],
         "gridcolor": "#E1E5ED",
         "showgrid": false,
         "tickfont": {
          "color": "#4D5663"
         },
         "title": {
          "font": {
           "color": "#4D5663"
          },
          "text": ""
         },
         "zerolinecolor": "#E1E5ED"
        },
        "xaxis2": {
         "anchor": "y2",
         "domain": [
          0.2625,
          0.475
         ],
         "gridcolor": "#E1E5ED",
         "showgrid": false,
         "tickfont": {
          "color": "#4D5663"
         },
         "title": {
          "font": {
           "color": "#4D5663"
          },
          "text": ""
         },
         "zerolinecolor": "#E1E5ED"
        },
        "xaxis3": {
         "anchor": "y3",
         "domain": [
          0.525,
          0.7375
         ],
         "gridcolor": "#E1E5ED",
         "showgrid": false,
         "tickfont": {
          "color": "#4D5663"
         },
         "title": {
          "font": {
           "color": "#4D5663"
          },
          "text": ""
         },
         "zerolinecolor": "#E1E5ED"
        },
        "xaxis4": {
         "anchor": "y4",
         "domain": [
          0.7875,
          1
         ],
         "gridcolor": "#E1E5ED",
         "showgrid": false,
         "tickfont": {
          "color": "#4D5663"
         },
         "title": {
          "font": {
           "color": "#4D5663"
          },
          "text": ""
         },
         "zerolinecolor": "#E1E5ED"
        },
        "xaxis5": {
         "anchor": "y5",
         "domain": [
          0,
          0.2125
         ],
         "gridcolor": "#E1E5ED",
         "showgrid": false,
         "tickfont": {
          "color": "#4D5663"
         },
         "title": {
          "font": {
           "color": "#4D5663"
          },
          "text": ""
         },
         "zerolinecolor": "#E1E5ED"
        },
        "xaxis6": {
         "anchor": "y6",
         "domain": [
          0.2625,
          0.475
         ],
         "gridcolor": "#E1E5ED",
         "showgrid": false,
         "tickfont": {
          "color": "#4D5663"
         },
         "title": {
          "font": {
           "color": "#4D5663"
          },
          "text": ""
         },
         "zerolinecolor": "#E1E5ED"
        },
        "xaxis7": {
         "anchor": "y7",
         "domain": [
          0.525,
          0.7375
         ],
         "gridcolor": "#E1E5ED",
         "showgrid": false,
         "tickfont": {
          "color": "#4D5663"
         },
         "title": {
          "font": {
           "color": "#4D5663"
          },
          "text": ""
         },
         "zerolinecolor": "#E1E5ED"
        },
        "xaxis8": {
         "anchor": "y8",
         "domain": [
          0.7875,
          1
         ],
         "gridcolor": "#E1E5ED",
         "showgrid": false,
         "tickfont": {
          "color": "#4D5663"
         },
         "title": {
          "font": {
           "color": "#4D5663"
          },
          "text": ""
         },
         "zerolinecolor": "#E1E5ED"
        },
        "xaxis9": {
         "anchor": "y9",
         "domain": [
          0,
          0.2125
         ],
         "gridcolor": "#E1E5ED",
         "showgrid": false,
         "tickfont": {
          "color": "#4D5663"
         },
         "title": {
          "font": {
           "color": "#4D5663"
          },
          "text": ""
         },
         "zerolinecolor": "#E1E5ED"
        },
        "yaxis": {
         "anchor": "x",
         "domain": [
          0.8025,
          1
         ],
         "gridcolor": "#E1E5ED",
         "showgrid": false,
         "tickfont": {
          "color": "#4D5663"
         },
         "title": {
          "font": {
           "color": "#4D5663"
          },
          "text": ""
         },
         "zerolinecolor": "#E1E5ED"
        },
        "yaxis10": {
         "anchor": "x10",
         "domain": [
          0.2675,
          0.465
         ],
         "gridcolor": "#E1E5ED",
         "showgrid": false,
         "tickfont": {
          "color": "#4D5663"
         },
         "title": {
          "font": {
           "color": "#4D5663"
          },
          "text": ""
         },
         "zerolinecolor": "#E1E5ED"
        },
        "yaxis11": {
         "anchor": "x11",
         "domain": [
          0.2675,
          0.465
         ],
         "gridcolor": "#E1E5ED",
         "showgrid": false,
         "tickfont": {
          "color": "#4D5663"
         },
         "title": {
          "font": {
           "color": "#4D5663"
          },
          "text": ""
         },
         "zerolinecolor": "#E1E5ED"
        },
        "yaxis12": {
         "anchor": "x12",
         "domain": [
          0.2675,
          0.465
         ],
         "gridcolor": "#E1E5ED",
         "showgrid": false,
         "tickfont": {
          "color": "#4D5663"
         },
         "title": {
          "font": {
           "color": "#4D5663"
          },
          "text": ""
         },
         "zerolinecolor": "#E1E5ED"
        },
        "yaxis13": {
         "anchor": "x13",
         "domain": [
          0,
          0.1975
         ],
         "gridcolor": "#E1E5ED",
         "showgrid": false,
         "tickfont": {
          "color": "#4D5663"
         },
         "title": {
          "font": {
           "color": "#4D5663"
          },
          "text": ""
         },
         "zerolinecolor": "#E1E5ED"
        },
        "yaxis14": {
         "anchor": "x14",
         "domain": [
          0,
          0.1975
         ],
         "gridcolor": "#E1E5ED",
         "showgrid": false,
         "tickfont": {
          "color": "#4D5663"
         },
         "title": {
          "font": {
           "color": "#4D5663"
          },
          "text": ""
         },
         "zerolinecolor": "#E1E5ED"
        },
        "yaxis15": {
         "anchor": "x15",
         "domain": [
          0,
          0.1975
         ],
         "gridcolor": "#E1E5ED",
         "showgrid": false,
         "tickfont": {
          "color": "#4D5663"
         },
         "title": {
          "font": {
           "color": "#4D5663"
          },
          "text": ""
         },
         "zerolinecolor": "#E1E5ED"
        },
        "yaxis16": {
         "anchor": "x16",
         "domain": [
          0,
          0.1975
         ],
         "gridcolor": "#E1E5ED",
         "showgrid": false,
         "tickfont": {
          "color": "#4D5663"
         },
         "title": {
          "font": {
           "color": "#4D5663"
          },
          "text": ""
         },
         "zerolinecolor": "#E1E5ED"
        },
        "yaxis2": {
         "anchor": "x2",
         "domain": [
          0.8025,
          1
         ],
         "gridcolor": "#E1E5ED",
         "showgrid": false,
         "tickfont": {
          "color": "#4D5663"
         },
         "title": {
          "font": {
           "color": "#4D5663"
          },
          "text": ""
         },
         "zerolinecolor": "#E1E5ED"
        },
        "yaxis3": {
         "anchor": "x3",
         "domain": [
          0.8025,
          1
         ],
         "gridcolor": "#E1E5ED",
         "showgrid": false,
         "tickfont": {
          "color": "#4D5663"
         },
         "title": {
          "font": {
           "color": "#4D5663"
          },
          "text": ""
         },
         "zerolinecolor": "#E1E5ED"
        },
        "yaxis4": {
         "anchor": "x4",
         "domain": [
          0.8025,
          1
         ],
         "gridcolor": "#E1E5ED",
         "showgrid": false,
         "tickfont": {
          "color": "#4D5663"
         },
         "title": {
          "font": {
           "color": "#4D5663"
          },
          "text": ""
         },
         "zerolinecolor": "#E1E5ED"
        },
        "yaxis5": {
         "anchor": "x5",
         "domain": [
          0.535,
          0.7325
         ],
         "gridcolor": "#E1E5ED",
         "showgrid": false,
         "tickfont": {
          "color": "#4D5663"
         },
         "title": {
          "font": {
           "color": "#4D5663"
          },
          "text": ""
         },
         "zerolinecolor": "#E1E5ED"
        },
        "yaxis6": {
         "anchor": "x6",
         "domain": [
          0.535,
          0.7325
         ],
         "gridcolor": "#E1E5ED",
         "showgrid": false,
         "tickfont": {
          "color": "#4D5663"
         },
         "title": {
          "font": {
           "color": "#4D5663"
          },
          "text": ""
         },
         "zerolinecolor": "#E1E5ED"
        },
        "yaxis7": {
         "anchor": "x7",
         "domain": [
          0.535,
          0.7325
         ],
         "gridcolor": "#E1E5ED",
         "showgrid": false,
         "tickfont": {
          "color": "#4D5663"
         },
         "title": {
          "font": {
           "color": "#4D5663"
          },
          "text": ""
         },
         "zerolinecolor": "#E1E5ED"
        },
        "yaxis8": {
         "anchor": "x8",
         "domain": [
          0.535,
          0.7325
         ],
         "gridcolor": "#E1E5ED",
         "showgrid": false,
         "tickfont": {
          "color": "#4D5663"
         },
         "title": {
          "font": {
           "color": "#4D5663"
          },
          "text": ""
         },
         "zerolinecolor": "#E1E5ED"
        },
        "yaxis9": {
         "anchor": "x9",
         "domain": [
          0.2675,
          0.465
         ],
         "gridcolor": "#E1E5ED",
         "showgrid": false,
         "tickfont": {
          "color": "#4D5663"
         },
         "title": {
          "font": {
           "color": "#4D5663"
          },
          "text": ""
         },
         "zerolinecolor": "#E1E5ED"
        }
       }
      },
      "text/html": [
       "<div>                            <div id=\"8583cac8-3757-431c-9b29-ace64cf14959\" class=\"plotly-graph-div\" style=\"height:525px; width:100%;\"></div>            <script type=\"text/javascript\">                require([\"plotly\"], function(Plotly) {                    window.PLOTLYENV=window.PLOTLYENV || {};\n",
       "                    window.PLOTLYENV.BASE_URL='https://plot.ly';                                    if (document.getElementById(\"8583cac8-3757-431c-9b29-ace64cf14959\")) {                    Plotly.newPlot(                        \"8583cac8-3757-431c-9b29-ace64cf14959\",                        [{\"histfunc\":\"count\",\"histnorm\":\"\",\"marker\":{\"color\":\"rgba(255, 153, 51, 1.0)\",\"line\":{\"color\":\"#4D5663\",\"width\":1.3}},\"name\":\"A\",\"nbinsx\":10,\"opacity\":0.8,\"orientation\":\"v\",\"x\":[0.37904945688305364,1.1553236008254193,1.6969890092471622,-0.26805612805709716,0.9222956791397098,0.798379736515537,0.3545841546614589,0.9978239583053562,-1.3321492083741786,0.05666312908589525,0.7478667832529422,-0.21246474379562075,2.2956855650862518,-1.567536200835686,-0.3177343401130265,1.160609163321756,0.5755403019093225,1.1590622130402857,-0.6117973807611821,-0.04214790123959876,-1.167335021892236,-0.8889238602766412,-0.6874177995095404,0.23491229934004407,-0.5268035434849804,0.31606394499139395,-1.3146383330434688,1.526731697816121,0.4006621493463755,-0.161610886180504],\"xaxis\":\"x\",\"yaxis\":\"y\",\"type\":\"histogram\"},{\"line\":{\"color\":\"rgba(128, 128, 128, 1.0)\",\"dash\":\"solid\",\"shape\":\"linear\",\"width\":1.3},\"marker\":{\"size\":2,\"symbol\":\"circle\"},\"mode\":\"markers\",\"name\":\"A\",\"text\":\"\",\"x\":[0.4060011589905982,0.6959866985709183,-0.09187268790641648,0.8196471141084424,0.9510600021451722,-0.57663354303388,-1.6148335146223323,-0.8312079201207672,-0.6361055565535438,-1.031873693760971,-2.278612861973147,-0.4992312052364212,-2.1555841408323073,0.17978999043189037,-1.5054726213218554,0.28541582441169344,0.3313567135453369,-1.658129676423646,1.118325222071046,0.6862064146051308,0.09838931908775866,-2.0536725149107324,0.07695386234023052,-0.014781935129108274,0.5066945462984226,0.40199051763576144,-0.8929196284737861,-0.8959894328033265,-0.07703973081020832,2.3238030404337353],\"xaxis\":\"x2\",\"y\":[0.37904945688305364,1.1553236008254193,1.6969890092471622,-0.26805612805709716,0.9222956791397098,0.798379736515537,0.3545841546614589,0.9978239583053562,-1.3321492083741786,0.05666312908589525,0.7478667832529422,-0.21246474379562075,2.2956855650862518,-1.567536200835686,-0.3177343401130265,1.160609163321756,0.5755403019093225,1.1590622130402857,-0.6117973807611821,-0.04214790123959876,-1.167335021892236,-0.8889238602766412,-0.6874177995095404,0.23491229934004407,-0.5268035434849804,0.31606394499139395,-1.3146383330434688,1.526731697816121,0.4006621493463755,-0.161610886180504],\"yaxis\":\"y2\",\"type\":\"scatter\"},{\"line\":{\"color\":\"rgba(128, 128, 128, 1.0)\",\"dash\":\"solid\",\"shape\":\"linear\",\"width\":1.3},\"marker\":{\"size\":2,\"symbol\":\"circle\"},\"mode\":\"markers\",\"name\":\"A\",\"text\":\"\",\"x\":[-0.6583813333865101,-0.6243174147171944,-1.7277153093321345,0.6156994130188095,1.8006132567561264,0.6963069341619541,1.6475171825501564,-3.111714477914328,-0.6646637800438707,1.311761596759695,-0.8781080287248739,-0.48175649871886467,1.3235838299933458,0.32455513345703196,-0.8822365711626433,-1.5898362500747403,-0.1352286183693309,-0.8874485347452742,0.4170182964373774,0.37373675611958695,-1.0590363614517722,-2.715948034158347,-0.4147647289227345,-1.7456116338051895,-0.48074489016648186,2.0420232239812495,-0.5484028561577265,-0.8198859021537481,0.2326853978481167,-1.7131471392023285],\"xaxis\":\"x3\",\"y\":[0.37904945688305364,1.1553236008254193,1.6969890092471622,-0.26805612805709716,0.9222956791397098,0.798379736515537,0.3545841546614589,0.9978239583053562,-1.3321492083741786,0.05666312908589525,0.7478667832529422,-0.21246474379562075,2.2956855650862518,-1.567536200835686,-0.3177343401130265,1.160609163321756,0.5755403019093225,1.1590622130402857,-0.6117973807611821,-0.04214790123959876,-1.167335021892236,-0.8889238602766412,-0.6874177995095404,0.23491229934004407,-0.5268035434849804,0.31606394499139395,-1.3146383330434688,1.526731697816121,0.4006621493463755,-0.161610886180504],\"yaxis\":\"y3\",\"type\":\"scatter\"},{\"line\":{\"color\":\"rgba(128, 128, 128, 1.0)\",\"dash\":\"solid\",\"shape\":\"linear\",\"width\":1.3},\"marker\":{\"size\":2,\"symbol\":\"circle\"},\"mode\":\"markers\",\"name\":\"A\",\"text\":\"\",\"x\":[0.09790049863578758,1.2120523954095888,0.8876279767772142,-0.19728770002506377,-1.877549099287521,-0.6641797979377729,-0.23561594585793558,-0.46112302926184295,0.44932799618893254,0.32616076820790396,0.48522706788447506,1.7257275062009279,-0.5786341011281495,0.30340987230210176,0.602038534102397,-0.3927206542274248,-0.6730715632178651,-0.896713121450564,0.701798805735832,0.07664519490767432,-1.3284393373452033,0.6118173598979866,-1.390439058955952,-1.2784415237519355,0.388900123326237,-0.41105654182579093,0.3826947974342108,-0.06761446801247771,-0.39655068604752797,-0.04300471723810657],\"xaxis\":\"x4\",\"y\":[0.37904945688305364,1.1553236008254193,1.6969890092471622,-0.26805612805709716,0.9222956791397098,0.798379736515537,0.3545841546614589,0.9978239583053562,-1.3321492083741786,0.05666312908589525,0.7478667832529422,-0.21246474379562075,2.2956855650862518,-1.567536200835686,-0.3177343401130265,1.160609163321756,0.5755403019093225,1.1590622130402857,-0.6117973807611821,-0.04214790123959876,-1.167335021892236,-0.8889238602766412,-0.6874177995095404,0.23491229934004407,-0.5268035434849804,0.31606394499139395,-1.3146383330434688,1.526731697816121,0.4006621493463755,-0.161610886180504],\"yaxis\":\"y4\",\"type\":\"scatter\"},{\"line\":{\"color\":\"rgba(128, 128, 128, 1.0)\",\"dash\":\"solid\",\"shape\":\"linear\",\"width\":1.3},\"marker\":{\"size\":2,\"symbol\":\"circle\"},\"mode\":\"markers\",\"name\":\"B\",\"text\":\"\",\"x\":[0.37904945688305364,1.1553236008254193,1.6969890092471622,-0.26805612805709716,0.9222956791397098,0.798379736515537,0.3545841546614589,0.9978239583053562,-1.3321492083741786,0.05666312908589525,0.7478667832529422,-0.21246474379562075,2.2956855650862518,-1.567536200835686,-0.3177343401130265,1.160609163321756,0.5755403019093225,1.1590622130402857,-0.6117973807611821,-0.04214790123959876,-1.167335021892236,-0.8889238602766412,-0.6874177995095404,0.23491229934004407,-0.5268035434849804,0.31606394499139395,-1.3146383330434688,1.526731697816121,0.4006621493463755,-0.161610886180504],\"xaxis\":\"x5\",\"y\":[0.4060011589905982,0.6959866985709183,-0.09187268790641648,0.8196471141084424,0.9510600021451722,-0.57663354303388,-1.6148335146223323,-0.8312079201207672,-0.6361055565535438,-1.031873693760971,-2.278612861973147,-0.4992312052364212,-2.1555841408323073,0.17978999043189037,-1.5054726213218554,0.28541582441169344,0.3313567135453369,-1.658129676423646,1.118325222071046,0.6862064146051308,0.09838931908775866,-2.0536725149107324,0.07695386234023052,-0.014781935129108274,0.5066945462984226,0.40199051763576144,-0.8929196284737861,-0.8959894328033265,-0.07703973081020832,2.3238030404337353],\"yaxis\":\"y5\",\"type\":\"scatter\"},{\"histfunc\":\"count\",\"histnorm\":\"\",\"marker\":{\"color\":\"rgba(55, 128, 191, 1.0)\",\"line\":{\"color\":\"#4D5663\",\"width\":1.3}},\"name\":\"B\",\"nbinsx\":10,\"opacity\":0.8,\"orientation\":\"v\",\"x\":[0.4060011589905982,0.6959866985709183,-0.09187268790641648,0.8196471141084424,0.9510600021451722,-0.57663354303388,-1.6148335146223323,-0.8312079201207672,-0.6361055565535438,-1.031873693760971,-2.278612861973147,-0.4992312052364212,-2.1555841408323073,0.17978999043189037,-1.5054726213218554,0.28541582441169344,0.3313567135453369,-1.658129676423646,1.118325222071046,0.6862064146051308,0.09838931908775866,-2.0536725149107324,0.07695386234023052,-0.014781935129108274,0.5066945462984226,0.40199051763576144,-0.8929196284737861,-0.8959894328033265,-0.07703973081020832,2.3238030404337353],\"xaxis\":\"x6\",\"yaxis\":\"y6\",\"type\":\"histogram\"},{\"line\":{\"color\":\"rgba(128, 128, 128, 1.0)\",\"dash\":\"solid\",\"shape\":\"linear\",\"width\":1.3},\"marker\":{\"size\":2,\"symbol\":\"circle\"},\"mode\":\"markers\",\"name\":\"B\",\"text\":\"\",\"x\":[-0.6583813333865101,-0.6243174147171944,-1.7277153093321345,0.6156994130188095,1.8006132567561264,0.6963069341619541,1.6475171825501564,-3.111714477914328,-0.6646637800438707,1.311761596759695,-0.8781080287248739,-0.48175649871886467,1.3235838299933458,0.32455513345703196,-0.8822365711626433,-1.5898362500747403,-0.1352286183693309,-0.8874485347452742,0.4170182964373774,0.37373675611958695,-1.0590363614517722,-2.715948034158347,-0.4147647289227345,-1.7456116338051895,-0.48074489016648186,2.0420232239812495,-0.5484028561577265,-0.8198859021537481,0.2326853978481167,-1.7131471392023285],\"xaxis\":\"x7\",\"y\":[0.4060011589905982,0.6959866985709183,-0.09187268790641648,0.8196471141084424,0.9510600021451722,-0.57663354303388,-1.6148335146223323,-0.8312079201207672,-0.6361055565535438,-1.031873693760971,-2.278612861973147,-0.4992312052364212,-2.1555841408323073,0.17978999043189037,-1.5054726213218554,0.28541582441169344,0.3313567135453369,-1.658129676423646,1.118325222071046,0.6862064146051308,0.09838931908775866,-2.0536725149107324,0.07695386234023052,-0.014781935129108274,0.5066945462984226,0.40199051763576144,-0.8929196284737861,-0.8959894328033265,-0.07703973081020832,2.3238030404337353],\"yaxis\":\"y7\",\"type\":\"scatter\"},{\"line\":{\"color\":\"rgba(128, 128, 128, 1.0)\",\"dash\":\"solid\",\"shape\":\"linear\",\"width\":1.3},\"marker\":{\"size\":2,\"symbol\":\"circle\"},\"mode\":\"markers\",\"name\":\"B\",\"text\":\"\",\"x\":[0.09790049863578758,1.2120523954095888,0.8876279767772142,-0.19728770002506377,-1.877549099287521,-0.6641797979377729,-0.23561594585793558,-0.46112302926184295,0.44932799618893254,0.32616076820790396,0.48522706788447506,1.7257275062009279,-0.5786341011281495,0.30340987230210176,0.602038534102397,-0.3927206542274248,-0.6730715632178651,-0.896713121450564,0.701798805735832,0.07664519490767432,-1.3284393373452033,0.6118173598979866,-1.390439058955952,-1.2784415237519355,0.388900123326237,-0.41105654182579093,0.3826947974342108,-0.06761446801247771,-0.39655068604752797,-0.04300471723810657],\"xaxis\":\"x8\",\"y\":[0.4060011589905982,0.6959866985709183,-0.09187268790641648,0.8196471141084424,0.9510600021451722,-0.57663354303388,-1.6148335146223323,-0.8312079201207672,-0.6361055565535438,-1.031873693760971,-2.278612861973147,-0.4992312052364212,-2.1555841408323073,0.17978999043189037,-1.5054726213218554,0.28541582441169344,0.3313567135453369,-1.658129676423646,1.118325222071046,0.6862064146051308,0.09838931908775866,-2.0536725149107324,0.07695386234023052,-0.014781935129108274,0.5066945462984226,0.40199051763576144,-0.8929196284737861,-0.8959894328033265,-0.07703973081020832,2.3238030404337353],\"yaxis\":\"y8\",\"type\":\"scatter\"},{\"line\":{\"color\":\"rgba(128, 128, 128, 1.0)\",\"dash\":\"solid\",\"shape\":\"linear\",\"width\":1.3},\"marker\":{\"size\":2,\"symbol\":\"circle\"},\"mode\":\"markers\",\"name\":\"C\",\"text\":\"\",\"x\":[0.37904945688305364,1.1553236008254193,1.6969890092471622,-0.26805612805709716,0.9222956791397098,0.798379736515537,0.3545841546614589,0.9978239583053562,-1.3321492083741786,0.05666312908589525,0.7478667832529422,-0.21246474379562075,2.2956855650862518,-1.567536200835686,-0.3177343401130265,1.160609163321756,0.5755403019093225,1.1590622130402857,-0.6117973807611821,-0.04214790123959876,-1.167335021892236,-0.8889238602766412,-0.6874177995095404,0.23491229934004407,-0.5268035434849804,0.31606394499139395,-1.3146383330434688,1.526731697816121,0.4006621493463755,-0.161610886180504],\"xaxis\":\"x9\",\"y\":[-0.6583813333865101,-0.6243174147171944,-1.7277153093321345,0.6156994130188095,1.8006132567561264,0.6963069341619541,1.6475171825501564,-3.111714477914328,-0.6646637800438707,1.311761596759695,-0.8781080287248739,-0.48175649871886467,1.3235838299933458,0.32455513345703196,-0.8822365711626433,-1.5898362500747403,-0.1352286183693309,-0.8874485347452742,0.4170182964373774,0.37373675611958695,-1.0590363614517722,-2.715948034158347,-0.4147647289227345,-1.7456116338051895,-0.48074489016648186,2.0420232239812495,-0.5484028561577265,-0.8198859021537481,0.2326853978481167,-1.7131471392023285],\"yaxis\":\"y9\",\"type\":\"scatter\"},{\"line\":{\"color\":\"rgba(128, 128, 128, 1.0)\",\"dash\":\"solid\",\"shape\":\"linear\",\"width\":1.3},\"marker\":{\"size\":2,\"symbol\":\"circle\"},\"mode\":\"markers\",\"name\":\"C\",\"text\":\"\",\"x\":[0.4060011589905982,0.6959866985709183,-0.09187268790641648,0.8196471141084424,0.9510600021451722,-0.57663354303388,-1.6148335146223323,-0.8312079201207672,-0.6361055565535438,-1.031873693760971,-2.278612861973147,-0.4992312052364212,-2.1555841408323073,0.17978999043189037,-1.5054726213218554,0.28541582441169344,0.3313567135453369,-1.658129676423646,1.118325222071046,0.6862064146051308,0.09838931908775866,-2.0536725149107324,0.07695386234023052,-0.014781935129108274,0.5066945462984226,0.40199051763576144,-0.8929196284737861,-0.8959894328033265,-0.07703973081020832,2.3238030404337353],\"xaxis\":\"x10\",\"y\":[-0.6583813333865101,-0.6243174147171944,-1.7277153093321345,0.6156994130188095,1.8006132567561264,0.6963069341619541,1.6475171825501564,-3.111714477914328,-0.6646637800438707,1.311761596759695,-0.8781080287248739,-0.48175649871886467,1.3235838299933458,0.32455513345703196,-0.8822365711626433,-1.5898362500747403,-0.1352286183693309,-0.8874485347452742,0.4170182964373774,0.37373675611958695,-1.0590363614517722,-2.715948034158347,-0.4147647289227345,-1.7456116338051895,-0.48074489016648186,2.0420232239812495,-0.5484028561577265,-0.8198859021537481,0.2326853978481167,-1.7131471392023285],\"yaxis\":\"y10\",\"type\":\"scatter\"},{\"histfunc\":\"count\",\"histnorm\":\"\",\"marker\":{\"color\":\"rgba(50, 171, 96, 1.0)\",\"line\":{\"color\":\"#4D5663\",\"width\":1.3}},\"name\":\"C\",\"nbinsx\":10,\"opacity\":0.8,\"orientation\":\"v\",\"x\":[-0.6583813333865101,-0.6243174147171944,-1.7277153093321345,0.6156994130188095,1.8006132567561264,0.6963069341619541,1.6475171825501564,-3.111714477914328,-0.6646637800438707,1.311761596759695,-0.8781080287248739,-0.48175649871886467,1.3235838299933458,0.32455513345703196,-0.8822365711626433,-1.5898362500747403,-0.1352286183693309,-0.8874485347452742,0.4170182964373774,0.37373675611958695,-1.0590363614517722,-2.715948034158347,-0.4147647289227345,-1.7456116338051895,-0.48074489016648186,2.0420232239812495,-0.5484028561577265,-0.8198859021537481,0.2326853978481167,-1.7131471392023285],\"xaxis\":\"x11\",\"yaxis\":\"y11\",\"type\":\"histogram\"},{\"line\":{\"color\":\"rgba(128, 128, 128, 1.0)\",\"dash\":\"solid\",\"shape\":\"linear\",\"width\":1.3},\"marker\":{\"size\":2,\"symbol\":\"circle\"},\"mode\":\"markers\",\"name\":\"C\",\"text\":\"\",\"x\":[0.09790049863578758,1.2120523954095888,0.8876279767772142,-0.19728770002506377,-1.877549099287521,-0.6641797979377729,-0.23561594585793558,-0.46112302926184295,0.44932799618893254,0.32616076820790396,0.48522706788447506,1.7257275062009279,-0.5786341011281495,0.30340987230210176,0.602038534102397,-0.3927206542274248,-0.6730715632178651,-0.896713121450564,0.701798805735832,0.07664519490767432,-1.3284393373452033,0.6118173598979866,-1.390439058955952,-1.2784415237519355,0.388900123326237,-0.41105654182579093,0.3826947974342108,-0.06761446801247771,-0.39655068604752797,-0.04300471723810657],\"xaxis\":\"x12\",\"y\":[-0.6583813333865101,-0.6243174147171944,-1.7277153093321345,0.6156994130188095,1.8006132567561264,0.6963069341619541,1.6475171825501564,-3.111714477914328,-0.6646637800438707,1.311761596759695,-0.8781080287248739,-0.48175649871886467,1.3235838299933458,0.32455513345703196,-0.8822365711626433,-1.5898362500747403,-0.1352286183693309,-0.8874485347452742,0.4170182964373774,0.37373675611958695,-1.0590363614517722,-2.715948034158347,-0.4147647289227345,-1.7456116338051895,-0.48074489016648186,2.0420232239812495,-0.5484028561577265,-0.8198859021537481,0.2326853978481167,-1.7131471392023285],\"yaxis\":\"y12\",\"type\":\"scatter\"},{\"line\":{\"color\":\"rgba(128, 128, 128, 1.0)\",\"dash\":\"solid\",\"shape\":\"linear\",\"width\":1.3},\"marker\":{\"size\":2,\"symbol\":\"circle\"},\"mode\":\"markers\",\"name\":\"D\",\"text\":\"\",\"x\":[0.37904945688305364,1.1553236008254193,1.6969890092471622,-0.26805612805709716,0.9222956791397098,0.798379736515537,0.3545841546614589,0.9978239583053562,-1.3321492083741786,0.05666312908589525,0.7478667832529422,-0.21246474379562075,2.2956855650862518,-1.567536200835686,-0.3177343401130265,1.160609163321756,0.5755403019093225,1.1590622130402857,-0.6117973807611821,-0.04214790123959876,-1.167335021892236,-0.8889238602766412,-0.6874177995095404,0.23491229934004407,-0.5268035434849804,0.31606394499139395,-1.3146383330434688,1.526731697816121,0.4006621493463755,-0.161610886180504],\"xaxis\":\"x13\",\"y\":[0.09790049863578758,1.2120523954095888,0.8876279767772142,-0.19728770002506377,-1.877549099287521,-0.6641797979377729,-0.23561594585793558,-0.46112302926184295,0.44932799618893254,0.32616076820790396,0.48522706788447506,1.7257275062009279,-0.5786341011281495,0.30340987230210176,0.602038534102397,-0.3927206542274248,-0.6730715632178651,-0.896713121450564,0.701798805735832,0.07664519490767432,-1.3284393373452033,0.6118173598979866,-1.390439058955952,-1.2784415237519355,0.388900123326237,-0.41105654182579093,0.3826947974342108,-0.06761446801247771,-0.39655068604752797,-0.04300471723810657],\"yaxis\":\"y13\",\"type\":\"scatter\"},{\"line\":{\"color\":\"rgba(128, 128, 128, 1.0)\",\"dash\":\"solid\",\"shape\":\"linear\",\"width\":1.3},\"marker\":{\"size\":2,\"symbol\":\"circle\"},\"mode\":\"markers\",\"name\":\"D\",\"text\":\"\",\"x\":[0.4060011589905982,0.6959866985709183,-0.09187268790641648,0.8196471141084424,0.9510600021451722,-0.57663354303388,-1.6148335146223323,-0.8312079201207672,-0.6361055565535438,-1.031873693760971,-2.278612861973147,-0.4992312052364212,-2.1555841408323073,0.17978999043189037,-1.5054726213218554,0.28541582441169344,0.3313567135453369,-1.658129676423646,1.118325222071046,0.6862064146051308,0.09838931908775866,-2.0536725149107324,0.07695386234023052,-0.014781935129108274,0.5066945462984226,0.40199051763576144,-0.8929196284737861,-0.8959894328033265,-0.07703973081020832,2.3238030404337353],\"xaxis\":\"x14\",\"y\":[0.09790049863578758,1.2120523954095888,0.8876279767772142,-0.19728770002506377,-1.877549099287521,-0.6641797979377729,-0.23561594585793558,-0.46112302926184295,0.44932799618893254,0.32616076820790396,0.48522706788447506,1.7257275062009279,-0.5786341011281495,0.30340987230210176,0.602038534102397,-0.3927206542274248,-0.6730715632178651,-0.896713121450564,0.701798805735832,0.07664519490767432,-1.3284393373452033,0.6118173598979866,-1.390439058955952,-1.2784415237519355,0.388900123326237,-0.41105654182579093,0.3826947974342108,-0.06761446801247771,-0.39655068604752797,-0.04300471723810657],\"yaxis\":\"y14\",\"type\":\"scatter\"},{\"line\":{\"color\":\"rgba(128, 128, 128, 1.0)\",\"dash\":\"solid\",\"shape\":\"linear\",\"width\":1.3},\"marker\":{\"size\":2,\"symbol\":\"circle\"},\"mode\":\"markers\",\"name\":\"D\",\"text\":\"\",\"x\":[-0.6583813333865101,-0.6243174147171944,-1.7277153093321345,0.6156994130188095,1.8006132567561264,0.6963069341619541,1.6475171825501564,-3.111714477914328,-0.6646637800438707,1.311761596759695,-0.8781080287248739,-0.48175649871886467,1.3235838299933458,0.32455513345703196,-0.8822365711626433,-1.5898362500747403,-0.1352286183693309,-0.8874485347452742,0.4170182964373774,0.37373675611958695,-1.0590363614517722,-2.715948034158347,-0.4147647289227345,-1.7456116338051895,-0.48074489016648186,2.0420232239812495,-0.5484028561577265,-0.8198859021537481,0.2326853978481167,-1.7131471392023285],\"xaxis\":\"x15\",\"y\":[0.09790049863578758,1.2120523954095888,0.8876279767772142,-0.19728770002506377,-1.877549099287521,-0.6641797979377729,-0.23561594585793558,-0.46112302926184295,0.44932799618893254,0.32616076820790396,0.48522706788447506,1.7257275062009279,-0.5786341011281495,0.30340987230210176,0.602038534102397,-0.3927206542274248,-0.6730715632178651,-0.896713121450564,0.701798805735832,0.07664519490767432,-1.3284393373452033,0.6118173598979866,-1.390439058955952,-1.2784415237519355,0.388900123326237,-0.41105654182579093,0.3826947974342108,-0.06761446801247771,-0.39655068604752797,-0.04300471723810657],\"yaxis\":\"y15\",\"type\":\"scatter\"},{\"histfunc\":\"count\",\"histnorm\":\"\",\"marker\":{\"color\":\"rgba(128, 0, 128, 1.0)\",\"line\":{\"color\":\"#4D5663\",\"width\":1.3}},\"name\":\"D\",\"nbinsx\":10,\"opacity\":0.8,\"orientation\":\"v\",\"x\":[0.09790049863578758,1.2120523954095888,0.8876279767772142,-0.19728770002506377,-1.877549099287521,-0.6641797979377729,-0.23561594585793558,-0.46112302926184295,0.44932799618893254,0.32616076820790396,0.48522706788447506,1.7257275062009279,-0.5786341011281495,0.30340987230210176,0.602038534102397,-0.3927206542274248,-0.6730715632178651,-0.896713121450564,0.701798805735832,0.07664519490767432,-1.3284393373452033,0.6118173598979866,-1.390439058955952,-1.2784415237519355,0.388900123326237,-0.41105654182579093,0.3826947974342108,-0.06761446801247771,-0.39655068604752797,-0.04300471723810657],\"xaxis\":\"x16\",\"yaxis\":\"y16\",\"type\":\"histogram\"}],                        {\"bargap\":0.02,\"legend\":{\"bgcolor\":\"#F5F6F9\",\"font\":{\"color\":\"#4D5663\"}},\"paper_bgcolor\":\"#F5F6F9\",\"plot_bgcolor\":\"#F5F6F9\",\"showlegend\":false,\"template\":{\"data\":{\"barpolar\":[{\"marker\":{\"line\":{\"color\":\"#E5ECF6\",\"width\":0.5},\"pattern\":{\"fillmode\":\"overlay\",\"size\":10,\"solidity\":0.2}},\"type\":\"barpolar\"}],\"bar\":[{\"error_x\":{\"color\":\"#2a3f5f\"},\"error_y\":{\"color\":\"#2a3f5f\"},\"marker\":{\"line\":{\"color\":\"#E5ECF6\",\"width\":0.5},\"pattern\":{\"fillmode\":\"overlay\",\"size\":10,\"solidity\":0.2}},\"type\":\"bar\"}],\"carpet\":[{\"aaxis\":{\"endlinecolor\":\"#2a3f5f\",\"gridcolor\":\"white\",\"linecolor\":\"white\",\"minorgridcolor\":\"white\",\"startlinecolor\":\"#2a3f5f\"},\"baxis\":{\"endlinecolor\":\"#2a3f5f\",\"gridcolor\":\"white\",\"linecolor\":\"white\",\"minorgridcolor\":\"white\",\"startlinecolor\":\"#2a3f5f\"},\"type\":\"carpet\"}],\"choropleth\":[{\"colorbar\":{\"outlinewidth\":0,\"ticks\":\"\"},\"type\":\"choropleth\"}],\"contourcarpet\":[{\"colorbar\":{\"outlinewidth\":0,\"ticks\":\"\"},\"type\":\"contourcarpet\"}],\"contour\":[{\"colorbar\":{\"outlinewidth\":0,\"ticks\":\"\"},\"colorscale\":[[0.0,\"#0d0887\"],[0.1111111111111111,\"#46039f\"],[0.2222222222222222,\"#7201a8\"],[0.3333333333333333,\"#9c179e\"],[0.4444444444444444,\"#bd3786\"],[0.5555555555555556,\"#d8576b\"],[0.6666666666666666,\"#ed7953\"],[0.7777777777777778,\"#fb9f3a\"],[0.8888888888888888,\"#fdca26\"],[1.0,\"#f0f921\"]],\"type\":\"contour\"}],\"heatmapgl\":[{\"colorbar\":{\"outlinewidth\":0,\"ticks\":\"\"},\"colorscale\":[[0.0,\"#0d0887\"],[0.1111111111111111,\"#46039f\"],[0.2222222222222222,\"#7201a8\"],[0.3333333333333333,\"#9c179e\"],[0.4444444444444444,\"#bd3786\"],[0.5555555555555556,\"#d8576b\"],[0.6666666666666666,\"#ed7953\"],[0.7777777777777778,\"#fb9f3a\"],[0.8888888888888888,\"#fdca26\"],[1.0,\"#f0f921\"]],\"type\":\"heatmapgl\"}],\"heatmap\":[{\"colorbar\":{\"outlinewidth\":0,\"ticks\":\"\"},\"colorscale\":[[0.0,\"#0d0887\"],[0.1111111111111111,\"#46039f\"],[0.2222222222222222,\"#7201a8\"],[0.3333333333333333,\"#9c179e\"],[0.4444444444444444,\"#bd3786\"],[0.5555555555555556,\"#d8576b\"],[0.6666666666666666,\"#ed7953\"],[0.7777777777777778,\"#fb9f3a\"],[0.8888888888888888,\"#fdca26\"],[1.0,\"#f0f921\"]],\"type\":\"heatmap\"}],\"histogram2dcontour\":[{\"colorbar\":{\"outlinewidth\":0,\"ticks\":\"\"},\"colorscale\":[[0.0,\"#0d0887\"],[0.1111111111111111,\"#46039f\"],[0.2222222222222222,\"#7201a8\"],[0.3333333333333333,\"#9c179e\"],[0.4444444444444444,\"#bd3786\"],[0.5555555555555556,\"#d8576b\"],[0.6666666666666666,\"#ed7953\"],[0.7777777777777778,\"#fb9f3a\"],[0.8888888888888888,\"#fdca26\"],[1.0,\"#f0f921\"]],\"type\":\"histogram2dcontour\"}],\"histogram2d\":[{\"colorbar\":{\"outlinewidth\":0,\"ticks\":\"\"},\"colorscale\":[[0.0,\"#0d0887\"],[0.1111111111111111,\"#46039f\"],[0.2222222222222222,\"#7201a8\"],[0.3333333333333333,\"#9c179e\"],[0.4444444444444444,\"#bd3786\"],[0.5555555555555556,\"#d8576b\"],[0.6666666666666666,\"#ed7953\"],[0.7777777777777778,\"#fb9f3a\"],[0.8888888888888888,\"#fdca26\"],[1.0,\"#f0f921\"]],\"type\":\"histogram2d\"}],\"histogram\":[{\"marker\":{\"pattern\":{\"fillmode\":\"overlay\",\"size\":10,\"solidity\":0.2}},\"type\":\"histogram\"}],\"mesh3d\":[{\"colorbar\":{\"outlinewidth\":0,\"ticks\":\"\"},\"type\":\"mesh3d\"}],\"parcoords\":[{\"line\":{\"colorbar\":{\"outlinewidth\":0,\"ticks\":\"\"}},\"type\":\"parcoords\"}],\"pie\":[{\"automargin\":true,\"type\":\"pie\"}],\"scatter3d\":[{\"line\":{\"colorbar\":{\"outlinewidth\":0,\"ticks\":\"\"}},\"marker\":{\"colorbar\":{\"outlinewidth\":0,\"ticks\":\"\"}},\"type\":\"scatter3d\"}],\"scattercarpet\":[{\"marker\":{\"colorbar\":{\"outlinewidth\":0,\"ticks\":\"\"}},\"type\":\"scattercarpet\"}],\"scattergeo\":[{\"marker\":{\"colorbar\":{\"outlinewidth\":0,\"ticks\":\"\"}},\"type\":\"scattergeo\"}],\"scattergl\":[{\"marker\":{\"colorbar\":{\"outlinewidth\":0,\"ticks\":\"\"}},\"type\":\"scattergl\"}],\"scattermapbox\":[{\"marker\":{\"colorbar\":{\"outlinewidth\":0,\"ticks\":\"\"}},\"type\":\"scattermapbox\"}],\"scatterpolargl\":[{\"marker\":{\"colorbar\":{\"outlinewidth\":0,\"ticks\":\"\"}},\"type\":\"scatterpolargl\"}],\"scatterpolar\":[{\"marker\":{\"colorbar\":{\"outlinewidth\":0,\"ticks\":\"\"}},\"type\":\"scatterpolar\"}],\"scatter\":[{\"marker\":{\"colorbar\":{\"outlinewidth\":0,\"ticks\":\"\"}},\"type\":\"scatter\"}],\"scatterternary\":[{\"marker\":{\"colorbar\":{\"outlinewidth\":0,\"ticks\":\"\"}},\"type\":\"scatterternary\"}],\"surface\":[{\"colorbar\":{\"outlinewidth\":0,\"ticks\":\"\"},\"colorscale\":[[0.0,\"#0d0887\"],[0.1111111111111111,\"#46039f\"],[0.2222222222222222,\"#7201a8\"],[0.3333333333333333,\"#9c179e\"],[0.4444444444444444,\"#bd3786\"],[0.5555555555555556,\"#d8576b\"],[0.6666666666666666,\"#ed7953\"],[0.7777777777777778,\"#fb9f3a\"],[0.8888888888888888,\"#fdca26\"],[1.0,\"#f0f921\"]],\"type\":\"surface\"}],\"table\":[{\"cells\":{\"fill\":{\"color\":\"#EBF0F8\"},\"line\":{\"color\":\"white\"}},\"header\":{\"fill\":{\"color\":\"#C8D4E3\"},\"line\":{\"color\":\"white\"}},\"type\":\"table\"}]},\"layout\":{\"annotationdefaults\":{\"arrowcolor\":\"#2a3f5f\",\"arrowhead\":0,\"arrowwidth\":1},\"autotypenumbers\":\"strict\",\"coloraxis\":{\"colorbar\":{\"outlinewidth\":0,\"ticks\":\"\"}},\"colorscale\":{\"diverging\":[[0,\"#8e0152\"],[0.1,\"#c51b7d\"],[0.2,\"#de77ae\"],[0.3,\"#f1b6da\"],[0.4,\"#fde0ef\"],[0.5,\"#f7f7f7\"],[0.6,\"#e6f5d0\"],[0.7,\"#b8e186\"],[0.8,\"#7fbc41\"],[0.9,\"#4d9221\"],[1,\"#276419\"]],\"sequential\":[[0.0,\"#0d0887\"],[0.1111111111111111,\"#46039f\"],[0.2222222222222222,\"#7201a8\"],[0.3333333333333333,\"#9c179e\"],[0.4444444444444444,\"#bd3786\"],[0.5555555555555556,\"#d8576b\"],[0.6666666666666666,\"#ed7953\"],[0.7777777777777778,\"#fb9f3a\"],[0.8888888888888888,\"#fdca26\"],[1.0,\"#f0f921\"]],\"sequentialminus\":[[0.0,\"#0d0887\"],[0.1111111111111111,\"#46039f\"],[0.2222222222222222,\"#7201a8\"],[0.3333333333333333,\"#9c179e\"],[0.4444444444444444,\"#bd3786\"],[0.5555555555555556,\"#d8576b\"],[0.6666666666666666,\"#ed7953\"],[0.7777777777777778,\"#fb9f3a\"],[0.8888888888888888,\"#fdca26\"],[1.0,\"#f0f921\"]]},\"colorway\":[\"#636efa\",\"#EF553B\",\"#00cc96\",\"#ab63fa\",\"#FFA15A\",\"#19d3f3\",\"#FF6692\",\"#B6E880\",\"#FF97FF\",\"#FECB52\"],\"font\":{\"color\":\"#2a3f5f\"},\"geo\":{\"bgcolor\":\"white\",\"lakecolor\":\"white\",\"landcolor\":\"#E5ECF6\",\"showlakes\":true,\"showland\":true,\"subunitcolor\":\"white\"},\"hoverlabel\":{\"align\":\"left\"},\"hovermode\":\"closest\",\"mapbox\":{\"style\":\"light\"},\"paper_bgcolor\":\"white\",\"plot_bgcolor\":\"#E5ECF6\",\"polar\":{\"angularaxis\":{\"gridcolor\":\"white\",\"linecolor\":\"white\",\"ticks\":\"\"},\"bgcolor\":\"#E5ECF6\",\"radialaxis\":{\"gridcolor\":\"white\",\"linecolor\":\"white\",\"ticks\":\"\"}},\"scene\":{\"xaxis\":{\"backgroundcolor\":\"#E5ECF6\",\"gridcolor\":\"white\",\"gridwidth\":2,\"linecolor\":\"white\",\"showbackground\":true,\"ticks\":\"\",\"zerolinecolor\":\"white\"},\"yaxis\":{\"backgroundcolor\":\"#E5ECF6\",\"gridcolor\":\"white\",\"gridwidth\":2,\"linecolor\":\"white\",\"showbackground\":true,\"ticks\":\"\",\"zerolinecolor\":\"white\"},\"zaxis\":{\"backgroundcolor\":\"#E5ECF6\",\"gridcolor\":\"white\",\"gridwidth\":2,\"linecolor\":\"white\",\"showbackground\":true,\"ticks\":\"\",\"zerolinecolor\":\"white\"}},\"shapedefaults\":{\"line\":{\"color\":\"#2a3f5f\"}},\"ternary\":{\"aaxis\":{\"gridcolor\":\"white\",\"linecolor\":\"white\",\"ticks\":\"\"},\"baxis\":{\"gridcolor\":\"white\",\"linecolor\":\"white\",\"ticks\":\"\"},\"bgcolor\":\"#E5ECF6\",\"caxis\":{\"gridcolor\":\"white\",\"linecolor\":\"white\",\"ticks\":\"\"}},\"title\":{\"x\":0.05},\"xaxis\":{\"automargin\":true,\"gridcolor\":\"white\",\"linecolor\":\"white\",\"ticks\":\"\",\"title\":{\"standoff\":15},\"zerolinecolor\":\"white\",\"zerolinewidth\":2},\"yaxis\":{\"automargin\":true,\"gridcolor\":\"white\",\"linecolor\":\"white\",\"ticks\":\"\",\"title\":{\"standoff\":15},\"zerolinecolor\":\"white\",\"zerolinewidth\":2}}},\"title\":{\"font\":{\"color\":\"#4D5663\"}},\"xaxis\":{\"anchor\":\"y\",\"domain\":[0.0,0.2125],\"gridcolor\":\"#E1E5ED\",\"showgrid\":false,\"tickfont\":{\"color\":\"#4D5663\"},\"title\":{\"font\":{\"color\":\"#4D5663\"},\"text\":\"\"},\"zerolinecolor\":\"#E1E5ED\"},\"yaxis\":{\"anchor\":\"x\",\"domain\":[0.8025,1.0],\"gridcolor\":\"#E1E5ED\",\"showgrid\":false,\"tickfont\":{\"color\":\"#4D5663\"},\"title\":{\"font\":{\"color\":\"#4D5663\"},\"text\":\"\"},\"zerolinecolor\":\"#E1E5ED\"},\"xaxis2\":{\"anchor\":\"y2\",\"domain\":[0.2625,0.475],\"gridcolor\":\"#E1E5ED\",\"showgrid\":false,\"tickfont\":{\"color\":\"#4D5663\"},\"title\":{\"font\":{\"color\":\"#4D5663\"},\"text\":\"\"},\"zerolinecolor\":\"#E1E5ED\"},\"yaxis2\":{\"anchor\":\"x2\",\"domain\":[0.8025,1.0],\"gridcolor\":\"#E1E5ED\",\"showgrid\":false,\"tickfont\":{\"color\":\"#4D5663\"},\"title\":{\"font\":{\"color\":\"#4D5663\"},\"text\":\"\"},\"zerolinecolor\":\"#E1E5ED\"},\"xaxis3\":{\"anchor\":\"y3\",\"domain\":[0.525,0.7375],\"gridcolor\":\"#E1E5ED\",\"showgrid\":false,\"tickfont\":{\"color\":\"#4D5663\"},\"title\":{\"font\":{\"color\":\"#4D5663\"},\"text\":\"\"},\"zerolinecolor\":\"#E1E5ED\"},\"yaxis3\":{\"anchor\":\"x3\",\"domain\":[0.8025,1.0],\"gridcolor\":\"#E1E5ED\",\"showgrid\":false,\"tickfont\":{\"color\":\"#4D5663\"},\"title\":{\"font\":{\"color\":\"#4D5663\"},\"text\":\"\"},\"zerolinecolor\":\"#E1E5ED\"},\"xaxis4\":{\"anchor\":\"y4\",\"domain\":[0.7875,1.0],\"gridcolor\":\"#E1E5ED\",\"showgrid\":false,\"tickfont\":{\"color\":\"#4D5663\"},\"title\":{\"font\":{\"color\":\"#4D5663\"},\"text\":\"\"},\"zerolinecolor\":\"#E1E5ED\"},\"yaxis4\":{\"anchor\":\"x4\",\"domain\":[0.8025,1.0],\"gridcolor\":\"#E1E5ED\",\"showgrid\":false,\"tickfont\":{\"color\":\"#4D5663\"},\"title\":{\"font\":{\"color\":\"#4D5663\"},\"text\":\"\"},\"zerolinecolor\":\"#E1E5ED\"},\"xaxis5\":{\"anchor\":\"y5\",\"domain\":[0.0,0.2125],\"gridcolor\":\"#E1E5ED\",\"showgrid\":false,\"tickfont\":{\"color\":\"#4D5663\"},\"title\":{\"font\":{\"color\":\"#4D5663\"},\"text\":\"\"},\"zerolinecolor\":\"#E1E5ED\"},\"yaxis5\":{\"anchor\":\"x5\",\"domain\":[0.535,0.7325],\"gridcolor\":\"#E1E5ED\",\"showgrid\":false,\"tickfont\":{\"color\":\"#4D5663\"},\"title\":{\"font\":{\"color\":\"#4D5663\"},\"text\":\"\"},\"zerolinecolor\":\"#E1E5ED\"},\"xaxis6\":{\"anchor\":\"y6\",\"domain\":[0.2625,0.475],\"gridcolor\":\"#E1E5ED\",\"showgrid\":false,\"tickfont\":{\"color\":\"#4D5663\"},\"title\":{\"font\":{\"color\":\"#4D5663\"},\"text\":\"\"},\"zerolinecolor\":\"#E1E5ED\"},\"yaxis6\":{\"anchor\":\"x6\",\"domain\":[0.535,0.7325],\"gridcolor\":\"#E1E5ED\",\"showgrid\":false,\"tickfont\":{\"color\":\"#4D5663\"},\"title\":{\"font\":{\"color\":\"#4D5663\"},\"text\":\"\"},\"zerolinecolor\":\"#E1E5ED\"},\"xaxis7\":{\"anchor\":\"y7\",\"domain\":[0.525,0.7375],\"gridcolor\":\"#E1E5ED\",\"showgrid\":false,\"tickfont\":{\"color\":\"#4D5663\"},\"title\":{\"font\":{\"color\":\"#4D5663\"},\"text\":\"\"},\"zerolinecolor\":\"#E1E5ED\"},\"yaxis7\":{\"anchor\":\"x7\",\"domain\":[0.535,0.7325],\"gridcolor\":\"#E1E5ED\",\"showgrid\":false,\"tickfont\":{\"color\":\"#4D5663\"},\"title\":{\"font\":{\"color\":\"#4D5663\"},\"text\":\"\"},\"zerolinecolor\":\"#E1E5ED\"},\"xaxis8\":{\"anchor\":\"y8\",\"domain\":[0.7875,1.0],\"gridcolor\":\"#E1E5ED\",\"showgrid\":false,\"tickfont\":{\"color\":\"#4D5663\"},\"title\":{\"font\":{\"color\":\"#4D5663\"},\"text\":\"\"},\"zerolinecolor\":\"#E1E5ED\"},\"yaxis8\":{\"anchor\":\"x8\",\"domain\":[0.535,0.7325],\"gridcolor\":\"#E1E5ED\",\"showgrid\":false,\"tickfont\":{\"color\":\"#4D5663\"},\"title\":{\"font\":{\"color\":\"#4D5663\"},\"text\":\"\"},\"zerolinecolor\":\"#E1E5ED\"},\"xaxis9\":{\"anchor\":\"y9\",\"domain\":[0.0,0.2125],\"gridcolor\":\"#E1E5ED\",\"showgrid\":false,\"tickfont\":{\"color\":\"#4D5663\"},\"title\":{\"font\":{\"color\":\"#4D5663\"},\"text\":\"\"},\"zerolinecolor\":\"#E1E5ED\"},\"yaxis9\":{\"anchor\":\"x9\",\"domain\":[0.2675,0.465],\"gridcolor\":\"#E1E5ED\",\"showgrid\":false,\"tickfont\":{\"color\":\"#4D5663\"},\"title\":{\"font\":{\"color\":\"#4D5663\"},\"text\":\"\"},\"zerolinecolor\":\"#E1E5ED\"},\"xaxis10\":{\"anchor\":\"y10\",\"domain\":[0.2625,0.475],\"gridcolor\":\"#E1E5ED\",\"showgrid\":false,\"tickfont\":{\"color\":\"#4D5663\"},\"title\":{\"font\":{\"color\":\"#4D5663\"},\"text\":\"\"},\"zerolinecolor\":\"#E1E5ED\"},\"yaxis10\":{\"anchor\":\"x10\",\"domain\":[0.2675,0.465],\"gridcolor\":\"#E1E5ED\",\"showgrid\":false,\"tickfont\":{\"color\":\"#4D5663\"},\"title\":{\"font\":{\"color\":\"#4D5663\"},\"text\":\"\"},\"zerolinecolor\":\"#E1E5ED\"},\"xaxis11\":{\"anchor\":\"y11\",\"domain\":[0.525,0.7375],\"gridcolor\":\"#E1E5ED\",\"showgrid\":false,\"tickfont\":{\"color\":\"#4D5663\"},\"title\":{\"font\":{\"color\":\"#4D5663\"},\"text\":\"\"},\"zerolinecolor\":\"#E1E5ED\"},\"yaxis11\":{\"anchor\":\"x11\",\"domain\":[0.2675,0.465],\"gridcolor\":\"#E1E5ED\",\"showgrid\":false,\"tickfont\":{\"color\":\"#4D5663\"},\"title\":{\"font\":{\"color\":\"#4D5663\"},\"text\":\"\"},\"zerolinecolor\":\"#E1E5ED\"},\"xaxis12\":{\"anchor\":\"y12\",\"domain\":[0.7875,1.0],\"gridcolor\":\"#E1E5ED\",\"showgrid\":false,\"tickfont\":{\"color\":\"#4D5663\"},\"title\":{\"font\":{\"color\":\"#4D5663\"},\"text\":\"\"},\"zerolinecolor\":\"#E1E5ED\"},\"yaxis12\":{\"anchor\":\"x12\",\"domain\":[0.2675,0.465],\"gridcolor\":\"#E1E5ED\",\"showgrid\":false,\"tickfont\":{\"color\":\"#4D5663\"},\"title\":{\"font\":{\"color\":\"#4D5663\"},\"text\":\"\"},\"zerolinecolor\":\"#E1E5ED\"},\"xaxis13\":{\"anchor\":\"y13\",\"domain\":[0.0,0.2125],\"gridcolor\":\"#E1E5ED\",\"showgrid\":false,\"tickfont\":{\"color\":\"#4D5663\"},\"title\":{\"font\":{\"color\":\"#4D5663\"},\"text\":\"\"},\"zerolinecolor\":\"#E1E5ED\"},\"yaxis13\":{\"anchor\":\"x13\",\"domain\":[0.0,0.1975],\"gridcolor\":\"#E1E5ED\",\"showgrid\":false,\"tickfont\":{\"color\":\"#4D5663\"},\"title\":{\"font\":{\"color\":\"#4D5663\"},\"text\":\"\"},\"zerolinecolor\":\"#E1E5ED\"},\"xaxis14\":{\"anchor\":\"y14\",\"domain\":[0.2625,0.475],\"gridcolor\":\"#E1E5ED\",\"showgrid\":false,\"tickfont\":{\"color\":\"#4D5663\"},\"title\":{\"font\":{\"color\":\"#4D5663\"},\"text\":\"\"},\"zerolinecolor\":\"#E1E5ED\"},\"yaxis14\":{\"anchor\":\"x14\",\"domain\":[0.0,0.1975],\"gridcolor\":\"#E1E5ED\",\"showgrid\":false,\"tickfont\":{\"color\":\"#4D5663\"},\"title\":{\"font\":{\"color\":\"#4D5663\"},\"text\":\"\"},\"zerolinecolor\":\"#E1E5ED\"},\"xaxis15\":{\"anchor\":\"y15\",\"domain\":[0.525,0.7375],\"gridcolor\":\"#E1E5ED\",\"showgrid\":false,\"tickfont\":{\"color\":\"#4D5663\"},\"title\":{\"font\":{\"color\":\"#4D5663\"},\"text\":\"\"},\"zerolinecolor\":\"#E1E5ED\"},\"yaxis15\":{\"anchor\":\"x15\",\"domain\":[0.0,0.1975],\"gridcolor\":\"#E1E5ED\",\"showgrid\":false,\"tickfont\":{\"color\":\"#4D5663\"},\"title\":{\"font\":{\"color\":\"#4D5663\"},\"text\":\"\"},\"zerolinecolor\":\"#E1E5ED\"},\"xaxis16\":{\"anchor\":\"y16\",\"domain\":[0.7875,1.0],\"gridcolor\":\"#E1E5ED\",\"showgrid\":false,\"tickfont\":{\"color\":\"#4D5663\"},\"title\":{\"font\":{\"color\":\"#4D5663\"},\"text\":\"\"},\"zerolinecolor\":\"#E1E5ED\"},\"yaxis16\":{\"anchor\":\"x16\",\"domain\":[0.0,0.1975],\"gridcolor\":\"#E1E5ED\",\"showgrid\":false,\"tickfont\":{\"color\":\"#4D5663\"},\"title\":{\"font\":{\"color\":\"#4D5663\"},\"text\":\"\"},\"zerolinecolor\":\"#E1E5ED\"}},                        {\"showLink\": true, \"linkText\": \"Export to plot.ly\", \"plotlyServerURL\": \"https://plot.ly\", \"responsive\": true}                    ).then(function(){\n",
       "                            \n",
       "var gd = document.getElementById('8583cac8-3757-431c-9b29-ace64cf14959');\n",
       "var x = new MutationObserver(function (mutations, observer) {{\n",
       "        var display = window.getComputedStyle(gd).display;\n",
       "        if (!display || display === 'none') {{\n",
       "            console.log([gd, 'removed!']);\n",
       "            Plotly.purge(gd);\n",
       "            observer.disconnect();\n",
       "        }}\n",
       "}});\n",
       "\n",
       "// Listen for the removal of the full notebook cells\n",
       "var notebookContainer = gd.closest('#notebook-container');\n",
       "if (notebookContainer) {{\n",
       "    x.observe(notebookContainer, {childList: true});\n",
       "}}\n",
       "\n",
       "// Listen for the clearing of the current output cell\n",
       "var outputEl = gd.closest('.output');\n",
       "if (outputEl) {{\n",
       "    x.observe(outputEl, {childList: true});\n",
       "}}\n",
       "\n",
       "                        })                };                });            </script>        </div>"
      ]
     },
     "metadata": {},
     "output_type": "display_data"
    }
   ],
   "source": [
    "df.scatter_matrix()"
   ]
  },
  {
   "cell_type": "code",
   "execution_count": 29,
   "id": "b8ebe8d1",
   "metadata": {},
   "outputs": [
    {
     "data": {
      "text/html": [
       "<div>\n",
       "<style scoped>\n",
       "    .dataframe tbody tr th:only-of-type {\n",
       "        vertical-align: middle;\n",
       "    }\n",
       "\n",
       "    .dataframe tbody tr th {\n",
       "        vertical-align: top;\n",
       "    }\n",
       "\n",
       "    .dataframe thead th {\n",
       "        text-align: right;\n",
       "    }\n",
       "</style>\n",
       "<table border=\"1\" class=\"dataframe\">\n",
       "  <thead>\n",
       "    <tr style=\"text-align: right;\">\n",
       "      <th></th>\n",
       "      <th>A</th>\n",
       "      <th>B</th>\n",
       "      <th>C</th>\n",
       "    </tr>\n",
       "  </thead>\n",
       "  <tbody>\n",
       "    <tr>\n",
       "      <th>0</th>\n",
       "      <td>1</td>\n",
       "      <td>10</td>\n",
       "      <td>1</td>\n",
       "    </tr>\n",
       "    <tr>\n",
       "      <th>1</th>\n",
       "      <td>2</td>\n",
       "      <td>20</td>\n",
       "      <td>2</td>\n",
       "    </tr>\n",
       "    <tr>\n",
       "      <th>2</th>\n",
       "      <td>3</td>\n",
       "      <td>30</td>\n",
       "      <td>3</td>\n",
       "    </tr>\n",
       "    <tr>\n",
       "      <th>3</th>\n",
       "      <td>4</td>\n",
       "      <td>40</td>\n",
       "      <td>4</td>\n",
       "    </tr>\n",
       "    <tr>\n",
       "      <th>4</th>\n",
       "      <td>5</td>\n",
       "      <td>50</td>\n",
       "      <td>5</td>\n",
       "    </tr>\n",
       "    <tr>\n",
       "      <th>5</th>\n",
       "      <td>6</td>\n",
       "      <td>60</td>\n",
       "      <td>6</td>\n",
       "    </tr>\n",
       "    <tr>\n",
       "      <th>6</th>\n",
       "      <td>7</td>\n",
       "      <td>70</td>\n",
       "      <td>7</td>\n",
       "    </tr>\n",
       "    <tr>\n",
       "      <th>7</th>\n",
       "      <td>8</td>\n",
       "      <td>80</td>\n",
       "      <td>8</td>\n",
       "    </tr>\n",
       "    <tr>\n",
       "      <th>8</th>\n",
       "      <td>9</td>\n",
       "      <td>90</td>\n",
       "      <td>9</td>\n",
       "    </tr>\n",
       "    <tr>\n",
       "      <th>9</th>\n",
       "      <td>10</td>\n",
       "      <td>100</td>\n",
       "      <td>40</td>\n",
       "    </tr>\n",
       "  </tbody>\n",
       "</table>\n",
       "</div>"
      ],
      "text/plain": [
       "    A    B   C\n",
       "0   1   10   1\n",
       "1   2   20   2\n",
       "2   3   30   3\n",
       "3   4   40   4\n",
       "4   5   50   5\n",
       "5   6   60   6\n",
       "6   7   70   7\n",
       "7   8   80   8\n",
       "8   9   90   9\n",
       "9  10  100  40"
      ]
     },
     "execution_count": 29,
     "metadata": {},
     "output_type": "execute_result"
    }
   ],
   "source": [
    "df3 = pd.DataFrame({'A':[1,2,3,4,5,6,7,8,9,10],'B':[10,20,30,40,50,60,70,80,90,100],\n",
    "                   'C':[1,2,3,4,5,6,7,8,9,40]})\n",
    "df3"
   ]
  },
  {
   "cell_type": "code",
   "execution_count": 30,
   "id": "5cebab82",
   "metadata": {},
   "outputs": [
    {
     "data": {
      "application/vnd.plotly.v1+json": {
       "config": {
        "linkText": "Export to plot.ly",
        "plotlyServerURL": "https://plot.ly",
        "showLink": true
       },
       "data": [
        {
         "colorscale": [
          [
           0,
           "rgb(255, 153, 51)"
          ],
          [
           0.1111111111111111,
           "rgb(55, 128, 191)"
          ],
          [
           0.2222222222222222,
           "rgb(50, 171, 96)"
          ],
          [
           0.3333333333333333,
           "rgb(128, 0, 128)"
          ],
          [
           0.4444444444444444,
           "rgb(219, 64, 82)"
          ],
          [
           0.5555555555555556,
           "rgb(0, 128, 128)"
          ],
          [
           0.6666666666666666,
           "rgb(255, 255, 51)"
          ],
          [
           0.7777777777777778,
           "rgb(128, 128, 0)"
          ],
          [
           0.8888888888888888,
           "rgb(251, 128, 114)"
          ],
          [
           1,
           "rgb(128, 177, 211)"
          ]
         ],
         "type": "surface",
         "x": [
          0,
          1,
          2,
          3,
          4,
          5,
          6,
          7,
          8,
          9
         ],
         "y": [
          "A",
          "B",
          "C"
         ],
         "z": [
          [
           1,
           2,
           3,
           4,
           5,
           6,
           7,
           8,
           9,
           10
          ],
          [
           10,
           20,
           30,
           40,
           50,
           60,
           70,
           80,
           90,
           100
          ],
          [
           1,
           2,
           3,
           4,
           5,
           6,
           7,
           8,
           9,
           40
          ]
         ]
        }
       ],
       "layout": {
        "legend": {
         "bgcolor": "#F5F6F9",
         "font": {
          "color": "#4D5663"
         }
        },
        "paper_bgcolor": "#F5F6F9",
        "plot_bgcolor": "#F5F6F9",
        "template": {
         "data": {
          "bar": [
           {
            "error_x": {
             "color": "#2a3f5f"
            },
            "error_y": {
             "color": "#2a3f5f"
            },
            "marker": {
             "line": {
              "color": "#E5ECF6",
              "width": 0.5
             },
             "pattern": {
              "fillmode": "overlay",
              "size": 10,
              "solidity": 0.2
             }
            },
            "type": "bar"
           }
          ],
          "barpolar": [
           {
            "marker": {
             "line": {
              "color": "#E5ECF6",
              "width": 0.5
             },
             "pattern": {
              "fillmode": "overlay",
              "size": 10,
              "solidity": 0.2
             }
            },
            "type": "barpolar"
           }
          ],
          "carpet": [
           {
            "aaxis": {
             "endlinecolor": "#2a3f5f",
             "gridcolor": "white",
             "linecolor": "white",
             "minorgridcolor": "white",
             "startlinecolor": "#2a3f5f"
            },
            "baxis": {
             "endlinecolor": "#2a3f5f",
             "gridcolor": "white",
             "linecolor": "white",
             "minorgridcolor": "white",
             "startlinecolor": "#2a3f5f"
            },
            "type": "carpet"
           }
          ],
          "choropleth": [
           {
            "colorbar": {
             "outlinewidth": 0,
             "ticks": ""
            },
            "type": "choropleth"
           }
          ],
          "contour": [
           {
            "colorbar": {
             "outlinewidth": 0,
             "ticks": ""
            },
            "colorscale": [
             [
              0,
              "#0d0887"
             ],
             [
              0.1111111111111111,
              "#46039f"
             ],
             [
              0.2222222222222222,
              "#7201a8"
             ],
             [
              0.3333333333333333,
              "#9c179e"
             ],
             [
              0.4444444444444444,
              "#bd3786"
             ],
             [
              0.5555555555555556,
              "#d8576b"
             ],
             [
              0.6666666666666666,
              "#ed7953"
             ],
             [
              0.7777777777777778,
              "#fb9f3a"
             ],
             [
              0.8888888888888888,
              "#fdca26"
             ],
             [
              1,
              "#f0f921"
             ]
            ],
            "type": "contour"
           }
          ],
          "contourcarpet": [
           {
            "colorbar": {
             "outlinewidth": 0,
             "ticks": ""
            },
            "type": "contourcarpet"
           }
          ],
          "heatmap": [
           {
            "colorbar": {
             "outlinewidth": 0,
             "ticks": ""
            },
            "colorscale": [
             [
              0,
              "#0d0887"
             ],
             [
              0.1111111111111111,
              "#46039f"
             ],
             [
              0.2222222222222222,
              "#7201a8"
             ],
             [
              0.3333333333333333,
              "#9c179e"
             ],
             [
              0.4444444444444444,
              "#bd3786"
             ],
             [
              0.5555555555555556,
              "#d8576b"
             ],
             [
              0.6666666666666666,
              "#ed7953"
             ],
             [
              0.7777777777777778,
              "#fb9f3a"
             ],
             [
              0.8888888888888888,
              "#fdca26"
             ],
             [
              1,
              "#f0f921"
             ]
            ],
            "type": "heatmap"
           }
          ],
          "heatmapgl": [
           {
            "colorbar": {
             "outlinewidth": 0,
             "ticks": ""
            },
            "colorscale": [
             [
              0,
              "#0d0887"
             ],
             [
              0.1111111111111111,
              "#46039f"
             ],
             [
              0.2222222222222222,
              "#7201a8"
             ],
             [
              0.3333333333333333,
              "#9c179e"
             ],
             [
              0.4444444444444444,
              "#bd3786"
             ],
             [
              0.5555555555555556,
              "#d8576b"
             ],
             [
              0.6666666666666666,
              "#ed7953"
             ],
             [
              0.7777777777777778,
              "#fb9f3a"
             ],
             [
              0.8888888888888888,
              "#fdca26"
             ],
             [
              1,
              "#f0f921"
             ]
            ],
            "type": "heatmapgl"
           }
          ],
          "histogram": [
           {
            "marker": {
             "pattern": {
              "fillmode": "overlay",
              "size": 10,
              "solidity": 0.2
             }
            },
            "type": "histogram"
           }
          ],
          "histogram2d": [
           {
            "colorbar": {
             "outlinewidth": 0,
             "ticks": ""
            },
            "colorscale": [
             [
              0,
              "#0d0887"
             ],
             [
              0.1111111111111111,
              "#46039f"
             ],
             [
              0.2222222222222222,
              "#7201a8"
             ],
             [
              0.3333333333333333,
              "#9c179e"
             ],
             [
              0.4444444444444444,
              "#bd3786"
             ],
             [
              0.5555555555555556,
              "#d8576b"
             ],
             [
              0.6666666666666666,
              "#ed7953"
             ],
             [
              0.7777777777777778,
              "#fb9f3a"
             ],
             [
              0.8888888888888888,
              "#fdca26"
             ],
             [
              1,
              "#f0f921"
             ]
            ],
            "type": "histogram2d"
           }
          ],
          "histogram2dcontour": [
           {
            "colorbar": {
             "outlinewidth": 0,
             "ticks": ""
            },
            "colorscale": [
             [
              0,
              "#0d0887"
             ],
             [
              0.1111111111111111,
              "#46039f"
             ],
             [
              0.2222222222222222,
              "#7201a8"
             ],
             [
              0.3333333333333333,
              "#9c179e"
             ],
             [
              0.4444444444444444,
              "#bd3786"
             ],
             [
              0.5555555555555556,
              "#d8576b"
             ],
             [
              0.6666666666666666,
              "#ed7953"
             ],
             [
              0.7777777777777778,
              "#fb9f3a"
             ],
             [
              0.8888888888888888,
              "#fdca26"
             ],
             [
              1,
              "#f0f921"
             ]
            ],
            "type": "histogram2dcontour"
           }
          ],
          "mesh3d": [
           {
            "colorbar": {
             "outlinewidth": 0,
             "ticks": ""
            },
            "type": "mesh3d"
           }
          ],
          "parcoords": [
           {
            "line": {
             "colorbar": {
              "outlinewidth": 0,
              "ticks": ""
             }
            },
            "type": "parcoords"
           }
          ],
          "pie": [
           {
            "automargin": true,
            "type": "pie"
           }
          ],
          "scatter": [
           {
            "marker": {
             "colorbar": {
              "outlinewidth": 0,
              "ticks": ""
             }
            },
            "type": "scatter"
           }
          ],
          "scatter3d": [
           {
            "line": {
             "colorbar": {
              "outlinewidth": 0,
              "ticks": ""
             }
            },
            "marker": {
             "colorbar": {
              "outlinewidth": 0,
              "ticks": ""
             }
            },
            "type": "scatter3d"
           }
          ],
          "scattercarpet": [
           {
            "marker": {
             "colorbar": {
              "outlinewidth": 0,
              "ticks": ""
             }
            },
            "type": "scattercarpet"
           }
          ],
          "scattergeo": [
           {
            "marker": {
             "colorbar": {
              "outlinewidth": 0,
              "ticks": ""
             }
            },
            "type": "scattergeo"
           }
          ],
          "scattergl": [
           {
            "marker": {
             "colorbar": {
              "outlinewidth": 0,
              "ticks": ""
             }
            },
            "type": "scattergl"
           }
          ],
          "scattermapbox": [
           {
            "marker": {
             "colorbar": {
              "outlinewidth": 0,
              "ticks": ""
             }
            },
            "type": "scattermapbox"
           }
          ],
          "scatterpolar": [
           {
            "marker": {
             "colorbar": {
              "outlinewidth": 0,
              "ticks": ""
             }
            },
            "type": "scatterpolar"
           }
          ],
          "scatterpolargl": [
           {
            "marker": {
             "colorbar": {
              "outlinewidth": 0,
              "ticks": ""
             }
            },
            "type": "scatterpolargl"
           }
          ],
          "scatterternary": [
           {
            "marker": {
             "colorbar": {
              "outlinewidth": 0,
              "ticks": ""
             }
            },
            "type": "scatterternary"
           }
          ],
          "surface": [
           {
            "colorbar": {
             "outlinewidth": 0,
             "ticks": ""
            },
            "colorscale": [
             [
              0,
              "#0d0887"
             ],
             [
              0.1111111111111111,
              "#46039f"
             ],
             [
              0.2222222222222222,
              "#7201a8"
             ],
             [
              0.3333333333333333,
              "#9c179e"
             ],
             [
              0.4444444444444444,
              "#bd3786"
             ],
             [
              0.5555555555555556,
              "#d8576b"
             ],
             [
              0.6666666666666666,
              "#ed7953"
             ],
             [
              0.7777777777777778,
              "#fb9f3a"
             ],
             [
              0.8888888888888888,
              "#fdca26"
             ],
             [
              1,
              "#f0f921"
             ]
            ],
            "type": "surface"
           }
          ],
          "table": [
           {
            "cells": {
             "fill": {
              "color": "#EBF0F8"
             },
             "line": {
              "color": "white"
             }
            },
            "header": {
             "fill": {
              "color": "#C8D4E3"
             },
             "line": {
              "color": "white"
             }
            },
            "type": "table"
           }
          ]
         },
         "layout": {
          "annotationdefaults": {
           "arrowcolor": "#2a3f5f",
           "arrowhead": 0,
           "arrowwidth": 1
          },
          "autotypenumbers": "strict",
          "coloraxis": {
           "colorbar": {
            "outlinewidth": 0,
            "ticks": ""
           }
          },
          "colorscale": {
           "diverging": [
            [
             0,
             "#8e0152"
            ],
            [
             0.1,
             "#c51b7d"
            ],
            [
             0.2,
             "#de77ae"
            ],
            [
             0.3,
             "#f1b6da"
            ],
            [
             0.4,
             "#fde0ef"
            ],
            [
             0.5,
             "#f7f7f7"
            ],
            [
             0.6,
             "#e6f5d0"
            ],
            [
             0.7,
             "#b8e186"
            ],
            [
             0.8,
             "#7fbc41"
            ],
            [
             0.9,
             "#4d9221"
            ],
            [
             1,
             "#276419"
            ]
           ],
           "sequential": [
            [
             0,
             "#0d0887"
            ],
            [
             0.1111111111111111,
             "#46039f"
            ],
            [
             0.2222222222222222,
             "#7201a8"
            ],
            [
             0.3333333333333333,
             "#9c179e"
            ],
            [
             0.4444444444444444,
             "#bd3786"
            ],
            [
             0.5555555555555556,
             "#d8576b"
            ],
            [
             0.6666666666666666,
             "#ed7953"
            ],
            [
             0.7777777777777778,
             "#fb9f3a"
            ],
            [
             0.8888888888888888,
             "#fdca26"
            ],
            [
             1,
             "#f0f921"
            ]
           ],
           "sequentialminus": [
            [
             0,
             "#0d0887"
            ],
            [
             0.1111111111111111,
             "#46039f"
            ],
            [
             0.2222222222222222,
             "#7201a8"
            ],
            [
             0.3333333333333333,
             "#9c179e"
            ],
            [
             0.4444444444444444,
             "#bd3786"
            ],
            [
             0.5555555555555556,
             "#d8576b"
            ],
            [
             0.6666666666666666,
             "#ed7953"
            ],
            [
             0.7777777777777778,
             "#fb9f3a"
            ],
            [
             0.8888888888888888,
             "#fdca26"
            ],
            [
             1,
             "#f0f921"
            ]
           ]
          },
          "colorway": [
           "#636efa",
           "#EF553B",
           "#00cc96",
           "#ab63fa",
           "#FFA15A",
           "#19d3f3",
           "#FF6692",
           "#B6E880",
           "#FF97FF",
           "#FECB52"
          ],
          "font": {
           "color": "#2a3f5f"
          },
          "geo": {
           "bgcolor": "white",
           "lakecolor": "white",
           "landcolor": "#E5ECF6",
           "showlakes": true,
           "showland": true,
           "subunitcolor": "white"
          },
          "hoverlabel": {
           "align": "left"
          },
          "hovermode": "closest",
          "mapbox": {
           "style": "light"
          },
          "paper_bgcolor": "white",
          "plot_bgcolor": "#E5ECF6",
          "polar": {
           "angularaxis": {
            "gridcolor": "white",
            "linecolor": "white",
            "ticks": ""
           },
           "bgcolor": "#E5ECF6",
           "radialaxis": {
            "gridcolor": "white",
            "linecolor": "white",
            "ticks": ""
           }
          },
          "scene": {
           "xaxis": {
            "backgroundcolor": "#E5ECF6",
            "gridcolor": "white",
            "gridwidth": 2,
            "linecolor": "white",
            "showbackground": true,
            "ticks": "",
            "zerolinecolor": "white"
           },
           "yaxis": {
            "backgroundcolor": "#E5ECF6",
            "gridcolor": "white",
            "gridwidth": 2,
            "linecolor": "white",
            "showbackground": true,
            "ticks": "",
            "zerolinecolor": "white"
           },
           "zaxis": {
            "backgroundcolor": "#E5ECF6",
            "gridcolor": "white",
            "gridwidth": 2,
            "linecolor": "white",
            "showbackground": true,
            "ticks": "",
            "zerolinecolor": "white"
           }
          },
          "shapedefaults": {
           "line": {
            "color": "#2a3f5f"
           }
          },
          "ternary": {
           "aaxis": {
            "gridcolor": "white",
            "linecolor": "white",
            "ticks": ""
           },
           "baxis": {
            "gridcolor": "white",
            "linecolor": "white",
            "ticks": ""
           },
           "bgcolor": "#E5ECF6",
           "caxis": {
            "gridcolor": "white",
            "linecolor": "white",
            "ticks": ""
           }
          },
          "title": {
           "x": 0.05
          },
          "xaxis": {
           "automargin": true,
           "gridcolor": "white",
           "linecolor": "white",
           "ticks": "",
           "title": {
            "standoff": 15
           },
           "zerolinecolor": "white",
           "zerolinewidth": 2
          },
          "yaxis": {
           "automargin": true,
           "gridcolor": "white",
           "linecolor": "white",
           "ticks": "",
           "title": {
            "standoff": 15
           },
           "zerolinecolor": "white",
           "zerolinewidth": 2
          }
         }
        },
        "title": {
         "font": {
          "color": "#4D5663"
         }
        },
        "xaxis": {
         "gridcolor": "#E1E5ED",
         "showgrid": true,
         "tickfont": {
          "color": "#4D5663"
         },
         "title": {
          "font": {
           "color": "#4D5663"
          },
          "text": ""
         },
         "zerolinecolor": "#E1E5ED"
        },
        "yaxis": {
         "gridcolor": "#E1E5ED",
         "showgrid": true,
         "tickfont": {
          "color": "#4D5663"
         },
         "title": {
          "font": {
           "color": "#4D5663"
          },
          "text": ""
         },
         "zerolinecolor": "#E1E5ED"
        }
       }
      },
      "text/html": [
       "<div>                            <div id=\"c0debb1e-d4bf-4df0-912d-f9056072546f\" class=\"plotly-graph-div\" style=\"height:525px; width:100%;\"></div>            <script type=\"text/javascript\">                require([\"plotly\"], function(Plotly) {                    window.PLOTLYENV=window.PLOTLYENV || {};\n",
       "                    window.PLOTLYENV.BASE_URL='https://plot.ly';                                    if (document.getElementById(\"c0debb1e-d4bf-4df0-912d-f9056072546f\")) {                    Plotly.newPlot(                        \"c0debb1e-d4bf-4df0-912d-f9056072546f\",                        [{\"colorscale\":[[0.0,\"rgb(255, 153, 51)\"],[0.1111111111111111,\"rgb(55, 128, 191)\"],[0.2222222222222222,\"rgb(50, 171, 96)\"],[0.3333333333333333,\"rgb(128, 0, 128)\"],[0.4444444444444444,\"rgb(219, 64, 82)\"],[0.5555555555555556,\"rgb(0, 128, 128)\"],[0.6666666666666666,\"rgb(255, 255, 51)\"],[0.7777777777777778,\"rgb(128, 128, 0)\"],[0.8888888888888888,\"rgb(251, 128, 114)\"],[1.0,\"rgb(128, 177, 211)\"]],\"x\":[0,1,2,3,4,5,6,7,8,9],\"y\":[\"A\",\"B\",\"C\"],\"z\":[[1,2,3,4,5,6,7,8,9,10],[10,20,30,40,50,60,70,80,90,100],[1,2,3,4,5,6,7,8,9,40]],\"type\":\"surface\"}],                        {\"legend\":{\"bgcolor\":\"#F5F6F9\",\"font\":{\"color\":\"#4D5663\"}},\"paper_bgcolor\":\"#F5F6F9\",\"plot_bgcolor\":\"#F5F6F9\",\"template\":{\"data\":{\"barpolar\":[{\"marker\":{\"line\":{\"color\":\"#E5ECF6\",\"width\":0.5},\"pattern\":{\"fillmode\":\"overlay\",\"size\":10,\"solidity\":0.2}},\"type\":\"barpolar\"}],\"bar\":[{\"error_x\":{\"color\":\"#2a3f5f\"},\"error_y\":{\"color\":\"#2a3f5f\"},\"marker\":{\"line\":{\"color\":\"#E5ECF6\",\"width\":0.5},\"pattern\":{\"fillmode\":\"overlay\",\"size\":10,\"solidity\":0.2}},\"type\":\"bar\"}],\"carpet\":[{\"aaxis\":{\"endlinecolor\":\"#2a3f5f\",\"gridcolor\":\"white\",\"linecolor\":\"white\",\"minorgridcolor\":\"white\",\"startlinecolor\":\"#2a3f5f\"},\"baxis\":{\"endlinecolor\":\"#2a3f5f\",\"gridcolor\":\"white\",\"linecolor\":\"white\",\"minorgridcolor\":\"white\",\"startlinecolor\":\"#2a3f5f\"},\"type\":\"carpet\"}],\"choropleth\":[{\"colorbar\":{\"outlinewidth\":0,\"ticks\":\"\"},\"type\":\"choropleth\"}],\"contourcarpet\":[{\"colorbar\":{\"outlinewidth\":0,\"ticks\":\"\"},\"type\":\"contourcarpet\"}],\"contour\":[{\"colorbar\":{\"outlinewidth\":0,\"ticks\":\"\"},\"colorscale\":[[0.0,\"#0d0887\"],[0.1111111111111111,\"#46039f\"],[0.2222222222222222,\"#7201a8\"],[0.3333333333333333,\"#9c179e\"],[0.4444444444444444,\"#bd3786\"],[0.5555555555555556,\"#d8576b\"],[0.6666666666666666,\"#ed7953\"],[0.7777777777777778,\"#fb9f3a\"],[0.8888888888888888,\"#fdca26\"],[1.0,\"#f0f921\"]],\"type\":\"contour\"}],\"heatmapgl\":[{\"colorbar\":{\"outlinewidth\":0,\"ticks\":\"\"},\"colorscale\":[[0.0,\"#0d0887\"],[0.1111111111111111,\"#46039f\"],[0.2222222222222222,\"#7201a8\"],[0.3333333333333333,\"#9c179e\"],[0.4444444444444444,\"#bd3786\"],[0.5555555555555556,\"#d8576b\"],[0.6666666666666666,\"#ed7953\"],[0.7777777777777778,\"#fb9f3a\"],[0.8888888888888888,\"#fdca26\"],[1.0,\"#f0f921\"]],\"type\":\"heatmapgl\"}],\"heatmap\":[{\"colorbar\":{\"outlinewidth\":0,\"ticks\":\"\"},\"colorscale\":[[0.0,\"#0d0887\"],[0.1111111111111111,\"#46039f\"],[0.2222222222222222,\"#7201a8\"],[0.3333333333333333,\"#9c179e\"],[0.4444444444444444,\"#bd3786\"],[0.5555555555555556,\"#d8576b\"],[0.6666666666666666,\"#ed7953\"],[0.7777777777777778,\"#fb9f3a\"],[0.8888888888888888,\"#fdca26\"],[1.0,\"#f0f921\"]],\"type\":\"heatmap\"}],\"histogram2dcontour\":[{\"colorbar\":{\"outlinewidth\":0,\"ticks\":\"\"},\"colorscale\":[[0.0,\"#0d0887\"],[0.1111111111111111,\"#46039f\"],[0.2222222222222222,\"#7201a8\"],[0.3333333333333333,\"#9c179e\"],[0.4444444444444444,\"#bd3786\"],[0.5555555555555556,\"#d8576b\"],[0.6666666666666666,\"#ed7953\"],[0.7777777777777778,\"#fb9f3a\"],[0.8888888888888888,\"#fdca26\"],[1.0,\"#f0f921\"]],\"type\":\"histogram2dcontour\"}],\"histogram2d\":[{\"colorbar\":{\"outlinewidth\":0,\"ticks\":\"\"},\"colorscale\":[[0.0,\"#0d0887\"],[0.1111111111111111,\"#46039f\"],[0.2222222222222222,\"#7201a8\"],[0.3333333333333333,\"#9c179e\"],[0.4444444444444444,\"#bd3786\"],[0.5555555555555556,\"#d8576b\"],[0.6666666666666666,\"#ed7953\"],[0.7777777777777778,\"#fb9f3a\"],[0.8888888888888888,\"#fdca26\"],[1.0,\"#f0f921\"]],\"type\":\"histogram2d\"}],\"histogram\":[{\"marker\":{\"pattern\":{\"fillmode\":\"overlay\",\"size\":10,\"solidity\":0.2}},\"type\":\"histogram\"}],\"mesh3d\":[{\"colorbar\":{\"outlinewidth\":0,\"ticks\":\"\"},\"type\":\"mesh3d\"}],\"parcoords\":[{\"line\":{\"colorbar\":{\"outlinewidth\":0,\"ticks\":\"\"}},\"type\":\"parcoords\"}],\"pie\":[{\"automargin\":true,\"type\":\"pie\"}],\"scatter3d\":[{\"line\":{\"colorbar\":{\"outlinewidth\":0,\"ticks\":\"\"}},\"marker\":{\"colorbar\":{\"outlinewidth\":0,\"ticks\":\"\"}},\"type\":\"scatter3d\"}],\"scattercarpet\":[{\"marker\":{\"colorbar\":{\"outlinewidth\":0,\"ticks\":\"\"}},\"type\":\"scattercarpet\"}],\"scattergeo\":[{\"marker\":{\"colorbar\":{\"outlinewidth\":0,\"ticks\":\"\"}},\"type\":\"scattergeo\"}],\"scattergl\":[{\"marker\":{\"colorbar\":{\"outlinewidth\":0,\"ticks\":\"\"}},\"type\":\"scattergl\"}],\"scattermapbox\":[{\"marker\":{\"colorbar\":{\"outlinewidth\":0,\"ticks\":\"\"}},\"type\":\"scattermapbox\"}],\"scatterpolargl\":[{\"marker\":{\"colorbar\":{\"outlinewidth\":0,\"ticks\":\"\"}},\"type\":\"scatterpolargl\"}],\"scatterpolar\":[{\"marker\":{\"colorbar\":{\"outlinewidth\":0,\"ticks\":\"\"}},\"type\":\"scatterpolar\"}],\"scatter\":[{\"marker\":{\"colorbar\":{\"outlinewidth\":0,\"ticks\":\"\"}},\"type\":\"scatter\"}],\"scatterternary\":[{\"marker\":{\"colorbar\":{\"outlinewidth\":0,\"ticks\":\"\"}},\"type\":\"scatterternary\"}],\"surface\":[{\"colorbar\":{\"outlinewidth\":0,\"ticks\":\"\"},\"colorscale\":[[0.0,\"#0d0887\"],[0.1111111111111111,\"#46039f\"],[0.2222222222222222,\"#7201a8\"],[0.3333333333333333,\"#9c179e\"],[0.4444444444444444,\"#bd3786\"],[0.5555555555555556,\"#d8576b\"],[0.6666666666666666,\"#ed7953\"],[0.7777777777777778,\"#fb9f3a\"],[0.8888888888888888,\"#fdca26\"],[1.0,\"#f0f921\"]],\"type\":\"surface\"}],\"table\":[{\"cells\":{\"fill\":{\"color\":\"#EBF0F8\"},\"line\":{\"color\":\"white\"}},\"header\":{\"fill\":{\"color\":\"#C8D4E3\"},\"line\":{\"color\":\"white\"}},\"type\":\"table\"}]},\"layout\":{\"annotationdefaults\":{\"arrowcolor\":\"#2a3f5f\",\"arrowhead\":0,\"arrowwidth\":1},\"autotypenumbers\":\"strict\",\"coloraxis\":{\"colorbar\":{\"outlinewidth\":0,\"ticks\":\"\"}},\"colorscale\":{\"diverging\":[[0,\"#8e0152\"],[0.1,\"#c51b7d\"],[0.2,\"#de77ae\"],[0.3,\"#f1b6da\"],[0.4,\"#fde0ef\"],[0.5,\"#f7f7f7\"],[0.6,\"#e6f5d0\"],[0.7,\"#b8e186\"],[0.8,\"#7fbc41\"],[0.9,\"#4d9221\"],[1,\"#276419\"]],\"sequential\":[[0.0,\"#0d0887\"],[0.1111111111111111,\"#46039f\"],[0.2222222222222222,\"#7201a8\"],[0.3333333333333333,\"#9c179e\"],[0.4444444444444444,\"#bd3786\"],[0.5555555555555556,\"#d8576b\"],[0.6666666666666666,\"#ed7953\"],[0.7777777777777778,\"#fb9f3a\"],[0.8888888888888888,\"#fdca26\"],[1.0,\"#f0f921\"]],\"sequentialminus\":[[0.0,\"#0d0887\"],[0.1111111111111111,\"#46039f\"],[0.2222222222222222,\"#7201a8\"],[0.3333333333333333,\"#9c179e\"],[0.4444444444444444,\"#bd3786\"],[0.5555555555555556,\"#d8576b\"],[0.6666666666666666,\"#ed7953\"],[0.7777777777777778,\"#fb9f3a\"],[0.8888888888888888,\"#fdca26\"],[1.0,\"#f0f921\"]]},\"colorway\":[\"#636efa\",\"#EF553B\",\"#00cc96\",\"#ab63fa\",\"#FFA15A\",\"#19d3f3\",\"#FF6692\",\"#B6E880\",\"#FF97FF\",\"#FECB52\"],\"font\":{\"color\":\"#2a3f5f\"},\"geo\":{\"bgcolor\":\"white\",\"lakecolor\":\"white\",\"landcolor\":\"#E5ECF6\",\"showlakes\":true,\"showland\":true,\"subunitcolor\":\"white\"},\"hoverlabel\":{\"align\":\"left\"},\"hovermode\":\"closest\",\"mapbox\":{\"style\":\"light\"},\"paper_bgcolor\":\"white\",\"plot_bgcolor\":\"#E5ECF6\",\"polar\":{\"angularaxis\":{\"gridcolor\":\"white\",\"linecolor\":\"white\",\"ticks\":\"\"},\"bgcolor\":\"#E5ECF6\",\"radialaxis\":{\"gridcolor\":\"white\",\"linecolor\":\"white\",\"ticks\":\"\"}},\"scene\":{\"xaxis\":{\"backgroundcolor\":\"#E5ECF6\",\"gridcolor\":\"white\",\"gridwidth\":2,\"linecolor\":\"white\",\"showbackground\":true,\"ticks\":\"\",\"zerolinecolor\":\"white\"},\"yaxis\":{\"backgroundcolor\":\"#E5ECF6\",\"gridcolor\":\"white\",\"gridwidth\":2,\"linecolor\":\"white\",\"showbackground\":true,\"ticks\":\"\",\"zerolinecolor\":\"white\"},\"zaxis\":{\"backgroundcolor\":\"#E5ECF6\",\"gridcolor\":\"white\",\"gridwidth\":2,\"linecolor\":\"white\",\"showbackground\":true,\"ticks\":\"\",\"zerolinecolor\":\"white\"}},\"shapedefaults\":{\"line\":{\"color\":\"#2a3f5f\"}},\"ternary\":{\"aaxis\":{\"gridcolor\":\"white\",\"linecolor\":\"white\",\"ticks\":\"\"},\"baxis\":{\"gridcolor\":\"white\",\"linecolor\":\"white\",\"ticks\":\"\"},\"bgcolor\":\"#E5ECF6\",\"caxis\":{\"gridcolor\":\"white\",\"linecolor\":\"white\",\"ticks\":\"\"}},\"title\":{\"x\":0.05},\"xaxis\":{\"automargin\":true,\"gridcolor\":\"white\",\"linecolor\":\"white\",\"ticks\":\"\",\"title\":{\"standoff\":15},\"zerolinecolor\":\"white\",\"zerolinewidth\":2},\"yaxis\":{\"automargin\":true,\"gridcolor\":\"white\",\"linecolor\":\"white\",\"ticks\":\"\",\"title\":{\"standoff\":15},\"zerolinecolor\":\"white\",\"zerolinewidth\":2}}},\"title\":{\"font\":{\"color\":\"#4D5663\"}},\"xaxis\":{\"gridcolor\":\"#E1E5ED\",\"showgrid\":true,\"tickfont\":{\"color\":\"#4D5663\"},\"title\":{\"font\":{\"color\":\"#4D5663\"},\"text\":\"\"},\"zerolinecolor\":\"#E1E5ED\"},\"yaxis\":{\"gridcolor\":\"#E1E5ED\",\"showgrid\":true,\"tickfont\":{\"color\":\"#4D5663\"},\"title\":{\"font\":{\"color\":\"#4D5663\"},\"text\":\"\"},\"zerolinecolor\":\"#E1E5ED\"}},                        {\"showLink\": true, \"linkText\": \"Export to plot.ly\", \"plotlyServerURL\": \"https://plot.ly\", \"responsive\": true}                    ).then(function(){\n",
       "                            \n",
       "var gd = document.getElementById('c0debb1e-d4bf-4df0-912d-f9056072546f');\n",
       "var x = new MutationObserver(function (mutations, observer) {{\n",
       "        var display = window.getComputedStyle(gd).display;\n",
       "        if (!display || display === 'none') {{\n",
       "            console.log([gd, 'removed!']);\n",
       "            Plotly.purge(gd);\n",
       "            observer.disconnect();\n",
       "        }}\n",
       "}});\n",
       "\n",
       "// Listen for the removal of the full notebook cells\n",
       "var notebookContainer = gd.closest('#notebook-container');\n",
       "if (notebookContainer) {{\n",
       "    x.observe(notebookContainer, {childList: true});\n",
       "}}\n",
       "\n",
       "// Listen for the clearing of the current output cell\n",
       "var outputEl = gd.closest('.output');\n",
       "if (outputEl) {{\n",
       "    x.observe(outputEl, {childList: true});\n",
       "}}\n",
       "\n",
       "                        })                };                });            </script>        </div>"
      ]
     },
     "metadata": {},
     "output_type": "display_data"
    }
   ],
   "source": [
    "df3.iplot(kind='surface')"
   ]
  },
  {
   "cell_type": "code",
   "execution_count": null,
   "id": "06f02870",
   "metadata": {},
   "outputs": [],
   "source": []
  }
 ],
 "metadata": {
  "kernelspec": {
   "display_name": "Python 3 (ipykernel)",
   "language": "python",
   "name": "python3"
  },
  "language_info": {
   "codemirror_mode": {
    "name": "ipython",
    "version": 3
   },
   "file_extension": ".py",
   "mimetype": "text/x-python",
   "name": "python",
   "nbconvert_exporter": "python",
   "pygments_lexer": "ipython3",
   "version": "3.9.12"
  }
 },
 "nbformat": 4,
 "nbformat_minor": 5
}
