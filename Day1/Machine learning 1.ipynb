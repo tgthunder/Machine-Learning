{
 "cells": [
  {
   "cell_type": "markdown",
   "id": "3fbf9454",
   "metadata": {},
   "source": [
    "# Numpy Array"
   ]
  },
  {
   "cell_type": "code",
   "execution_count": 1,
   "id": "9941ddfe",
   "metadata": {},
   "outputs": [],
   "source": [
    "my_list = [2,4,7,8,9]"
   ]
  },
  {
   "cell_type": "code",
   "execution_count": 2,
   "id": "c7fd3e71",
   "metadata": {},
   "outputs": [],
   "source": [
    "import numpy as np"
   ]
  },
  {
   "cell_type": "code",
   "execution_count": 3,
   "id": "40c11529",
   "metadata": {},
   "outputs": [],
   "source": [
    "arr = np.array(my_list)"
   ]
  },
  {
   "cell_type": "code",
   "execution_count": 4,
   "id": "2e65cbaf",
   "metadata": {},
   "outputs": [
    {
     "data": {
      "text/plain": [
       "array([2, 4, 7, 8, 9])"
      ]
     },
     "execution_count": 4,
     "metadata": {},
     "output_type": "execute_result"
    }
   ],
   "source": [
    "arr"
   ]
  },
  {
   "cell_type": "code",
   "execution_count": 5,
   "id": "9ec304ba",
   "metadata": {},
   "outputs": [],
   "source": [
    "myarray = [[1,2,4],[5,6,9],[4,6,1]]"
   ]
  },
  {
   "cell_type": "code",
   "execution_count": 6,
   "id": "704dabe6",
   "metadata": {},
   "outputs": [],
   "source": [
    "myarray=np.array(myarray)"
   ]
  },
  {
   "cell_type": "code",
   "execution_count": 7,
   "id": "fa72c330",
   "metadata": {},
   "outputs": [
    {
     "data": {
      "text/plain": [
       "9"
      ]
     },
     "execution_count": 7,
     "metadata": {},
     "output_type": "execute_result"
    }
   ],
   "source": [
    "myarray.size"
   ]
  },
  {
   "cell_type": "code",
   "execution_count": 8,
   "id": "de080f56",
   "metadata": {},
   "outputs": [
    {
     "data": {
      "text/plain": [
       "array([[1, 2, 4],\n",
       "       [5, 6, 9],\n",
       "       [4, 6, 1]])"
      ]
     },
     "execution_count": 8,
     "metadata": {},
     "output_type": "execute_result"
    }
   ],
   "source": [
    "myarray"
   ]
  },
  {
   "cell_type": "code",
   "execution_count": 9,
   "id": "b40968aa",
   "metadata": {},
   "outputs": [
    {
     "data": {
      "text/plain": [
       "array([0., 0.])"
      ]
     },
     "execution_count": 9,
     "metadata": {},
     "output_type": "execute_result"
    }
   ],
   "source": [
    "np.zeros(2)"
   ]
  },
  {
   "cell_type": "code",
   "execution_count": 10,
   "id": "7ad5457a",
   "metadata": {},
   "outputs": [
    {
     "data": {
      "text/plain": [
       "array([[0., 0., 0., 0.],\n",
       "       [0., 0., 0., 0.]])"
      ]
     },
     "execution_count": 10,
     "metadata": {},
     "output_type": "execute_result"
    }
   ],
   "source": [
    "np.zeros((2,4))"
   ]
  },
  {
   "cell_type": "code",
   "execution_count": 11,
   "id": "4fcb5927",
   "metadata": {},
   "outputs": [
    {
     "data": {
      "text/plain": [
       "array([[1., 1., 1., 1., 1.],\n",
       "       [1., 1., 1., 1., 1.],\n",
       "       [1., 1., 1., 1., 1.]])"
      ]
     },
     "execution_count": 11,
     "metadata": {},
     "output_type": "execute_result"
    }
   ],
   "source": [
    "np.ones((3,5))"
   ]
  },
  {
   "cell_type": "code",
   "execution_count": 12,
   "id": "98f947b3",
   "metadata": {},
   "outputs": [
    {
     "data": {
      "text/plain": [
       "array([[1., 0., 0., 0.],\n",
       "       [0., 1., 0., 0.],\n",
       "       [0., 0., 1., 0.],\n",
       "       [0., 0., 0., 1.]])"
      ]
     },
     "execution_count": 12,
     "metadata": {},
     "output_type": "execute_result"
    }
   ],
   "source": [
    "np.eye(4)  "
   ]
  },
  {
   "cell_type": "code",
   "execution_count": 13,
   "id": "1d93c787",
   "metadata": {},
   "outputs": [
    {
     "data": {
      "text/plain": [
       "array([1.        , 1.44444444, 1.88888889, 2.33333333, 2.77777778,\n",
       "       3.22222222, 3.66666667, 4.11111111, 4.55555556, 5.        ])"
      ]
     },
     "execution_count": 13,
     "metadata": {},
     "output_type": "execute_result"
    }
   ],
   "source": [
    "np.linspace(1,5,10)"
   ]
  },
  {
   "cell_type": "code",
   "execution_count": 14,
   "id": "ed9c102c",
   "metadata": {},
   "outputs": [
    {
     "data": {
      "text/plain": [
       "array([0.64531379, 0.14224526, 0.0225469 , 0.50213965])"
      ]
     },
     "execution_count": 14,
     "metadata": {},
     "output_type": "execute_result"
    }
   ],
   "source": [
    "np.random.rand(4) # it will create a numpy array of size 4 and values between 0-1 equally distributed"
   ]
  },
  {
   "cell_type": "code",
   "execution_count": 15,
   "id": "e602e9ba",
   "metadata": {},
   "outputs": [
    {
     "data": {
      "text/plain": [
       "array([[0.26308843, 0.18012556, 0.97950854, 0.82984945],\n",
       "       [0.19837427, 0.18283913, 0.28101602, 0.3044798 ]])"
      ]
     },
     "execution_count": 15,
     "metadata": {},
     "output_type": "execute_result"
    }
   ],
   "source": [
    "np.random.rand(2,4)"
   ]
  },
  {
   "cell_type": "code",
   "execution_count": 9,
   "id": "c5b9d8f5",
   "metadata": {},
   "outputs": [],
   "source": [
    "are = np.random.randn(2,100) # it will create an numpy array of shape 2,100 and values follows standard normal distribution"
   ]
  },
  {
   "cell_type": "code",
   "execution_count": 17,
   "id": "2842b528",
   "metadata": {},
   "outputs": [
    {
     "data": {
      "text/plain": [
       "array([60, 93, 52, 79, 77, 30, 87, 38, 24, 77])"
      ]
     },
     "execution_count": 17,
     "metadata": {},
     "output_type": "execute_result"
    }
   ],
   "source": [
    "np.random.randint(1,100,10)"
   ]
  },
  {
   "cell_type": "code",
   "execution_count": 18,
   "id": "2a6c8cbe",
   "metadata": {},
   "outputs": [],
   "source": [
    "arr1 = np.arange(20)"
   ]
  },
  {
   "cell_type": "code",
   "execution_count": 19,
   "id": "fbc5d155",
   "metadata": {},
   "outputs": [
    {
     "data": {
      "text/plain": [
       "array([ 0,  1,  2,  3,  4,  5,  6,  7,  8,  9, 10, 11, 12, 13, 14, 15, 16,\n",
       "       17, 18, 19])"
      ]
     },
     "execution_count": 19,
     "metadata": {},
     "output_type": "execute_result"
    }
   ],
   "source": [
    "arr1"
   ]
  },
  {
   "cell_type": "code",
   "execution_count": 20,
   "id": "5c1c792b",
   "metadata": {},
   "outputs": [],
   "source": [
    "ranrr = np.random.randint(1,50,20)"
   ]
  },
  {
   "cell_type": "code",
   "execution_count": 21,
   "id": "c88863ab",
   "metadata": {},
   "outputs": [
    {
     "data": {
      "text/plain": [
       "array([13, 36, 23, 25, 26, 33, 18, 23, 36, 48, 16, 31, 31, 38, 32, 14, 43,\n",
       "       34, 16, 37])"
      ]
     },
     "execution_count": 21,
     "metadata": {},
     "output_type": "execute_result"
    }
   ],
   "source": [
    "ranrr"
   ]
  },
  {
   "cell_type": "code",
   "execution_count": 22,
   "id": "89b12b7b",
   "metadata": {},
   "outputs": [
    {
     "data": {
      "text/plain": [
       "array([[ 0,  1,  2,  3,  4],\n",
       "       [ 5,  6,  7,  8,  9],\n",
       "       [10, 11, 12, 13, 14],\n",
       "       [15, 16, 17, 18, 19]])"
      ]
     },
     "execution_count": 22,
     "metadata": {},
     "output_type": "execute_result"
    }
   ],
   "source": [
    "arr1=arr1.reshape(4,5)\n",
    "arr1"
   ]
  },
  {
   "cell_type": "code",
   "execution_count": 23,
   "id": "7f25ac90",
   "metadata": {},
   "outputs": [
    {
     "data": {
      "text/plain": [
       "48"
      ]
     },
     "execution_count": 23,
     "metadata": {},
     "output_type": "execute_result"
    }
   ],
   "source": [
    "ranrr.max() # it will give the index of maximum value"
   ]
  },
  {
   "cell_type": "code",
   "execution_count": 24,
   "id": "f644e8f1",
   "metadata": {},
   "outputs": [
    {
     "data": {
      "text/plain": [
       "0"
      ]
     },
     "execution_count": 24,
     "metadata": {},
     "output_type": "execute_result"
    }
   ],
   "source": [
    "arr1.min()"
   ]
  },
  {
   "cell_type": "code",
   "execution_count": 25,
   "id": "1010cfcc",
   "metadata": {},
   "outputs": [
    {
     "data": {
      "text/plain": [
       "array([[ 0,  1,  2,  3,  4],\n",
       "       [ 5,  6,  7,  8,  9],\n",
       "       [10, 11, 12, 13, 14],\n",
       "       [15, 16, 17, 18, 19]])"
      ]
     },
     "execution_count": 25,
     "metadata": {},
     "output_type": "execute_result"
    }
   ],
   "source": [
    "arr1.reshape(4,5)  "
   ]
  },
  {
   "cell_type": "code",
   "execution_count": 26,
   "id": "44ff77ca",
   "metadata": {},
   "outputs": [
    {
     "data": {
      "text/plain": [
       "(4, 5)"
      ]
     },
     "execution_count": 26,
     "metadata": {},
     "output_type": "execute_result"
    }
   ],
   "source": [
    "arr1.shape"
   ]
  },
  {
   "cell_type": "code",
   "execution_count": 43,
   "id": "40763501",
   "metadata": {},
   "outputs": [],
   "source": [
    "ar = np.linspace(1,10,1000)"
   ]
  },
  {
   "cell_type": "code",
   "execution_count": 44,
   "id": "8cc2ad83",
   "metadata": {},
   "outputs": [],
   "source": [
    "ar = ar.reshape((500,2))"
   ]
  },
  {
   "cell_type": "code",
   "execution_count": 45,
   "id": "97769c27",
   "metadata": {},
   "outputs": [
    {
     "data": {
      "text/plain": [
       "array([[ 1.        ,  1.00900901],\n",
       "       [ 1.01801802,  1.02702703],\n",
       "       [ 1.03603604,  1.04504505],\n",
       "       [ 1.05405405,  1.06306306],\n",
       "       [ 1.07207207,  1.08108108],\n",
       "       [ 1.09009009,  1.0990991 ],\n",
       "       [ 1.10810811,  1.11711712],\n",
       "       [ 1.12612613,  1.13513514],\n",
       "       [ 1.14414414,  1.15315315],\n",
       "       [ 1.16216216,  1.17117117],\n",
       "       [ 1.18018018,  1.18918919],\n",
       "       [ 1.1981982 ,  1.20720721],\n",
       "       [ 1.21621622,  1.22522523],\n",
       "       [ 1.23423423,  1.24324324],\n",
       "       [ 1.25225225,  1.26126126],\n",
       "       [ 1.27027027,  1.27927928],\n",
       "       [ 1.28828829,  1.2972973 ],\n",
       "       [ 1.30630631,  1.31531532],\n",
       "       [ 1.32432432,  1.33333333],\n",
       "       [ 1.34234234,  1.35135135],\n",
       "       [ 1.36036036,  1.36936937],\n",
       "       [ 1.37837838,  1.38738739],\n",
       "       [ 1.3963964 ,  1.40540541],\n",
       "       [ 1.41441441,  1.42342342],\n",
       "       [ 1.43243243,  1.44144144],\n",
       "       [ 1.45045045,  1.45945946],\n",
       "       [ 1.46846847,  1.47747748],\n",
       "       [ 1.48648649,  1.4954955 ],\n",
       "       [ 1.5045045 ,  1.51351351],\n",
       "       [ 1.52252252,  1.53153153],\n",
       "       [ 1.54054054,  1.54954955],\n",
       "       [ 1.55855856,  1.56756757],\n",
       "       [ 1.57657658,  1.58558559],\n",
       "       [ 1.59459459,  1.6036036 ],\n",
       "       [ 1.61261261,  1.62162162],\n",
       "       [ 1.63063063,  1.63963964],\n",
       "       [ 1.64864865,  1.65765766],\n",
       "       [ 1.66666667,  1.67567568],\n",
       "       [ 1.68468468,  1.69369369],\n",
       "       [ 1.7027027 ,  1.71171171],\n",
       "       [ 1.72072072,  1.72972973],\n",
       "       [ 1.73873874,  1.74774775],\n",
       "       [ 1.75675676,  1.76576577],\n",
       "       [ 1.77477477,  1.78378378],\n",
       "       [ 1.79279279,  1.8018018 ],\n",
       "       [ 1.81081081,  1.81981982],\n",
       "       [ 1.82882883,  1.83783784],\n",
       "       [ 1.84684685,  1.85585586],\n",
       "       [ 1.86486486,  1.87387387],\n",
       "       [ 1.88288288,  1.89189189],\n",
       "       [ 1.9009009 ,  1.90990991],\n",
       "       [ 1.91891892,  1.92792793],\n",
       "       [ 1.93693694,  1.94594595],\n",
       "       [ 1.95495495,  1.96396396],\n",
       "       [ 1.97297297,  1.98198198],\n",
       "       [ 1.99099099,  2.        ],\n",
       "       [ 2.00900901,  2.01801802],\n",
       "       [ 2.02702703,  2.03603604],\n",
       "       [ 2.04504505,  2.05405405],\n",
       "       [ 2.06306306,  2.07207207],\n",
       "       [ 2.08108108,  2.09009009],\n",
       "       [ 2.0990991 ,  2.10810811],\n",
       "       [ 2.11711712,  2.12612613],\n",
       "       [ 2.13513514,  2.14414414],\n",
       "       [ 2.15315315,  2.16216216],\n",
       "       [ 2.17117117,  2.18018018],\n",
       "       [ 2.18918919,  2.1981982 ],\n",
       "       [ 2.20720721,  2.21621622],\n",
       "       [ 2.22522523,  2.23423423],\n",
       "       [ 2.24324324,  2.25225225],\n",
       "       [ 2.26126126,  2.27027027],\n",
       "       [ 2.27927928,  2.28828829],\n",
       "       [ 2.2972973 ,  2.30630631],\n",
       "       [ 2.31531532,  2.32432432],\n",
       "       [ 2.33333333,  2.34234234],\n",
       "       [ 2.35135135,  2.36036036],\n",
       "       [ 2.36936937,  2.37837838],\n",
       "       [ 2.38738739,  2.3963964 ],\n",
       "       [ 2.40540541,  2.41441441],\n",
       "       [ 2.42342342,  2.43243243],\n",
       "       [ 2.44144144,  2.45045045],\n",
       "       [ 2.45945946,  2.46846847],\n",
       "       [ 2.47747748,  2.48648649],\n",
       "       [ 2.4954955 ,  2.5045045 ],\n",
       "       [ 2.51351351,  2.52252252],\n",
       "       [ 2.53153153,  2.54054054],\n",
       "       [ 2.54954955,  2.55855856],\n",
       "       [ 2.56756757,  2.57657658],\n",
       "       [ 2.58558559,  2.59459459],\n",
       "       [ 2.6036036 ,  2.61261261],\n",
       "       [ 2.62162162,  2.63063063],\n",
       "       [ 2.63963964,  2.64864865],\n",
       "       [ 2.65765766,  2.66666667],\n",
       "       [ 2.67567568,  2.68468468],\n",
       "       [ 2.69369369,  2.7027027 ],\n",
       "       [ 2.71171171,  2.72072072],\n",
       "       [ 2.72972973,  2.73873874],\n",
       "       [ 2.74774775,  2.75675676],\n",
       "       [ 2.76576577,  2.77477477],\n",
       "       [ 2.78378378,  2.79279279],\n",
       "       [ 2.8018018 ,  2.81081081],\n",
       "       [ 2.81981982,  2.82882883],\n",
       "       [ 2.83783784,  2.84684685],\n",
       "       [ 2.85585586,  2.86486486],\n",
       "       [ 2.87387387,  2.88288288],\n",
       "       [ 2.89189189,  2.9009009 ],\n",
       "       [ 2.90990991,  2.91891892],\n",
       "       [ 2.92792793,  2.93693694],\n",
       "       [ 2.94594595,  2.95495495],\n",
       "       [ 2.96396396,  2.97297297],\n",
       "       [ 2.98198198,  2.99099099],\n",
       "       [ 3.        ,  3.00900901],\n",
       "       [ 3.01801802,  3.02702703],\n",
       "       [ 3.03603604,  3.04504505],\n",
       "       [ 3.05405405,  3.06306306],\n",
       "       [ 3.07207207,  3.08108108],\n",
       "       [ 3.09009009,  3.0990991 ],\n",
       "       [ 3.10810811,  3.11711712],\n",
       "       [ 3.12612613,  3.13513514],\n",
       "       [ 3.14414414,  3.15315315],\n",
       "       [ 3.16216216,  3.17117117],\n",
       "       [ 3.18018018,  3.18918919],\n",
       "       [ 3.1981982 ,  3.20720721],\n",
       "       [ 3.21621622,  3.22522523],\n",
       "       [ 3.23423423,  3.24324324],\n",
       "       [ 3.25225225,  3.26126126],\n",
       "       [ 3.27027027,  3.27927928],\n",
       "       [ 3.28828829,  3.2972973 ],\n",
       "       [ 3.30630631,  3.31531532],\n",
       "       [ 3.32432432,  3.33333333],\n",
       "       [ 3.34234234,  3.35135135],\n",
       "       [ 3.36036036,  3.36936937],\n",
       "       [ 3.37837838,  3.38738739],\n",
       "       [ 3.3963964 ,  3.40540541],\n",
       "       [ 3.41441441,  3.42342342],\n",
       "       [ 3.43243243,  3.44144144],\n",
       "       [ 3.45045045,  3.45945946],\n",
       "       [ 3.46846847,  3.47747748],\n",
       "       [ 3.48648649,  3.4954955 ],\n",
       "       [ 3.5045045 ,  3.51351351],\n",
       "       [ 3.52252252,  3.53153153],\n",
       "       [ 3.54054054,  3.54954955],\n",
       "       [ 3.55855856,  3.56756757],\n",
       "       [ 3.57657658,  3.58558559],\n",
       "       [ 3.59459459,  3.6036036 ],\n",
       "       [ 3.61261261,  3.62162162],\n",
       "       [ 3.63063063,  3.63963964],\n",
       "       [ 3.64864865,  3.65765766],\n",
       "       [ 3.66666667,  3.67567568],\n",
       "       [ 3.68468468,  3.69369369],\n",
       "       [ 3.7027027 ,  3.71171171],\n",
       "       [ 3.72072072,  3.72972973],\n",
       "       [ 3.73873874,  3.74774775],\n",
       "       [ 3.75675676,  3.76576577],\n",
       "       [ 3.77477477,  3.78378378],\n",
       "       [ 3.79279279,  3.8018018 ],\n",
       "       [ 3.81081081,  3.81981982],\n",
       "       [ 3.82882883,  3.83783784],\n",
       "       [ 3.84684685,  3.85585586],\n",
       "       [ 3.86486486,  3.87387387],\n",
       "       [ 3.88288288,  3.89189189],\n",
       "       [ 3.9009009 ,  3.90990991],\n",
       "       [ 3.91891892,  3.92792793],\n",
       "       [ 3.93693694,  3.94594595],\n",
       "       [ 3.95495495,  3.96396396],\n",
       "       [ 3.97297297,  3.98198198],\n",
       "       [ 3.99099099,  4.        ],\n",
       "       [ 4.00900901,  4.01801802],\n",
       "       [ 4.02702703,  4.03603604],\n",
       "       [ 4.04504505,  4.05405405],\n",
       "       [ 4.06306306,  4.07207207],\n",
       "       [ 4.08108108,  4.09009009],\n",
       "       [ 4.0990991 ,  4.10810811],\n",
       "       [ 4.11711712,  4.12612613],\n",
       "       [ 4.13513514,  4.14414414],\n",
       "       [ 4.15315315,  4.16216216],\n",
       "       [ 4.17117117,  4.18018018],\n",
       "       [ 4.18918919,  4.1981982 ],\n",
       "       [ 4.20720721,  4.21621622],\n",
       "       [ 4.22522523,  4.23423423],\n",
       "       [ 4.24324324,  4.25225225],\n",
       "       [ 4.26126126,  4.27027027],\n",
       "       [ 4.27927928,  4.28828829],\n",
       "       [ 4.2972973 ,  4.30630631],\n",
       "       [ 4.31531532,  4.32432432],\n",
       "       [ 4.33333333,  4.34234234],\n",
       "       [ 4.35135135,  4.36036036],\n",
       "       [ 4.36936937,  4.37837838],\n",
       "       [ 4.38738739,  4.3963964 ],\n",
       "       [ 4.40540541,  4.41441441],\n",
       "       [ 4.42342342,  4.43243243],\n",
       "       [ 4.44144144,  4.45045045],\n",
       "       [ 4.45945946,  4.46846847],\n",
       "       [ 4.47747748,  4.48648649],\n",
       "       [ 4.4954955 ,  4.5045045 ],\n",
       "       [ 4.51351351,  4.52252252],\n",
       "       [ 4.53153153,  4.54054054],\n",
       "       [ 4.54954955,  4.55855856],\n",
       "       [ 4.56756757,  4.57657658],\n",
       "       [ 4.58558559,  4.59459459],\n",
       "       [ 4.6036036 ,  4.61261261],\n",
       "       [ 4.62162162,  4.63063063],\n",
       "       [ 4.63963964,  4.64864865],\n",
       "       [ 4.65765766,  4.66666667],\n",
       "       [ 4.67567568,  4.68468468],\n",
       "       [ 4.69369369,  4.7027027 ],\n",
       "       [ 4.71171171,  4.72072072],\n",
       "       [ 4.72972973,  4.73873874],\n",
       "       [ 4.74774775,  4.75675676],\n",
       "       [ 4.76576577,  4.77477477],\n",
       "       [ 4.78378378,  4.79279279],\n",
       "       [ 4.8018018 ,  4.81081081],\n",
       "       [ 4.81981982,  4.82882883],\n",
       "       [ 4.83783784,  4.84684685],\n",
       "       [ 4.85585586,  4.86486486],\n",
       "       [ 4.87387387,  4.88288288],\n",
       "       [ 4.89189189,  4.9009009 ],\n",
       "       [ 4.90990991,  4.91891892],\n",
       "       [ 4.92792793,  4.93693694],\n",
       "       [ 4.94594595,  4.95495495],\n",
       "       [ 4.96396396,  4.97297297],\n",
       "       [ 4.98198198,  4.99099099],\n",
       "       [ 5.        ,  5.00900901],\n",
       "       [ 5.01801802,  5.02702703],\n",
       "       [ 5.03603604,  5.04504505],\n",
       "       [ 5.05405405,  5.06306306],\n",
       "       [ 5.07207207,  5.08108108],\n",
       "       [ 5.09009009,  5.0990991 ],\n",
       "       [ 5.10810811,  5.11711712],\n",
       "       [ 5.12612613,  5.13513514],\n",
       "       [ 5.14414414,  5.15315315],\n",
       "       [ 5.16216216,  5.17117117],\n",
       "       [ 5.18018018,  5.18918919],\n",
       "       [ 5.1981982 ,  5.20720721],\n",
       "       [ 5.21621622,  5.22522523],\n",
       "       [ 5.23423423,  5.24324324],\n",
       "       [ 5.25225225,  5.26126126],\n",
       "       [ 5.27027027,  5.27927928],\n",
       "       [ 5.28828829,  5.2972973 ],\n",
       "       [ 5.30630631,  5.31531532],\n",
       "       [ 5.32432432,  5.33333333],\n",
       "       [ 5.34234234,  5.35135135],\n",
       "       [ 5.36036036,  5.36936937],\n",
       "       [ 5.37837838,  5.38738739],\n",
       "       [ 5.3963964 ,  5.40540541],\n",
       "       [ 5.41441441,  5.42342342],\n",
       "       [ 5.43243243,  5.44144144],\n",
       "       [ 5.45045045,  5.45945946],\n",
       "       [ 5.46846847,  5.47747748],\n",
       "       [ 5.48648649,  5.4954955 ],\n",
       "       [ 5.5045045 ,  5.51351351],\n",
       "       [ 5.52252252,  5.53153153],\n",
       "       [ 5.54054054,  5.54954955],\n",
       "       [ 5.55855856,  5.56756757],\n",
       "       [ 5.57657658,  5.58558559],\n",
       "       [ 5.59459459,  5.6036036 ],\n",
       "       [ 5.61261261,  5.62162162],\n",
       "       [ 5.63063063,  5.63963964],\n",
       "       [ 5.64864865,  5.65765766],\n",
       "       [ 5.66666667,  5.67567568],\n",
       "       [ 5.68468468,  5.69369369],\n",
       "       [ 5.7027027 ,  5.71171171],\n",
       "       [ 5.72072072,  5.72972973],\n",
       "       [ 5.73873874,  5.74774775],\n",
       "       [ 5.75675676,  5.76576577],\n",
       "       [ 5.77477477,  5.78378378],\n",
       "       [ 5.79279279,  5.8018018 ],\n",
       "       [ 5.81081081,  5.81981982],\n",
       "       [ 5.82882883,  5.83783784],\n",
       "       [ 5.84684685,  5.85585586],\n",
       "       [ 5.86486486,  5.87387387],\n",
       "       [ 5.88288288,  5.89189189],\n",
       "       [ 5.9009009 ,  5.90990991],\n",
       "       [ 5.91891892,  5.92792793],\n",
       "       [ 5.93693694,  5.94594595],\n",
       "       [ 5.95495495,  5.96396396],\n",
       "       [ 5.97297297,  5.98198198],\n",
       "       [ 5.99099099,  6.        ],\n",
       "       [ 6.00900901,  6.01801802],\n",
       "       [ 6.02702703,  6.03603604],\n",
       "       [ 6.04504505,  6.05405405],\n",
       "       [ 6.06306306,  6.07207207],\n",
       "       [ 6.08108108,  6.09009009],\n",
       "       [ 6.0990991 ,  6.10810811],\n",
       "       [ 6.11711712,  6.12612613],\n",
       "       [ 6.13513514,  6.14414414],\n",
       "       [ 6.15315315,  6.16216216],\n",
       "       [ 6.17117117,  6.18018018],\n",
       "       [ 6.18918919,  6.1981982 ],\n",
       "       [ 6.20720721,  6.21621622],\n",
       "       [ 6.22522523,  6.23423423],\n",
       "       [ 6.24324324,  6.25225225],\n",
       "       [ 6.26126126,  6.27027027],\n",
       "       [ 6.27927928,  6.28828829],\n",
       "       [ 6.2972973 ,  6.30630631],\n",
       "       [ 6.31531532,  6.32432432],\n",
       "       [ 6.33333333,  6.34234234],\n",
       "       [ 6.35135135,  6.36036036],\n",
       "       [ 6.36936937,  6.37837838],\n",
       "       [ 6.38738739,  6.3963964 ],\n",
       "       [ 6.40540541,  6.41441441],\n",
       "       [ 6.42342342,  6.43243243],\n",
       "       [ 6.44144144,  6.45045045],\n",
       "       [ 6.45945946,  6.46846847],\n",
       "       [ 6.47747748,  6.48648649],\n",
       "       [ 6.4954955 ,  6.5045045 ],\n",
       "       [ 6.51351351,  6.52252252],\n",
       "       [ 6.53153153,  6.54054054],\n",
       "       [ 6.54954955,  6.55855856],\n",
       "       [ 6.56756757,  6.57657658],\n",
       "       [ 6.58558559,  6.59459459],\n",
       "       [ 6.6036036 ,  6.61261261],\n",
       "       [ 6.62162162,  6.63063063],\n",
       "       [ 6.63963964,  6.64864865],\n",
       "       [ 6.65765766,  6.66666667],\n",
       "       [ 6.67567568,  6.68468468],\n",
       "       [ 6.69369369,  6.7027027 ],\n",
       "       [ 6.71171171,  6.72072072],\n",
       "       [ 6.72972973,  6.73873874],\n",
       "       [ 6.74774775,  6.75675676],\n",
       "       [ 6.76576577,  6.77477477],\n",
       "       [ 6.78378378,  6.79279279],\n",
       "       [ 6.8018018 ,  6.81081081],\n",
       "       [ 6.81981982,  6.82882883],\n",
       "       [ 6.83783784,  6.84684685],\n",
       "       [ 6.85585586,  6.86486486],\n",
       "       [ 6.87387387,  6.88288288],\n",
       "       [ 6.89189189,  6.9009009 ],\n",
       "       [ 6.90990991,  6.91891892],\n",
       "       [ 6.92792793,  6.93693694],\n",
       "       [ 6.94594595,  6.95495495],\n",
       "       [ 6.96396396,  6.97297297],\n",
       "       [ 6.98198198,  6.99099099],\n",
       "       [ 7.        ,  7.00900901],\n",
       "       [ 7.01801802,  7.02702703],\n",
       "       [ 7.03603604,  7.04504505],\n",
       "       [ 7.05405405,  7.06306306],\n",
       "       [ 7.07207207,  7.08108108],\n",
       "       [ 7.09009009,  7.0990991 ],\n",
       "       [ 7.10810811,  7.11711712],\n",
       "       [ 7.12612613,  7.13513514],\n",
       "       [ 7.14414414,  7.15315315],\n",
       "       [ 7.16216216,  7.17117117],\n",
       "       [ 7.18018018,  7.18918919],\n",
       "       [ 7.1981982 ,  7.20720721],\n",
       "       [ 7.21621622,  7.22522523],\n",
       "       [ 7.23423423,  7.24324324],\n",
       "       [ 7.25225225,  7.26126126],\n",
       "       [ 7.27027027,  7.27927928],\n",
       "       [ 7.28828829,  7.2972973 ],\n",
       "       [ 7.30630631,  7.31531532],\n",
       "       [ 7.32432432,  7.33333333],\n",
       "       [ 7.34234234,  7.35135135],\n",
       "       [ 7.36036036,  7.36936937],\n",
       "       [ 7.37837838,  7.38738739],\n",
       "       [ 7.3963964 ,  7.40540541],\n",
       "       [ 7.41441441,  7.42342342],\n",
       "       [ 7.43243243,  7.44144144],\n",
       "       [ 7.45045045,  7.45945946],\n",
       "       [ 7.46846847,  7.47747748],\n",
       "       [ 7.48648649,  7.4954955 ],\n",
       "       [ 7.5045045 ,  7.51351351],\n",
       "       [ 7.52252252,  7.53153153],\n",
       "       [ 7.54054054,  7.54954955],\n",
       "       [ 7.55855856,  7.56756757],\n",
       "       [ 7.57657658,  7.58558559],\n",
       "       [ 7.59459459,  7.6036036 ],\n",
       "       [ 7.61261261,  7.62162162],\n",
       "       [ 7.63063063,  7.63963964],\n",
       "       [ 7.64864865,  7.65765766],\n",
       "       [ 7.66666667,  7.67567568],\n",
       "       [ 7.68468468,  7.69369369],\n",
       "       [ 7.7027027 ,  7.71171171],\n",
       "       [ 7.72072072,  7.72972973],\n",
       "       [ 7.73873874,  7.74774775],\n",
       "       [ 7.75675676,  7.76576577],\n",
       "       [ 7.77477477,  7.78378378],\n",
       "       [ 7.79279279,  7.8018018 ],\n",
       "       [ 7.81081081,  7.81981982],\n",
       "       [ 7.82882883,  7.83783784],\n",
       "       [ 7.84684685,  7.85585586],\n",
       "       [ 7.86486486,  7.87387387],\n",
       "       [ 7.88288288,  7.89189189],\n",
       "       [ 7.9009009 ,  7.90990991],\n",
       "       [ 7.91891892,  7.92792793],\n",
       "       [ 7.93693694,  7.94594595],\n",
       "       [ 7.95495495,  7.96396396],\n",
       "       [ 7.97297297,  7.98198198],\n",
       "       [ 7.99099099,  8.        ],\n",
       "       [ 8.00900901,  8.01801802],\n",
       "       [ 8.02702703,  8.03603604],\n",
       "       [ 8.04504505,  8.05405405],\n",
       "       [ 8.06306306,  8.07207207],\n",
       "       [ 8.08108108,  8.09009009],\n",
       "       [ 8.0990991 ,  8.10810811],\n",
       "       [ 8.11711712,  8.12612613],\n",
       "       [ 8.13513514,  8.14414414],\n",
       "       [ 8.15315315,  8.16216216],\n",
       "       [ 8.17117117,  8.18018018],\n",
       "       [ 8.18918919,  8.1981982 ],\n",
       "       [ 8.20720721,  8.21621622],\n",
       "       [ 8.22522523,  8.23423423],\n",
       "       [ 8.24324324,  8.25225225],\n",
       "       [ 8.26126126,  8.27027027],\n",
       "       [ 8.27927928,  8.28828829],\n",
       "       [ 8.2972973 ,  8.30630631],\n",
       "       [ 8.31531532,  8.32432432],\n",
       "       [ 8.33333333,  8.34234234],\n",
       "       [ 8.35135135,  8.36036036],\n",
       "       [ 8.36936937,  8.37837838],\n",
       "       [ 8.38738739,  8.3963964 ],\n",
       "       [ 8.40540541,  8.41441441],\n",
       "       [ 8.42342342,  8.43243243],\n",
       "       [ 8.44144144,  8.45045045],\n",
       "       [ 8.45945946,  8.46846847],\n",
       "       [ 8.47747748,  8.48648649],\n",
       "       [ 8.4954955 ,  8.5045045 ],\n",
       "       [ 8.51351351,  8.52252252],\n",
       "       [ 8.53153153,  8.54054054],\n",
       "       [ 8.54954955,  8.55855856],\n",
       "       [ 8.56756757,  8.57657658],\n",
       "       [ 8.58558559,  8.59459459],\n",
       "       [ 8.6036036 ,  8.61261261],\n",
       "       [ 8.62162162,  8.63063063],\n",
       "       [ 8.63963964,  8.64864865],\n",
       "       [ 8.65765766,  8.66666667],\n",
       "       [ 8.67567568,  8.68468468],\n",
       "       [ 8.69369369,  8.7027027 ],\n",
       "       [ 8.71171171,  8.72072072],\n",
       "       [ 8.72972973,  8.73873874],\n",
       "       [ 8.74774775,  8.75675676],\n",
       "       [ 8.76576577,  8.77477477],\n",
       "       [ 8.78378378,  8.79279279],\n",
       "       [ 8.8018018 ,  8.81081081],\n",
       "       [ 8.81981982,  8.82882883],\n",
       "       [ 8.83783784,  8.84684685],\n",
       "       [ 8.85585586,  8.86486486],\n",
       "       [ 8.87387387,  8.88288288],\n",
       "       [ 8.89189189,  8.9009009 ],\n",
       "       [ 8.90990991,  8.91891892],\n",
       "       [ 8.92792793,  8.93693694],\n",
       "       [ 8.94594595,  8.95495495],\n",
       "       [ 8.96396396,  8.97297297],\n",
       "       [ 8.98198198,  8.99099099],\n",
       "       [ 9.        ,  9.00900901],\n",
       "       [ 9.01801802,  9.02702703],\n",
       "       [ 9.03603604,  9.04504505],\n",
       "       [ 9.05405405,  9.06306306],\n",
       "       [ 9.07207207,  9.08108108],\n",
       "       [ 9.09009009,  9.0990991 ],\n",
       "       [ 9.10810811,  9.11711712],\n",
       "       [ 9.12612613,  9.13513514],\n",
       "       [ 9.14414414,  9.15315315],\n",
       "       [ 9.16216216,  9.17117117],\n",
       "       [ 9.18018018,  9.18918919],\n",
       "       [ 9.1981982 ,  9.20720721],\n",
       "       [ 9.21621622,  9.22522523],\n",
       "       [ 9.23423423,  9.24324324],\n",
       "       [ 9.25225225,  9.26126126],\n",
       "       [ 9.27027027,  9.27927928],\n",
       "       [ 9.28828829,  9.2972973 ],\n",
       "       [ 9.30630631,  9.31531532],\n",
       "       [ 9.32432432,  9.33333333],\n",
       "       [ 9.34234234,  9.35135135],\n",
       "       [ 9.36036036,  9.36936937],\n",
       "       [ 9.37837838,  9.38738739],\n",
       "       [ 9.3963964 ,  9.40540541],\n",
       "       [ 9.41441441,  9.42342342],\n",
       "       [ 9.43243243,  9.44144144],\n",
       "       [ 9.45045045,  9.45945946],\n",
       "       [ 9.46846847,  9.47747748],\n",
       "       [ 9.48648649,  9.4954955 ],\n",
       "       [ 9.5045045 ,  9.51351351],\n",
       "       [ 9.52252252,  9.53153153],\n",
       "       [ 9.54054054,  9.54954955],\n",
       "       [ 9.55855856,  9.56756757],\n",
       "       [ 9.57657658,  9.58558559],\n",
       "       [ 9.59459459,  9.6036036 ],\n",
       "       [ 9.61261261,  9.62162162],\n",
       "       [ 9.63063063,  9.63963964],\n",
       "       [ 9.64864865,  9.65765766],\n",
       "       [ 9.66666667,  9.67567568],\n",
       "       [ 9.68468468,  9.69369369],\n",
       "       [ 9.7027027 ,  9.71171171],\n",
       "       [ 9.72072072,  9.72972973],\n",
       "       [ 9.73873874,  9.74774775],\n",
       "       [ 9.75675676,  9.76576577],\n",
       "       [ 9.77477477,  9.78378378],\n",
       "       [ 9.79279279,  9.8018018 ],\n",
       "       [ 9.81081081,  9.81981982],\n",
       "       [ 9.82882883,  9.83783784],\n",
       "       [ 9.84684685,  9.85585586],\n",
       "       [ 9.86486486,  9.87387387],\n",
       "       [ 9.88288288,  9.89189189],\n",
       "       [ 9.9009009 ,  9.90990991],\n",
       "       [ 9.91891892,  9.92792793],\n",
       "       [ 9.93693694,  9.94594595],\n",
       "       [ 9.95495495,  9.96396396],\n",
       "       [ 9.97297297,  9.98198198],\n",
       "       [ 9.99099099, 10.        ]])"
      ]
     },
     "execution_count": 45,
     "metadata": {},
     "output_type": "execute_result"
    }
   ],
   "source": [
    "ar"
   ]
  },
  {
   "cell_type": "code",
   "execution_count": 46,
   "id": "795d32ca",
   "metadata": {},
   "outputs": [],
   "source": [
    "import pandas as pd"
   ]
  },
  {
   "cell_type": "code",
   "execution_count": 48,
   "id": "3171b099",
   "metadata": {},
   "outputs": [],
   "source": [
    "df = pd.DataFrame(data = ar, columns=['A','B'])"
   ]
  },
  {
   "cell_type": "code",
   "execution_count": 49,
   "id": "33d406e5",
   "metadata": {},
   "outputs": [
    {
     "data": {
      "text/html": [
       "<div>\n",
       "<style scoped>\n",
       "    .dataframe tbody tr th:only-of-type {\n",
       "        vertical-align: middle;\n",
       "    }\n",
       "\n",
       "    .dataframe tbody tr th {\n",
       "        vertical-align: top;\n",
       "    }\n",
       "\n",
       "    .dataframe thead th {\n",
       "        text-align: right;\n",
       "    }\n",
       "</style>\n",
       "<table border=\"1\" class=\"dataframe\">\n",
       "  <thead>\n",
       "    <tr style=\"text-align: right;\">\n",
       "      <th></th>\n",
       "      <th>A</th>\n",
       "      <th>B</th>\n",
       "    </tr>\n",
       "  </thead>\n",
       "  <tbody>\n",
       "    <tr>\n",
       "      <th>0</th>\n",
       "      <td>1.000000</td>\n",
       "      <td>1.009009</td>\n",
       "    </tr>\n",
       "    <tr>\n",
       "      <th>1</th>\n",
       "      <td>1.018018</td>\n",
       "      <td>1.027027</td>\n",
       "    </tr>\n",
       "    <tr>\n",
       "      <th>2</th>\n",
       "      <td>1.036036</td>\n",
       "      <td>1.045045</td>\n",
       "    </tr>\n",
       "    <tr>\n",
       "      <th>3</th>\n",
       "      <td>1.054054</td>\n",
       "      <td>1.063063</td>\n",
       "    </tr>\n",
       "    <tr>\n",
       "      <th>4</th>\n",
       "      <td>1.072072</td>\n",
       "      <td>1.081081</td>\n",
       "    </tr>\n",
       "  </tbody>\n",
       "</table>\n",
       "</div>"
      ],
      "text/plain": [
       "          A         B\n",
       "0  1.000000  1.009009\n",
       "1  1.018018  1.027027\n",
       "2  1.036036  1.045045\n",
       "3  1.054054  1.063063\n",
       "4  1.072072  1.081081"
      ]
     },
     "execution_count": 49,
     "metadata": {},
     "output_type": "execute_result"
    }
   ],
   "source": [
    "df.head()"
   ]
  },
  {
   "cell_type": "code",
   "execution_count": 50,
   "id": "fc08ae97",
   "metadata": {},
   "outputs": [],
   "source": [
    "import seaborn as sns "
   ]
  },
  {
   "cell_type": "code",
   "execution_count": 52,
   "id": "bab1bbdf",
   "metadata": {},
   "outputs": [
    {
     "data": {
      "text/plain": [
       "<AxesSubplot:xlabel='A', ylabel='B'>"
      ]
     },
     "execution_count": 52,
     "metadata": {},
     "output_type": "execute_result"
    },
    {
     "data": {
      "image/png": "[encoded data removed]",
      "text/plain": [
       "<Figure size 640x480 with 1 Axes>"
      ]
     },
     "metadata": {},
     "output_type": "display_data"
    }
   ],
   "source": [
    "sns.scatterplot(x='A',y='B',data=df)"
   ]
  },
  {
   "cell_type": "code",
   "execution_count": null,
   "id": "21a0a22d",
   "metadata": {},
   "outputs": [],
   "source": []
  }
 ],
 "metadata": {
  "kernelspec": {
   "display_name": "Python 3 (ipykernel)",
   "language": "python",
   "name": "python3"
  },
  "language_info": {
   "codemirror_mode": {
    "name": "ipython",
    "version": 3
   },
   "file_extension": ".py",
   "mimetype": "text/x-python",
   "name": "python",
   "nbconvert_exporter": "python",
   "pygments_lexer": "ipython3",
   "version": "3.9.13"
  }
 },
 "nbformat": 4,
 "nbformat_minor": 5
}
