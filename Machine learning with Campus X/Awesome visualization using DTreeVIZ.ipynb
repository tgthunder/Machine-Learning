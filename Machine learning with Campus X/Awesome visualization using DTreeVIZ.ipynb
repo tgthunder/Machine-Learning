{
 "cells": [
  {
   "cell_type": "code",
   "execution_count": 73,
   "id": "adcb5c92",
   "metadata": {},
   "outputs": [],
   "source": [
    "from sklearn.datasets import *\n",
    "from sklearn.tree import DecisionTreeRegressor"
   ]
  },
  {
   "cell_type": "code",
   "execution_count": 74,
   "id": "2340fb47",
   "metadata": {},
   "outputs": [],
   "source": [
    "iris = load_iris()\n",
    "X_train = iris.data\n",
    "y_train = iris.target"
   ]
  },
  {
   "cell_type": "code",
   "execution_count": 75,
   "id": "f83f461e",
   "metadata": {},
   "outputs": [
    {
     "data": {
      "text/plain": [
       "DecisionTreeRegressor(max_depth=3)"
      ]
     },
     "execution_count": 75,
     "metadata": {},
     "output_type": "execute_result"
    }
   ],
   "source": [
    "cls = DecisionTreeRegressor(max_depth=3)\n",
    "cls.fit(X_train,y_train)"
   ]
  },
  {
   "cell_type": "code",
   "execution_count": 92,
   "id": "534596af",
   "metadata": {},
   "outputs": [
    {
     "name": "stderr",
     "output_type": "stream",
     "text": [
      "C:\\Users\\reliance\\AppData\\Local\\Temp\\ipykernel_8348\\3018388121.py:15: DeprecationWarning: dtreeviz() function is deprecated starting from version 2.0. \n",
      " For the same functionality, please use this code instead: \n",
      " m = dtreeviz.model(...) \n",
      " m.view()\n"
     ]
    },
    {
     "ename": "TypeError",
     "evalue": "dict() argument after ** must be a mapping, not float",
     "output_type": "error",
     "traceback": [
      "\u001b[1;31m---------------------------------------------------------------------------\u001b[0m",
      "\u001b[1;31mTypeError\u001b[0m                                 Traceback (most recent call last)",
      "\u001b[1;32m~\\AppData\\Local\\Temp\\ipykernel_8348\\3018388121.py\u001b[0m in \u001b[0;36m<module>\u001b[1;34m\u001b[0m\n\u001b[0;32m     13\u001b[0m \u001b[1;33m\u001b[0m\u001b[0m\n\u001b[0;32m     14\u001b[0m \u001b[1;31m# Visualize the decision tree\u001b[0m\u001b[1;33m\u001b[0m\u001b[1;33m\u001b[0m\u001b[0m\n\u001b[1;32m---> 15\u001b[1;33m viz = dtreeviz(clf, X, y,\n\u001b[0m\u001b[0;32m     16\u001b[0m                \u001b[0mtarget_name\u001b[0m\u001b[1;33m=\u001b[0m\u001b[1;34m\"class\"\u001b[0m\u001b[1;33m,\u001b[0m\u001b[1;33m\u001b[0m\u001b[1;33m\u001b[0m\u001b[0m\n\u001b[0;32m     17\u001b[0m                \u001b[0mfeature_names\u001b[0m\u001b[1;33m=\u001b[0m\u001b[0miris\u001b[0m\u001b[1;33m.\u001b[0m\u001b[0mfeature_names\u001b[0m\u001b[1;33m,\u001b[0m\u001b[1;33m\u001b[0m\u001b[1;33m\u001b[0m\u001b[0m\n",
      "\u001b[1;32m~\\anaconda3\\lib\\site-packages\\dtreeviz\\compatibility.py\u001b[0m in \u001b[0;36mdtreeviz\u001b[1;34m(tree_model, X_train, y_train, feature_names, target_name, class_names, tree_index, precision, orientation, instance_orientation, show_root_edge_labels, show_node_labels, show_just_path, fancy, histtype, highlight_path, X, max_X_features_LR, max_X_features_TD, depth_range_to_display, label_fontsize, ticks_fontsize, fontname, title, title_fontsize, colors, scale)\u001b[0m\n\u001b[0;32m    252\u001b[0m                                                 tree_index)\n\u001b[0;32m    253\u001b[0m     \u001b[0mmodel\u001b[0m \u001b[1;33m=\u001b[0m \u001b[0mDTreeVizAPI\u001b[0m\u001b[1;33m(\u001b[0m\u001b[0mshadow_tree\u001b[0m\u001b[1;33m)\u001b[0m\u001b[1;33m\u001b[0m\u001b[1;33m\u001b[0m\u001b[0m\n\u001b[1;32m--> 254\u001b[1;33m     return model.view(precision, orientation,\n\u001b[0m\u001b[0;32m    255\u001b[0m                       \u001b[0minstance_orientation\u001b[0m\u001b[1;33m,\u001b[0m\u001b[1;33m\u001b[0m\u001b[1;33m\u001b[0m\u001b[0m\n\u001b[0;32m    256\u001b[0m                       \u001b[0mshow_root_edge_labels\u001b[0m\u001b[1;33m,\u001b[0m \u001b[0mshow_node_labels\u001b[0m\u001b[1;33m,\u001b[0m \u001b[0mshow_just_path\u001b[0m\u001b[1;33m,\u001b[0m \u001b[0mfancy\u001b[0m\u001b[1;33m,\u001b[0m \u001b[0mhisttype\u001b[0m\u001b[1;33m,\u001b[0m \u001b[0mhighlight_path\u001b[0m\u001b[1;33m,\u001b[0m \u001b[0mX\u001b[0m\u001b[1;33m,\u001b[0m\u001b[1;33m\u001b[0m\u001b[1;33m\u001b[0m\u001b[0m\n",
      "\u001b[1;32m~\\anaconda3\\lib\\site-packages\\dtreeviz\\trees.py\u001b[0m in \u001b[0;36mview\u001b[1;34m(self, precision, orientation, instance_orientation, show_root_edge_labels, show_node_labels, show_just_path, fancy, histtype, leaftype, highlight_path, x, max_X_features_LR, max_X_features_TD, depth_range_to_display, label_fontsize, ticks_fontsize, fontname, title, title_fontsize, colors, scale)\u001b[0m\n\u001b[0;32m    460\u001b[0m \u001b[1;33m\u001b[0m\u001b[0m\n\u001b[0;32m    461\u001b[0m         \u001b[0mn_classes\u001b[0m \u001b[1;33m=\u001b[0m \u001b[0mself\u001b[0m\u001b[1;33m.\u001b[0m\u001b[0mshadow_tree\u001b[0m\u001b[1;33m.\u001b[0m\u001b[0mnclasses\u001b[0m\u001b[1;33m(\u001b[0m\u001b[1;33m)\u001b[0m\u001b[1;33m\u001b[0m\u001b[1;33m\u001b[0m\u001b[0m\n\u001b[1;32m--> 462\u001b[1;33m         \u001b[0mcolors\u001b[0m \u001b[1;33m=\u001b[0m \u001b[0madjust_colors\u001b[0m\u001b[1;33m(\u001b[0m\u001b[0mcolors\u001b[0m\u001b[1;33m,\u001b[0m \u001b[0mn_classes\u001b[0m\u001b[1;33m)\u001b[0m\u001b[1;33m\u001b[0m\u001b[1;33m\u001b[0m\u001b[0m\n\u001b[0m\u001b[0;32m    463\u001b[0m \u001b[1;33m\u001b[0m\u001b[0m\n\u001b[0;32m    464\u001b[0m         \u001b[1;32mif\u001b[0m \u001b[0morientation\u001b[0m \u001b[1;33m==\u001b[0m \u001b[1;34m\"TD\"\u001b[0m\u001b[1;33m:\u001b[0m\u001b[1;33m\u001b[0m\u001b[1;33m\u001b[0m\u001b[0m\n",
      "\u001b[1;32m~\\anaconda3\\lib\\site-packages\\dtreeviz\\colors.py\u001b[0m in \u001b[0;36madjust_colors\u001b[1;34m(colors, n_classes, cmp)\u001b[0m\n\u001b[0;32m    117\u001b[0m         \u001b[1;32mreturn\u001b[0m \u001b[0mCOLORS\u001b[0m\u001b[1;33m\u001b[0m\u001b[1;33m\u001b[0m\u001b[0m\n\u001b[0;32m    118\u001b[0m \u001b[1;33m\u001b[0m\u001b[0m\n\u001b[1;32m--> 119\u001b[1;33m     \u001b[1;32mreturn\u001b[0m \u001b[0mdict\u001b[0m\u001b[1;33m(\u001b[0m\u001b[0mCOLORS\u001b[0m\u001b[1;33m,\u001b[0m \u001b[1;33m**\u001b[0m\u001b[0mcolors\u001b[0m\u001b[1;33m)\u001b[0m\u001b[1;33m\u001b[0m\u001b[1;33m\u001b[0m\u001b[0m\n\u001b[0m",
      "\u001b[1;31mTypeError\u001b[0m: dict() argument after ** must be a mapping, not float"
     ]
    }
   ],
   "source": [
    "from sklearn.datasets import load_iris\n",
    "from sklearn.tree import DecisionTreeClassifier\n",
    "# from dtreeviz.trees import dtreeviz\n",
    "\n",
    "# Load the iris dataset\n",
    "iris = load_iris()\n",
    "X = iris.data\n",
    "y = iris.target\n",
    "\n",
    "# Train a decision tree classifier\n",
    "clf = DecisionTreeClassifier()\n",
    "clf.fit(X, y)\n",
    "\n",
    "# Visualize the decision tree\n",
    "viz = dtreeviz(clf, X, y,\n",
    "               target_name=\"class\",\n",
    "               feature_names=iris.feature_names,\n",
    "               class_names=list(iris.target_names))\n",
    "viz.save(\"decision_tree.svg\") # save the visualization as an SVG file\n",
    "viz.view() # show the visualization in a new window"
   ]
  },
  {
   "cell_type": "code",
   "execution_count": 87,
   "id": "92072c7a",
   "metadata": {},
   "outputs": [],
   "source": [
    "import dtreeviz"
   ]
  },
  {
   "cell_type": "code",
   "execution_count": 88,
   "id": "e82b3fe3",
   "metadata": {},
   "outputs": [],
   "source": [
    "from dtreeviz import dtreeviz"
   ]
  },
  {
   "cell_type": "code",
   "execution_count": 80,
   "id": "223a2873",
   "metadata": {},
   "outputs": [],
   "source": [
    "colors={'classes': ['#0000ff', '#ff0000', '#00ff00']}"
   ]
  },
  {
   "cell_type": "code",
   "execution_count": 84,
   "id": "d417ee20",
   "metadata": {},
   "outputs": [],
   "source": [
    "from dtreeviz.trees import DTreeVizRender"
   ]
  },
  {
   "cell_type": "code",
   "execution_count": 90,
   "id": "fc2661ea",
   "metadata": {},
   "outputs": [],
   "source": [
    "import graphviz.backend as be"
   ]
  },
  {
   "cell_type": "code",
   "execution_count": null,
   "id": "74d38ef7",
   "metadata": {},
   "outputs": [],
   "source": []
  }
 ],
 "metadata": {
  "kernelspec": {
   "display_name": "Python 3 (ipykernel)",
   "language": "python",
   "name": "python3"
  },
  "language_info": {
   "codemirror_mode": {
    "name": "ipython",
    "version": 3
   },
   "file_extension": ".py",
   "mimetype": "text/x-python",
   "name": "python",
   "nbconvert_exporter": "python",
   "pygments_lexer": "ipython3",
   "version": "3.9.13"
  }
 },
 "nbformat": 4,
 "nbformat_minor": 5
}
