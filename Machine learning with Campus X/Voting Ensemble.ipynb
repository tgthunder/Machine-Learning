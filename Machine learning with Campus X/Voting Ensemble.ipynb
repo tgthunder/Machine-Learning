{
 "cells": [
  {
   "cell_type": "code",
   "execution_count": 19,
   "id": "d44b715c",
   "metadata": {},
   "outputs": [],
   "source": [
    "import pandas as pd\n",
    "import numpy as np"
   ]
  },
  {
   "cell_type": "code",
   "execution_count": 49,
   "id": "7d3390d9",
   "metadata": {},
   "outputs": [],
   "source": [
    "from warnings import filterwarnings\n",
    "filterwarnings(\"ignore\")"
   ]
  },
  {
   "cell_type": "code",
   "execution_count": 20,
   "id": "6b1d7813",
   "metadata": {},
   "outputs": [],
   "source": [
    "# We will work on iris dataset"
   ]
  },
  {
   "cell_type": "code",
   "execution_count": 21,
   "id": "595c4267",
   "metadata": {},
   "outputs": [],
   "source": [
    "import matplotlib.pyplot as plt\n",
    "import seaborn as sns"
   ]
  },
  {
   "cell_type": "code",
   "execution_count": 22,
   "id": "ba4120ba",
   "metadata": {},
   "outputs": [],
   "source": [
    "df = sns.load_dataset('iris')"
   ]
  },
  {
   "cell_type": "code",
   "execution_count": 23,
   "id": "0e398236",
   "metadata": {},
   "outputs": [
    {
     "data": {
      "text/html": [
       "<div>\n",
       "<style scoped>\n",
       "    .dataframe tbody tr th:only-of-type {\n",
       "        vertical-align: middle;\n",
       "    }\n",
       "\n",
       "    .dataframe tbody tr th {\n",
       "        vertical-align: top;\n",
       "    }\n",
       "\n",
       "    .dataframe thead th {\n",
       "        text-align: right;\n",
       "    }\n",
       "</style>\n",
       "<table border=\"1\" class=\"dataframe\">\n",
       "  <thead>\n",
       "    <tr style=\"text-align: right;\">\n",
       "      <th></th>\n",
       "      <th>sepal_length</th>\n",
       "      <th>sepal_width</th>\n",
       "      <th>petal_length</th>\n",
       "      <th>petal_width</th>\n",
       "      <th>species</th>\n",
       "    </tr>\n",
       "  </thead>\n",
       "  <tbody>\n",
       "    <tr>\n",
       "      <th>0</th>\n",
       "      <td>5.1</td>\n",
       "      <td>3.5</td>\n",
       "      <td>1.4</td>\n",
       "      <td>0.2</td>\n",
       "      <td>setosa</td>\n",
       "    </tr>\n",
       "    <tr>\n",
       "      <th>1</th>\n",
       "      <td>4.9</td>\n",
       "      <td>3.0</td>\n",
       "      <td>1.4</td>\n",
       "      <td>0.2</td>\n",
       "      <td>setosa</td>\n",
       "    </tr>\n",
       "    <tr>\n",
       "      <th>2</th>\n",
       "      <td>4.7</td>\n",
       "      <td>3.2</td>\n",
       "      <td>1.3</td>\n",
       "      <td>0.2</td>\n",
       "      <td>setosa</td>\n",
       "    </tr>\n",
       "    <tr>\n",
       "      <th>3</th>\n",
       "      <td>4.6</td>\n",
       "      <td>3.1</td>\n",
       "      <td>1.5</td>\n",
       "      <td>0.2</td>\n",
       "      <td>setosa</td>\n",
       "    </tr>\n",
       "    <tr>\n",
       "      <th>4</th>\n",
       "      <td>5.0</td>\n",
       "      <td>3.6</td>\n",
       "      <td>1.4</td>\n",
       "      <td>0.2</td>\n",
       "      <td>setosa</td>\n",
       "    </tr>\n",
       "  </tbody>\n",
       "</table>\n",
       "</div>"
      ],
      "text/plain": [
       "   sepal_length  sepal_width  petal_length  petal_width species\n",
       "0           5.1          3.5           1.4          0.2  setosa\n",
       "1           4.9          3.0           1.4          0.2  setosa\n",
       "2           4.7          3.2           1.3          0.2  setosa\n",
       "3           4.6          3.1           1.5          0.2  setosa\n",
       "4           5.0          3.6           1.4          0.2  setosa"
      ]
     },
     "execution_count": 23,
     "metadata": {},
     "output_type": "execute_result"
    }
   ],
   "source": [
    "df.head()"
   ]
  },
  {
   "cell_type": "code",
   "execution_count": 24,
   "id": "b6ece71d",
   "metadata": {},
   "outputs": [],
   "source": [
    "df = df.iloc[:,1:]"
   ]
  },
  {
   "cell_type": "code",
   "execution_count": 25,
   "id": "44d39767",
   "metadata": {},
   "outputs": [
    {
     "data": {
      "text/html": [
       "<div>\n",
       "<style scoped>\n",
       "    .dataframe tbody tr th:only-of-type {\n",
       "        vertical-align: middle;\n",
       "    }\n",
       "\n",
       "    .dataframe tbody tr th {\n",
       "        vertical-align: top;\n",
       "    }\n",
       "\n",
       "    .dataframe thead th {\n",
       "        text-align: right;\n",
       "    }\n",
       "</style>\n",
       "<table border=\"1\" class=\"dataframe\">\n",
       "  <thead>\n",
       "    <tr style=\"text-align: right;\">\n",
       "      <th></th>\n",
       "      <th>sepal_width</th>\n",
       "      <th>petal_length</th>\n",
       "      <th>petal_width</th>\n",
       "      <th>species</th>\n",
       "    </tr>\n",
       "  </thead>\n",
       "  <tbody>\n",
       "    <tr>\n",
       "      <th>0</th>\n",
       "      <td>3.5</td>\n",
       "      <td>1.4</td>\n",
       "      <td>0.2</td>\n",
       "      <td>setosa</td>\n",
       "    </tr>\n",
       "    <tr>\n",
       "      <th>1</th>\n",
       "      <td>3.0</td>\n",
       "      <td>1.4</td>\n",
       "      <td>0.2</td>\n",
       "      <td>setosa</td>\n",
       "    </tr>\n",
       "    <tr>\n",
       "      <th>2</th>\n",
       "      <td>3.2</td>\n",
       "      <td>1.3</td>\n",
       "      <td>0.2</td>\n",
       "      <td>setosa</td>\n",
       "    </tr>\n",
       "    <tr>\n",
       "      <th>3</th>\n",
       "      <td>3.1</td>\n",
       "      <td>1.5</td>\n",
       "      <td>0.2</td>\n",
       "      <td>setosa</td>\n",
       "    </tr>\n",
       "    <tr>\n",
       "      <th>4</th>\n",
       "      <td>3.6</td>\n",
       "      <td>1.4</td>\n",
       "      <td>0.2</td>\n",
       "      <td>setosa</td>\n",
       "    </tr>\n",
       "  </tbody>\n",
       "</table>\n",
       "</div>"
      ],
      "text/plain": [
       "   sepal_width  petal_length  petal_width species\n",
       "0          3.5           1.4          0.2  setosa\n",
       "1          3.0           1.4          0.2  setosa\n",
       "2          3.2           1.3          0.2  setosa\n",
       "3          3.1           1.5          0.2  setosa\n",
       "4          3.6           1.4          0.2  setosa"
      ]
     },
     "execution_count": 25,
     "metadata": {},
     "output_type": "execute_result"
    }
   ],
   "source": [
    "df.head()"
   ]
  },
  {
   "cell_type": "code",
   "execution_count": 26,
   "id": "ee9ac824",
   "metadata": {},
   "outputs": [],
   "source": [
    "# nominal to numeric"
   ]
  },
  {
   "cell_type": "code",
   "execution_count": 27,
   "id": "875518e3",
   "metadata": {},
   "outputs": [],
   "source": [
    "from sklearn.preprocessing import LabelEncoder"
   ]
  },
  {
   "cell_type": "code",
   "execution_count": 28,
   "id": "8eea08cf",
   "metadata": {},
   "outputs": [],
   "source": [
    "encoder = LabelEncoder()"
   ]
  },
  {
   "cell_type": "code",
   "execution_count": 29,
   "id": "db9ac079",
   "metadata": {},
   "outputs": [],
   "source": [
    "df[\"Species\"] = encoder.fit_transform(df[\"species\"])"
   ]
  },
  {
   "cell_type": "code",
   "execution_count": 30,
   "id": "4d3b203f",
   "metadata": {},
   "outputs": [
    {
     "data": {
      "text/html": [
       "<div>\n",
       "<style scoped>\n",
       "    .dataframe tbody tr th:only-of-type {\n",
       "        vertical-align: middle;\n",
       "    }\n",
       "\n",
       "    .dataframe tbody tr th {\n",
       "        vertical-align: top;\n",
       "    }\n",
       "\n",
       "    .dataframe thead th {\n",
       "        text-align: right;\n",
       "    }\n",
       "</style>\n",
       "<table border=\"1\" class=\"dataframe\">\n",
       "  <thead>\n",
       "    <tr style=\"text-align: right;\">\n",
       "      <th></th>\n",
       "      <th>sepal_width</th>\n",
       "      <th>petal_length</th>\n",
       "      <th>petal_width</th>\n",
       "      <th>species</th>\n",
       "      <th>Species</th>\n",
       "    </tr>\n",
       "  </thead>\n",
       "  <tbody>\n",
       "    <tr>\n",
       "      <th>0</th>\n",
       "      <td>3.5</td>\n",
       "      <td>1.4</td>\n",
       "      <td>0.2</td>\n",
       "      <td>setosa</td>\n",
       "      <td>0</td>\n",
       "    </tr>\n",
       "    <tr>\n",
       "      <th>1</th>\n",
       "      <td>3.0</td>\n",
       "      <td>1.4</td>\n",
       "      <td>0.2</td>\n",
       "      <td>setosa</td>\n",
       "      <td>0</td>\n",
       "    </tr>\n",
       "    <tr>\n",
       "      <th>2</th>\n",
       "      <td>3.2</td>\n",
       "      <td>1.3</td>\n",
       "      <td>0.2</td>\n",
       "      <td>setosa</td>\n",
       "      <td>0</td>\n",
       "    </tr>\n",
       "    <tr>\n",
       "      <th>3</th>\n",
       "      <td>3.1</td>\n",
       "      <td>1.5</td>\n",
       "      <td>0.2</td>\n",
       "      <td>setosa</td>\n",
       "      <td>0</td>\n",
       "    </tr>\n",
       "    <tr>\n",
       "      <th>4</th>\n",
       "      <td>3.6</td>\n",
       "      <td>1.4</td>\n",
       "      <td>0.2</td>\n",
       "      <td>setosa</td>\n",
       "      <td>0</td>\n",
       "    </tr>\n",
       "  </tbody>\n",
       "</table>\n",
       "</div>"
      ],
      "text/plain": [
       "   sepal_width  petal_length  petal_width species  Species\n",
       "0          3.5           1.4          0.2  setosa        0\n",
       "1          3.0           1.4          0.2  setosa        0\n",
       "2          3.2           1.3          0.2  setosa        0\n",
       "3          3.1           1.5          0.2  setosa        0\n",
       "4          3.6           1.4          0.2  setosa        0"
      ]
     },
     "execution_count": 30,
     "metadata": {},
     "output_type": "execute_result"
    }
   ],
   "source": [
    "df.head()"
   ]
  },
  {
   "cell_type": "code",
   "execution_count": 32,
   "id": "2959fca0",
   "metadata": {},
   "outputs": [
    {
     "data": {
      "text/plain": [
       "<seaborn.axisgrid.PairGrid at 0x13004fbddf0>"
      ]
     },
     "execution_count": 32,
     "metadata": {},
     "output_type": "execute_result"
    }
   ],
   "source": [
    "sns.pairplot(df,hue=\"Species\",palette='viridis')"
   ]
  },
  {
   "cell_type": "code",
   "execution_count": 33,
   "id": "a1423c5f",
   "metadata": {},
   "outputs": [],
   "source": [
    "# we will choose complex dataset"
   ]
  },
  {
   "cell_type": "code",
   "execution_count": 34,
   "id": "645d5939",
   "metadata": {},
   "outputs": [],
   "source": [
    "new_df = df[df[\"Species\"] !=0][['sepal_width','petal_width','Species']]"
   ]
  },
  {
   "cell_type": "code",
   "execution_count": 35,
   "id": "4614ea7f",
   "metadata": {},
   "outputs": [],
   "source": [
    "new_df.reset_index(drop=True,inplace=True)"
   ]
  },
  {
   "cell_type": "code",
   "execution_count": 36,
   "id": "3ee1bac5",
   "metadata": {},
   "outputs": [],
   "source": [
    "# Now we will choose 3 different models"
   ]
  },
  {
   "cell_type": "code",
   "execution_count": 37,
   "id": "30306dfa",
   "metadata": {},
   "outputs": [],
   "source": [
    "X = df.iloc[:,:2]\n",
    "y = df.iloc[:,-1]"
   ]
  },
  {
   "cell_type": "code",
   "execution_count": 38,
   "id": "4c573a1f",
   "metadata": {},
   "outputs": [],
   "source": [
    "from sklearn.linear_model import LogisticRegression\n",
    "from sklearn.neighbors import KNeighborsClassifier\n",
    "from sklearn.ensemble import RandomForestClassifier\n",
    "from sklearn.model_selection import cross_val_score"
   ]
  },
  {
   "cell_type": "code",
   "execution_count": 50,
   "id": "b7320154",
   "metadata": {},
   "outputs": [],
   "source": [
    "clf1 = LogisticRegression()\n",
    "clf2 = KNeighborsClassifier()\n",
    "clf3 = RandomForestClassifier()"
   ]
  },
  {
   "cell_type": "code",
   "execution_count": 51,
   "id": "0c40338a",
   "metadata": {},
   "outputs": [],
   "source": [
    "# while voting we need to pass estimator in voting class object."
   ]
  },
  {
   "cell_type": "code",
   "execution_count": 52,
   "id": "1dedcd74",
   "metadata": {},
   "outputs": [],
   "source": [
    "estimators = [('lr',clf1),('KNN',clf2),('rf',clf3)]"
   ]
  },
  {
   "cell_type": "code",
   "execution_count": 53,
   "id": "7ed3f7fd",
   "metadata": {},
   "outputs": [
    {
     "name": "stdout",
     "output_type": "stream",
     "text": [
      "lr 0.95\n",
      "KNN 0.95\n",
      "rf 0.95\n"
     ]
    }
   ],
   "source": [
    "for estimator in estimators:\n",
    "    x = cross_val_score(estimator[1],X,y,cv=10,scoring='accuracy')\n",
    "    print(estimator[0],np.round(np.mean(x),2))"
   ]
  },
  {
   "cell_type": "code",
   "execution_count": 54,
   "id": "a345ce6d",
   "metadata": {},
   "outputs": [],
   "source": [
    "# importing voting classifier"
   ]
  },
  {
   "cell_type": "code",
   "execution_count": 55,
   "id": "e419b5e6",
   "metadata": {},
   "outputs": [],
   "source": [
    "from sklearn.ensemble import VotingClassifier"
   ]
  },
  {
   "cell_type": "markdown",
   "id": "e63642e3",
   "metadata": {},
   "source": [
    "# Hard voting"
   ]
  },
  {
   "cell_type": "code",
   "execution_count": 56,
   "id": "56bed698",
   "metadata": {},
   "outputs": [
    {
     "name": "stdout",
     "output_type": "stream",
     "text": [
      "0.95\n"
     ]
    }
   ],
   "source": [
    "vc = VotingClassifier(estimators=estimators,voting='hard')\n",
    "x = cross_val_score(vc,X,y,cv=10,scoring='accuracy')\n",
    "print(np.round(np.mean(x),2))"
   ]
  },
  {
   "cell_type": "markdown",
   "id": "d2a73fe5",
   "metadata": {},
   "source": [
    "# Soft voting"
   ]
  },
  {
   "cell_type": "code",
   "execution_count": 57,
   "id": "aad9ebbd",
   "metadata": {},
   "outputs": [
    {
     "name": "stdout",
     "output_type": "stream",
     "text": [
      "0.95\n"
     ]
    }
   ],
   "source": [
    "vc = VotingClassifier(estimators=estimators,voting='soft')\n",
    "x = cross_val_score(vc,X,y,cv=10,scoring='accuracy')\n",
    "print(np.round(np.mean(x),2))"
   ]
  },
  {
   "cell_type": "markdown",
   "id": "c05353b6",
   "metadata": {},
   "source": [
    "# Weighted Voting"
   ]
  },
  {
   "cell_type": "code",
   "execution_count": 53,
   "id": "687b93a0",
   "metadata": {},
   "outputs": [
    {
     "name": "stdout",
     "output_type": "stream",
     "text": [
      "for i=1,j=1,k=1 0.95\n",
      "for i=1,j=1,k=2 0.95\n",
      "for i=1,j=1,k=3 0.95\n",
      "for i=1,j=2,k=1 0.95\n",
      "for i=1,j=2,k=2 0.95\n",
      "for i=1,j=2,k=3 0.95\n",
      "for i=1,j=3,k=1 0.95\n",
      "for i=1,j=3,k=2 0.95\n",
      "for i=1,j=3,k=3 0.95\n",
      "for i=2,j=1,k=1 0.95\n",
      "for i=2,j=1,k=2 0.95\n",
      "for i=2,j=1,k=3 0.95\n",
      "for i=2,j=2,k=1 0.95\n",
      "for i=2,j=2,k=2 0.95\n",
      "for i=2,j=2,k=3 0.95\n",
      "for i=2,j=3,k=1 0.95\n",
      "for i=2,j=3,k=2 0.95\n",
      "for i=2,j=3,k=3 0.95\n",
      "for i=3,j=1,k=1 0.95\n",
      "for i=3,j=1,k=2 0.95\n",
      "for i=3,j=1,k=3 0.95\n",
      "for i=3,j=2,k=1 0.95\n",
      "for i=3,j=2,k=2 0.95\n",
      "for i=3,j=2,k=3 0.95\n",
      "for i=3,j=3,k=1 0.95\n",
      "for i=3,j=3,k=2 0.95\n",
      "for i=3,j=3,k=3 0.95\n"
     ]
    }
   ],
   "source": [
    "for i in range(1,4):\n",
    "    for j in range(1,4):\n",
    "        for k in range(1,4):\n",
    "            vc = VotingClassifier(estimators=estimators,voting='soft',weights=[i,j,k])\n",
    "            x = cross_val_score(vc,X,y,cv=10,scoring='accuracy')\n",
    "            print(\"for i={},j={},k={}\".format(i,j,k),np.round(np.mean(x),2))\n",
    "            "
   ]
  },
  {
   "cell_type": "markdown",
   "id": "5027eac9",
   "metadata": {},
   "source": [
    "# Classifier of Same Algo"
   ]
  },
  {
   "cell_type": "code",
   "execution_count": 58,
   "id": "c76a8769",
   "metadata": {},
   "outputs": [],
   "source": [
    "from sklearn.svm import SVC"
   ]
  },
  {
   "cell_type": "code",
   "execution_count": 59,
   "id": "32c43bb7",
   "metadata": {},
   "outputs": [
    {
     "name": "stdout",
     "output_type": "stream",
     "text": [
      "svm1 0.85\n",
      "svm2 0.85\n",
      "svm3 0.89\n",
      "svm4 0.81\n",
      "svm5 0.86\n"
     ]
    }
   ],
   "source": [
    "from sklearn.datasets import make_classification\n",
    "\n",
    "X, y = make_classification(n_samples=1000, n_features=20, n_informative=15, n_redundant=5, random_state=2)\n",
    "\n",
    "svm1 = SVC(probability=True, kernel='poly', degree=1)\n",
    "svm2 = SVC(probability=True, kernel='poly', degree=2)\n",
    "svm3 = SVC(probability=True, kernel='poly', degree=3)\n",
    "svm4 = SVC(probability=True, kernel='poly', degree=4)\n",
    "svm5 = SVC(probability=True, kernel='poly', degree=5)\n",
    "\n",
    "estimators = [('svm1',svm1),('svm2',svm2),('svm3',svm3),('svm4',svm4),('svm5',svm5)]\n",
    "\n",
    "for estimator in estimators:\n",
    "    x = cross_val_score(estimator[1],X,y,cv=10,scoring='accuracy')\n",
    "    print(estimator[0],np.round(np.mean(x),2))"
   ]
  },
  {
   "cell_type": "code",
   "execution_count": 60,
   "id": "a5603526",
   "metadata": {},
   "outputs": [
    {
     "name": "stdout",
     "output_type": "stream",
     "text": [
      "0.93\n"
     ]
    }
   ],
   "source": [
    "vc1 = VotingClassifier(estimators=estimators,voting='soft')\n",
    "x = cross_val_score(vc1,X,y,cv=10,scoring='accuracy')\n",
    "print(np.round(np.mean(x),2))"
   ]
  },
  {
   "cell_type": "code",
   "execution_count": null,
   "id": "c34ac35c",
   "metadata": {},
   "outputs": [],
   "source": []
  }
 ],
 "metadata": {
  "kernelspec": {
   "display_name": "Python 3 (ipykernel)",
   "language": "python",
   "name": "python3"
  },
  "language_info": {
   "codemirror_mode": {
    "name": "ipython",
    "version": 3
   },
   "file_extension": ".py",
   "mimetype": "text/x-python",
   "name": "python",
   "nbconvert_exporter": "python",
   "pygments_lexer": "ipython3",
   "version": "3.9.13"
  }
 },
 "nbformat": 4,
 "nbformat_minor": 5
}
