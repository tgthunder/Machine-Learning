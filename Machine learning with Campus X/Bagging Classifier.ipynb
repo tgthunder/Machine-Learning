{
 "cells": [
  {
   "cell_type": "code",
   "execution_count": 44,
   "id": "ca5b8a4f",
   "metadata": {},
   "outputs": [],
   "source": [
    "from sklearn.datasets import make_classification"
   ]
  },
  {
   "cell_type": "code",
   "execution_count": 45,
   "id": "78cfc0b7",
   "metadata": {},
   "outputs": [],
   "source": [
    "X,y = make_classification(n_samples=10000,n_features=10,n_informative=3)"
   ]
  },
  {
   "cell_type": "code",
   "execution_count": 46,
   "id": "c9e8c622",
   "metadata": {},
   "outputs": [],
   "source": [
    "from sklearn.model_selection import train_test_split"
   ]
  },
  {
   "cell_type": "code",
   "execution_count": 47,
   "id": "5a2eb9e8",
   "metadata": {},
   "outputs": [],
   "source": [
    "X_train, X_test, y_train, y_test = train_test_split(X, y, test_size=0.2, random_state=101)"
   ]
  },
  {
   "cell_type": "markdown",
   "id": "2ab52886",
   "metadata": {},
   "source": [
    "**Train a model using single dtree**"
   ]
  },
  {
   "cell_type": "code",
   "execution_count": 48,
   "id": "ea618eaa",
   "metadata": {},
   "outputs": [],
   "source": [
    "from sklearn.tree import DecisionTreeClassifier"
   ]
  },
  {
   "cell_type": "code",
   "execution_count": 79,
   "id": "7d700062",
   "metadata": {},
   "outputs": [],
   "source": [
    "clf1 = DecisionTreeClassifier(max_depth=7)"
   ]
  },
  {
   "cell_type": "code",
   "execution_count": 80,
   "id": "2438689c",
   "metadata": {},
   "outputs": [
    {
     "data": {
      "text/plain": [
       "DecisionTreeClassifier(max_depth=7)"
      ]
     },
     "execution_count": 80,
     "metadata": {},
     "output_type": "execute_result"
    }
   ],
   "source": [
    "clf1.fit(X_train,y_train)"
   ]
  },
  {
   "cell_type": "code",
   "execution_count": 81,
   "id": "fd170364",
   "metadata": {},
   "outputs": [
    {
     "data": {
      "text/plain": [
       "0.8705"
      ]
     },
     "execution_count": 81,
     "metadata": {},
     "output_type": "execute_result"
    }
   ],
   "source": [
    "from sklearn.metrics import accuracy_score\n",
    "accuracy_score(y_test,clf1.predict(X_test))"
   ]
  },
  {
   "cell_type": "markdown",
   "id": "b1e1a3b6",
   "metadata": {},
   "source": [
    "# Bagging"
   ]
  },
  {
   "cell_type": "code",
   "execution_count": 82,
   "id": "88338045",
   "metadata": {},
   "outputs": [],
   "source": [
    "from sklearn.ensemble import BaggingClassifier"
   ]
  },
  {
   "cell_type": "code",
   "execution_count": 86,
   "id": "8e89bed7",
   "metadata": {},
   "outputs": [],
   "source": [
    "bag = BaggingClassifier(\n",
    "    base_estimator=DecisionTreeClassifier(),\n",
    "    n_estimators=500,\n",
    "    max_samples=0.25, # selecting samples randomly.\n",
    "    bootstrap=True,  # bootstrap --> random sampling with replacement.\n",
    "    random_state=42)"
   ]
  },
  {
   "cell_type": "code",
   "execution_count": 87,
   "id": "9aff0f6c",
   "metadata": {},
   "outputs": [
    {
     "data": {
      "text/plain": [
       "BaggingClassifier(base_estimator=DecisionTreeClassifier(), max_samples=0.25,\n",
       "                  n_estimators=500, random_state=42)"
      ]
     },
     "execution_count": 87,
     "metadata": {},
     "output_type": "execute_result"
    }
   ],
   "source": [
    "bag.fit(X_train,y_train)"
   ]
  },
  {
   "cell_type": "code",
   "execution_count": 88,
   "id": "3eca7560",
   "metadata": {},
   "outputs": [
    {
     "data": {
      "text/plain": [
       "0.886"
      ]
     },
     "execution_count": 88,
     "metadata": {},
     "output_type": "execute_result"
    }
   ],
   "source": [
    "accuracy_score(y_test,bag.predict(X_test))"
   ]
  },
  {
   "cell_type": "markdown",
   "id": "afeeef8a",
   "metadata": {},
   "source": [
    "**Lets check that each estimator would get which sample using following code**"
   ]
  },
  {
   "cell_type": "code",
   "execution_count": 89,
   "id": "73ce7718",
   "metadata": {},
   "outputs": [
    {
     "data": {
      "text/plain": [
       "(2000,)"
      ]
     },
     "execution_count": 89,
     "metadata": {},
     "output_type": "execute_result"
    }
   ],
   "source": [
    "bag.estimators_samples_[0].shape"
   ]
  },
  {
   "cell_type": "markdown",
   "id": "4adce5d0",
   "metadata": {},
   "source": [
    "***We can try support vector as well as lot of machine learning algorithm***"
   ]
  },
  {
   "cell_type": "markdown",
   "id": "84cb2633",
   "metadata": {},
   "source": [
    "# Pasting\n",
    "**random sampling without replacement**"
   ]
  },
  {
   "cell_type": "code",
   "execution_count": 90,
   "id": "8818ef40",
   "metadata": {},
   "outputs": [],
   "source": [
    "bag = BaggingClassifier(\n",
    "    base_estimator=DecisionTreeClassifier(),\n",
    "    n_estimators=500,\n",
    "    max_samples=0.25,\n",
    "    bootstrap=False, # without replacement\n",
    "    random_state=42)"
   ]
  },
  {
   "cell_type": "code",
   "execution_count": 91,
   "id": "e07e65d6",
   "metadata": {},
   "outputs": [
    {
     "data": {
      "text/plain": [
       "BaggingClassifier(base_estimator=DecisionTreeClassifier(), bootstrap=False,\n",
       "                  max_samples=0.25, n_estimators=500, random_state=42)"
      ]
     },
     "execution_count": 91,
     "metadata": {},
     "output_type": "execute_result"
    }
   ],
   "source": [
    "bag.fit(X_train,y_train)"
   ]
  },
  {
   "cell_type": "code",
   "execution_count": 92,
   "id": "fb50ea1c",
   "metadata": {},
   "outputs": [
    {
     "data": {
      "text/plain": [
       "0.889"
      ]
     },
     "execution_count": 92,
     "metadata": {},
     "output_type": "execute_result"
    }
   ],
   "source": [
    "accuracy_score(y_test,bag.predict(X_test))"
   ]
  },
  {
   "cell_type": "markdown",
   "id": "398a9bcc",
   "metadata": {},
   "source": [
    "**We can try with random subspaces and random patches**"
   ]
  },
  {
   "cell_type": "markdown",
   "id": "2e9237f8",
   "metadata": {},
   "source": [
    "# OOB Score"
   ]
  },
  {
   "cell_type": "markdown",
   "id": "72e9bcb3",
   "metadata": {},
   "source": [
    "**when we do bagging with replacement then there is a chance to repeat the samples in each and \n",
    "every estimator and the second thing is that there might be some samples which would not be used by\n",
    "any of the estimator at all. so what we can do is we will pick those samples which are not been used \n",
    "in the enitre model building and use them for testing and the accuracy after calculating known as\n",
    "oob_score.**"
   ]
  },
  {
   "cell_type": "code",
   "execution_count": 98,
   "id": "ec3a8a30",
   "metadata": {},
   "outputs": [],
   "source": [
    "bag = BaggingClassifier(\n",
    "    base_estimator=DecisionTreeClassifier(),\n",
    "    n_estimators=500,\n",
    "    max_samples=0.5,\n",
    "    bootstrap=True,\n",
    "    random_state=42,\n",
    "    oob_score=True,\n",
    "    n_jobs=-1) # it is related to processor scheduling we can run it fast"
   ]
  },
  {
   "cell_type": "code",
   "execution_count": 99,
   "id": "cd3f1308",
   "metadata": {},
   "outputs": [
    {
     "data": {
      "text/plain": [
       "BaggingClassifier(base_estimator=DecisionTreeClassifier(), max_samples=0.5,\n",
       "                  n_estimators=500, n_jobs=-1, oob_score=True, random_state=42)"
      ]
     },
     "execution_count": 99,
     "metadata": {},
     "output_type": "execute_result"
    }
   ],
   "source": [
    "bag.fit(X_train,y_train)"
   ]
  },
  {
   "cell_type": "code",
   "execution_count": 100,
   "id": "0fa83438",
   "metadata": {},
   "outputs": [],
   "source": [
    "y_pred = bag.predict(X_test)"
   ]
  },
  {
   "cell_type": "code",
   "execution_count": 101,
   "id": "b1616630",
   "metadata": {},
   "outputs": [
    {
     "data": {
      "text/plain": [
       "0.883875"
      ]
     },
     "execution_count": 101,
     "metadata": {},
     "output_type": "execute_result"
    }
   ],
   "source": [
    "bag.oob_score_"
   ]
  },
  {
   "cell_type": "code",
   "execution_count": 102,
   "id": "651183ba",
   "metadata": {},
   "outputs": [
    {
     "data": {
      "text/plain": [
       "0.89"
      ]
     },
     "execution_count": 102,
     "metadata": {},
     "output_type": "execute_result"
    }
   ],
   "source": [
    "accuracy_score(y_test,y_pred)"
   ]
  },
  {
   "cell_type": "markdown",
   "id": "85699d98",
   "metadata": {},
   "source": [
    "# Bagging Tips\n",
    "**1.Bagging generally gives better results than Pasting**\n",
    "**2.Good results come around the 25% to 50% row sampling mark**\n",
    "**3.Random patches and subspaces should be used while dealing with high dimensional data**\n",
    "**4.To find the correct hyperparameter values we can do GridSearchCV/RandomSearchCV**"
   ]
  },
  {
   "cell_type": "code",
   "execution_count": null,
   "id": "65b67fb0",
   "metadata": {},
   "outputs": [],
   "source": []
  }
 ],
 "metadata": {
  "kernelspec": {
   "display_name": "Python 3 (ipykernel)",
   "language": "python",
   "name": "python3"
  },
  "language_info": {
   "codemirror_mode": {
    "name": "ipython",
    "version": 3
   },
   "file_extension": ".py",
   "mimetype": "text/x-python",
   "name": "python",
   "nbconvert_exporter": "python",
   "pygments_lexer": "ipython3",
   "version": "3.9.13"
  }
 },
 "nbformat": 4,
 "nbformat_minor": 5
}
